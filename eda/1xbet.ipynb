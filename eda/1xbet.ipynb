{
 "cells": [
  {
   "cell_type": "code",
   "execution_count": 1,
   "metadata": {
    "collapsed": true
   },
   "outputs": [],
   "source": [
    "import pandas as pd\n",
    "import numpy as np\n",
    "import seaborn as sns\n",
    "import matplotlib.pyplot as plt"
   ]
  },
  {
   "cell_type": "code",
   "execution_count": 2,
   "outputs": [],
   "source": [
    "offensive_path = '../data/origin/1xbet/1xbet_offensive_{}.csv'\n",
    "defensive_path = '../data/origin/1xbet/1xbet_defensive_{}.csv'"
   ],
   "metadata": {
    "collapsed": false,
    "pycharm": {
     "name": "#%%\n"
    }
   }
  },
  {
   "cell_type": "code",
   "execution_count": 3,
   "outputs": [
    {
     "data": {
      "text/plain": "                 Name         Team  Age    Position  Apps  Mins  Goals  \\\n564  Dexter Lembikisa       Wolves   19    Defender     1    22      0   \n565   Cameron Peupion     Brighton   20  Midfielder     1     5      0   \n566      Andrew Moran     Brighton   19  Midfielder     1    11      0   \n567       Shane Duffy       Fulham   31    Defender     5    17      0   \n568        Yan Valery  Southampton   24    Defender     1    46      0   \n\n     Assists  SpG  KeyP  Drb  Fouled  Off  Disp  UnsTch  Rating  \n564        0  0.0   0.0  0.0     0.0  0.0   0.0     0.0   5.880  \n565        0  1.0   0.0  0.0     0.0  0.0   0.0     1.0   5.850  \n566        0  0.0   0.0  0.0     0.0  0.0   0.0     2.0   5.830  \n567        0  0.2   0.0  0.2     0.2  0.0   0.0     0.2   5.786  \n568        0  0.0   0.0  0.0     0.0  0.0   3.0     1.0   5.740  ",
      "text/html": "<div>\n<style scoped>\n    .dataframe tbody tr th:only-of-type {\n        vertical-align: middle;\n    }\n\n    .dataframe tbody tr th {\n        vertical-align: top;\n    }\n\n    .dataframe thead th {\n        text-align: right;\n    }\n</style>\n<table border=\"1\" class=\"dataframe\">\n  <thead>\n    <tr style=\"text-align: right;\">\n      <th></th>\n      <th>Name</th>\n      <th>Team</th>\n      <th>Age</th>\n      <th>Position</th>\n      <th>Apps</th>\n      <th>Mins</th>\n      <th>Goals</th>\n      <th>Assists</th>\n      <th>SpG</th>\n      <th>KeyP</th>\n      <th>Drb</th>\n      <th>Fouled</th>\n      <th>Off</th>\n      <th>Disp</th>\n      <th>UnsTch</th>\n      <th>Rating</th>\n    </tr>\n  </thead>\n  <tbody>\n    <tr>\n      <th>564</th>\n      <td>Dexter Lembikisa</td>\n      <td>Wolves</td>\n      <td>19</td>\n      <td>Defender</td>\n      <td>1</td>\n      <td>22</td>\n      <td>0</td>\n      <td>0</td>\n      <td>0.0</td>\n      <td>0.0</td>\n      <td>0.0</td>\n      <td>0.0</td>\n      <td>0.0</td>\n      <td>0.0</td>\n      <td>0.0</td>\n      <td>5.880</td>\n    </tr>\n    <tr>\n      <th>565</th>\n      <td>Cameron Peupion</td>\n      <td>Brighton</td>\n      <td>20</td>\n      <td>Midfielder</td>\n      <td>1</td>\n      <td>5</td>\n      <td>0</td>\n      <td>0</td>\n      <td>1.0</td>\n      <td>0.0</td>\n      <td>0.0</td>\n      <td>0.0</td>\n      <td>0.0</td>\n      <td>0.0</td>\n      <td>1.0</td>\n      <td>5.850</td>\n    </tr>\n    <tr>\n      <th>566</th>\n      <td>Andrew Moran</td>\n      <td>Brighton</td>\n      <td>19</td>\n      <td>Midfielder</td>\n      <td>1</td>\n      <td>11</td>\n      <td>0</td>\n      <td>0</td>\n      <td>0.0</td>\n      <td>0.0</td>\n      <td>0.0</td>\n      <td>0.0</td>\n      <td>0.0</td>\n      <td>0.0</td>\n      <td>2.0</td>\n      <td>5.830</td>\n    </tr>\n    <tr>\n      <th>567</th>\n      <td>Shane Duffy</td>\n      <td>Fulham</td>\n      <td>31</td>\n      <td>Defender</td>\n      <td>5</td>\n      <td>17</td>\n      <td>0</td>\n      <td>0</td>\n      <td>0.2</td>\n      <td>0.0</td>\n      <td>0.2</td>\n      <td>0.2</td>\n      <td>0.0</td>\n      <td>0.0</td>\n      <td>0.2</td>\n      <td>5.786</td>\n    </tr>\n    <tr>\n      <th>568</th>\n      <td>Yan Valery</td>\n      <td>Southampton</td>\n      <td>24</td>\n      <td>Defender</td>\n      <td>1</td>\n      <td>46</td>\n      <td>0</td>\n      <td>0</td>\n      <td>0.0</td>\n      <td>0.0</td>\n      <td>0.0</td>\n      <td>0.0</td>\n      <td>0.0</td>\n      <td>3.0</td>\n      <td>1.0</td>\n      <td>5.740</td>\n    </tr>\n  </tbody>\n</table>\n</div>"
     },
     "execution_count": 3,
     "metadata": {},
     "output_type": "execute_result"
    }
   ],
   "source": [
    "pd.read_csv(offensive_path.format(2022)).tail()"
   ],
   "metadata": {
    "collapsed": false,
    "pycharm": {
     "name": "#%%\n"
    }
   }
  },
  {
   "cell_type": "code",
   "execution_count": 4,
   "outputs": [
    {
     "data": {
      "text/plain": "                 Name         Team  Age    Position  Apps  Mins  Tackles  \\\n564  Dexter Lembikisa       Wolves   19    Defender     1    22      0.0   \n565   Cameron Peupion     Brighton   20  Midfielder     1     5      0.0   \n566      Andrew Moran     Brighton   19  Midfielder     1    11      0.0   \n567       Shane Duffy       Fulham   31    Defender     5    17      0.0   \n568        Yan Valery  Southampton   24    Defender     1    46      0.0   \n\n     Inter  Fouls  Offsides  Clear  Drb  Blocks  Rating  \n564    0.0    0.0       0.0    0.0  0.0     0.0   5.880  \n565    0.0    0.0       0.0    0.0  0.0     0.0   5.850  \n566    0.0    0.0       0.0    0.0  0.0     0.0   5.830  \n567    0.0    0.0       0.0    0.0  0.0     0.0   5.786  \n568    0.0    0.0       0.0    3.0  0.0     0.0   5.740  ",
      "text/html": "<div>\n<style scoped>\n    .dataframe tbody tr th:only-of-type {\n        vertical-align: middle;\n    }\n\n    .dataframe tbody tr th {\n        vertical-align: top;\n    }\n\n    .dataframe thead th {\n        text-align: right;\n    }\n</style>\n<table border=\"1\" class=\"dataframe\">\n  <thead>\n    <tr style=\"text-align: right;\">\n      <th></th>\n      <th>Name</th>\n      <th>Team</th>\n      <th>Age</th>\n      <th>Position</th>\n      <th>Apps</th>\n      <th>Mins</th>\n      <th>Tackles</th>\n      <th>Inter</th>\n      <th>Fouls</th>\n      <th>Offsides</th>\n      <th>Clear</th>\n      <th>Drb</th>\n      <th>Blocks</th>\n      <th>Rating</th>\n    </tr>\n  </thead>\n  <tbody>\n    <tr>\n      <th>564</th>\n      <td>Dexter Lembikisa</td>\n      <td>Wolves</td>\n      <td>19</td>\n      <td>Defender</td>\n      <td>1</td>\n      <td>22</td>\n      <td>0.0</td>\n      <td>0.0</td>\n      <td>0.0</td>\n      <td>0.0</td>\n      <td>0.0</td>\n      <td>0.0</td>\n      <td>0.0</td>\n      <td>5.880</td>\n    </tr>\n    <tr>\n      <th>565</th>\n      <td>Cameron Peupion</td>\n      <td>Brighton</td>\n      <td>20</td>\n      <td>Midfielder</td>\n      <td>1</td>\n      <td>5</td>\n      <td>0.0</td>\n      <td>0.0</td>\n      <td>0.0</td>\n      <td>0.0</td>\n      <td>0.0</td>\n      <td>0.0</td>\n      <td>0.0</td>\n      <td>5.850</td>\n    </tr>\n    <tr>\n      <th>566</th>\n      <td>Andrew Moran</td>\n      <td>Brighton</td>\n      <td>19</td>\n      <td>Midfielder</td>\n      <td>1</td>\n      <td>11</td>\n      <td>0.0</td>\n      <td>0.0</td>\n      <td>0.0</td>\n      <td>0.0</td>\n      <td>0.0</td>\n      <td>0.0</td>\n      <td>0.0</td>\n      <td>5.830</td>\n    </tr>\n    <tr>\n      <th>567</th>\n      <td>Shane Duffy</td>\n      <td>Fulham</td>\n      <td>31</td>\n      <td>Defender</td>\n      <td>5</td>\n      <td>17</td>\n      <td>0.0</td>\n      <td>0.0</td>\n      <td>0.0</td>\n      <td>0.0</td>\n      <td>0.0</td>\n      <td>0.0</td>\n      <td>0.0</td>\n      <td>5.786</td>\n    </tr>\n    <tr>\n      <th>568</th>\n      <td>Yan Valery</td>\n      <td>Southampton</td>\n      <td>24</td>\n      <td>Defender</td>\n      <td>1</td>\n      <td>46</td>\n      <td>0.0</td>\n      <td>0.0</td>\n      <td>0.0</td>\n      <td>0.0</td>\n      <td>3.0</td>\n      <td>0.0</td>\n      <td>0.0</td>\n      <td>5.740</td>\n    </tr>\n  </tbody>\n</table>\n</div>"
     },
     "execution_count": 4,
     "metadata": {},
     "output_type": "execute_result"
    }
   ],
   "source": [
    "pd.read_csv(defensive_path.format(2022)).tail()"
   ],
   "metadata": {
    "collapsed": false,
    "pycharm": {
     "name": "#%%\n"
    }
   }
  },
  {
   "cell_type": "code",
   "execution_count": 5,
   "outputs": [],
   "source": [
    "start_year, end_year = 2014,2022\n",
    "target = ['Tackles', 'Inter', 'Fouls', 'Offsides', 'Clear', 'Drb', 'Blocks']\n",
    "stats_df = pd.DataFrame()\n",
    "for year in range(start_year, end_year+1):\n",
    "    o_df = pd.read_csv(offensive_path.format(year))\n",
    "    d_df = pd.read_csv(defensive_path.format(year))\n",
    "    merged_df = o_df.merge(d_df[target], how='left', left_index=True, right_index=True) # 공격과 수비 데이터의 행이 동일해서 행으로 머지\n",
    "    merged_df['year'] = year\n",
    "    stats_df = pd.concat([stats_df, merged_df])\n",
    "stats_df.head()"
   ],
   "metadata": {
    "collapsed": false,
    "pycharm": {
     "name": "#%%\n"
    }
   }
  },
  {
   "cell_type": "code",
   "execution_count": 6,
   "outputs": [
    {
     "data": {
      "text/plain": "RangeIndex(start=0, stop=4860, step=1)"
     },
     "execution_count": 6,
     "metadata": {},
     "output_type": "execute_result"
    }
   ],
   "source": [
    "stats_df = stats_df.reset_index(drop=True)\n",
    "stats_df.index"
   ],
   "metadata": {
    "collapsed": false,
    "pycharm": {
     "name": "#%%\n"
    }
   }
  },
  {
   "cell_type": "code",
   "execution_count": 7,
   "outputs": [],
   "source": [
    "origin_df = stats_df.copy()"
   ],
   "metadata": {
    "collapsed": false,
    "pycharm": {
     "name": "#%%\n"
    }
   }
  },
  {
   "cell_type": "code",
   "execution_count": 8,
   "outputs": [
    {
     "data": {
      "text/plain": "               Age         Apps         Mins        Goals      Assists  \\\ncount  4860.000000  4860.000000  4860.000000  4860.000000  4860.000000   \nmean     30.725103    19.577778  1391.730864     1.862346     1.320370   \nstd       5.128494    11.817937  1042.052595     3.442854     2.149495   \nmin      16.000000     1.000000     1.000000     0.000000     0.000000   \n25%      27.000000     9.000000   407.000000     0.000000     0.000000   \n50%      31.000000    20.000000  1283.000000     0.000000     0.000000   \n75%      34.000000    30.000000  2251.000000     2.000000     2.000000   \nmax      50.000000    38.000000  3450.000000    36.000000    20.000000   \n\n               SpG         KeyP        Drb_x       Fouled          Off  ...  \\\ncount  4860.000000  4860.000000  4860.000000  4860.000000  4860.000000  ...   \nmean      0.741368     0.544959     0.569345     0.634389     0.110539  ...   \nstd       0.713222     0.538110     0.614135     0.516100     0.197584  ...   \nmin       0.000000     0.000000     0.000000     0.000000     0.000000  ...   \n25%       0.222222     0.125000     0.111111     0.250000     0.000000  ...   \n50%       0.558824     0.419355     0.400000     0.538462     0.027778  ...   \n75%       1.047619     0.808150     0.823529     0.925926     0.130435  ...   \nmax       4.972973     4.171429     5.666667     4.638889     1.500000  ...   \n\n            UnsTch       Rating      Tackles        Inter        Fouls  \\\ncount  4860.000000  4860.000000  4860.000000  4860.000000  4860.000000   \nmean      0.860415     6.630293     1.102146     0.758072     0.684193   \nstd       0.710808     0.369526     0.849951     0.706444     0.472695   \nmin       0.000000     4.950000     0.000000     0.000000     0.000000   \n25%       0.303030     6.376000     0.436821     0.157895     0.349457   \n50%       0.742396     6.632320     1.000000     0.600000     0.666667   \n75%       1.259259     6.871135     1.625000     1.176471     1.000000   \nmax       4.384615     8.340000     7.000000     4.500000     4.000000   \n\n          Offsides        Clear        Drb_y       Blocks         year  \ncount  4860.000000  4860.000000  4860.000000  4860.000000  4860.000000  \nmean      0.121441     1.483150     0.593915     0.217428  2018.001852  \nstd       0.228232     1.747162     0.487561     0.294064     2.614372  \nmin       0.000000     0.000000     0.000000     0.000000  2014.000000  \n25%       0.000000     0.299324     0.222222     0.000000  2016.000000  \n50%       0.000000     0.814815     0.516129     0.100000  2018.000000  \n75%       0.142857     2.000000     0.871976     0.321429  2020.000000  \nmax       2.000000    13.000000     4.000000     2.052632  2022.000000  \n\n[8 rows x 21 columns]",
      "text/html": "<div>\n<style scoped>\n    .dataframe tbody tr th:only-of-type {\n        vertical-align: middle;\n    }\n\n    .dataframe tbody tr th {\n        vertical-align: top;\n    }\n\n    .dataframe thead th {\n        text-align: right;\n    }\n</style>\n<table border=\"1\" class=\"dataframe\">\n  <thead>\n    <tr style=\"text-align: right;\">\n      <th></th>\n      <th>Age</th>\n      <th>Apps</th>\n      <th>Mins</th>\n      <th>Goals</th>\n      <th>Assists</th>\n      <th>SpG</th>\n      <th>KeyP</th>\n      <th>Drb_x</th>\n      <th>Fouled</th>\n      <th>Off</th>\n      <th>...</th>\n      <th>UnsTch</th>\n      <th>Rating</th>\n      <th>Tackles</th>\n      <th>Inter</th>\n      <th>Fouls</th>\n      <th>Offsides</th>\n      <th>Clear</th>\n      <th>Drb_y</th>\n      <th>Blocks</th>\n      <th>year</th>\n    </tr>\n  </thead>\n  <tbody>\n    <tr>\n      <th>count</th>\n      <td>4860.000000</td>\n      <td>4860.000000</td>\n      <td>4860.000000</td>\n      <td>4860.000000</td>\n      <td>4860.000000</td>\n      <td>4860.000000</td>\n      <td>4860.000000</td>\n      <td>4860.000000</td>\n      <td>4860.000000</td>\n      <td>4860.000000</td>\n      <td>...</td>\n      <td>4860.000000</td>\n      <td>4860.000000</td>\n      <td>4860.000000</td>\n      <td>4860.000000</td>\n      <td>4860.000000</td>\n      <td>4860.000000</td>\n      <td>4860.000000</td>\n      <td>4860.000000</td>\n      <td>4860.000000</td>\n      <td>4860.000000</td>\n    </tr>\n    <tr>\n      <th>mean</th>\n      <td>30.725103</td>\n      <td>19.577778</td>\n      <td>1391.730864</td>\n      <td>1.862346</td>\n      <td>1.320370</td>\n      <td>0.741368</td>\n      <td>0.544959</td>\n      <td>0.569345</td>\n      <td>0.634389</td>\n      <td>0.110539</td>\n      <td>...</td>\n      <td>0.860415</td>\n      <td>6.630293</td>\n      <td>1.102146</td>\n      <td>0.758072</td>\n      <td>0.684193</td>\n      <td>0.121441</td>\n      <td>1.483150</td>\n      <td>0.593915</td>\n      <td>0.217428</td>\n      <td>2018.001852</td>\n    </tr>\n    <tr>\n      <th>std</th>\n      <td>5.128494</td>\n      <td>11.817937</td>\n      <td>1042.052595</td>\n      <td>3.442854</td>\n      <td>2.149495</td>\n      <td>0.713222</td>\n      <td>0.538110</td>\n      <td>0.614135</td>\n      <td>0.516100</td>\n      <td>0.197584</td>\n      <td>...</td>\n      <td>0.710808</td>\n      <td>0.369526</td>\n      <td>0.849951</td>\n      <td>0.706444</td>\n      <td>0.472695</td>\n      <td>0.228232</td>\n      <td>1.747162</td>\n      <td>0.487561</td>\n      <td>0.294064</td>\n      <td>2.614372</td>\n    </tr>\n    <tr>\n      <th>min</th>\n      <td>16.000000</td>\n      <td>1.000000</td>\n      <td>1.000000</td>\n      <td>0.000000</td>\n      <td>0.000000</td>\n      <td>0.000000</td>\n      <td>0.000000</td>\n      <td>0.000000</td>\n      <td>0.000000</td>\n      <td>0.000000</td>\n      <td>...</td>\n      <td>0.000000</td>\n      <td>4.950000</td>\n      <td>0.000000</td>\n      <td>0.000000</td>\n      <td>0.000000</td>\n      <td>0.000000</td>\n      <td>0.000000</td>\n      <td>0.000000</td>\n      <td>0.000000</td>\n      <td>2014.000000</td>\n    </tr>\n    <tr>\n      <th>25%</th>\n      <td>27.000000</td>\n      <td>9.000000</td>\n      <td>407.000000</td>\n      <td>0.000000</td>\n      <td>0.000000</td>\n      <td>0.222222</td>\n      <td>0.125000</td>\n      <td>0.111111</td>\n      <td>0.250000</td>\n      <td>0.000000</td>\n      <td>...</td>\n      <td>0.303030</td>\n      <td>6.376000</td>\n      <td>0.436821</td>\n      <td>0.157895</td>\n      <td>0.349457</td>\n      <td>0.000000</td>\n      <td>0.299324</td>\n      <td>0.222222</td>\n      <td>0.000000</td>\n      <td>2016.000000</td>\n    </tr>\n    <tr>\n      <th>50%</th>\n      <td>31.000000</td>\n      <td>20.000000</td>\n      <td>1283.000000</td>\n      <td>0.000000</td>\n      <td>0.000000</td>\n      <td>0.558824</td>\n      <td>0.419355</td>\n      <td>0.400000</td>\n      <td>0.538462</td>\n      <td>0.027778</td>\n      <td>...</td>\n      <td>0.742396</td>\n      <td>6.632320</td>\n      <td>1.000000</td>\n      <td>0.600000</td>\n      <td>0.666667</td>\n      <td>0.000000</td>\n      <td>0.814815</td>\n      <td>0.516129</td>\n      <td>0.100000</td>\n      <td>2018.000000</td>\n    </tr>\n    <tr>\n      <th>75%</th>\n      <td>34.000000</td>\n      <td>30.000000</td>\n      <td>2251.000000</td>\n      <td>2.000000</td>\n      <td>2.000000</td>\n      <td>1.047619</td>\n      <td>0.808150</td>\n      <td>0.823529</td>\n      <td>0.925926</td>\n      <td>0.130435</td>\n      <td>...</td>\n      <td>1.259259</td>\n      <td>6.871135</td>\n      <td>1.625000</td>\n      <td>1.176471</td>\n      <td>1.000000</td>\n      <td>0.142857</td>\n      <td>2.000000</td>\n      <td>0.871976</td>\n      <td>0.321429</td>\n      <td>2020.000000</td>\n    </tr>\n    <tr>\n      <th>max</th>\n      <td>50.000000</td>\n      <td>38.000000</td>\n      <td>3450.000000</td>\n      <td>36.000000</td>\n      <td>20.000000</td>\n      <td>4.972973</td>\n      <td>4.171429</td>\n      <td>5.666667</td>\n      <td>4.638889</td>\n      <td>1.500000</td>\n      <td>...</td>\n      <td>4.384615</td>\n      <td>8.340000</td>\n      <td>7.000000</td>\n      <td>4.500000</td>\n      <td>4.000000</td>\n      <td>2.000000</td>\n      <td>13.000000</td>\n      <td>4.000000</td>\n      <td>2.052632</td>\n      <td>2022.000000</td>\n    </tr>\n  </tbody>\n</table>\n<p>8 rows × 21 columns</p>\n</div>"
     },
     "execution_count": 8,
     "metadata": {},
     "output_type": "execute_result"
    }
   ],
   "source": [
    "stats_df.describe()"
   ],
   "metadata": {
    "collapsed": false,
    "pycharm": {
     "name": "#%%\n"
    }
   }
  },
  {
   "cell_type": "code",
   "execution_count": 9,
   "outputs": [
    {
     "data": {
      "text/plain": "Name        0.0\nTeam        0.0\nAge         0.0\nPosition    0.0\nApps        0.0\nMins        0.0\nGoals       0.0\nAssists     0.0\nSpG         0.0\nKeyP        0.0\nDrb_x       0.0\nFouled      0.0\nOff         0.0\nDisp        0.0\nUnsTch      0.0\nRating      0.0\nTackles     0.0\nInter       0.0\nFouls       0.0\nOffsides    0.0\nClear       0.0\nDrb_y       0.0\nBlocks      0.0\nyear        0.0\ndtype: float64"
     },
     "execution_count": 9,
     "metadata": {},
     "output_type": "execute_result"
    }
   ],
   "source": [
    "stats_df.isnull().mean()"
   ],
   "metadata": {
    "collapsed": false,
    "pycharm": {
     "name": "#%%\n"
    }
   }
  },
  {
   "cell_type": "code",
   "execution_count": 10,
   "outputs": [
    {
     "name": "stdout",
     "output_type": "stream",
     "text": [
      "<class 'pandas.core.frame.DataFrame'>\n",
      "RangeIndex: 4860 entries, 0 to 4859\n",
      "Data columns (total 24 columns):\n",
      " #   Column    Non-Null Count  Dtype  \n",
      "---  ------    --------------  -----  \n",
      " 0   Name      4860 non-null   object \n",
      " 1   Team      4860 non-null   object \n",
      " 2   Age       4860 non-null   int64  \n",
      " 3   Position  4860 non-null   object \n",
      " 4   Apps      4860 non-null   int64  \n",
      " 5   Mins      4860 non-null   int64  \n",
      " 6   Goals     4860 non-null   int64  \n",
      " 7   Assists   4860 non-null   int64  \n",
      " 8   SpG       4860 non-null   float64\n",
      " 9   KeyP      4860 non-null   float64\n",
      " 10  Drb_x     4860 non-null   float64\n",
      " 11  Fouled    4860 non-null   float64\n",
      " 12  Off       4860 non-null   float64\n",
      " 13  Disp      4860 non-null   float64\n",
      " 14  UnsTch    4860 non-null   float64\n",
      " 15  Rating    4860 non-null   float64\n",
      " 16  Tackles   4860 non-null   float64\n",
      " 17  Inter     4860 non-null   float64\n",
      " 18  Fouls     4860 non-null   float64\n",
      " 19  Offsides  4860 non-null   float64\n",
      " 20  Clear     4860 non-null   float64\n",
      " 21  Drb_y     4860 non-null   float64\n",
      " 22  Blocks    4860 non-null   float64\n",
      " 23  year      4860 non-null   int64  \n",
      "dtypes: float64(15), int64(6), object(3)\n",
      "memory usage: 911.4+ KB\n"
     ]
    }
   ],
   "source": [
    "stats_df.info()"
   ],
   "metadata": {
    "collapsed": false,
    "pycharm": {
     "name": "#%%\n"
    }
   }
  },
  {
   "cell_type": "code",
   "execution_count": 11,
   "outputs": [
    {
     "data": {
      "text/plain": "Name\nTheo Walcott          11\nCalum Chambers        11\nDanny Welbeck         10\nJeffrey Schlupp       10\nRuben Loftus-Cheek    10\n                      ..\nGuido Carrillo         1\nAndré Carrillo         1\nTomer Hemed            1\nThomas Edwards         1\nAndrew Moran           1\nName: count, Length: 1734, dtype: int64"
     },
     "execution_count": 11,
     "metadata": {},
     "output_type": "execute_result"
    }
   ],
   "source": [
    "stats_df.Name.value_counts()"
   ],
   "metadata": {
    "collapsed": false,
    "pycharm": {
     "name": "#%%\n"
    }
   }
  },
  {
   "cell_type": "code",
   "execution_count": 12,
   "outputs": [
    {
     "data": {
      "text/plain": "              Name         Team  Age Position  Apps  Mins  Goals  Assists  \\\n339   Theo Walcott      Arsenal   34  Forward    14   442      5        0   \n897   Theo Walcott      Arsenal   34  Forward    28  1375      5        2   \n1221  Theo Walcott      Arsenal   34  Forward    28  1925     10        2   \n1702  Theo Walcott      Everton   34  Forward    14  1153      3        3   \n2147  Theo Walcott      Arsenal   34  Forward     6    64      0        0   \n2504  Theo Walcott      Everton   34  Forward    37  2124      5        2   \n3043  Theo Walcott      Everton   34  Forward    25  1297      2        3   \n3500  Theo Walcott  Southampton   34  Forward    21  1629      3        3   \n3734  Theo Walcott      Everton   34  Forward     1    12      0        0   \n4243  Theo Walcott  Southampton   34  Forward     9   381      0        0   \n4669  Theo Walcott  Southampton   34  Forward    20  1134      2        2   \n\n           SpG      KeyP  ...    UnsTch    Rating   Tackles     Inter  \\\n339   1.642857  0.285714  ...  0.500000  6.607857  0.000000  0.214286   \n897   1.607143  0.607143  ...  1.250000  6.581429  0.392857  0.500000   \n1221  2.214286  0.464286  ...  1.928571  6.984286  1.285714  0.464286   \n1702  1.357143  1.000000  ...  2.857143  7.130714  1.928571  0.571429   \n2147  0.000000  0.000000  ...  0.000000  6.085000  0.166667  0.166667   \n2504  1.162162  0.567568  ...  2.081081  6.508108  0.729730  0.594595   \n3043  1.240000  0.760000  ...  1.520000  6.463600  0.520000  0.320000   \n3500  1.380952  0.809524  ...  2.666667  6.563810  1.095238  0.666667   \n3734  0.000000  0.000000  ...  1.000000  5.870000  0.000000  0.000000   \n4243  0.666667  0.111111  ...  1.111111  6.087778  0.444444  0.555556   \n4669  1.000000  0.750000  ...  1.200000  6.379000  0.650000  0.450000   \n\n         Fouls  Offsides     Clear     Drb_y    Blocks  year  \n339   0.142857  0.000000  0.071429  0.000000  0.000000  2014  \n897   0.107143  0.035714  0.285714  0.321429  0.035714  2015  \n1221  0.500000  0.000000  0.464286  0.535714  0.035714  2016  \n1702  0.428571  0.000000  0.785714  0.571429  0.000000  2017  \n2147  0.166667  0.000000  0.000000  0.000000  0.000000  2017  \n2504  0.270270  0.000000  0.162162  0.351351  0.027027  2018  \n3043  0.360000  0.000000  0.040000  0.480000  0.000000  2019  \n3500  0.619048  0.047619  0.142857  1.000000  0.000000  2020  \n3734  0.000000  0.000000  0.000000  0.000000  0.000000  2020  \n4243  0.111111  0.000000  0.222222  0.444444  0.000000  2021  \n4669  0.350000  0.000000  0.350000  0.950000  0.050000  2022  \n\n[11 rows x 24 columns]",
      "text/html": "<div>\n<style scoped>\n    .dataframe tbody tr th:only-of-type {\n        vertical-align: middle;\n    }\n\n    .dataframe tbody tr th {\n        vertical-align: top;\n    }\n\n    .dataframe thead th {\n        text-align: right;\n    }\n</style>\n<table border=\"1\" class=\"dataframe\">\n  <thead>\n    <tr style=\"text-align: right;\">\n      <th></th>\n      <th>Name</th>\n      <th>Team</th>\n      <th>Age</th>\n      <th>Position</th>\n      <th>Apps</th>\n      <th>Mins</th>\n      <th>Goals</th>\n      <th>Assists</th>\n      <th>SpG</th>\n      <th>KeyP</th>\n      <th>...</th>\n      <th>UnsTch</th>\n      <th>Rating</th>\n      <th>Tackles</th>\n      <th>Inter</th>\n      <th>Fouls</th>\n      <th>Offsides</th>\n      <th>Clear</th>\n      <th>Drb_y</th>\n      <th>Blocks</th>\n      <th>year</th>\n    </tr>\n  </thead>\n  <tbody>\n    <tr>\n      <th>339</th>\n      <td>Theo Walcott</td>\n      <td>Arsenal</td>\n      <td>34</td>\n      <td>Forward</td>\n      <td>14</td>\n      <td>442</td>\n      <td>5</td>\n      <td>0</td>\n      <td>1.642857</td>\n      <td>0.285714</td>\n      <td>...</td>\n      <td>0.500000</td>\n      <td>6.607857</td>\n      <td>0.000000</td>\n      <td>0.214286</td>\n      <td>0.142857</td>\n      <td>0.000000</td>\n      <td>0.071429</td>\n      <td>0.000000</td>\n      <td>0.000000</td>\n      <td>2014</td>\n    </tr>\n    <tr>\n      <th>897</th>\n      <td>Theo Walcott</td>\n      <td>Arsenal</td>\n      <td>34</td>\n      <td>Forward</td>\n      <td>28</td>\n      <td>1375</td>\n      <td>5</td>\n      <td>2</td>\n      <td>1.607143</td>\n      <td>0.607143</td>\n      <td>...</td>\n      <td>1.250000</td>\n      <td>6.581429</td>\n      <td>0.392857</td>\n      <td>0.500000</td>\n      <td>0.107143</td>\n      <td>0.035714</td>\n      <td>0.285714</td>\n      <td>0.321429</td>\n      <td>0.035714</td>\n      <td>2015</td>\n    </tr>\n    <tr>\n      <th>1221</th>\n      <td>Theo Walcott</td>\n      <td>Arsenal</td>\n      <td>34</td>\n      <td>Forward</td>\n      <td>28</td>\n      <td>1925</td>\n      <td>10</td>\n      <td>2</td>\n      <td>2.214286</td>\n      <td>0.464286</td>\n      <td>...</td>\n      <td>1.928571</td>\n      <td>6.984286</td>\n      <td>1.285714</td>\n      <td>0.464286</td>\n      <td>0.500000</td>\n      <td>0.000000</td>\n      <td>0.464286</td>\n      <td>0.535714</td>\n      <td>0.035714</td>\n      <td>2016</td>\n    </tr>\n    <tr>\n      <th>1702</th>\n      <td>Theo Walcott</td>\n      <td>Everton</td>\n      <td>34</td>\n      <td>Forward</td>\n      <td>14</td>\n      <td>1153</td>\n      <td>3</td>\n      <td>3</td>\n      <td>1.357143</td>\n      <td>1.000000</td>\n      <td>...</td>\n      <td>2.857143</td>\n      <td>7.130714</td>\n      <td>1.928571</td>\n      <td>0.571429</td>\n      <td>0.428571</td>\n      <td>0.000000</td>\n      <td>0.785714</td>\n      <td>0.571429</td>\n      <td>0.000000</td>\n      <td>2017</td>\n    </tr>\n    <tr>\n      <th>2147</th>\n      <td>Theo Walcott</td>\n      <td>Arsenal</td>\n      <td>34</td>\n      <td>Forward</td>\n      <td>6</td>\n      <td>64</td>\n      <td>0</td>\n      <td>0</td>\n      <td>0.000000</td>\n      <td>0.000000</td>\n      <td>...</td>\n      <td>0.000000</td>\n      <td>6.085000</td>\n      <td>0.166667</td>\n      <td>0.166667</td>\n      <td>0.166667</td>\n      <td>0.000000</td>\n      <td>0.000000</td>\n      <td>0.000000</td>\n      <td>0.000000</td>\n      <td>2017</td>\n    </tr>\n    <tr>\n      <th>2504</th>\n      <td>Theo Walcott</td>\n      <td>Everton</td>\n      <td>34</td>\n      <td>Forward</td>\n      <td>37</td>\n      <td>2124</td>\n      <td>5</td>\n      <td>2</td>\n      <td>1.162162</td>\n      <td>0.567568</td>\n      <td>...</td>\n      <td>2.081081</td>\n      <td>6.508108</td>\n      <td>0.729730</td>\n      <td>0.594595</td>\n      <td>0.270270</td>\n      <td>0.000000</td>\n      <td>0.162162</td>\n      <td>0.351351</td>\n      <td>0.027027</td>\n      <td>2018</td>\n    </tr>\n    <tr>\n      <th>3043</th>\n      <td>Theo Walcott</td>\n      <td>Everton</td>\n      <td>34</td>\n      <td>Forward</td>\n      <td>25</td>\n      <td>1297</td>\n      <td>2</td>\n      <td>3</td>\n      <td>1.240000</td>\n      <td>0.760000</td>\n      <td>...</td>\n      <td>1.520000</td>\n      <td>6.463600</td>\n      <td>0.520000</td>\n      <td>0.320000</td>\n      <td>0.360000</td>\n      <td>0.000000</td>\n      <td>0.040000</td>\n      <td>0.480000</td>\n      <td>0.000000</td>\n      <td>2019</td>\n    </tr>\n    <tr>\n      <th>3500</th>\n      <td>Theo Walcott</td>\n      <td>Southampton</td>\n      <td>34</td>\n      <td>Forward</td>\n      <td>21</td>\n      <td>1629</td>\n      <td>3</td>\n      <td>3</td>\n      <td>1.380952</td>\n      <td>0.809524</td>\n      <td>...</td>\n      <td>2.666667</td>\n      <td>6.563810</td>\n      <td>1.095238</td>\n      <td>0.666667</td>\n      <td>0.619048</td>\n      <td>0.047619</td>\n      <td>0.142857</td>\n      <td>1.000000</td>\n      <td>0.000000</td>\n      <td>2020</td>\n    </tr>\n    <tr>\n      <th>3734</th>\n      <td>Theo Walcott</td>\n      <td>Everton</td>\n      <td>34</td>\n      <td>Forward</td>\n      <td>1</td>\n      <td>12</td>\n      <td>0</td>\n      <td>0</td>\n      <td>0.000000</td>\n      <td>0.000000</td>\n      <td>...</td>\n      <td>1.000000</td>\n      <td>5.870000</td>\n      <td>0.000000</td>\n      <td>0.000000</td>\n      <td>0.000000</td>\n      <td>0.000000</td>\n      <td>0.000000</td>\n      <td>0.000000</td>\n      <td>0.000000</td>\n      <td>2020</td>\n    </tr>\n    <tr>\n      <th>4243</th>\n      <td>Theo Walcott</td>\n      <td>Southampton</td>\n      <td>34</td>\n      <td>Forward</td>\n      <td>9</td>\n      <td>381</td>\n      <td>0</td>\n      <td>0</td>\n      <td>0.666667</td>\n      <td>0.111111</td>\n      <td>...</td>\n      <td>1.111111</td>\n      <td>6.087778</td>\n      <td>0.444444</td>\n      <td>0.555556</td>\n      <td>0.111111</td>\n      <td>0.000000</td>\n      <td>0.222222</td>\n      <td>0.444444</td>\n      <td>0.000000</td>\n      <td>2021</td>\n    </tr>\n    <tr>\n      <th>4669</th>\n      <td>Theo Walcott</td>\n      <td>Southampton</td>\n      <td>34</td>\n      <td>Forward</td>\n      <td>20</td>\n      <td>1134</td>\n      <td>2</td>\n      <td>2</td>\n      <td>1.000000</td>\n      <td>0.750000</td>\n      <td>...</td>\n      <td>1.200000</td>\n      <td>6.379000</td>\n      <td>0.650000</td>\n      <td>0.450000</td>\n      <td>0.350000</td>\n      <td>0.000000</td>\n      <td>0.350000</td>\n      <td>0.950000</td>\n      <td>0.050000</td>\n      <td>2022</td>\n    </tr>\n  </tbody>\n</table>\n<p>11 rows × 24 columns</p>\n</div>"
     },
     "execution_count": 12,
     "metadata": {},
     "output_type": "execute_result"
    }
   ],
   "source": [
    "stats_df[stats_df.Name=='Theo Walcott']"
   ],
   "metadata": {
    "collapsed": false,
    "pycharm": {
     "name": "#%%\n"
    }
   }
  },
  {
   "cell_type": "code",
   "execution_count": 13,
   "outputs": [
    {
     "data": {
      "text/plain": "year  Name              \n2014  Tom Cleverley         2\n      Michael Keane         2\n      Gastón Ramírez        2\n      George Boyd           2\n      Jack Cork             2\n                           ..\n2022  Jack Stephens         2\n      Jonjo Shelvey         2\n      Leandro Trossard      2\n      Leander Dendoncker    2\n      Wesley Fofana         2\nName: count, Length: 104, dtype: int64"
     },
     "execution_count": 13,
     "metadata": {},
     "output_type": "execute_result"
    }
   ],
   "source": [
    "duplicated_player = stats_df.groupby('year')['Name'].value_counts()[stats_df.groupby('year')['Name'].value_counts()>1]\n",
    "duplicated_player"
   ],
   "metadata": {
    "collapsed": false,
    "pycharm": {
     "name": "#%%\n"
    }
   }
  },
  {
   "cell_type": "code",
   "execution_count": 14,
   "outputs": [],
   "source": [
    "cond1 = stats_df['year']==2014\n",
    "cond2 = stats_df['Name']=='Tom Cleverley'"
   ],
   "metadata": {
    "collapsed": false,
    "pycharm": {
     "name": "#%%\n"
    }
   }
  },
  {
   "cell_type": "code",
   "execution_count": 15,
   "outputs": [
    {
     "data": {
      "text/plain": "              Name         Team  Age    Position  Apps  Mins  Goals  Assists  \\\n317  Tom Cleverley  Aston Villa   34  Midfielder    31  2520      3        0   \n354  Tom Cleverley      Man Utd   34  Midfielder     1    90      0        0   \n\n          SpG     KeyP  ...    UnsTch    Rating   Tackles     Inter     Fouls  \\\n317  0.741935  0.83871  ...  0.677419  6.640323  2.322581  0.903226  0.967742   \n354  1.000000  1.00000  ...  0.000000  6.570000  3.000000  0.000000  2.000000   \n\n     Offsides     Clear     Drb_y    Blocks  year  \n317       0.0  0.741935  1.096774  0.096774  2014  \n354       0.0  0.000000  3.000000  0.000000  2014  \n\n[2 rows x 24 columns]",
      "text/html": "<div>\n<style scoped>\n    .dataframe tbody tr th:only-of-type {\n        vertical-align: middle;\n    }\n\n    .dataframe tbody tr th {\n        vertical-align: top;\n    }\n\n    .dataframe thead th {\n        text-align: right;\n    }\n</style>\n<table border=\"1\" class=\"dataframe\">\n  <thead>\n    <tr style=\"text-align: right;\">\n      <th></th>\n      <th>Name</th>\n      <th>Team</th>\n      <th>Age</th>\n      <th>Position</th>\n      <th>Apps</th>\n      <th>Mins</th>\n      <th>Goals</th>\n      <th>Assists</th>\n      <th>SpG</th>\n      <th>KeyP</th>\n      <th>...</th>\n      <th>UnsTch</th>\n      <th>Rating</th>\n      <th>Tackles</th>\n      <th>Inter</th>\n      <th>Fouls</th>\n      <th>Offsides</th>\n      <th>Clear</th>\n      <th>Drb_y</th>\n      <th>Blocks</th>\n      <th>year</th>\n    </tr>\n  </thead>\n  <tbody>\n    <tr>\n      <th>317</th>\n      <td>Tom Cleverley</td>\n      <td>Aston Villa</td>\n      <td>34</td>\n      <td>Midfielder</td>\n      <td>31</td>\n      <td>2520</td>\n      <td>3</td>\n      <td>0</td>\n      <td>0.741935</td>\n      <td>0.83871</td>\n      <td>...</td>\n      <td>0.677419</td>\n      <td>6.640323</td>\n      <td>2.322581</td>\n      <td>0.903226</td>\n      <td>0.967742</td>\n      <td>0.0</td>\n      <td>0.741935</td>\n      <td>1.096774</td>\n      <td>0.096774</td>\n      <td>2014</td>\n    </tr>\n    <tr>\n      <th>354</th>\n      <td>Tom Cleverley</td>\n      <td>Man Utd</td>\n      <td>34</td>\n      <td>Midfielder</td>\n      <td>1</td>\n      <td>90</td>\n      <td>0</td>\n      <td>0</td>\n      <td>1.000000</td>\n      <td>1.00000</td>\n      <td>...</td>\n      <td>0.000000</td>\n      <td>6.570000</td>\n      <td>3.000000</td>\n      <td>0.000000</td>\n      <td>2.000000</td>\n      <td>0.0</td>\n      <td>0.000000</td>\n      <td>3.000000</td>\n      <td>0.000000</td>\n      <td>2014</td>\n    </tr>\n  </tbody>\n</table>\n<p>2 rows × 24 columns</p>\n</div>"
     },
     "execution_count": 15,
     "metadata": {},
     "output_type": "execute_result"
    }
   ],
   "source": [
    "y2014_df = stats_df[stats_df['year']==2014]\n",
    "y2014_df[y2014_df['Name']=='Tom Cleverley']"
   ],
   "metadata": {
    "collapsed": false,
    "pycharm": {
     "name": "#%%\n"
    }
   }
  },
  {
   "cell_type": "code",
   "execution_count": 16,
   "outputs": [],
   "source": [
    "duplicated_df = pd.DataFrame()\n",
    "for year, name in duplicated_player.index:\n",
    "    year_df = stats_df[stats_df['year']==year]\n",
    "    duplicated_df=  pd.concat([duplicated_df, year_df[year_df['Name']==name]])"
   ],
   "metadata": {
    "collapsed": false,
    "pycharm": {
     "name": "#%%\n"
    }
   }
  },
  {
   "cell_type": "code",
   "execution_count": 17,
   "outputs": [
    {
     "data": {
      "text/plain": "               Name         Team  Age    Position  Apps  Mins  Goals  Assists  \\\n317   Tom Cleverley  Aston Villa   34  Midfielder    31  2520      3        0   \n354   Tom Cleverley      Man Utd   34  Midfielder     1    90      0        0   \n117   Michael Keane      Burnley   30    Defender    21  1595      0        1   \n289   Michael Keane      Man Utd   30    Defender     1    46      0        0   \n348  Gastón Ramírez         Hull   32  Midfielder    22   986      1        2   \n\n          SpG      KeyP  ...    UnsTch    Rating   Tackles     Inter  \\\n317  0.741935  0.838710  ...  0.677419  6.640323  2.322581  0.903226   \n354  1.000000  1.000000  ...  0.000000  6.570000  3.000000  0.000000   \n117  0.523810  0.190476  ...  0.285714  7.040476  1.000000  1.952381   \n289  1.000000  1.000000  ...  0.000000  6.690000  1.000000  1.000000   \n348  0.727273  1.045455  ...  1.318182  6.599091  1.454545  0.409091   \n\n        Fouls  Offsides     Clear     Drb_y    Blocks  year  \n317  0.967742  0.000000  0.741935  1.096774  0.096774  2014  \n354  2.000000  0.000000  0.000000  3.000000  0.000000  2014  \n117  0.190476  0.428571  8.238095  0.380952  0.428571  2014  \n289  1.000000  0.000000  1.000000  0.000000  0.000000  2014  \n348  0.636364  0.000000  0.318182  1.045455  0.045455  2014  \n\n[5 rows x 24 columns]",
      "text/html": "<div>\n<style scoped>\n    .dataframe tbody tr th:only-of-type {\n        vertical-align: middle;\n    }\n\n    .dataframe tbody tr th {\n        vertical-align: top;\n    }\n\n    .dataframe thead th {\n        text-align: right;\n    }\n</style>\n<table border=\"1\" class=\"dataframe\">\n  <thead>\n    <tr style=\"text-align: right;\">\n      <th></th>\n      <th>Name</th>\n      <th>Team</th>\n      <th>Age</th>\n      <th>Position</th>\n      <th>Apps</th>\n      <th>Mins</th>\n      <th>Goals</th>\n      <th>Assists</th>\n      <th>SpG</th>\n      <th>KeyP</th>\n      <th>...</th>\n      <th>UnsTch</th>\n      <th>Rating</th>\n      <th>Tackles</th>\n      <th>Inter</th>\n      <th>Fouls</th>\n      <th>Offsides</th>\n      <th>Clear</th>\n      <th>Drb_y</th>\n      <th>Blocks</th>\n      <th>year</th>\n    </tr>\n  </thead>\n  <tbody>\n    <tr>\n      <th>317</th>\n      <td>Tom Cleverley</td>\n      <td>Aston Villa</td>\n      <td>34</td>\n      <td>Midfielder</td>\n      <td>31</td>\n      <td>2520</td>\n      <td>3</td>\n      <td>0</td>\n      <td>0.741935</td>\n      <td>0.838710</td>\n      <td>...</td>\n      <td>0.677419</td>\n      <td>6.640323</td>\n      <td>2.322581</td>\n      <td>0.903226</td>\n      <td>0.967742</td>\n      <td>0.000000</td>\n      <td>0.741935</td>\n      <td>1.096774</td>\n      <td>0.096774</td>\n      <td>2014</td>\n    </tr>\n    <tr>\n      <th>354</th>\n      <td>Tom Cleverley</td>\n      <td>Man Utd</td>\n      <td>34</td>\n      <td>Midfielder</td>\n      <td>1</td>\n      <td>90</td>\n      <td>0</td>\n      <td>0</td>\n      <td>1.000000</td>\n      <td>1.000000</td>\n      <td>...</td>\n      <td>0.000000</td>\n      <td>6.570000</td>\n      <td>3.000000</td>\n      <td>0.000000</td>\n      <td>2.000000</td>\n      <td>0.000000</td>\n      <td>0.000000</td>\n      <td>3.000000</td>\n      <td>0.000000</td>\n      <td>2014</td>\n    </tr>\n    <tr>\n      <th>117</th>\n      <td>Michael Keane</td>\n      <td>Burnley</td>\n      <td>30</td>\n      <td>Defender</td>\n      <td>21</td>\n      <td>1595</td>\n      <td>0</td>\n      <td>1</td>\n      <td>0.523810</td>\n      <td>0.190476</td>\n      <td>...</td>\n      <td>0.285714</td>\n      <td>7.040476</td>\n      <td>1.000000</td>\n      <td>1.952381</td>\n      <td>0.190476</td>\n      <td>0.428571</td>\n      <td>8.238095</td>\n      <td>0.380952</td>\n      <td>0.428571</td>\n      <td>2014</td>\n    </tr>\n    <tr>\n      <th>289</th>\n      <td>Michael Keane</td>\n      <td>Man Utd</td>\n      <td>30</td>\n      <td>Defender</td>\n      <td>1</td>\n      <td>46</td>\n      <td>0</td>\n      <td>0</td>\n      <td>1.000000</td>\n      <td>1.000000</td>\n      <td>...</td>\n      <td>0.000000</td>\n      <td>6.690000</td>\n      <td>1.000000</td>\n      <td>1.000000</td>\n      <td>1.000000</td>\n      <td>0.000000</td>\n      <td>1.000000</td>\n      <td>0.000000</td>\n      <td>0.000000</td>\n      <td>2014</td>\n    </tr>\n    <tr>\n      <th>348</th>\n      <td>Gastón Ramírez</td>\n      <td>Hull</td>\n      <td>32</td>\n      <td>Midfielder</td>\n      <td>22</td>\n      <td>986</td>\n      <td>1</td>\n      <td>2</td>\n      <td>0.727273</td>\n      <td>1.045455</td>\n      <td>...</td>\n      <td>1.318182</td>\n      <td>6.599091</td>\n      <td>1.454545</td>\n      <td>0.409091</td>\n      <td>0.636364</td>\n      <td>0.000000</td>\n      <td>0.318182</td>\n      <td>1.045455</td>\n      <td>0.045455</td>\n      <td>2014</td>\n    </tr>\n  </tbody>\n</table>\n<p>5 rows × 24 columns</p>\n</div>"
     },
     "execution_count": 17,
     "metadata": {},
     "output_type": "execute_result"
    }
   ],
   "source": [
    "duplicated_df.head()"
   ],
   "metadata": {
    "collapsed": false,
    "pycharm": {
     "name": "#%%\n"
    }
   }
  },
  {
   "cell_type": "code",
   "execution_count": 18,
   "outputs": [
    {
     "name": "stdout",
     "output_type": "stream",
     "text": [
      "<class 'pandas.core.frame.DataFrame'>\n",
      "Index: 4756 entries, 0 to 0\n",
      "Data columns (total 24 columns):\n",
      " #   Column    Non-Null Count  Dtype  \n",
      "---  ------    --------------  -----  \n",
      " 0   Name      4756 non-null   object \n",
      " 1   Team      4756 non-null   object \n",
      " 2   Age       4756 non-null   int64  \n",
      " 3   Position  4756 non-null   object \n",
      " 4   Apps      4756 non-null   int64  \n",
      " 5   Mins      4756 non-null   int64  \n",
      " 6   Goals     4756 non-null   int64  \n",
      " 7   Assists   4756 non-null   int64  \n",
      " 8   SpG       4756 non-null   float64\n",
      " 9   KeyP      4756 non-null   float64\n",
      " 10  Drb_x     4756 non-null   float64\n",
      " 11  Fouled    4756 non-null   float64\n",
      " 12  Off       4756 non-null   float64\n",
      " 13  Disp      4756 non-null   float64\n",
      " 14  UnsTch    4756 non-null   float64\n",
      " 15  Rating    4756 non-null   float64\n",
      " 16  Tackles   4756 non-null   float64\n",
      " 17  Inter     4756 non-null   float64\n",
      " 18  Fouls     4756 non-null   float64\n",
      " 19  Offsides  4756 non-null   float64\n",
      " 20  Clear     4756 non-null   float64\n",
      " 21  Drb_y     4756 non-null   float64\n",
      " 22  Blocks    4756 non-null   float64\n",
      " 23  year      4756 non-null   int64  \n",
      "dtypes: float64(15), int64(6), object(3)\n",
      "memory usage: 928.9+ KB\n"
     ]
    }
   ],
   "source": [
    "for d in range(0, len(duplicated_df), 2):\n",
    "    data1, data2 = duplicated_df.iloc[d], duplicated_df.iloc[d+1]\n",
    "    index1,index2 = data1.name, data2.name\n",
    "    apps1, apps2 = data1['Apps'], data2['Apps']\n",
    "    total_apps = apps1 + apps2\n",
    "    stats = []\n",
    "    for s1, s2 in zip(data1, data2):\n",
    "        stats.append((s1*apps1+s2*apps2)/total_apps if isinstance(s1, float) else s1+s2 if isinstance(s1, np.int64) else s1)\n",
    "    stats[2] = data1['Age']\n",
    "    stats[-1] = data1['year']\n",
    "    stats_df = stats_df.drop(index1).drop(index2)\n",
    "    stats_df = pd.concat([stats_df, pd.DataFrame([stats], columns=stats_df.columns)])\n",
    "stats_df.info()"
   ],
   "metadata": {
    "collapsed": false,
    "pycharm": {
     "name": "#%%\n"
    }
   }
  },
  {
   "cell_type": "code",
   "execution_count": 19,
   "outputs": [
    {
     "data": {
      "text/plain": "            Name         Team  Age    Position  Apps  Mins  Goals  Assists  \\\n0  Tom Cleverley  Aston Villa   34  Midfielder    32  2610      3        0   \n\n    SpG     KeyP  ...   UnsTch    Rating  Tackles  Inter  Fouls  Offsides  \\\n0  0.75  0.84375  ...  0.65625  6.638125  2.34375  0.875    1.0       0.0   \n\n     Clear    Drb_y   Blocks  year  \n0  0.71875  1.15625  0.09375  2014  \n\n[1 rows x 24 columns]",
      "text/html": "<div>\n<style scoped>\n    .dataframe tbody tr th:only-of-type {\n        vertical-align: middle;\n    }\n\n    .dataframe tbody tr th {\n        vertical-align: top;\n    }\n\n    .dataframe thead th {\n        text-align: right;\n    }\n</style>\n<table border=\"1\" class=\"dataframe\">\n  <thead>\n    <tr style=\"text-align: right;\">\n      <th></th>\n      <th>Name</th>\n      <th>Team</th>\n      <th>Age</th>\n      <th>Position</th>\n      <th>Apps</th>\n      <th>Mins</th>\n      <th>Goals</th>\n      <th>Assists</th>\n      <th>SpG</th>\n      <th>KeyP</th>\n      <th>...</th>\n      <th>UnsTch</th>\n      <th>Rating</th>\n      <th>Tackles</th>\n      <th>Inter</th>\n      <th>Fouls</th>\n      <th>Offsides</th>\n      <th>Clear</th>\n      <th>Drb_y</th>\n      <th>Blocks</th>\n      <th>year</th>\n    </tr>\n  </thead>\n  <tbody>\n    <tr>\n      <th>0</th>\n      <td>Tom Cleverley</td>\n      <td>Aston Villa</td>\n      <td>34</td>\n      <td>Midfielder</td>\n      <td>32</td>\n      <td>2610</td>\n      <td>3</td>\n      <td>0</td>\n      <td>0.75</td>\n      <td>0.84375</td>\n      <td>...</td>\n      <td>0.65625</td>\n      <td>6.638125</td>\n      <td>2.34375</td>\n      <td>0.875</td>\n      <td>1.0</td>\n      <td>0.0</td>\n      <td>0.71875</td>\n      <td>1.15625</td>\n      <td>0.09375</td>\n      <td>2014</td>\n    </tr>\n  </tbody>\n</table>\n<p>1 rows × 24 columns</p>\n</div>"
     },
     "execution_count": 19,
     "metadata": {},
     "output_type": "execute_result"
    }
   ],
   "source": [
    "y2014_df = stats_df[stats_df['year']==2014]\n",
    "y2014_df[y2014_df['Name']=='Tom Cleverley']"
   ],
   "metadata": {
    "collapsed": false,
    "pycharm": {
     "name": "#%%\n"
    }
   }
  },
  {
   "cell_type": "code",
   "execution_count": 20,
   "outputs": [
    {
     "data": {
      "text/plain": "              Name         Team  Age    Position  Apps  Mins  Goals  Assists  \\\n317  Tom Cleverley  Aston Villa   34  Midfielder    31  2520      3        0   \n354  Tom Cleverley      Man Utd   34  Midfielder     1    90      0        0   \n\n          SpG     KeyP  ...    UnsTch    Rating   Tackles     Inter     Fouls  \\\n317  0.741935  0.83871  ...  0.677419  6.640323  2.322581  0.903226  0.967742   \n354  1.000000  1.00000  ...  0.000000  6.570000  3.000000  0.000000  2.000000   \n\n     Offsides     Clear     Drb_y    Blocks  year  \n317       0.0  0.741935  1.096774  0.096774  2014  \n354       0.0  0.000000  3.000000  0.000000  2014  \n\n[2 rows x 24 columns]",
      "text/html": "<div>\n<style scoped>\n    .dataframe tbody tr th:only-of-type {\n        vertical-align: middle;\n    }\n\n    .dataframe tbody tr th {\n        vertical-align: top;\n    }\n\n    .dataframe thead th {\n        text-align: right;\n    }\n</style>\n<table border=\"1\" class=\"dataframe\">\n  <thead>\n    <tr style=\"text-align: right;\">\n      <th></th>\n      <th>Name</th>\n      <th>Team</th>\n      <th>Age</th>\n      <th>Position</th>\n      <th>Apps</th>\n      <th>Mins</th>\n      <th>Goals</th>\n      <th>Assists</th>\n      <th>SpG</th>\n      <th>KeyP</th>\n      <th>...</th>\n      <th>UnsTch</th>\n      <th>Rating</th>\n      <th>Tackles</th>\n      <th>Inter</th>\n      <th>Fouls</th>\n      <th>Offsides</th>\n      <th>Clear</th>\n      <th>Drb_y</th>\n      <th>Blocks</th>\n      <th>year</th>\n    </tr>\n  </thead>\n  <tbody>\n    <tr>\n      <th>317</th>\n      <td>Tom Cleverley</td>\n      <td>Aston Villa</td>\n      <td>34</td>\n      <td>Midfielder</td>\n      <td>31</td>\n      <td>2520</td>\n      <td>3</td>\n      <td>0</td>\n      <td>0.741935</td>\n      <td>0.83871</td>\n      <td>...</td>\n      <td>0.677419</td>\n      <td>6.640323</td>\n      <td>2.322581</td>\n      <td>0.903226</td>\n      <td>0.967742</td>\n      <td>0.0</td>\n      <td>0.741935</td>\n      <td>1.096774</td>\n      <td>0.096774</td>\n      <td>2014</td>\n    </tr>\n    <tr>\n      <th>354</th>\n      <td>Tom Cleverley</td>\n      <td>Man Utd</td>\n      <td>34</td>\n      <td>Midfielder</td>\n      <td>1</td>\n      <td>90</td>\n      <td>0</td>\n      <td>0</td>\n      <td>1.000000</td>\n      <td>1.00000</td>\n      <td>...</td>\n      <td>0.000000</td>\n      <td>6.570000</td>\n      <td>3.000000</td>\n      <td>0.000000</td>\n      <td>2.000000</td>\n      <td>0.0</td>\n      <td>0.000000</td>\n      <td>3.000000</td>\n      <td>0.000000</td>\n      <td>2014</td>\n    </tr>\n  </tbody>\n</table>\n<p>2 rows × 24 columns</p>\n</div>"
     },
     "execution_count": 20,
     "metadata": {},
     "output_type": "execute_result"
    }
   ],
   "source": [
    "y2014_origin_df = origin_df[origin_df['year']==2014]\n",
    "y2014_origin_df[y2014_origin_df['Name']=='Tom Cleverley']"
   ],
   "metadata": {
    "collapsed": false,
    "pycharm": {
     "name": "#%%\n"
    }
   }
  },
  {
   "cell_type": "code",
   "execution_count": 22,
   "outputs": [],
   "source": [
    "stats_df.to_csv('../data/new/1xbet.csv', index=False)"
   ],
   "metadata": {
    "collapsed": false,
    "pycharm": {
     "name": "#%%\n"
    }
   }
  },
  {
   "cell_type": "code",
   "execution_count": null,
   "outputs": [],
   "source": [],
   "metadata": {
    "collapsed": false,
    "pycharm": {
     "name": "#%%\n"
    }
   }
  }
 ],
 "metadata": {
  "kernelspec": {
   "display_name": "Python 3",
   "language": "python",
   "name": "python3"
  },
  "language_info": {
   "codemirror_mode": {
    "name": "ipython",
    "version": 2
   },
   "file_extension": ".py",
   "mimetype": "text/x-python",
   "name": "python",
   "nbconvert_exporter": "python",
   "pygments_lexer": "ipython2",
   "version": "2.7.6"
  }
 },
 "nbformat": 4,
 "nbformat_minor": 0
}