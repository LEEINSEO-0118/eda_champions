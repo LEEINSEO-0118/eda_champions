{
 "cells": [
  {
   "cell_type": "code",
   "execution_count": 2,
   "metadata": {
    "collapsed": true
   },
   "outputs": [],
   "source": [
    "import pandas as pd\n",
    "import numpy as np\n",
    "import seaborn as sns\n",
    "import matplotlib.pyplot as plt"
   ]
  },
  {
   "cell_type": "code",
   "execution_count": 12,
   "outputs": [],
   "source": [
    "offensive_path = '../data/1xbet/1xbet_offensive_{}.csv'\n",
    "defensive_path = '../data/1xbet/1xbet_defensive_{}.csv'"
   ],
   "metadata": {
    "collapsed": false,
    "pycharm": {
     "name": "#%%\n"
    }
   }
  },
  {
   "cell_type": "code",
   "execution_count": 43,
   "outputs": [
    {
     "data": {
      "text/plain": "                 Name         Team  Age    Position  Apps  Mins  Goals  \\\n564  Dexter Lembikisa       Wolves   19    Defender     1    22      0   \n565   Cameron Peupion     Brighton   20  Midfielder     1     5      0   \n566      Andrew Moran     Brighton   19  Midfielder     1    11      0   \n567       Shane Duffy       Fulham   31    Defender     5    17      0   \n568        Yan Valery  Southampton   24    Defender     1    46      0   \n\n     Assists  SpG  KeyP  Drb  Fouled  Off  Disp  UnsTch  Rating  \n564        0  0.0   0.0  0.0     0.0  0.0   0.0     0.0   5.880  \n565        0  1.0   0.0  0.0     0.0  0.0   0.0     1.0   5.850  \n566        0  0.0   0.0  0.0     0.0  0.0   0.0     2.0   5.830  \n567        0  0.2   0.0  0.2     0.2  0.0   0.0     0.2   5.786  \n568        0  0.0   0.0  0.0     0.0  0.0   3.0     1.0   5.740  ",
      "text/html": "<div>\n<style scoped>\n    .dataframe tbody tr th:only-of-type {\n        vertical-align: middle;\n    }\n\n    .dataframe tbody tr th {\n        vertical-align: top;\n    }\n\n    .dataframe thead th {\n        text-align: right;\n    }\n</style>\n<table border=\"1\" class=\"dataframe\">\n  <thead>\n    <tr style=\"text-align: right;\">\n      <th></th>\n      <th>Name</th>\n      <th>Team</th>\n      <th>Age</th>\n      <th>Position</th>\n      <th>Apps</th>\n      <th>Mins</th>\n      <th>Goals</th>\n      <th>Assists</th>\n      <th>SpG</th>\n      <th>KeyP</th>\n      <th>Drb</th>\n      <th>Fouled</th>\n      <th>Off</th>\n      <th>Disp</th>\n      <th>UnsTch</th>\n      <th>Rating</th>\n    </tr>\n  </thead>\n  <tbody>\n    <tr>\n      <th>564</th>\n      <td>Dexter Lembikisa</td>\n      <td>Wolves</td>\n      <td>19</td>\n      <td>Defender</td>\n      <td>1</td>\n      <td>22</td>\n      <td>0</td>\n      <td>0</td>\n      <td>0.0</td>\n      <td>0.0</td>\n      <td>0.0</td>\n      <td>0.0</td>\n      <td>0.0</td>\n      <td>0.0</td>\n      <td>0.0</td>\n      <td>5.880</td>\n    </tr>\n    <tr>\n      <th>565</th>\n      <td>Cameron Peupion</td>\n      <td>Brighton</td>\n      <td>20</td>\n      <td>Midfielder</td>\n      <td>1</td>\n      <td>5</td>\n      <td>0</td>\n      <td>0</td>\n      <td>1.0</td>\n      <td>0.0</td>\n      <td>0.0</td>\n      <td>0.0</td>\n      <td>0.0</td>\n      <td>0.0</td>\n      <td>1.0</td>\n      <td>5.850</td>\n    </tr>\n    <tr>\n      <th>566</th>\n      <td>Andrew Moran</td>\n      <td>Brighton</td>\n      <td>19</td>\n      <td>Midfielder</td>\n      <td>1</td>\n      <td>11</td>\n      <td>0</td>\n      <td>0</td>\n      <td>0.0</td>\n      <td>0.0</td>\n      <td>0.0</td>\n      <td>0.0</td>\n      <td>0.0</td>\n      <td>0.0</td>\n      <td>2.0</td>\n      <td>5.830</td>\n    </tr>\n    <tr>\n      <th>567</th>\n      <td>Shane Duffy</td>\n      <td>Fulham</td>\n      <td>31</td>\n      <td>Defender</td>\n      <td>5</td>\n      <td>17</td>\n      <td>0</td>\n      <td>0</td>\n      <td>0.2</td>\n      <td>0.0</td>\n      <td>0.2</td>\n      <td>0.2</td>\n      <td>0.0</td>\n      <td>0.0</td>\n      <td>0.2</td>\n      <td>5.786</td>\n    </tr>\n    <tr>\n      <th>568</th>\n      <td>Yan Valery</td>\n      <td>Southampton</td>\n      <td>24</td>\n      <td>Defender</td>\n      <td>1</td>\n      <td>46</td>\n      <td>0</td>\n      <td>0</td>\n      <td>0.0</td>\n      <td>0.0</td>\n      <td>0.0</td>\n      <td>0.0</td>\n      <td>0.0</td>\n      <td>3.0</td>\n      <td>1.0</td>\n      <td>5.740</td>\n    </tr>\n  </tbody>\n</table>\n</div>"
     },
     "execution_count": 43,
     "metadata": {},
     "output_type": "execute_result"
    }
   ],
   "source": [
    "pd.read_csv(offensive_path.format(2022)).tail()"
   ],
   "metadata": {
    "collapsed": false,
    "pycharm": {
     "name": "#%%\n"
    }
   }
  },
  {
   "cell_type": "code",
   "execution_count": 44,
   "outputs": [
    {
     "data": {
      "text/plain": "                 Name         Team  Age    Position  Apps  Mins  Tackles  \\\n564  Dexter Lembikisa       Wolves   19    Defender     1    22      0.0   \n565   Cameron Peupion     Brighton   20  Midfielder     1     5      0.0   \n566      Andrew Moran     Brighton   19  Midfielder     1    11      0.0   \n567       Shane Duffy       Fulham   31    Defender     5    17      0.0   \n568        Yan Valery  Southampton   24    Defender     1    46      0.0   \n\n     Inter  Fouls  Offsides  Clear  Drb  Blocks  Rating  \n564    0.0    0.0       0.0    0.0  0.0     0.0   5.880  \n565    0.0    0.0       0.0    0.0  0.0     0.0   5.850  \n566    0.0    0.0       0.0    0.0  0.0     0.0   5.830  \n567    0.0    0.0       0.0    0.0  0.0     0.0   5.786  \n568    0.0    0.0       0.0    3.0  0.0     0.0   5.740  ",
      "text/html": "<div>\n<style scoped>\n    .dataframe tbody tr th:only-of-type {\n        vertical-align: middle;\n    }\n\n    .dataframe tbody tr th {\n        vertical-align: top;\n    }\n\n    .dataframe thead th {\n        text-align: right;\n    }\n</style>\n<table border=\"1\" class=\"dataframe\">\n  <thead>\n    <tr style=\"text-align: right;\">\n      <th></th>\n      <th>Name</th>\n      <th>Team</th>\n      <th>Age</th>\n      <th>Position</th>\n      <th>Apps</th>\n      <th>Mins</th>\n      <th>Tackles</th>\n      <th>Inter</th>\n      <th>Fouls</th>\n      <th>Offsides</th>\n      <th>Clear</th>\n      <th>Drb</th>\n      <th>Blocks</th>\n      <th>Rating</th>\n    </tr>\n  </thead>\n  <tbody>\n    <tr>\n      <th>564</th>\n      <td>Dexter Lembikisa</td>\n      <td>Wolves</td>\n      <td>19</td>\n      <td>Defender</td>\n      <td>1</td>\n      <td>22</td>\n      <td>0.0</td>\n      <td>0.0</td>\n      <td>0.0</td>\n      <td>0.0</td>\n      <td>0.0</td>\n      <td>0.0</td>\n      <td>0.0</td>\n      <td>5.880</td>\n    </tr>\n    <tr>\n      <th>565</th>\n      <td>Cameron Peupion</td>\n      <td>Brighton</td>\n      <td>20</td>\n      <td>Midfielder</td>\n      <td>1</td>\n      <td>5</td>\n      <td>0.0</td>\n      <td>0.0</td>\n      <td>0.0</td>\n      <td>0.0</td>\n      <td>0.0</td>\n      <td>0.0</td>\n      <td>0.0</td>\n      <td>5.850</td>\n    </tr>\n    <tr>\n      <th>566</th>\n      <td>Andrew Moran</td>\n      <td>Brighton</td>\n      <td>19</td>\n      <td>Midfielder</td>\n      <td>1</td>\n      <td>11</td>\n      <td>0.0</td>\n      <td>0.0</td>\n      <td>0.0</td>\n      <td>0.0</td>\n      <td>0.0</td>\n      <td>0.0</td>\n      <td>0.0</td>\n      <td>5.830</td>\n    </tr>\n    <tr>\n      <th>567</th>\n      <td>Shane Duffy</td>\n      <td>Fulham</td>\n      <td>31</td>\n      <td>Defender</td>\n      <td>5</td>\n      <td>17</td>\n      <td>0.0</td>\n      <td>0.0</td>\n      <td>0.0</td>\n      <td>0.0</td>\n      <td>0.0</td>\n      <td>0.0</td>\n      <td>0.0</td>\n      <td>5.786</td>\n    </tr>\n    <tr>\n      <th>568</th>\n      <td>Yan Valery</td>\n      <td>Southampton</td>\n      <td>24</td>\n      <td>Defender</td>\n      <td>1</td>\n      <td>46</td>\n      <td>0.0</td>\n      <td>0.0</td>\n      <td>0.0</td>\n      <td>0.0</td>\n      <td>3.0</td>\n      <td>0.0</td>\n      <td>0.0</td>\n      <td>5.740</td>\n    </tr>\n  </tbody>\n</table>\n</div>"
     },
     "execution_count": 44,
     "metadata": {},
     "output_type": "execute_result"
    }
   ],
   "source": [
    "pd.read_csv(defensive_path.format(2022)).tail()"
   ],
   "metadata": {
    "collapsed": false,
    "pycharm": {
     "name": "#%%\n"
    }
   }
  },
  {
   "cell_type": "code",
   "execution_count": 41,
   "outputs": [],
   "source": [
    "start_year, end_year = 2014,2022\n",
    "target = ['Tackles', 'Inter', 'Fouls', 'Offsides', 'Clear', 'Drb', 'Blocks']\n",
    "stats_df = pd.DataFrame()\n",
    "for year in range(start_year, end_year+1):\n",
    "    o_df = pd.read_csv(offensive_path.format(year))\n",
    "    d_df = pd.read_csv(defensive_path.format(year))\n",
    "    merged_df = o_df.merge(d_df[target], how='outer', left_index=True, right_index=True) # 공격과 수비 데이터의 행이 동일해서 행으로 머지\n",
    "    merged_df['year'] = year\n",
    "    stats_df = pd.concat([stats_df, merged_df])"
   ],
   "metadata": {
    "collapsed": false,
    "pycharm": {
     "name": "#%%\n"
    }
   }
  },
  {
   "cell_type": "code",
   "execution_count": 42,
   "outputs": [
    {
     "data": {
      "text/plain": "             Name      Team  Age    Position  Apps  Mins  Goals  Assists  \\\n0     Eden Hazard   Chelsea   32     Forward    38  3379     14        9   \n1  Alexis Sánchez   Arsenal   34     Forward    35  2953     16        8   \n2   Sergio Agüero  Man City   35     Forward    33  2540     26        8   \n3   Cesc Fàbregas   Chelsea   36  Midfielder    34  2890      3       18   \n4   Santi Cazorla   Arsenal   38  Midfielder    37  2992      7       11   \n\n        SpG      KeyP  ...    UnsTch    Rating   Tackles     Inter     Fouls  \\\n0  2.052632  2.631579  ...  2.105263  7.956842  0.736842  0.578947  0.315789   \n1  3.485714  2.342857  ...  2.114286  7.810857  1.971429  1.171429  1.257143   \n2  4.484848  1.000000  ...  1.939394  7.671515  0.666667  0.393939  0.545455   \n3  1.264706  2.794118  ...  1.000000  7.618529  2.588235  0.676471  0.882353   \n4  2.513514  2.108108  ...  1.000000  7.599459  1.594595  1.081081  0.540541   \n\n   Offsides     Clear     Drb_y    Blocks  year  \n0       0.0  0.236842  0.605263  0.026316  2014  \n1       0.0  0.171429  1.542857  0.000000  2014  \n2       0.0  0.060606  0.515152  0.000000  2014  \n3       0.0  0.882353  2.117647  0.147059  2014  \n4       0.0  0.648649  1.459459  0.135135  2014  \n\n[5 rows x 24 columns]",
      "text/html": "<div>\n<style scoped>\n    .dataframe tbody tr th:only-of-type {\n        vertical-align: middle;\n    }\n\n    .dataframe tbody tr th {\n        vertical-align: top;\n    }\n\n    .dataframe thead th {\n        text-align: right;\n    }\n</style>\n<table border=\"1\" class=\"dataframe\">\n  <thead>\n    <tr style=\"text-align: right;\">\n      <th></th>\n      <th>Name</th>\n      <th>Team</th>\n      <th>Age</th>\n      <th>Position</th>\n      <th>Apps</th>\n      <th>Mins</th>\n      <th>Goals</th>\n      <th>Assists</th>\n      <th>SpG</th>\n      <th>KeyP</th>\n      <th>...</th>\n      <th>UnsTch</th>\n      <th>Rating</th>\n      <th>Tackles</th>\n      <th>Inter</th>\n      <th>Fouls</th>\n      <th>Offsides</th>\n      <th>Clear</th>\n      <th>Drb_y</th>\n      <th>Blocks</th>\n      <th>year</th>\n    </tr>\n  </thead>\n  <tbody>\n    <tr>\n      <th>0</th>\n      <td>Eden Hazard</td>\n      <td>Chelsea</td>\n      <td>32</td>\n      <td>Forward</td>\n      <td>38</td>\n      <td>3379</td>\n      <td>14</td>\n      <td>9</td>\n      <td>2.052632</td>\n      <td>2.631579</td>\n      <td>...</td>\n      <td>2.105263</td>\n      <td>7.956842</td>\n      <td>0.736842</td>\n      <td>0.578947</td>\n      <td>0.315789</td>\n      <td>0.0</td>\n      <td>0.236842</td>\n      <td>0.605263</td>\n      <td>0.026316</td>\n      <td>2014</td>\n    </tr>\n    <tr>\n      <th>1</th>\n      <td>Alexis Sánchez</td>\n      <td>Arsenal</td>\n      <td>34</td>\n      <td>Forward</td>\n      <td>35</td>\n      <td>2953</td>\n      <td>16</td>\n      <td>8</td>\n      <td>3.485714</td>\n      <td>2.342857</td>\n      <td>...</td>\n      <td>2.114286</td>\n      <td>7.810857</td>\n      <td>1.971429</td>\n      <td>1.171429</td>\n      <td>1.257143</td>\n      <td>0.0</td>\n      <td>0.171429</td>\n      <td>1.542857</td>\n      <td>0.000000</td>\n      <td>2014</td>\n    </tr>\n    <tr>\n      <th>2</th>\n      <td>Sergio Agüero</td>\n      <td>Man City</td>\n      <td>35</td>\n      <td>Forward</td>\n      <td>33</td>\n      <td>2540</td>\n      <td>26</td>\n      <td>8</td>\n      <td>4.484848</td>\n      <td>1.000000</td>\n      <td>...</td>\n      <td>1.939394</td>\n      <td>7.671515</td>\n      <td>0.666667</td>\n      <td>0.393939</td>\n      <td>0.545455</td>\n      <td>0.0</td>\n      <td>0.060606</td>\n      <td>0.515152</td>\n      <td>0.000000</td>\n      <td>2014</td>\n    </tr>\n    <tr>\n      <th>3</th>\n      <td>Cesc Fàbregas</td>\n      <td>Chelsea</td>\n      <td>36</td>\n      <td>Midfielder</td>\n      <td>34</td>\n      <td>2890</td>\n      <td>3</td>\n      <td>18</td>\n      <td>1.264706</td>\n      <td>2.794118</td>\n      <td>...</td>\n      <td>1.000000</td>\n      <td>7.618529</td>\n      <td>2.588235</td>\n      <td>0.676471</td>\n      <td>0.882353</td>\n      <td>0.0</td>\n      <td>0.882353</td>\n      <td>2.117647</td>\n      <td>0.147059</td>\n      <td>2014</td>\n    </tr>\n    <tr>\n      <th>4</th>\n      <td>Santi Cazorla</td>\n      <td>Arsenal</td>\n      <td>38</td>\n      <td>Midfielder</td>\n      <td>37</td>\n      <td>2992</td>\n      <td>7</td>\n      <td>11</td>\n      <td>2.513514</td>\n      <td>2.108108</td>\n      <td>...</td>\n      <td>1.000000</td>\n      <td>7.599459</td>\n      <td>1.594595</td>\n      <td>1.081081</td>\n      <td>0.540541</td>\n      <td>0.0</td>\n      <td>0.648649</td>\n      <td>1.459459</td>\n      <td>0.135135</td>\n      <td>2014</td>\n    </tr>\n  </tbody>\n</table>\n<p>5 rows × 24 columns</p>\n</div>"
     },
     "execution_count": 42,
     "metadata": {},
     "output_type": "execute_result"
    }
   ],
   "source": [
    "stats_df.head()"
   ],
   "metadata": {
    "collapsed": false,
    "pycharm": {
     "name": "#%%\n"
    }
   }
  },
  {
   "cell_type": "code",
   "execution_count": 45,
   "outputs": [
    {
     "data": {
      "text/plain": "               Age         Apps         Mins        Goals      Assists  \\\ncount  4860.000000  4860.000000  4860.000000  4860.000000  4860.000000   \nmean     30.725103    19.577778  1391.730864     1.862346     1.320370   \nstd       5.128494    11.817937  1042.052595     3.442854     2.149495   \nmin      16.000000     1.000000     1.000000     0.000000     0.000000   \n25%      27.000000     9.000000   407.000000     0.000000     0.000000   \n50%      31.000000    20.000000  1283.000000     0.000000     0.000000   \n75%      34.000000    30.000000  2251.000000     2.000000     2.000000   \nmax      50.000000    38.000000  3450.000000    36.000000    20.000000   \n\n               SpG         KeyP        Drb_x       Fouled          Off  ...  \\\ncount  4860.000000  4860.000000  4860.000000  4860.000000  4860.000000  ...   \nmean      0.741368     0.544959     0.569345     0.634389     0.110539  ...   \nstd       0.713222     0.538110     0.614135     0.516100     0.197584  ...   \nmin       0.000000     0.000000     0.000000     0.000000     0.000000  ...   \n25%       0.222222     0.125000     0.111111     0.250000     0.000000  ...   \n50%       0.558824     0.419355     0.400000     0.538462     0.027778  ...   \n75%       1.047619     0.808150     0.823529     0.925926     0.130435  ...   \nmax       4.972973     4.171429     5.666667     4.638889     1.500000  ...   \n\n            UnsTch       Rating      Tackles        Inter        Fouls  \\\ncount  4860.000000  4860.000000  4860.000000  4860.000000  4860.000000   \nmean      0.860415     6.630293     1.102146     0.758072     0.684193   \nstd       0.710808     0.369526     0.849951     0.706444     0.472695   \nmin       0.000000     4.950000     0.000000     0.000000     0.000000   \n25%       0.303030     6.376000     0.436821     0.157895     0.349457   \n50%       0.742396     6.632320     1.000000     0.600000     0.666667   \n75%       1.259259     6.871135     1.625000     1.176471     1.000000   \nmax       4.384615     8.340000     7.000000     4.500000     4.000000   \n\n          Offsides        Clear        Drb_y       Blocks         year  \ncount  4860.000000  4860.000000  4860.000000  4860.000000  4860.000000  \nmean      0.121441     1.483150     0.593915     0.217428  2018.001852  \nstd       0.228232     1.747162     0.487561     0.294064     2.614372  \nmin       0.000000     0.000000     0.000000     0.000000  2014.000000  \n25%       0.000000     0.299324     0.222222     0.000000  2016.000000  \n50%       0.000000     0.814815     0.516129     0.100000  2018.000000  \n75%       0.142857     2.000000     0.871976     0.321429  2020.000000  \nmax       2.000000    13.000000     4.000000     2.052632  2022.000000  \n\n[8 rows x 21 columns]",
      "text/html": "<div>\n<style scoped>\n    .dataframe tbody tr th:only-of-type {\n        vertical-align: middle;\n    }\n\n    .dataframe tbody tr th {\n        vertical-align: top;\n    }\n\n    .dataframe thead th {\n        text-align: right;\n    }\n</style>\n<table border=\"1\" class=\"dataframe\">\n  <thead>\n    <tr style=\"text-align: right;\">\n      <th></th>\n      <th>Age</th>\n      <th>Apps</th>\n      <th>Mins</th>\n      <th>Goals</th>\n      <th>Assists</th>\n      <th>SpG</th>\n      <th>KeyP</th>\n      <th>Drb_x</th>\n      <th>Fouled</th>\n      <th>Off</th>\n      <th>...</th>\n      <th>UnsTch</th>\n      <th>Rating</th>\n      <th>Tackles</th>\n      <th>Inter</th>\n      <th>Fouls</th>\n      <th>Offsides</th>\n      <th>Clear</th>\n      <th>Drb_y</th>\n      <th>Blocks</th>\n      <th>year</th>\n    </tr>\n  </thead>\n  <tbody>\n    <tr>\n      <th>count</th>\n      <td>4860.000000</td>\n      <td>4860.000000</td>\n      <td>4860.000000</td>\n      <td>4860.000000</td>\n      <td>4860.000000</td>\n      <td>4860.000000</td>\n      <td>4860.000000</td>\n      <td>4860.000000</td>\n      <td>4860.000000</td>\n      <td>4860.000000</td>\n      <td>...</td>\n      <td>4860.000000</td>\n      <td>4860.000000</td>\n      <td>4860.000000</td>\n      <td>4860.000000</td>\n      <td>4860.000000</td>\n      <td>4860.000000</td>\n      <td>4860.000000</td>\n      <td>4860.000000</td>\n      <td>4860.000000</td>\n      <td>4860.000000</td>\n    </tr>\n    <tr>\n      <th>mean</th>\n      <td>30.725103</td>\n      <td>19.577778</td>\n      <td>1391.730864</td>\n      <td>1.862346</td>\n      <td>1.320370</td>\n      <td>0.741368</td>\n      <td>0.544959</td>\n      <td>0.569345</td>\n      <td>0.634389</td>\n      <td>0.110539</td>\n      <td>...</td>\n      <td>0.860415</td>\n      <td>6.630293</td>\n      <td>1.102146</td>\n      <td>0.758072</td>\n      <td>0.684193</td>\n      <td>0.121441</td>\n      <td>1.483150</td>\n      <td>0.593915</td>\n      <td>0.217428</td>\n      <td>2018.001852</td>\n    </tr>\n    <tr>\n      <th>std</th>\n      <td>5.128494</td>\n      <td>11.817937</td>\n      <td>1042.052595</td>\n      <td>3.442854</td>\n      <td>2.149495</td>\n      <td>0.713222</td>\n      <td>0.538110</td>\n      <td>0.614135</td>\n      <td>0.516100</td>\n      <td>0.197584</td>\n      <td>...</td>\n      <td>0.710808</td>\n      <td>0.369526</td>\n      <td>0.849951</td>\n      <td>0.706444</td>\n      <td>0.472695</td>\n      <td>0.228232</td>\n      <td>1.747162</td>\n      <td>0.487561</td>\n      <td>0.294064</td>\n      <td>2.614372</td>\n    </tr>\n    <tr>\n      <th>min</th>\n      <td>16.000000</td>\n      <td>1.000000</td>\n      <td>1.000000</td>\n      <td>0.000000</td>\n      <td>0.000000</td>\n      <td>0.000000</td>\n      <td>0.000000</td>\n      <td>0.000000</td>\n      <td>0.000000</td>\n      <td>0.000000</td>\n      <td>...</td>\n      <td>0.000000</td>\n      <td>4.950000</td>\n      <td>0.000000</td>\n      <td>0.000000</td>\n      <td>0.000000</td>\n      <td>0.000000</td>\n      <td>0.000000</td>\n      <td>0.000000</td>\n      <td>0.000000</td>\n      <td>2014.000000</td>\n    </tr>\n    <tr>\n      <th>25%</th>\n      <td>27.000000</td>\n      <td>9.000000</td>\n      <td>407.000000</td>\n      <td>0.000000</td>\n      <td>0.000000</td>\n      <td>0.222222</td>\n      <td>0.125000</td>\n      <td>0.111111</td>\n      <td>0.250000</td>\n      <td>0.000000</td>\n      <td>...</td>\n      <td>0.303030</td>\n      <td>6.376000</td>\n      <td>0.436821</td>\n      <td>0.157895</td>\n      <td>0.349457</td>\n      <td>0.000000</td>\n      <td>0.299324</td>\n      <td>0.222222</td>\n      <td>0.000000</td>\n      <td>2016.000000</td>\n    </tr>\n    <tr>\n      <th>50%</th>\n      <td>31.000000</td>\n      <td>20.000000</td>\n      <td>1283.000000</td>\n      <td>0.000000</td>\n      <td>0.000000</td>\n      <td>0.558824</td>\n      <td>0.419355</td>\n      <td>0.400000</td>\n      <td>0.538462</td>\n      <td>0.027778</td>\n      <td>...</td>\n      <td>0.742396</td>\n      <td>6.632320</td>\n      <td>1.000000</td>\n      <td>0.600000</td>\n      <td>0.666667</td>\n      <td>0.000000</td>\n      <td>0.814815</td>\n      <td>0.516129</td>\n      <td>0.100000</td>\n      <td>2018.000000</td>\n    </tr>\n    <tr>\n      <th>75%</th>\n      <td>34.000000</td>\n      <td>30.000000</td>\n      <td>2251.000000</td>\n      <td>2.000000</td>\n      <td>2.000000</td>\n      <td>1.047619</td>\n      <td>0.808150</td>\n      <td>0.823529</td>\n      <td>0.925926</td>\n      <td>0.130435</td>\n      <td>...</td>\n      <td>1.259259</td>\n      <td>6.871135</td>\n      <td>1.625000</td>\n      <td>1.176471</td>\n      <td>1.000000</td>\n      <td>0.142857</td>\n      <td>2.000000</td>\n      <td>0.871976</td>\n      <td>0.321429</td>\n      <td>2020.000000</td>\n    </tr>\n    <tr>\n      <th>max</th>\n      <td>50.000000</td>\n      <td>38.000000</td>\n      <td>3450.000000</td>\n      <td>36.000000</td>\n      <td>20.000000</td>\n      <td>4.972973</td>\n      <td>4.171429</td>\n      <td>5.666667</td>\n      <td>4.638889</td>\n      <td>1.500000</td>\n      <td>...</td>\n      <td>4.384615</td>\n      <td>8.340000</td>\n      <td>7.000000</td>\n      <td>4.500000</td>\n      <td>4.000000</td>\n      <td>2.000000</td>\n      <td>13.000000</td>\n      <td>4.000000</td>\n      <td>2.052632</td>\n      <td>2022.000000</td>\n    </tr>\n  </tbody>\n</table>\n<p>8 rows × 21 columns</p>\n</div>"
     },
     "execution_count": 45,
     "metadata": {},
     "output_type": "execute_result"
    }
   ],
   "source": [
    "stats_df.describe()"
   ],
   "metadata": {
    "collapsed": false,
    "pycharm": {
     "name": "#%%\n"
    }
   }
  },
  {
   "cell_type": "code",
   "execution_count": 46,
   "outputs": [
    {
     "data": {
      "text/plain": "Name        0.0\nTeam        0.0\nAge         0.0\nPosition    0.0\nApps        0.0\nMins        0.0\nGoals       0.0\nAssists     0.0\nSpG         0.0\nKeyP        0.0\nDrb_x       0.0\nFouled      0.0\nOff         0.0\nDisp        0.0\nUnsTch      0.0\nRating      0.0\nTackles     0.0\nInter       0.0\nFouls       0.0\nOffsides    0.0\nClear       0.0\nDrb_y       0.0\nBlocks      0.0\nyear        0.0\ndtype: float64"
     },
     "execution_count": 46,
     "metadata": {},
     "output_type": "execute_result"
    }
   ],
   "source": [
    "stats_df.isnull().mean()"
   ],
   "metadata": {
    "collapsed": false,
    "pycharm": {
     "name": "#%%\n"
    }
   }
  },
  {
   "cell_type": "code",
   "execution_count": 47,
   "outputs": [
    {
     "data": {
      "text/plain": "             Name      Team  Age    Position  Apps  Mins  Goals  Assists  \\\n0     Eden Hazard   Chelsea   32     Forward    38  3379     14        9   \n1  Alexis Sánchez   Arsenal   34     Forward    35  2953     16        8   \n2   Sergio Agüero  Man City   35     Forward    33  2540     26        8   \n3   Cesc Fàbregas   Chelsea   36  Midfielder    34  2890      3       18   \n4   Santi Cazorla   Arsenal   38  Midfielder    37  2992      7       11   \n\n        SpG      KeyP  ...    UnsTch    Rating   Tackles     Inter     Fouls  \\\n0  2.052632  2.631579  ...  2.105263  7.956842  0.736842  0.578947  0.315789   \n1  3.485714  2.342857  ...  2.114286  7.810857  1.971429  1.171429  1.257143   \n2  4.484848  1.000000  ...  1.939394  7.671515  0.666667  0.393939  0.545455   \n3  1.264706  2.794118  ...  1.000000  7.618529  2.588235  0.676471  0.882353   \n4  2.513514  2.108108  ...  1.000000  7.599459  1.594595  1.081081  0.540541   \n\n   Offsides     Clear     Drb_y    Blocks  year  \n0       0.0  0.236842  0.605263  0.026316  2014  \n1       0.0  0.171429  1.542857  0.000000  2014  \n2       0.0  0.060606  0.515152  0.000000  2014  \n3       0.0  0.882353  2.117647  0.147059  2014  \n4       0.0  0.648649  1.459459  0.135135  2014  \n\n[5 rows x 24 columns]",
      "text/html": "<div>\n<style scoped>\n    .dataframe tbody tr th:only-of-type {\n        vertical-align: middle;\n    }\n\n    .dataframe tbody tr th {\n        vertical-align: top;\n    }\n\n    .dataframe thead th {\n        text-align: right;\n    }\n</style>\n<table border=\"1\" class=\"dataframe\">\n  <thead>\n    <tr style=\"text-align: right;\">\n      <th></th>\n      <th>Name</th>\n      <th>Team</th>\n      <th>Age</th>\n      <th>Position</th>\n      <th>Apps</th>\n      <th>Mins</th>\n      <th>Goals</th>\n      <th>Assists</th>\n      <th>SpG</th>\n      <th>KeyP</th>\n      <th>...</th>\n      <th>UnsTch</th>\n      <th>Rating</th>\n      <th>Tackles</th>\n      <th>Inter</th>\n      <th>Fouls</th>\n      <th>Offsides</th>\n      <th>Clear</th>\n      <th>Drb_y</th>\n      <th>Blocks</th>\n      <th>year</th>\n    </tr>\n  </thead>\n  <tbody>\n    <tr>\n      <th>0</th>\n      <td>Eden Hazard</td>\n      <td>Chelsea</td>\n      <td>32</td>\n      <td>Forward</td>\n      <td>38</td>\n      <td>3379</td>\n      <td>14</td>\n      <td>9</td>\n      <td>2.052632</td>\n      <td>2.631579</td>\n      <td>...</td>\n      <td>2.105263</td>\n      <td>7.956842</td>\n      <td>0.736842</td>\n      <td>0.578947</td>\n      <td>0.315789</td>\n      <td>0.0</td>\n      <td>0.236842</td>\n      <td>0.605263</td>\n      <td>0.026316</td>\n      <td>2014</td>\n    </tr>\n    <tr>\n      <th>1</th>\n      <td>Alexis Sánchez</td>\n      <td>Arsenal</td>\n      <td>34</td>\n      <td>Forward</td>\n      <td>35</td>\n      <td>2953</td>\n      <td>16</td>\n      <td>8</td>\n      <td>3.485714</td>\n      <td>2.342857</td>\n      <td>...</td>\n      <td>2.114286</td>\n      <td>7.810857</td>\n      <td>1.971429</td>\n      <td>1.171429</td>\n      <td>1.257143</td>\n      <td>0.0</td>\n      <td>0.171429</td>\n      <td>1.542857</td>\n      <td>0.000000</td>\n      <td>2014</td>\n    </tr>\n    <tr>\n      <th>2</th>\n      <td>Sergio Agüero</td>\n      <td>Man City</td>\n      <td>35</td>\n      <td>Forward</td>\n      <td>33</td>\n      <td>2540</td>\n      <td>26</td>\n      <td>8</td>\n      <td>4.484848</td>\n      <td>1.000000</td>\n      <td>...</td>\n      <td>1.939394</td>\n      <td>7.671515</td>\n      <td>0.666667</td>\n      <td>0.393939</td>\n      <td>0.545455</td>\n      <td>0.0</td>\n      <td>0.060606</td>\n      <td>0.515152</td>\n      <td>0.000000</td>\n      <td>2014</td>\n    </tr>\n    <tr>\n      <th>3</th>\n      <td>Cesc Fàbregas</td>\n      <td>Chelsea</td>\n      <td>36</td>\n      <td>Midfielder</td>\n      <td>34</td>\n      <td>2890</td>\n      <td>3</td>\n      <td>18</td>\n      <td>1.264706</td>\n      <td>2.794118</td>\n      <td>...</td>\n      <td>1.000000</td>\n      <td>7.618529</td>\n      <td>2.588235</td>\n      <td>0.676471</td>\n      <td>0.882353</td>\n      <td>0.0</td>\n      <td>0.882353</td>\n      <td>2.117647</td>\n      <td>0.147059</td>\n      <td>2014</td>\n    </tr>\n    <tr>\n      <th>4</th>\n      <td>Santi Cazorla</td>\n      <td>Arsenal</td>\n      <td>38</td>\n      <td>Midfielder</td>\n      <td>37</td>\n      <td>2992</td>\n      <td>7</td>\n      <td>11</td>\n      <td>2.513514</td>\n      <td>2.108108</td>\n      <td>...</td>\n      <td>1.000000</td>\n      <td>7.599459</td>\n      <td>1.594595</td>\n      <td>1.081081</td>\n      <td>0.540541</td>\n      <td>0.0</td>\n      <td>0.648649</td>\n      <td>1.459459</td>\n      <td>0.135135</td>\n      <td>2014</td>\n    </tr>\n  </tbody>\n</table>\n<p>5 rows × 24 columns</p>\n</div>"
     },
     "execution_count": 47,
     "metadata": {},
     "output_type": "execute_result"
    }
   ],
   "source": [
    "stats_df.head()"
   ],
   "metadata": {
    "collapsed": false,
    "pycharm": {
     "name": "#%%\n"
    }
   }
  },
  {
   "cell_type": "code",
   "execution_count": null,
   "outputs": [],
   "source": [],
   "metadata": {
    "collapsed": false,
    "pycharm": {
     "name": "#%%\n"
    }
   }
  },
  {
   "cell_type": "code",
   "execution_count": null,
   "outputs": [],
   "source": [],
   "metadata": {
    "collapsed": false,
    "pycharm": {
     "name": "#%%\n"
    }
   }
  },
  {
   "cell_type": "code",
   "execution_count": null,
   "outputs": [],
   "source": [],
   "metadata": {
    "collapsed": false,
    "pycharm": {
     "name": "#%%\n"
    }
   }
  }
 ],
 "metadata": {
  "kernelspec": {
   "display_name": "Python 3",
   "language": "python",
   "name": "python3"
  },
  "language_info": {
   "codemirror_mode": {
    "name": "ipython",
    "version": 2
   },
   "file_extension": ".py",
   "mimetype": "text/x-python",
   "name": "python",
   "nbconvert_exporter": "python",
   "pygments_lexer": "ipython2",
   "version": "2.7.6"
  }
 },
 "nbformat": 4,
 "nbformat_minor": 0
}