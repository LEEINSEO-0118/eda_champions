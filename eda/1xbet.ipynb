{
 "cells": [
  {
   "cell_type": "code",
   "execution_count": 2,
   "metadata": {
    "collapsed": true
   },
   "outputs": [],
   "source": [
    "import pandas as pd\n",
    "import numpy as np\n",
    "import seaborn as sns\n",
    "import matplotlib.pyplot as plt"
   ]
  },
  {
   "cell_type": "code",
   "execution_count": 12,
   "outputs": [],
   "source": [
    "offensive_path = '../data/1xbet/1xbet_offensive_{}.csv'\n",
    "defensive_path = '../data/1xbet/1xbet_defensive_{}.csv'"
   ],
   "metadata": {
    "collapsed": false,
    "pycharm": {
     "name": "#%%\n"
    }
   }
  },
  {
   "cell_type": "code",
   "execution_count": 16,
   "outputs": [
    {
     "data": {
      "text/plain": "                 Name         Team  Age    Position  Apps  Mins  Goals  \\\n564  Dexter Lembikisa       Wolves   19    Defender     1    22      0   \n565   Cameron Peupion     Brighton   20  Midfielder     1     5      0   \n566      Andrew Moran     Brighton   19  Midfielder     1    11      0   \n567       Shane Duffy       Fulham   31        D(C)     5    17      0   \n568        Yan Valery  Southampton   24  D(CR),M(R)     1    46      0   \n\n     Assists  SpG  KeyP  Drb  Fouled  Off  Disp  UnsTch  Rating  \n564        0  0.0   0.0  0.0     0.0  0.0   0.0     0.0   5.880  \n565        0  1.0   0.0  0.0     0.0  0.0   0.0     1.0   5.850  \n566        0  0.0   0.0  0.0     0.0  0.0   0.0     2.0   5.830  \n567        0  0.2   0.0  0.2     0.2  0.0   0.0     0.2   5.786  \n568        0  0.0   0.0  0.0     0.0  0.0   3.0     1.0   5.740  ",
      "text/html": "<div>\n<style scoped>\n    .dataframe tbody tr th:only-of-type {\n        vertical-align: middle;\n    }\n\n    .dataframe tbody tr th {\n        vertical-align: top;\n    }\n\n    .dataframe thead th {\n        text-align: right;\n    }\n</style>\n<table border=\"1\" class=\"dataframe\">\n  <thead>\n    <tr style=\"text-align: right;\">\n      <th></th>\n      <th>Name</th>\n      <th>Team</th>\n      <th>Age</th>\n      <th>Position</th>\n      <th>Apps</th>\n      <th>Mins</th>\n      <th>Goals</th>\n      <th>Assists</th>\n      <th>SpG</th>\n      <th>KeyP</th>\n      <th>Drb</th>\n      <th>Fouled</th>\n      <th>Off</th>\n      <th>Disp</th>\n      <th>UnsTch</th>\n      <th>Rating</th>\n    </tr>\n  </thead>\n  <tbody>\n    <tr>\n      <th>564</th>\n      <td>Dexter Lembikisa</td>\n      <td>Wolves</td>\n      <td>19</td>\n      <td>Defender</td>\n      <td>1</td>\n      <td>22</td>\n      <td>0</td>\n      <td>0</td>\n      <td>0.0</td>\n      <td>0.0</td>\n      <td>0.0</td>\n      <td>0.0</td>\n      <td>0.0</td>\n      <td>0.0</td>\n      <td>0.0</td>\n      <td>5.880</td>\n    </tr>\n    <tr>\n      <th>565</th>\n      <td>Cameron Peupion</td>\n      <td>Brighton</td>\n      <td>20</td>\n      <td>Midfielder</td>\n      <td>1</td>\n      <td>5</td>\n      <td>0</td>\n      <td>0</td>\n      <td>1.0</td>\n      <td>0.0</td>\n      <td>0.0</td>\n      <td>0.0</td>\n      <td>0.0</td>\n      <td>0.0</td>\n      <td>1.0</td>\n      <td>5.850</td>\n    </tr>\n    <tr>\n      <th>566</th>\n      <td>Andrew Moran</td>\n      <td>Brighton</td>\n      <td>19</td>\n      <td>Midfielder</td>\n      <td>1</td>\n      <td>11</td>\n      <td>0</td>\n      <td>0</td>\n      <td>0.0</td>\n      <td>0.0</td>\n      <td>0.0</td>\n      <td>0.0</td>\n      <td>0.0</td>\n      <td>0.0</td>\n      <td>2.0</td>\n      <td>5.830</td>\n    </tr>\n    <tr>\n      <th>567</th>\n      <td>Shane Duffy</td>\n      <td>Fulham</td>\n      <td>31</td>\n      <td>D(C)</td>\n      <td>5</td>\n      <td>17</td>\n      <td>0</td>\n      <td>0</td>\n      <td>0.2</td>\n      <td>0.0</td>\n      <td>0.2</td>\n      <td>0.2</td>\n      <td>0.0</td>\n      <td>0.0</td>\n      <td>0.2</td>\n      <td>5.786</td>\n    </tr>\n    <tr>\n      <th>568</th>\n      <td>Yan Valery</td>\n      <td>Southampton</td>\n      <td>24</td>\n      <td>D(CR),M(R)</td>\n      <td>1</td>\n      <td>46</td>\n      <td>0</td>\n      <td>0</td>\n      <td>0.0</td>\n      <td>0.0</td>\n      <td>0.0</td>\n      <td>0.0</td>\n      <td>0.0</td>\n      <td>3.0</td>\n      <td>1.0</td>\n      <td>5.740</td>\n    </tr>\n  </tbody>\n</table>\n</div>"
     },
     "execution_count": 16,
     "metadata": {},
     "output_type": "execute_result"
    }
   ],
   "source": [
    "pd.read_csv(offensive_path.format(2022)).tail()"
   ],
   "metadata": {
    "collapsed": false,
    "pycharm": {
     "name": "#%%\n"
    }
   }
  },
  {
   "cell_type": "code",
   "execution_count": 15,
   "outputs": [
    {
     "data": {
      "text/plain": "                 Name         Team  Age    Position  Apps  Min  Tackles  \\\n564  Dexter Lembikisa       Wolves   19    Defender     1   22      0.0   \n565   Cameron Peupion     Brighton   20  Midfielder     1    5      0.0   \n566      Andrew Moran     Brighton   19  Midfielder     1   11      0.0   \n567       Shane Duffy       Fulham   31        D(C)     5   17      0.0   \n568        Yan Valery  Southampton   24  D(CR),M(R)     1   46      0.0   \n\n     Inter  Fouls  Offsides  Clear  Drb  Blocks  Rating  \n564    0.0    0.0       0.0    0.0  0.0     0.0   5.880  \n565    0.0    0.0       0.0    0.0  0.0     0.0   5.850  \n566    0.0    0.0       0.0    0.0  0.0     0.0   5.830  \n567    0.0    0.0       0.0    0.0  0.0     0.0   5.786  \n568    0.0    0.0       0.0    3.0  0.0     0.0   5.740  ",
      "text/html": "<div>\n<style scoped>\n    .dataframe tbody tr th:only-of-type {\n        vertical-align: middle;\n    }\n\n    .dataframe tbody tr th {\n        vertical-align: top;\n    }\n\n    .dataframe thead th {\n        text-align: right;\n    }\n</style>\n<table border=\"1\" class=\"dataframe\">\n  <thead>\n    <tr style=\"text-align: right;\">\n      <th></th>\n      <th>Name</th>\n      <th>Team</th>\n      <th>Age</th>\n      <th>Position</th>\n      <th>Apps</th>\n      <th>Min</th>\n      <th>Tackles</th>\n      <th>Inter</th>\n      <th>Fouls</th>\n      <th>Offsides</th>\n      <th>Clear</th>\n      <th>Drb</th>\n      <th>Blocks</th>\n      <th>Rating</th>\n    </tr>\n  </thead>\n  <tbody>\n    <tr>\n      <th>564</th>\n      <td>Dexter Lembikisa</td>\n      <td>Wolves</td>\n      <td>19</td>\n      <td>Defender</td>\n      <td>1</td>\n      <td>22</td>\n      <td>0.0</td>\n      <td>0.0</td>\n      <td>0.0</td>\n      <td>0.0</td>\n      <td>0.0</td>\n      <td>0.0</td>\n      <td>0.0</td>\n      <td>5.880</td>\n    </tr>\n    <tr>\n      <th>565</th>\n      <td>Cameron Peupion</td>\n      <td>Brighton</td>\n      <td>20</td>\n      <td>Midfielder</td>\n      <td>1</td>\n      <td>5</td>\n      <td>0.0</td>\n      <td>0.0</td>\n      <td>0.0</td>\n      <td>0.0</td>\n      <td>0.0</td>\n      <td>0.0</td>\n      <td>0.0</td>\n      <td>5.850</td>\n    </tr>\n    <tr>\n      <th>566</th>\n      <td>Andrew Moran</td>\n      <td>Brighton</td>\n      <td>19</td>\n      <td>Midfielder</td>\n      <td>1</td>\n      <td>11</td>\n      <td>0.0</td>\n      <td>0.0</td>\n      <td>0.0</td>\n      <td>0.0</td>\n      <td>0.0</td>\n      <td>0.0</td>\n      <td>0.0</td>\n      <td>5.830</td>\n    </tr>\n    <tr>\n      <th>567</th>\n      <td>Shane Duffy</td>\n      <td>Fulham</td>\n      <td>31</td>\n      <td>D(C)</td>\n      <td>5</td>\n      <td>17</td>\n      <td>0.0</td>\n      <td>0.0</td>\n      <td>0.0</td>\n      <td>0.0</td>\n      <td>0.0</td>\n      <td>0.0</td>\n      <td>0.0</td>\n      <td>5.786</td>\n    </tr>\n    <tr>\n      <th>568</th>\n      <td>Yan Valery</td>\n      <td>Southampton</td>\n      <td>24</td>\n      <td>D(CR),M(R)</td>\n      <td>1</td>\n      <td>46</td>\n      <td>0.0</td>\n      <td>0.0</td>\n      <td>0.0</td>\n      <td>0.0</td>\n      <td>3.0</td>\n      <td>0.0</td>\n      <td>0.0</td>\n      <td>5.740</td>\n    </tr>\n  </tbody>\n</table>\n</div>"
     },
     "execution_count": 15,
     "metadata": {},
     "output_type": "execute_result"
    }
   ],
   "source": [
    "pd.read_csv(defensive_path.format(2022)).tail()"
   ],
   "metadata": {
    "collapsed": false,
    "pycharm": {
     "name": "#%%\n"
    }
   }
  },
  {
   "cell_type": "code",
   "execution_count": 17,
   "outputs": [
    {
     "name": "stdout",
     "output_type": "stream",
     "text": [
      "<class 'pandas.core.frame.DataFrame'>\n",
      "Index: 8961 entries, 0 to 1038\n",
      "Data columns (total 24 columns):\n",
      " #   Column    Non-Null Count  Dtype  \n",
      "---  ------    --------------  -----  \n",
      " 0   Name      8961 non-null   object \n",
      " 1   Team      8961 non-null   object \n",
      " 2   Age       8961 non-null   int64  \n",
      " 3   Position  8961 non-null   object \n",
      " 4   Apps      8961 non-null   int64  \n",
      " 5   Mins      4860 non-null   float64\n",
      " 6   Goals     4860 non-null   float64\n",
      " 7   Assists   4860 non-null   float64\n",
      " 8   SpG       4860 non-null   float64\n",
      " 9   KeyP      4860 non-null   float64\n",
      " 10  Drb       8961 non-null   float64\n",
      " 11  Fouled    4860 non-null   float64\n",
      " 12  Off       4860 non-null   float64\n",
      " 13  Disp      4860 non-null   float64\n",
      " 14  UnsTch    4860 non-null   float64\n",
      " 15  Rating    8961 non-null   float64\n",
      " 16  Min       4860 non-null   float64\n",
      " 17  Tackles   4860 non-null   float64\n",
      " 18  Inter     4860 non-null   float64\n",
      " 19  Fouls     4860 non-null   float64\n",
      " 20  Offsides  4860 non-null   float64\n",
      " 21  Clear     4860 non-null   float64\n",
      " 22  Blocks    4860 non-null   float64\n",
      " 23  year      8961 non-null   int64  \n",
      "dtypes: float64(18), int64(3), object(3)\n",
      "memory usage: 1.7+ MB\n"
     ]
    }
   ],
   "source": [
    "start_year, end_year = 2014,2022\n",
    "options = ['defensive', 'offensive']\n",
    "stats_df = pd.DataFrame()\n",
    "for year in range(start_year, end_year+1):\n",
    "    o_df = pd.read_csv(offensive_path.format(year))\n",
    "    d_df = pd.read_csv(defensive_path.format(year))\n",
    "    merged_df = o_df.merge(d_df, how='outer') # 공격과 수비 데이터의 행이 동일해서 행으로 머지\n",
    "    merged_df['year'] = year\n",
    "    stats_df = pd.concat([stats_df, merged_df])\n",
    "stats_df.info()"
   ],
   "metadata": {
    "collapsed": false,
    "pycharm": {
     "name": "#%%\n"
    }
   }
  },
  {
   "cell_type": "code",
   "execution_count": 6,
   "outputs": [
    {
     "data": {
      "text/plain": "             Name      Team  Age   Position  Apps     Min   Tackles     Inter  \\\n0     Eden Hazard   Chelsea   32  M(CLR),FW    38  3379.0  0.736842  0.578947   \n1  Alexis Sánchez   Arsenal   34  M(CLR),FW    35  2953.0  1.971429  1.171429   \n2   Sergio Agüero  Man City   35  AM(CL),FW    33  2540.0  0.666667  0.393939   \n3   Cesc Fàbregas   Chelsea   36   M(CL),FW    34  2890.0  2.588235  0.676471   \n4   Santi Cazorla   Arsenal   38     M(CLR)    37  2992.0  1.594595  1.081081   \n\n      Fouls  Offsides  ...     option  Mins  Goals  Assists  SpG KeyP  Fouled  \\\n0  0.315789       0.0  ...  defensive   NaN    NaN      NaN  NaN  NaN     NaN   \n1  1.257143       0.0  ...  defensive   NaN    NaN      NaN  NaN  NaN     NaN   \n2  0.545455       0.0  ...  defensive   NaN    NaN      NaN  NaN  NaN     NaN   \n3  0.882353       0.0  ...  defensive   NaN    NaN      NaN  NaN  NaN     NaN   \n4  0.540541       0.0  ...  defensive   NaN    NaN      NaN  NaN  NaN     NaN   \n\n   Off  Disp  UnsTch  \n0  NaN   NaN     NaN  \n1  NaN   NaN     NaN  \n2  NaN   NaN     NaN  \n3  NaN   NaN     NaN  \n4  NaN   NaN     NaN  \n\n[5 rows x 25 columns]",
      "text/html": "<div>\n<style scoped>\n    .dataframe tbody tr th:only-of-type {\n        vertical-align: middle;\n    }\n\n    .dataframe tbody tr th {\n        vertical-align: top;\n    }\n\n    .dataframe thead th {\n        text-align: right;\n    }\n</style>\n<table border=\"1\" class=\"dataframe\">\n  <thead>\n    <tr style=\"text-align: right;\">\n      <th></th>\n      <th>Name</th>\n      <th>Team</th>\n      <th>Age</th>\n      <th>Position</th>\n      <th>Apps</th>\n      <th>Min</th>\n      <th>Tackles</th>\n      <th>Inter</th>\n      <th>Fouls</th>\n      <th>Offsides</th>\n      <th>...</th>\n      <th>option</th>\n      <th>Mins</th>\n      <th>Goals</th>\n      <th>Assists</th>\n      <th>SpG</th>\n      <th>KeyP</th>\n      <th>Fouled</th>\n      <th>Off</th>\n      <th>Disp</th>\n      <th>UnsTch</th>\n    </tr>\n  </thead>\n  <tbody>\n    <tr>\n      <th>0</th>\n      <td>Eden Hazard</td>\n      <td>Chelsea</td>\n      <td>32</td>\n      <td>M(CLR),FW</td>\n      <td>38</td>\n      <td>3379.0</td>\n      <td>0.736842</td>\n      <td>0.578947</td>\n      <td>0.315789</td>\n      <td>0.0</td>\n      <td>...</td>\n      <td>defensive</td>\n      <td>NaN</td>\n      <td>NaN</td>\n      <td>NaN</td>\n      <td>NaN</td>\n      <td>NaN</td>\n      <td>NaN</td>\n      <td>NaN</td>\n      <td>NaN</td>\n      <td>NaN</td>\n    </tr>\n    <tr>\n      <th>1</th>\n      <td>Alexis Sánchez</td>\n      <td>Arsenal</td>\n      <td>34</td>\n      <td>M(CLR),FW</td>\n      <td>35</td>\n      <td>2953.0</td>\n      <td>1.971429</td>\n      <td>1.171429</td>\n      <td>1.257143</td>\n      <td>0.0</td>\n      <td>...</td>\n      <td>defensive</td>\n      <td>NaN</td>\n      <td>NaN</td>\n      <td>NaN</td>\n      <td>NaN</td>\n      <td>NaN</td>\n      <td>NaN</td>\n      <td>NaN</td>\n      <td>NaN</td>\n      <td>NaN</td>\n    </tr>\n    <tr>\n      <th>2</th>\n      <td>Sergio Agüero</td>\n      <td>Man City</td>\n      <td>35</td>\n      <td>AM(CL),FW</td>\n      <td>33</td>\n      <td>2540.0</td>\n      <td>0.666667</td>\n      <td>0.393939</td>\n      <td>0.545455</td>\n      <td>0.0</td>\n      <td>...</td>\n      <td>defensive</td>\n      <td>NaN</td>\n      <td>NaN</td>\n      <td>NaN</td>\n      <td>NaN</td>\n      <td>NaN</td>\n      <td>NaN</td>\n      <td>NaN</td>\n      <td>NaN</td>\n      <td>NaN</td>\n    </tr>\n    <tr>\n      <th>3</th>\n      <td>Cesc Fàbregas</td>\n      <td>Chelsea</td>\n      <td>36</td>\n      <td>M(CL),FW</td>\n      <td>34</td>\n      <td>2890.0</td>\n      <td>2.588235</td>\n      <td>0.676471</td>\n      <td>0.882353</td>\n      <td>0.0</td>\n      <td>...</td>\n      <td>defensive</td>\n      <td>NaN</td>\n      <td>NaN</td>\n      <td>NaN</td>\n      <td>NaN</td>\n      <td>NaN</td>\n      <td>NaN</td>\n      <td>NaN</td>\n      <td>NaN</td>\n      <td>NaN</td>\n    </tr>\n    <tr>\n      <th>4</th>\n      <td>Santi Cazorla</td>\n      <td>Arsenal</td>\n      <td>38</td>\n      <td>M(CLR)</td>\n      <td>37</td>\n      <td>2992.0</td>\n      <td>1.594595</td>\n      <td>1.081081</td>\n      <td>0.540541</td>\n      <td>0.0</td>\n      <td>...</td>\n      <td>defensive</td>\n      <td>NaN</td>\n      <td>NaN</td>\n      <td>NaN</td>\n      <td>NaN</td>\n      <td>NaN</td>\n      <td>NaN</td>\n      <td>NaN</td>\n      <td>NaN</td>\n      <td>NaN</td>\n    </tr>\n  </tbody>\n</table>\n<p>5 rows × 25 columns</p>\n</div>"
     },
     "execution_count": 6,
     "metadata": {},
     "output_type": "execute_result"
    }
   ],
   "source": [
    "stats_df.head()"
   ],
   "metadata": {
    "collapsed": false,
    "pycharm": {
     "name": "#%%\n"
    }
   }
  },
  {
   "cell_type": "code",
   "execution_count": 18,
   "outputs": [
    {
     "data": {
      "text/plain": "               Age         Apps         Mins        Goals      Assists  \\\ncount  8961.000000  8961.000000  4860.000000  4860.000000  4860.000000   \nmean     30.798014    20.560317  1391.730864     1.862346     1.320370   \nstd       5.034196    11.411576  1042.052595     3.442854     2.149495   \nmin      16.000000     1.000000     1.000000     0.000000     0.000000   \n25%      27.000000    11.000000   407.000000     0.000000     0.000000   \n50%      31.000000    22.000000  1283.000000     0.000000     0.000000   \n75%      34.000000    31.000000  2251.000000     2.000000     2.000000   \nmax      50.000000    38.000000  3450.000000    36.000000    20.000000   \n\n               SpG         KeyP          Drb       Fouled          Off  ...  \\\ncount  4860.000000  4860.000000  8961.000000  4860.000000  4860.000000  ...   \nmean      0.741368     0.544959     0.617364     0.634389     0.110539  ...   \nstd       0.713222     0.538110     0.556222     0.516100     0.197584  ...   \nmin       0.000000     0.000000     0.000000     0.000000     0.000000  ...   \n25%       0.222222     0.125000     0.210526     0.250000     0.000000  ...   \n50%       0.558824     0.419355     0.500000     0.538462     0.027778  ...   \n75%       1.047619     0.808150     0.885714     0.925926     0.130435  ...   \nmax       4.972973     4.171429     5.666667     4.638889     1.500000  ...   \n\n            UnsTch       Rating          Min      Tackles        Inter  \\\ncount  4860.000000  8961.000000  4860.000000  4860.000000  4860.000000   \nmean      0.860415     6.653255  1391.730864     1.102146     0.758072   \nstd       0.710808     0.358268  1042.052595     0.849951     0.706444   \nmin       0.000000     4.950000     1.000000     0.000000     0.000000   \n25%       0.303030     6.400000   407.000000     0.436821     0.157895   \n50%       0.742396     6.650000  1283.000000     1.000000     0.600000   \n75%       1.259259     6.886429  2251.000000     1.625000     1.176471   \nmax       4.384615     8.340000  3450.000000     7.000000     4.500000   \n\n             Fouls     Offsides        Clear       Blocks         year  \ncount  4860.000000  4860.000000  4860.000000  4860.000000  8961.000000  \nmean      0.684193     0.121441     1.483150     0.217428  2017.991184  \nstd       0.472695     0.228232     1.747162     0.294064     2.609527  \nmin       0.000000     0.000000     0.000000     0.000000  2014.000000  \n25%       0.349457     0.000000     0.299324     0.000000  2016.000000  \n50%       0.666667     0.000000     0.814815     0.100000  2018.000000  \n75%       1.000000     0.142857     2.000000     0.321429  2020.000000  \nmax       4.000000     2.000000    13.000000     2.052632  2022.000000  \n\n[8 rows x 21 columns]",
      "text/html": "<div>\n<style scoped>\n    .dataframe tbody tr th:only-of-type {\n        vertical-align: middle;\n    }\n\n    .dataframe tbody tr th {\n        vertical-align: top;\n    }\n\n    .dataframe thead th {\n        text-align: right;\n    }\n</style>\n<table border=\"1\" class=\"dataframe\">\n  <thead>\n    <tr style=\"text-align: right;\">\n      <th></th>\n      <th>Age</th>\n      <th>Apps</th>\n      <th>Mins</th>\n      <th>Goals</th>\n      <th>Assists</th>\n      <th>SpG</th>\n      <th>KeyP</th>\n      <th>Drb</th>\n      <th>Fouled</th>\n      <th>Off</th>\n      <th>...</th>\n      <th>UnsTch</th>\n      <th>Rating</th>\n      <th>Min</th>\n      <th>Tackles</th>\n      <th>Inter</th>\n      <th>Fouls</th>\n      <th>Offsides</th>\n      <th>Clear</th>\n      <th>Blocks</th>\n      <th>year</th>\n    </tr>\n  </thead>\n  <tbody>\n    <tr>\n      <th>count</th>\n      <td>8961.000000</td>\n      <td>8961.000000</td>\n      <td>4860.000000</td>\n      <td>4860.000000</td>\n      <td>4860.000000</td>\n      <td>4860.000000</td>\n      <td>4860.000000</td>\n      <td>8961.000000</td>\n      <td>4860.000000</td>\n      <td>4860.000000</td>\n      <td>...</td>\n      <td>4860.000000</td>\n      <td>8961.000000</td>\n      <td>4860.000000</td>\n      <td>4860.000000</td>\n      <td>4860.000000</td>\n      <td>4860.000000</td>\n      <td>4860.000000</td>\n      <td>4860.000000</td>\n      <td>4860.000000</td>\n      <td>8961.000000</td>\n    </tr>\n    <tr>\n      <th>mean</th>\n      <td>30.798014</td>\n      <td>20.560317</td>\n      <td>1391.730864</td>\n      <td>1.862346</td>\n      <td>1.320370</td>\n      <td>0.741368</td>\n      <td>0.544959</td>\n      <td>0.617364</td>\n      <td>0.634389</td>\n      <td>0.110539</td>\n      <td>...</td>\n      <td>0.860415</td>\n      <td>6.653255</td>\n      <td>1391.730864</td>\n      <td>1.102146</td>\n      <td>0.758072</td>\n      <td>0.684193</td>\n      <td>0.121441</td>\n      <td>1.483150</td>\n      <td>0.217428</td>\n      <td>2017.991184</td>\n    </tr>\n    <tr>\n      <th>std</th>\n      <td>5.034196</td>\n      <td>11.411576</td>\n      <td>1042.052595</td>\n      <td>3.442854</td>\n      <td>2.149495</td>\n      <td>0.713222</td>\n      <td>0.538110</td>\n      <td>0.556222</td>\n      <td>0.516100</td>\n      <td>0.197584</td>\n      <td>...</td>\n      <td>0.710808</td>\n      <td>0.358268</td>\n      <td>1042.052595</td>\n      <td>0.849951</td>\n      <td>0.706444</td>\n      <td>0.472695</td>\n      <td>0.228232</td>\n      <td>1.747162</td>\n      <td>0.294064</td>\n      <td>2.609527</td>\n    </tr>\n    <tr>\n      <th>min</th>\n      <td>16.000000</td>\n      <td>1.000000</td>\n      <td>1.000000</td>\n      <td>0.000000</td>\n      <td>0.000000</td>\n      <td>0.000000</td>\n      <td>0.000000</td>\n      <td>0.000000</td>\n      <td>0.000000</td>\n      <td>0.000000</td>\n      <td>...</td>\n      <td>0.000000</td>\n      <td>4.950000</td>\n      <td>1.000000</td>\n      <td>0.000000</td>\n      <td>0.000000</td>\n      <td>0.000000</td>\n      <td>0.000000</td>\n      <td>0.000000</td>\n      <td>0.000000</td>\n      <td>2014.000000</td>\n    </tr>\n    <tr>\n      <th>25%</th>\n      <td>27.000000</td>\n      <td>11.000000</td>\n      <td>407.000000</td>\n      <td>0.000000</td>\n      <td>0.000000</td>\n      <td>0.222222</td>\n      <td>0.125000</td>\n      <td>0.210526</td>\n      <td>0.250000</td>\n      <td>0.000000</td>\n      <td>...</td>\n      <td>0.303030</td>\n      <td>6.400000</td>\n      <td>407.000000</td>\n      <td>0.436821</td>\n      <td>0.157895</td>\n      <td>0.349457</td>\n      <td>0.000000</td>\n      <td>0.299324</td>\n      <td>0.000000</td>\n      <td>2016.000000</td>\n    </tr>\n    <tr>\n      <th>50%</th>\n      <td>31.000000</td>\n      <td>22.000000</td>\n      <td>1283.000000</td>\n      <td>0.000000</td>\n      <td>0.000000</td>\n      <td>0.558824</td>\n      <td>0.419355</td>\n      <td>0.500000</td>\n      <td>0.538462</td>\n      <td>0.027778</td>\n      <td>...</td>\n      <td>0.742396</td>\n      <td>6.650000</td>\n      <td>1283.000000</td>\n      <td>1.000000</td>\n      <td>0.600000</td>\n      <td>0.666667</td>\n      <td>0.000000</td>\n      <td>0.814815</td>\n      <td>0.100000</td>\n      <td>2018.000000</td>\n    </tr>\n    <tr>\n      <th>75%</th>\n      <td>34.000000</td>\n      <td>31.000000</td>\n      <td>2251.000000</td>\n      <td>2.000000</td>\n      <td>2.000000</td>\n      <td>1.047619</td>\n      <td>0.808150</td>\n      <td>0.885714</td>\n      <td>0.925926</td>\n      <td>0.130435</td>\n      <td>...</td>\n      <td>1.259259</td>\n      <td>6.886429</td>\n      <td>2251.000000</td>\n      <td>1.625000</td>\n      <td>1.176471</td>\n      <td>1.000000</td>\n      <td>0.142857</td>\n      <td>2.000000</td>\n      <td>0.321429</td>\n      <td>2020.000000</td>\n    </tr>\n    <tr>\n      <th>max</th>\n      <td>50.000000</td>\n      <td>38.000000</td>\n      <td>3450.000000</td>\n      <td>36.000000</td>\n      <td>20.000000</td>\n      <td>4.972973</td>\n      <td>4.171429</td>\n      <td>5.666667</td>\n      <td>4.638889</td>\n      <td>1.500000</td>\n      <td>...</td>\n      <td>4.384615</td>\n      <td>8.340000</td>\n      <td>3450.000000</td>\n      <td>7.000000</td>\n      <td>4.500000</td>\n      <td>4.000000</td>\n      <td>2.000000</td>\n      <td>13.000000</td>\n      <td>2.052632</td>\n      <td>2022.000000</td>\n    </tr>\n  </tbody>\n</table>\n<p>8 rows × 21 columns</p>\n</div>"
     },
     "execution_count": 18,
     "metadata": {},
     "output_type": "execute_result"
    }
   ],
   "source": [
    "stats_df.describe()"
   ],
   "metadata": {
    "collapsed": false,
    "pycharm": {
     "name": "#%%\n"
    }
   }
  },
  {
   "cell_type": "code",
   "execution_count": 19,
   "outputs": [
    {
     "data": {
      "text/plain": "Name        0.00000\nTeam        0.00000\nAge         0.00000\nPosition    0.00000\nApps        0.00000\nMins        0.45765\nGoals       0.45765\nAssists     0.45765\nSpG         0.45765\nKeyP        0.45765\nDrb         0.00000\nFouled      0.45765\nOff         0.45765\nDisp        0.45765\nUnsTch      0.45765\nRating      0.00000\nMin         0.45765\nTackles     0.45765\nInter       0.45765\nFouls       0.45765\nOffsides    0.45765\nClear       0.45765\nBlocks      0.45765\nyear        0.00000\ndtype: float64"
     },
     "execution_count": 19,
     "metadata": {},
     "output_type": "execute_result"
    }
   ],
   "source": [
    "stats_df.isnull().mean()"
   ],
   "metadata": {
    "collapsed": false,
    "pycharm": {
     "name": "#%%\n"
    }
   }
  },
  {
   "cell_type": "code",
   "execution_count": 26,
   "outputs": [
    {
     "data": {
      "text/plain": "               Name               Team  Age   Position  Apps    Mins  Goals  \\\n0       Eden Hazard            Chelsea   32  M(CLR),FW    38  3379.0   14.0   \n1    Alexis Sánchez            Arsenal   34  M(CLR),FW    35  2953.0   16.0   \n2     Sergio Agüero           Man City   35  AM(CL),FW    33  2540.0   26.0   \n3     Cesc Fàbregas            Chelsea   36   M(CL),FW    34  2890.0    3.0   \n4     Santi Cazorla            Arsenal   38     M(CLR)    37  2992.0    7.0   \n..              ...                ...  ...        ...   ...     ...    ...   \n551  Cameron Archer        Aston Villa   21         FW     6    44.0    0.0   \n552   Alex McCarthy        Southampton   33         GK     6   540.0    0.0   \n556  Odeluga Offiah           Brighton   20   Defender     2    23.0    0.0   \n558    Alex Mighten  Nottingham Forest   21      AM(L)     1     7.0    0.0   \n567     Shane Duffy             Fulham   31       D(C)     5    17.0    0.0   \n\n     Assists       SpG      KeyP  ...    UnsTch    Rating  Min  Tackles  \\\n0        9.0  2.052632  2.631579  ...  2.105263  7.956842  NaN      NaN   \n1        8.0  3.485714  2.342857  ...  2.114286  7.810857  NaN      NaN   \n2        8.0  4.484848  1.000000  ...  1.939394  7.671515  NaN      NaN   \n3       18.0  1.264706  2.794118  ...  1.000000  7.618529  NaN      NaN   \n4       11.0  2.513514  2.108108  ...  1.000000  7.599459  NaN      NaN   \n..       ...       ...       ...  ...       ...       ...  ...      ...   \n551      0.0  0.000000  0.000000  ...  0.333333  5.985000  NaN      NaN   \n552      0.0  0.000000  0.000000  ...  0.000000  5.985000  NaN      NaN   \n556      0.0  0.000000  0.000000  ...  0.500000  5.975000  NaN      NaN   \n558      0.0  0.000000  0.000000  ...  0.000000  5.950000  NaN      NaN   \n567      0.0  0.200000  0.000000  ...  0.200000  5.786000  NaN      NaN   \n\n     Inter  Fouls  Offsides  Clear  Blocks  year  \n0      NaN    NaN       NaN    NaN     NaN  2014  \n1      NaN    NaN       NaN    NaN     NaN  2014  \n2      NaN    NaN       NaN    NaN     NaN  2014  \n3      NaN    NaN       NaN    NaN     NaN  2014  \n4      NaN    NaN       NaN    NaN     NaN  2014  \n..     ...    ...       ...    ...     ...   ...  \n551    NaN    NaN       NaN    NaN     NaN  2022  \n552    NaN    NaN       NaN    NaN     NaN  2022  \n556    NaN    NaN       NaN    NaN     NaN  2022  \n558    NaN    NaN       NaN    NaN     NaN  2022  \n567    NaN    NaN       NaN    NaN     NaN  2022  \n\n[4101 rows x 24 columns]",
      "text/html": "<div>\n<style scoped>\n    .dataframe tbody tr th:only-of-type {\n        vertical-align: middle;\n    }\n\n    .dataframe tbody tr th {\n        vertical-align: top;\n    }\n\n    .dataframe thead th {\n        text-align: right;\n    }\n</style>\n<table border=\"1\" class=\"dataframe\">\n  <thead>\n    <tr style=\"text-align: right;\">\n      <th></th>\n      <th>Name</th>\n      <th>Team</th>\n      <th>Age</th>\n      <th>Position</th>\n      <th>Apps</th>\n      <th>Mins</th>\n      <th>Goals</th>\n      <th>Assists</th>\n      <th>SpG</th>\n      <th>KeyP</th>\n      <th>...</th>\n      <th>UnsTch</th>\n      <th>Rating</th>\n      <th>Min</th>\n      <th>Tackles</th>\n      <th>Inter</th>\n      <th>Fouls</th>\n      <th>Offsides</th>\n      <th>Clear</th>\n      <th>Blocks</th>\n      <th>year</th>\n    </tr>\n  </thead>\n  <tbody>\n    <tr>\n      <th>0</th>\n      <td>Eden Hazard</td>\n      <td>Chelsea</td>\n      <td>32</td>\n      <td>M(CLR),FW</td>\n      <td>38</td>\n      <td>3379.0</td>\n      <td>14.0</td>\n      <td>9.0</td>\n      <td>2.052632</td>\n      <td>2.631579</td>\n      <td>...</td>\n      <td>2.105263</td>\n      <td>7.956842</td>\n      <td>NaN</td>\n      <td>NaN</td>\n      <td>NaN</td>\n      <td>NaN</td>\n      <td>NaN</td>\n      <td>NaN</td>\n      <td>NaN</td>\n      <td>2014</td>\n    </tr>\n    <tr>\n      <th>1</th>\n      <td>Alexis Sánchez</td>\n      <td>Arsenal</td>\n      <td>34</td>\n      <td>M(CLR),FW</td>\n      <td>35</td>\n      <td>2953.0</td>\n      <td>16.0</td>\n      <td>8.0</td>\n      <td>3.485714</td>\n      <td>2.342857</td>\n      <td>...</td>\n      <td>2.114286</td>\n      <td>7.810857</td>\n      <td>NaN</td>\n      <td>NaN</td>\n      <td>NaN</td>\n      <td>NaN</td>\n      <td>NaN</td>\n      <td>NaN</td>\n      <td>NaN</td>\n      <td>2014</td>\n    </tr>\n    <tr>\n      <th>2</th>\n      <td>Sergio Agüero</td>\n      <td>Man City</td>\n      <td>35</td>\n      <td>AM(CL),FW</td>\n      <td>33</td>\n      <td>2540.0</td>\n      <td>26.0</td>\n      <td>8.0</td>\n      <td>4.484848</td>\n      <td>1.000000</td>\n      <td>...</td>\n      <td>1.939394</td>\n      <td>7.671515</td>\n      <td>NaN</td>\n      <td>NaN</td>\n      <td>NaN</td>\n      <td>NaN</td>\n      <td>NaN</td>\n      <td>NaN</td>\n      <td>NaN</td>\n      <td>2014</td>\n    </tr>\n    <tr>\n      <th>3</th>\n      <td>Cesc Fàbregas</td>\n      <td>Chelsea</td>\n      <td>36</td>\n      <td>M(CL),FW</td>\n      <td>34</td>\n      <td>2890.0</td>\n      <td>3.0</td>\n      <td>18.0</td>\n      <td>1.264706</td>\n      <td>2.794118</td>\n      <td>...</td>\n      <td>1.000000</td>\n      <td>7.618529</td>\n      <td>NaN</td>\n      <td>NaN</td>\n      <td>NaN</td>\n      <td>NaN</td>\n      <td>NaN</td>\n      <td>NaN</td>\n      <td>NaN</td>\n      <td>2014</td>\n    </tr>\n    <tr>\n      <th>4</th>\n      <td>Santi Cazorla</td>\n      <td>Arsenal</td>\n      <td>38</td>\n      <td>M(CLR)</td>\n      <td>37</td>\n      <td>2992.0</td>\n      <td>7.0</td>\n      <td>11.0</td>\n      <td>2.513514</td>\n      <td>2.108108</td>\n      <td>...</td>\n      <td>1.000000</td>\n      <td>7.599459</td>\n      <td>NaN</td>\n      <td>NaN</td>\n      <td>NaN</td>\n      <td>NaN</td>\n      <td>NaN</td>\n      <td>NaN</td>\n      <td>NaN</td>\n      <td>2014</td>\n    </tr>\n    <tr>\n      <th>...</th>\n      <td>...</td>\n      <td>...</td>\n      <td>...</td>\n      <td>...</td>\n      <td>...</td>\n      <td>...</td>\n      <td>...</td>\n      <td>...</td>\n      <td>...</td>\n      <td>...</td>\n      <td>...</td>\n      <td>...</td>\n      <td>...</td>\n      <td>...</td>\n      <td>...</td>\n      <td>...</td>\n      <td>...</td>\n      <td>...</td>\n      <td>...</td>\n      <td>...</td>\n      <td>...</td>\n    </tr>\n    <tr>\n      <th>551</th>\n      <td>Cameron Archer</td>\n      <td>Aston Villa</td>\n      <td>21</td>\n      <td>FW</td>\n      <td>6</td>\n      <td>44.0</td>\n      <td>0.0</td>\n      <td>0.0</td>\n      <td>0.000000</td>\n      <td>0.000000</td>\n      <td>...</td>\n      <td>0.333333</td>\n      <td>5.985000</td>\n      <td>NaN</td>\n      <td>NaN</td>\n      <td>NaN</td>\n      <td>NaN</td>\n      <td>NaN</td>\n      <td>NaN</td>\n      <td>NaN</td>\n      <td>2022</td>\n    </tr>\n    <tr>\n      <th>552</th>\n      <td>Alex McCarthy</td>\n      <td>Southampton</td>\n      <td>33</td>\n      <td>GK</td>\n      <td>6</td>\n      <td>540.0</td>\n      <td>0.0</td>\n      <td>0.0</td>\n      <td>0.000000</td>\n      <td>0.000000</td>\n      <td>...</td>\n      <td>0.000000</td>\n      <td>5.985000</td>\n      <td>NaN</td>\n      <td>NaN</td>\n      <td>NaN</td>\n      <td>NaN</td>\n      <td>NaN</td>\n      <td>NaN</td>\n      <td>NaN</td>\n      <td>2022</td>\n    </tr>\n    <tr>\n      <th>556</th>\n      <td>Odeluga Offiah</td>\n      <td>Brighton</td>\n      <td>20</td>\n      <td>Defender</td>\n      <td>2</td>\n      <td>23.0</td>\n      <td>0.0</td>\n      <td>0.0</td>\n      <td>0.000000</td>\n      <td>0.000000</td>\n      <td>...</td>\n      <td>0.500000</td>\n      <td>5.975000</td>\n      <td>NaN</td>\n      <td>NaN</td>\n      <td>NaN</td>\n      <td>NaN</td>\n      <td>NaN</td>\n      <td>NaN</td>\n      <td>NaN</td>\n      <td>2022</td>\n    </tr>\n    <tr>\n      <th>558</th>\n      <td>Alex Mighten</td>\n      <td>Nottingham Forest</td>\n      <td>21</td>\n      <td>AM(L)</td>\n      <td>1</td>\n      <td>7.0</td>\n      <td>0.0</td>\n      <td>0.0</td>\n      <td>0.000000</td>\n      <td>0.000000</td>\n      <td>...</td>\n      <td>0.000000</td>\n      <td>5.950000</td>\n      <td>NaN</td>\n      <td>NaN</td>\n      <td>NaN</td>\n      <td>NaN</td>\n      <td>NaN</td>\n      <td>NaN</td>\n      <td>NaN</td>\n      <td>2022</td>\n    </tr>\n    <tr>\n      <th>567</th>\n      <td>Shane Duffy</td>\n      <td>Fulham</td>\n      <td>31</td>\n      <td>D(C)</td>\n      <td>5</td>\n      <td>17.0</td>\n      <td>0.0</td>\n      <td>0.0</td>\n      <td>0.200000</td>\n      <td>0.000000</td>\n      <td>...</td>\n      <td>0.200000</td>\n      <td>5.786000</td>\n      <td>NaN</td>\n      <td>NaN</td>\n      <td>NaN</td>\n      <td>NaN</td>\n      <td>NaN</td>\n      <td>NaN</td>\n      <td>NaN</td>\n      <td>2022</td>\n    </tr>\n  </tbody>\n</table>\n<p>4101 rows × 24 columns</p>\n</div>"
     },
     "execution_count": 26,
     "metadata": {},
     "output_type": "execute_result"
    }
   ],
   "source": [
    "def is_na(t):\n",
    "    try:\n",
    "        return np.isnan(t)\n",
    "    except:\n",
    "        return False\n",
    "stats_df[stats_df['Tackles'].apply(is_na)]"
   ],
   "metadata": {
    "collapsed": false,
    "pycharm": {
     "name": "#%%\n"
    }
   }
  },
  {
   "cell_type": "code",
   "execution_count": null,
   "outputs": [],
   "source": [],
   "metadata": {
    "collapsed": false,
    "pycharm": {
     "name": "#%%\n"
    }
   }
  },
  {
   "cell_type": "code",
   "execution_count": null,
   "outputs": [],
   "source": [],
   "metadata": {
    "collapsed": false,
    "pycharm": {
     "name": "#%%\n"
    }
   }
  }
 ],
 "metadata": {
  "kernelspec": {
   "display_name": "Python 3",
   "language": "python",
   "name": "python3"
  },
  "language_info": {
   "codemirror_mode": {
    "name": "ipython",
    "version": 2
   },
   "file_extension": ".py",
   "mimetype": "text/x-python",
   "name": "python",
   "nbconvert_exporter": "python",
   "pygments_lexer": "ipython2",
   "version": "2.7.6"
  }
 },
 "nbformat": 4,
 "nbformat_minor": 0
}