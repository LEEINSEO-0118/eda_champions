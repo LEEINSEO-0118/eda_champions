{
 "cells": [
  {
   "cell_type": "code",
   "execution_count": 16,
   "metadata": {
    "collapsed": true
   },
   "outputs": [],
   "source": [
    "import pandas as pd\n",
    "import numpy as np\n",
    "import seaborn as sns\n",
    "import matplotlib.pyplot as plt"
   ]
  },
  {
   "cell_type": "code",
   "execution_count": 17,
   "outputs": [],
   "source": [
    "path = '../data/origin/salary/Weekly Salary_{}_edited.csv'"
   ],
   "metadata": {
    "collapsed": false,
    "pycharm": {
     "name": "#%%\n"
    }
   }
  },
  {
   "cell_type": "code",
   "execution_count": 18,
   "outputs": [
    {
     "name": "stdout",
     "output_type": "stream",
     "text": [
      "<class 'pandas.core.frame.DataFrame'>\n",
      "Index: 4803 entries, 0 to 562\n",
      "Data columns (total 6 columns):\n",
      " #   Column         Non-Null Count  Dtype  \n",
      "---  ------         --------------  -----  \n",
      " 0   Rank           1252 non-null   float64\n",
      " 1   Name           4803 non-null   object \n",
      " 2   Position       4803 non-null   object \n",
      " 3   Team           4803 non-null   object \n",
      " 4   Weekly Salary  4803 non-null   int64  \n",
      " 5   year           4803 non-null   int64  \n",
      "dtypes: float64(1), int64(2), object(3)\n",
      "memory usage: 262.7+ KB\n"
     ]
    }
   ],
   "source": [
    "start_year, end_year = 2014,2022\n",
    "salary_df = pd.DataFrame()\n",
    "for year in range(start_year, end_year+1):\n",
    "    data = pd.read_csv(path.format(year))\n",
    "    data['year'] = year\n",
    "    salary_df = pd.concat([salary_df, data])\n",
    "salary_df.info()"
   ],
   "metadata": {
    "collapsed": false,
    "pycharm": {
     "name": "#%%\n"
    }
   }
  },
  {
   "cell_type": "code",
   "execution_count": 19,
   "outputs": [
    {
     "data": {
      "text/plain": "   Rank             Name    Position  Team  Weekly Salary  year\n0   1.0  Fernando Torres     Forward   CFC         340362  2014\n1   2.0     Wayne Rooney     Forward  MUFC         300000  2014\n2   3.0    Sergio Aguero     Forward  MCFC         220000  2014\n3   NaN       Yaya Toure  Midfielder  MCFC         220000  2014\n4   5.0      Diego Costa     Forward   CFC         185000  2014",
      "text/html": "<div>\n<style scoped>\n    .dataframe tbody tr th:only-of-type {\n        vertical-align: middle;\n    }\n\n    .dataframe tbody tr th {\n        vertical-align: top;\n    }\n\n    .dataframe thead th {\n        text-align: right;\n    }\n</style>\n<table border=\"1\" class=\"dataframe\">\n  <thead>\n    <tr style=\"text-align: right;\">\n      <th></th>\n      <th>Rank</th>\n      <th>Name</th>\n      <th>Position</th>\n      <th>Team</th>\n      <th>Weekly Salary</th>\n      <th>year</th>\n    </tr>\n  </thead>\n  <tbody>\n    <tr>\n      <th>0</th>\n      <td>1.0</td>\n      <td>Fernando Torres</td>\n      <td>Forward</td>\n      <td>CFC</td>\n      <td>340362</td>\n      <td>2014</td>\n    </tr>\n    <tr>\n      <th>1</th>\n      <td>2.0</td>\n      <td>Wayne Rooney</td>\n      <td>Forward</td>\n      <td>MUFC</td>\n      <td>300000</td>\n      <td>2014</td>\n    </tr>\n    <tr>\n      <th>2</th>\n      <td>3.0</td>\n      <td>Sergio Aguero</td>\n      <td>Forward</td>\n      <td>MCFC</td>\n      <td>220000</td>\n      <td>2014</td>\n    </tr>\n    <tr>\n      <th>3</th>\n      <td>NaN</td>\n      <td>Yaya Toure</td>\n      <td>Midfielder</td>\n      <td>MCFC</td>\n      <td>220000</td>\n      <td>2014</td>\n    </tr>\n    <tr>\n      <th>4</th>\n      <td>5.0</td>\n      <td>Diego Costa</td>\n      <td>Forward</td>\n      <td>CFC</td>\n      <td>185000</td>\n      <td>2014</td>\n    </tr>\n  </tbody>\n</table>\n</div>"
     },
     "execution_count": 19,
     "metadata": {},
     "output_type": "execute_result"
    }
   ],
   "source": [
    "salary_df.head()"
   ],
   "metadata": {
    "collapsed": false,
    "pycharm": {
     "name": "#%%\n"
    }
   }
  },
  {
   "cell_type": "code",
   "execution_count": 20,
   "outputs": [
    {
     "data": {
      "text/plain": "              Rank  Weekly Salary         year\ncount  1252.000000    4803.000000  4803.000000\nmean    293.690096   50847.341245  2018.462419\nstd     200.082608   51130.436042     2.349686\nmin       1.000000     100.000000  2014.000000\n25%     105.000000   20000.000000  2017.000000\n50%     279.500000   35000.000000  2019.000000\n75%     484.000000   65000.000000  2020.000000\nmax     648.000000  600000.000000  2022.000000",
      "text/html": "<div>\n<style scoped>\n    .dataframe tbody tr th:only-of-type {\n        vertical-align: middle;\n    }\n\n    .dataframe tbody tr th {\n        vertical-align: top;\n    }\n\n    .dataframe thead th {\n        text-align: right;\n    }\n</style>\n<table border=\"1\" class=\"dataframe\">\n  <thead>\n    <tr style=\"text-align: right;\">\n      <th></th>\n      <th>Rank</th>\n      <th>Weekly Salary</th>\n      <th>year</th>\n    </tr>\n  </thead>\n  <tbody>\n    <tr>\n      <th>count</th>\n      <td>1252.000000</td>\n      <td>4803.000000</td>\n      <td>4803.000000</td>\n    </tr>\n    <tr>\n      <th>mean</th>\n      <td>293.690096</td>\n      <td>50847.341245</td>\n      <td>2018.462419</td>\n    </tr>\n    <tr>\n      <th>std</th>\n      <td>200.082608</td>\n      <td>51130.436042</td>\n      <td>2.349686</td>\n    </tr>\n    <tr>\n      <th>min</th>\n      <td>1.000000</td>\n      <td>100.000000</td>\n      <td>2014.000000</td>\n    </tr>\n    <tr>\n      <th>25%</th>\n      <td>105.000000</td>\n      <td>20000.000000</td>\n      <td>2017.000000</td>\n    </tr>\n    <tr>\n      <th>50%</th>\n      <td>279.500000</td>\n      <td>35000.000000</td>\n      <td>2019.000000</td>\n    </tr>\n    <tr>\n      <th>75%</th>\n      <td>484.000000</td>\n      <td>65000.000000</td>\n      <td>2020.000000</td>\n    </tr>\n    <tr>\n      <th>max</th>\n      <td>648.000000</td>\n      <td>600000.000000</td>\n      <td>2022.000000</td>\n    </tr>\n  </tbody>\n</table>\n</div>"
     },
     "execution_count": 20,
     "metadata": {},
     "output_type": "execute_result"
    }
   ],
   "source": [
    "salary_df.describe()"
   ],
   "metadata": {
    "collapsed": false,
    "pycharm": {
     "name": "#%%\n"
    }
   }
  },
  {
   "cell_type": "code",
   "execution_count": 21,
   "outputs": [
    {
     "data": {
      "text/plain": "Rank             0.73933\nName             0.00000\nPosition         0.00000\nTeam             0.00000\nWeekly Salary    0.00000\nyear             0.00000\ndtype: float64"
     },
     "execution_count": 21,
     "metadata": {},
     "output_type": "execute_result"
    }
   ],
   "source": [
    "salary_df.isnull().mean()"
   ],
   "metadata": {
    "collapsed": false,
    "pycharm": {
     "name": "#%%\n"
    }
   }
  },
  {
   "cell_type": "code",
   "execution_count": 22,
   "outputs": [
    {
     "data": {
      "text/plain": "Empty DataFrame\nColumns: [Rank, Name, Position, Team, Weekly Salary, year]\nIndex: []",
      "text/html": "<div>\n<style scoped>\n    .dataframe tbody tr th:only-of-type {\n        vertical-align: middle;\n    }\n\n    .dataframe tbody tr th {\n        vertical-align: top;\n    }\n\n    .dataframe thead th {\n        text-align: right;\n    }\n</style>\n<table border=\"1\" class=\"dataframe\">\n  <thead>\n    <tr style=\"text-align: right;\">\n      <th></th>\n      <th>Rank</th>\n      <th>Name</th>\n      <th>Position</th>\n      <th>Team</th>\n      <th>Weekly Salary</th>\n      <th>year</th>\n    </tr>\n  </thead>\n  <tbody>\n  </tbody>\n</table>\n</div>"
     },
     "execution_count": 22,
     "metadata": {},
     "output_type": "execute_result"
    }
   ],
   "source": [
    "salary_df[salary_df[['Position']].isnull().any(axis=1)]"
   ],
   "metadata": {
    "collapsed": false,
    "pycharm": {
     "name": "#%%\n"
    }
   }
  },
  {
   "cell_type": "code",
   "execution_count": 23,
   "outputs": [],
   "source": [
    "salary_df['Name'] = salary_df['Name'].apply(lambda n: n.strip())"
   ],
   "metadata": {
    "collapsed": false,
    "pycharm": {
     "name": "#%%\n"
    }
   }
  },
  {
   "cell_type": "code",
   "execution_count": 24,
   "outputs": [
    {
     "data": {
      "text/plain": "     Rank          Name Position Team  Weekly Salary  year\n29    NaN  Theo Walcott  Forward  AFC         100000  2014\n20    NaN  Theo Walcott  Forward  AFC         140000  2015\n20    NaN  Theo Walcott  Forward  AFC         140000  2016\n195   NaN  Theo Walcott  Forward  EFC          50000  2017\n72    NaN  Theo Walcott  Forward  EFC         100000  2018\n73    NaN  Theo Walcott  Forward  EFC         100000  2019\n137   NaN  Theo Walcott  Forward  SFC          75000  2021\n172   NaN  Theo Walcott  Forward  SFC          75000  2022",
      "text/html": "<div>\n<style scoped>\n    .dataframe tbody tr th:only-of-type {\n        vertical-align: middle;\n    }\n\n    .dataframe tbody tr th {\n        vertical-align: top;\n    }\n\n    .dataframe thead th {\n        text-align: right;\n    }\n</style>\n<table border=\"1\" class=\"dataframe\">\n  <thead>\n    <tr style=\"text-align: right;\">\n      <th></th>\n      <th>Rank</th>\n      <th>Name</th>\n      <th>Position</th>\n      <th>Team</th>\n      <th>Weekly Salary</th>\n      <th>year</th>\n    </tr>\n  </thead>\n  <tbody>\n    <tr>\n      <th>29</th>\n      <td>NaN</td>\n      <td>Theo Walcott</td>\n      <td>Forward</td>\n      <td>AFC</td>\n      <td>100000</td>\n      <td>2014</td>\n    </tr>\n    <tr>\n      <th>20</th>\n      <td>NaN</td>\n      <td>Theo Walcott</td>\n      <td>Forward</td>\n      <td>AFC</td>\n      <td>140000</td>\n      <td>2015</td>\n    </tr>\n    <tr>\n      <th>20</th>\n      <td>NaN</td>\n      <td>Theo Walcott</td>\n      <td>Forward</td>\n      <td>AFC</td>\n      <td>140000</td>\n      <td>2016</td>\n    </tr>\n    <tr>\n      <th>195</th>\n      <td>NaN</td>\n      <td>Theo Walcott</td>\n      <td>Forward</td>\n      <td>EFC</td>\n      <td>50000</td>\n      <td>2017</td>\n    </tr>\n    <tr>\n      <th>72</th>\n      <td>NaN</td>\n      <td>Theo Walcott</td>\n      <td>Forward</td>\n      <td>EFC</td>\n      <td>100000</td>\n      <td>2018</td>\n    </tr>\n    <tr>\n      <th>73</th>\n      <td>NaN</td>\n      <td>Theo Walcott</td>\n      <td>Forward</td>\n      <td>EFC</td>\n      <td>100000</td>\n      <td>2019</td>\n    </tr>\n    <tr>\n      <th>137</th>\n      <td>NaN</td>\n      <td>Theo Walcott</td>\n      <td>Forward</td>\n      <td>SFC</td>\n      <td>75000</td>\n      <td>2021</td>\n    </tr>\n    <tr>\n      <th>172</th>\n      <td>NaN</td>\n      <td>Theo Walcott</td>\n      <td>Forward</td>\n      <td>SFC</td>\n      <td>75000</td>\n      <td>2022</td>\n    </tr>\n  </tbody>\n</table>\n</div>"
     },
     "execution_count": 24,
     "metadata": {},
     "output_type": "execute_result"
    }
   ],
   "source": [
    "salary_df[salary_df.Name=='Theo Walcott']"
   ],
   "metadata": {
    "collapsed": false,
    "pycharm": {
     "name": "#%%\n"
    }
   }
  },
  {
   "cell_type": "code",
   "execution_count": 25,
   "outputs": [
    {
     "data": {
      "text/plain": "   Rank             Name    Position  Team  Weekly Salary  year\n0   1.0  Fernando Torres     Forward   CFC         340362  2014\n1   2.0     Wayne Rooney     Forward  MUFC         300000  2014\n2   3.0    Sergio Aguero     Forward  MCFC         220000  2014\n3   NaN       Yaya Toure  Midfielder  MCFC         220000  2014\n4   5.0      Diego Costa     Forward   CFC         185000  2014",
      "text/html": "<div>\n<style scoped>\n    .dataframe tbody tr th:only-of-type {\n        vertical-align: middle;\n    }\n\n    .dataframe tbody tr th {\n        vertical-align: top;\n    }\n\n    .dataframe thead th {\n        text-align: right;\n    }\n</style>\n<table border=\"1\" class=\"dataframe\">\n  <thead>\n    <tr style=\"text-align: right;\">\n      <th></th>\n      <th>Rank</th>\n      <th>Name</th>\n      <th>Position</th>\n      <th>Team</th>\n      <th>Weekly Salary</th>\n      <th>year</th>\n    </tr>\n  </thead>\n  <tbody>\n    <tr>\n      <th>0</th>\n      <td>1.0</td>\n      <td>Fernando Torres</td>\n      <td>Forward</td>\n      <td>CFC</td>\n      <td>340362</td>\n      <td>2014</td>\n    </tr>\n    <tr>\n      <th>1</th>\n      <td>2.0</td>\n      <td>Wayne Rooney</td>\n      <td>Forward</td>\n      <td>MUFC</td>\n      <td>300000</td>\n      <td>2014</td>\n    </tr>\n    <tr>\n      <th>2</th>\n      <td>3.0</td>\n      <td>Sergio Aguero</td>\n      <td>Forward</td>\n      <td>MCFC</td>\n      <td>220000</td>\n      <td>2014</td>\n    </tr>\n    <tr>\n      <th>3</th>\n      <td>NaN</td>\n      <td>Yaya Toure</td>\n      <td>Midfielder</td>\n      <td>MCFC</td>\n      <td>220000</td>\n      <td>2014</td>\n    </tr>\n    <tr>\n      <th>4</th>\n      <td>5.0</td>\n      <td>Diego Costa</td>\n      <td>Forward</td>\n      <td>CFC</td>\n      <td>185000</td>\n      <td>2014</td>\n    </tr>\n  </tbody>\n</table>\n</div>"
     },
     "execution_count": 25,
     "metadata": {},
     "output_type": "execute_result"
    }
   ],
   "source": [
    "salary_df.head()"
   ],
   "metadata": {
    "collapsed": false,
    "pycharm": {
     "name": "#%%\n"
    }
   }
  },
  {
   "cell_type": "code",
   "execution_count": 26,
   "outputs": [
    {
     "name": "stdout",
     "output_type": "stream",
     "text": [
      "<class 'pandas.core.frame.DataFrame'>\n",
      "Index: 4803 entries, 0 to 562\n",
      "Data columns (total 6 columns):\n",
      " #   Column         Non-Null Count  Dtype  \n",
      "---  ------         --------------  -----  \n",
      " 0   Rank           4803 non-null   float64\n",
      " 1   Name           4803 non-null   object \n",
      " 2   Position       4803 non-null   object \n",
      " 3   Team           4803 non-null   object \n",
      " 4   Weekly Salary  4803 non-null   int64  \n",
      " 5   year           4803 non-null   int64  \n",
      "dtypes: float64(1), int64(2), object(3)\n",
      "memory usage: 262.7+ KB\n"
     ]
    }
   ],
   "source": [
    "salary_df = salary_df.fillna(method='ffill')\n",
    "salary_df.info()"
   ],
   "metadata": {
    "collapsed": false,
    "pycharm": {
     "name": "#%%\n"
    }
   }
  },
  {
   "cell_type": "code",
   "execution_count": 27,
   "outputs": [],
   "source": [
    "salary_df.to_csv('../data/new/salary_all.csv', index=False)"
   ],
   "metadata": {
    "collapsed": false,
    "pycharm": {
     "name": "#%%\n"
    }
   }
  }
 ],
 "metadata": {
  "kernelspec": {
   "display_name": "Python 3",
   "language": "python",
   "name": "python3"
  },
  "language_info": {
   "codemirror_mode": {
    "name": "ipython",
    "version": 2
   },
   "file_extension": ".py",
   "mimetype": "text/x-python",
   "name": "python",
   "nbconvert_exporter": "python",
   "pygments_lexer": "ipython2",
   "version": "2.7.6"
  }
 },
 "nbformat": 4,
 "nbformat_minor": 0
}