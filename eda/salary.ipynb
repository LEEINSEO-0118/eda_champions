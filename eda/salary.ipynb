{
 "cells": [
  {
   "cell_type": "code",
   "execution_count": 2,
   "metadata": {
    "collapsed": true
   },
   "outputs": [],
   "source": [
    "import pandas as pd\n",
    "import numpy as np\n",
    "import seaborn as sns\n",
    "import matplotlib.pyplot as plt"
   ]
  },
  {
   "cell_type": "code",
   "execution_count": 3,
   "outputs": [],
   "source": [
    "path = '../data/salary/salary_{}.csv'"
   ],
   "metadata": {
    "collapsed": false,
    "pycharm": {
     "name": "#%%\n"
    }
   }
  },
  {
   "cell_type": "code",
   "execution_count": 5,
   "outputs": [
    {
     "name": "stdout",
     "output_type": "stream",
     "text": [
      "<class 'pandas.core.frame.DataFrame'>\n",
      "Index: 4803 entries, 0 to 562\n",
      "Data columns (total 8 columns):\n",
      " #   Column         Non-Null Count  Dtype  \n",
      "---  ------         --------------  -----  \n",
      " 0   Rank           1252 non-null   float64\n",
      " 1   Name           4803 non-null   object \n",
      " 2   Position       4799 non-null   object \n",
      " 3   Team           4803 non-null   object \n",
      " 4   Salary         4803 non-null   object \n",
      " 5   Transfer Fee   0 non-null      float64\n",
      " 6   Signing Bonus  0 non-null      float64\n",
      " 7   year           4803 non-null   int64  \n",
      "dtypes: float64(3), int64(1), object(4)\n",
      "memory usage: 337.7+ KB\n"
     ]
    }
   ],
   "source": [
    "start_year, end_year = 2014,2022\n",
    "salary_df = pd.DataFrame()\n",
    "for year in range(start_year, end_year+1):\n",
    "    data = pd.read_csv(path.format(year))\n",
    "    data['year'] = year\n",
    "    salary_df = pd.concat([salary_df, data])\n",
    "salary_df.info()"
   ],
   "metadata": {
    "collapsed": false,
    "pycharm": {
     "name": "#%%\n"
    }
   }
  },
  {
   "cell_type": "code",
   "execution_count": 6,
   "outputs": [
    {
     "data": {
      "text/plain": "   Rank              Name    Position  Team    Salary  Transfer Fee  \\\n0   1.0  Fernando Torres      Forward   CFC  £340,362           NaN   \n1   2.0     Wayne Rooney      Forward  MUFC  £300,000           NaN   \n2   3.0    Sergio Aguero      Forward  MCFC  £220,000           NaN   \n3   NaN       Yaya Toure   Midfielder  MCFC  £220,000           NaN   \n4   5.0      Diego Costa      Forward   CFC  £185,000           NaN   \n\n   Signing Bonus  year  \n0            NaN  2014  \n1            NaN  2014  \n2            NaN  2014  \n3            NaN  2014  \n4            NaN  2014  ",
      "text/html": "<div>\n<style scoped>\n    .dataframe tbody tr th:only-of-type {\n        vertical-align: middle;\n    }\n\n    .dataframe tbody tr th {\n        vertical-align: top;\n    }\n\n    .dataframe thead th {\n        text-align: right;\n    }\n</style>\n<table border=\"1\" class=\"dataframe\">\n  <thead>\n    <tr style=\"text-align: right;\">\n      <th></th>\n      <th>Rank</th>\n      <th>Name</th>\n      <th>Position</th>\n      <th>Team</th>\n      <th>Salary</th>\n      <th>Transfer Fee</th>\n      <th>Signing Bonus</th>\n      <th>year</th>\n    </tr>\n  </thead>\n  <tbody>\n    <tr>\n      <th>0</th>\n      <td>1.0</td>\n      <td>Fernando Torres</td>\n      <td>Forward</td>\n      <td>CFC</td>\n      <td>£340,362</td>\n      <td>NaN</td>\n      <td>NaN</td>\n      <td>2014</td>\n    </tr>\n    <tr>\n      <th>1</th>\n      <td>2.0</td>\n      <td>Wayne Rooney</td>\n      <td>Forward</td>\n      <td>MUFC</td>\n      <td>£300,000</td>\n      <td>NaN</td>\n      <td>NaN</td>\n      <td>2014</td>\n    </tr>\n    <tr>\n      <th>2</th>\n      <td>3.0</td>\n      <td>Sergio Aguero</td>\n      <td>Forward</td>\n      <td>MCFC</td>\n      <td>£220,000</td>\n      <td>NaN</td>\n      <td>NaN</td>\n      <td>2014</td>\n    </tr>\n    <tr>\n      <th>3</th>\n      <td>NaN</td>\n      <td>Yaya Toure</td>\n      <td>Midfielder</td>\n      <td>MCFC</td>\n      <td>£220,000</td>\n      <td>NaN</td>\n      <td>NaN</td>\n      <td>2014</td>\n    </tr>\n    <tr>\n      <th>4</th>\n      <td>5.0</td>\n      <td>Diego Costa</td>\n      <td>Forward</td>\n      <td>CFC</td>\n      <td>£185,000</td>\n      <td>NaN</td>\n      <td>NaN</td>\n      <td>2014</td>\n    </tr>\n  </tbody>\n</table>\n</div>"
     },
     "execution_count": 6,
     "metadata": {},
     "output_type": "execute_result"
    }
   ],
   "source": [
    "salary_df.head()"
   ],
   "metadata": {
    "collapsed": false,
    "pycharm": {
     "name": "#%%\n"
    }
   }
  },
  {
   "cell_type": "code",
   "execution_count": 7,
   "outputs": [
    {
     "data": {
      "text/plain": "              Rank  Transfer Fee  Signing Bonus         year\ncount  1252.000000           0.0            0.0  4803.000000\nmean    293.690096           NaN            NaN  2018.462419\nstd     200.082608           NaN            NaN     2.349686\nmin       1.000000           NaN            NaN  2014.000000\n25%     105.000000           NaN            NaN  2017.000000\n50%     279.500000           NaN            NaN  2019.000000\n75%     484.000000           NaN            NaN  2020.000000\nmax     648.000000           NaN            NaN  2022.000000",
      "text/html": "<div>\n<style scoped>\n    .dataframe tbody tr th:only-of-type {\n        vertical-align: middle;\n    }\n\n    .dataframe tbody tr th {\n        vertical-align: top;\n    }\n\n    .dataframe thead th {\n        text-align: right;\n    }\n</style>\n<table border=\"1\" class=\"dataframe\">\n  <thead>\n    <tr style=\"text-align: right;\">\n      <th></th>\n      <th>Rank</th>\n      <th>Transfer Fee</th>\n      <th>Signing Bonus</th>\n      <th>year</th>\n    </tr>\n  </thead>\n  <tbody>\n    <tr>\n      <th>count</th>\n      <td>1252.000000</td>\n      <td>0.0</td>\n      <td>0.0</td>\n      <td>4803.000000</td>\n    </tr>\n    <tr>\n      <th>mean</th>\n      <td>293.690096</td>\n      <td>NaN</td>\n      <td>NaN</td>\n      <td>2018.462419</td>\n    </tr>\n    <tr>\n      <th>std</th>\n      <td>200.082608</td>\n      <td>NaN</td>\n      <td>NaN</td>\n      <td>2.349686</td>\n    </tr>\n    <tr>\n      <th>min</th>\n      <td>1.000000</td>\n      <td>NaN</td>\n      <td>NaN</td>\n      <td>2014.000000</td>\n    </tr>\n    <tr>\n      <th>25%</th>\n      <td>105.000000</td>\n      <td>NaN</td>\n      <td>NaN</td>\n      <td>2017.000000</td>\n    </tr>\n    <tr>\n      <th>50%</th>\n      <td>279.500000</td>\n      <td>NaN</td>\n      <td>NaN</td>\n      <td>2019.000000</td>\n    </tr>\n    <tr>\n      <th>75%</th>\n      <td>484.000000</td>\n      <td>NaN</td>\n      <td>NaN</td>\n      <td>2020.000000</td>\n    </tr>\n    <tr>\n      <th>max</th>\n      <td>648.000000</td>\n      <td>NaN</td>\n      <td>NaN</td>\n      <td>2022.000000</td>\n    </tr>\n  </tbody>\n</table>\n</div>"
     },
     "execution_count": 7,
     "metadata": {},
     "output_type": "execute_result"
    }
   ],
   "source": [
    "salary_df.describe()"
   ],
   "metadata": {
    "collapsed": false,
    "pycharm": {
     "name": "#%%\n"
    }
   }
  },
  {
   "cell_type": "code",
   "execution_count": 8,
   "outputs": [
    {
     "data": {
      "text/plain": "Rank             0.739330\nName             0.000000\nPosition         0.000833\nTeam             0.000000\nSalary           0.000000\nTransfer Fee     1.000000\nSigning Bonus    1.000000\nyear             0.000000\ndtype: float64"
     },
     "execution_count": 8,
     "metadata": {},
     "output_type": "execute_result"
    }
   ],
   "source": [
    "salary_df.isnull().mean()"
   ],
   "metadata": {
    "collapsed": false,
    "pycharm": {
     "name": "#%%\n"
    }
   }
  },
  {
   "cell_type": "code",
   "execution_count": null,
   "outputs": [],
   "source": [],
   "metadata": {
    "collapsed": false,
    "pycharm": {
     "name": "#%%\n"
    }
   }
  }
 ],
 "metadata": {
  "kernelspec": {
   "display_name": "Python 3",
   "language": "python",
   "name": "python3"
  },
  "language_info": {
   "codemirror_mode": {
    "name": "ipython",
    "version": 2
   },
   "file_extension": ".py",
   "mimetype": "text/x-python",
   "name": "python",
   "nbconvert_exporter": "python",
   "pygments_lexer": "ipython2",
   "version": "2.7.6"
  }
 },
 "nbformat": 4,
 "nbformat_minor": 0
}