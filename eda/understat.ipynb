{
 "cells": [
  {
   "cell_type": "code",
   "execution_count": 1,
   "metadata": {
    "collapsed": true
   },
   "outputs": [],
   "source": [
    "import pandas as pd\n",
    "import numpy as np\n",
    "import seaborn as sns\n",
    "import matplotlib.pyplot as plt"
   ]
  },
  {
   "cell_type": "code",
   "execution_count": 2,
   "outputs": [],
   "source": [
    "path = '../data/origin/understat/understat_{}_edited.csv'"
   ],
   "metadata": {
    "collapsed": false,
    "pycharm": {
     "name": "#%%\n"
    }
   }
  },
  {
   "cell_type": "code",
   "execution_count": 3,
   "outputs": [
    {
     "name": "stdout",
     "output_type": "stream",
     "text": [
      "<class 'pandas.core.frame.DataFrame'>\n",
      "Index: 4755 entries, 0 to 553\n",
      "Data columns (total 21 columns):\n",
      " #   Column       Non-Null Count  Dtype  \n",
      "---  ------       --------------  -----  \n",
      " 0   No           4755 non-null   int64  \n",
      " 1   Player       4755 non-null   object \n",
      " 2   Team         4755 non-null   object \n",
      " 3   Apps         4755 non-null   int64  \n",
      " 4   Min          4755 non-null   int64  \n",
      " 5   G            4755 non-null   int64  \n",
      " 6   NPG          4755 non-null   int64  \n",
      " 7   A            4755 non-null   int64  \n",
      " 8   xG           4755 non-null   float64\n",
      " 9   NPxG         4755 non-null   float64\n",
      " 10  xA           4755 non-null   float64\n",
      " 11  xGChain      4755 non-null   float64\n",
      " 12  xGBuildup    4755 non-null   float64\n",
      " 13  xG90         4755 non-null   float64\n",
      " 14  NPxG90       4755 non-null   float64\n",
      " 15  xA90         4755 non-null   float64\n",
      " 16  xG90+xA90    4755 non-null   float64\n",
      " 17  NPxG90+xA90  4755 non-null   float64\n",
      " 18  xGChain90    4755 non-null   float64\n",
      " 19  xGBuildup90  4755 non-null   float64\n",
      " 20  year         4755 non-null   int64  \n",
      "dtypes: float64(12), int64(7), object(2)\n",
      "memory usage: 817.3+ KB\n"
     ]
    }
   ],
   "source": [
    "start_year, end_year = 2014,2022\n",
    "stats_df = pd.DataFrame()\n",
    "for year in range(start_year, end_year+1):\n",
    "    data = pd.read_csv(path.format(year))\n",
    "    data['year'] = year\n",
    "    stats_df = pd.concat([stats_df, data])\n",
    "stats_df.info()"
   ],
   "metadata": {
    "collapsed": false,
    "pycharm": {
     "name": "#%%\n"
    }
   }
  },
  {
   "cell_type": "code",
   "execution_count": 4,
   "outputs": [
    {
     "data": {
      "text/plain": "    No          Player                 Team  Apps   Min   G  NPG  A     xG  \\\n0  619   Sergio Aguero      Manchester City    33  2551  26   21  8  25.27   \n1  647      Harry Kane            Tottenham    34  2589  21   19  4  17.16   \n2  802     Diego Costa              Chelsea    26  2111  20   19  3  15.22   \n3  848  Charlie Austin  Queens Park Rangers    35  3078  18   15  5  17.88   \n4  498  Alexis Sanchez              Arsenal    35  2967  16   16  8  13.45   \n\n    NPxG  ...  xGChain  xGBuildup  xG90  NPxG90  xA90  xG90+xA90  NPxG90+xA90  \\\n0  20.70  ...    27.81       6.88  0.89    0.73  0.20       1.09         0.93   \n1  14.87  ...    16.49       5.55  0.60    0.52  0.14       0.73         0.65   \n2  14.46  ...    21.37       5.28  0.65    0.62  0.19       0.84         0.81   \n3  14.08  ...    13.72       3.04  0.52    0.41  0.07       0.60         0.49   \n4  12.69  ...    27.16      10.74  0.41    0.38  0.26       0.67         0.64   \n\n   xGChain90  xGBuildup90  year  \n0       0.98         0.24  2014  \n1       0.57         0.19  2014  \n2       0.91         0.22  2014  \n3       0.40         0.09  2014  \n4       0.82         0.33  2014  \n\n[5 rows x 21 columns]",
      "text/html": "<div>\n<style scoped>\n    .dataframe tbody tr th:only-of-type {\n        vertical-align: middle;\n    }\n\n    .dataframe tbody tr th {\n        vertical-align: top;\n    }\n\n    .dataframe thead th {\n        text-align: right;\n    }\n</style>\n<table border=\"1\" class=\"dataframe\">\n  <thead>\n    <tr style=\"text-align: right;\">\n      <th></th>\n      <th>No</th>\n      <th>Player</th>\n      <th>Team</th>\n      <th>Apps</th>\n      <th>Min</th>\n      <th>G</th>\n      <th>NPG</th>\n      <th>A</th>\n      <th>xG</th>\n      <th>NPxG</th>\n      <th>...</th>\n      <th>xGChain</th>\n      <th>xGBuildup</th>\n      <th>xG90</th>\n      <th>NPxG90</th>\n      <th>xA90</th>\n      <th>xG90+xA90</th>\n      <th>NPxG90+xA90</th>\n      <th>xGChain90</th>\n      <th>xGBuildup90</th>\n      <th>year</th>\n    </tr>\n  </thead>\n  <tbody>\n    <tr>\n      <th>0</th>\n      <td>619</td>\n      <td>Sergio Aguero</td>\n      <td>Manchester City</td>\n      <td>33</td>\n      <td>2551</td>\n      <td>26</td>\n      <td>21</td>\n      <td>8</td>\n      <td>25.27</td>\n      <td>20.70</td>\n      <td>...</td>\n      <td>27.81</td>\n      <td>6.88</td>\n      <td>0.89</td>\n      <td>0.73</td>\n      <td>0.20</td>\n      <td>1.09</td>\n      <td>0.93</td>\n      <td>0.98</td>\n      <td>0.24</td>\n      <td>2014</td>\n    </tr>\n    <tr>\n      <th>1</th>\n      <td>647</td>\n      <td>Harry Kane</td>\n      <td>Tottenham</td>\n      <td>34</td>\n      <td>2589</td>\n      <td>21</td>\n      <td>19</td>\n      <td>4</td>\n      <td>17.16</td>\n      <td>14.87</td>\n      <td>...</td>\n      <td>16.49</td>\n      <td>5.55</td>\n      <td>0.60</td>\n      <td>0.52</td>\n      <td>0.14</td>\n      <td>0.73</td>\n      <td>0.65</td>\n      <td>0.57</td>\n      <td>0.19</td>\n      <td>2014</td>\n    </tr>\n    <tr>\n      <th>2</th>\n      <td>802</td>\n      <td>Diego Costa</td>\n      <td>Chelsea</td>\n      <td>26</td>\n      <td>2111</td>\n      <td>20</td>\n      <td>19</td>\n      <td>3</td>\n      <td>15.22</td>\n      <td>14.46</td>\n      <td>...</td>\n      <td>21.37</td>\n      <td>5.28</td>\n      <td>0.65</td>\n      <td>0.62</td>\n      <td>0.19</td>\n      <td>0.84</td>\n      <td>0.81</td>\n      <td>0.91</td>\n      <td>0.22</td>\n      <td>2014</td>\n    </tr>\n    <tr>\n      <th>3</th>\n      <td>848</td>\n      <td>Charlie Austin</td>\n      <td>Queens Park Rangers</td>\n      <td>35</td>\n      <td>3078</td>\n      <td>18</td>\n      <td>15</td>\n      <td>5</td>\n      <td>17.88</td>\n      <td>14.08</td>\n      <td>...</td>\n      <td>13.72</td>\n      <td>3.04</td>\n      <td>0.52</td>\n      <td>0.41</td>\n      <td>0.07</td>\n      <td>0.60</td>\n      <td>0.49</td>\n      <td>0.40</td>\n      <td>0.09</td>\n      <td>2014</td>\n    </tr>\n    <tr>\n      <th>4</th>\n      <td>498</td>\n      <td>Alexis Sanchez</td>\n      <td>Arsenal</td>\n      <td>35</td>\n      <td>2967</td>\n      <td>16</td>\n      <td>16</td>\n      <td>8</td>\n      <td>13.45</td>\n      <td>12.69</td>\n      <td>...</td>\n      <td>27.16</td>\n      <td>10.74</td>\n      <td>0.41</td>\n      <td>0.38</td>\n      <td>0.26</td>\n      <td>0.67</td>\n      <td>0.64</td>\n      <td>0.82</td>\n      <td>0.33</td>\n      <td>2014</td>\n    </tr>\n  </tbody>\n</table>\n<p>5 rows × 21 columns</p>\n</div>"
     },
     "execution_count": 4,
     "metadata": {},
     "output_type": "execute_result"
    }
   ],
   "source": [
    "stats_df.head()"
   ],
   "metadata": {
    "collapsed": false,
    "pycharm": {
     "name": "#%%\n"
    }
   }
  },
  {
   "cell_type": "code",
   "execution_count": 5,
   "outputs": [
    {
     "data": {
      "text/plain": "                 No         Apps          Min            G          NPG  \\\ncount   4755.000000  4755.000000  4755.000000  4755.000000  4755.000000   \nmean    3045.897371    20.007361  1422.121556     1.903049     1.757939   \nstd     3146.976514    11.750748  1044.377644     3.475205     3.139191   \nmin       12.000000     1.000000     1.000000     0.000000     0.000000   \n25%      669.000000    10.000000   443.000000     0.000000     0.000000   \n50%     1017.000000    21.000000  1334.000000     0.000000     0.000000   \n75%     6026.000000    30.000000  2288.500000     2.000000     2.000000   \nmax    11618.000000    38.000000  3420.000000    36.000000    31.000000   \n\n                 A           xG         NPxG           xA      xGChain  \\\ncount  4755.000000  4755.000000  4755.000000  4755.000000  4755.000000   \nmean      1.348896     1.993846     1.852675     1.414740     5.362151   \nstd       2.170973     3.261073     2.932931     1.970535     5.669350   \nmin       0.000000     0.000000     0.000000     0.000000     0.000000   \n25%       0.000000     0.090000     0.085000     0.080000     1.100000   \n50%       0.000000     0.770000     0.750000     0.660000     3.590000   \n75%       2.000000     2.370000     2.245000     1.950000     7.810000   \nmax      20.000000    32.760000    27.430000    20.620000    37.800000   \n\n         xGBuildup         xG90       NPxG90         xA90    xG90+xA90  \\\ncount  4755.000000  4755.000000  4755.000000  4755.000000  4755.000000   \nmean      3.203384     0.142473     0.136170     0.094665     0.237167   \nstd       3.407195     0.307156     0.302856     0.341072     0.471481   \nmin       0.000000     0.000000     0.000000     0.000000     0.000000   \n25%       0.630000     0.010000     0.010000     0.010000     0.050000   \n50%       2.200000     0.060000     0.060000     0.050000     0.130000   \n75%       4.635000     0.170000     0.170000     0.130000     0.320000   \nmax      23.960000     7.010000     7.010000    18.230000    18.230000   \n\n       NPxG90+xA90    xGChain90  xGBuildup90         year  \ncount  4755.000000  4755.000000  4755.000000  4755.000000  \nmean      0.230856     0.366126     0.207901  2018.011146  \nstd       0.468036     0.544369     0.342093     2.609181  \nmin       0.000000     0.000000     0.000000  2014.000000  \n25%       0.050000     0.150000     0.080000  2016.000000  \n50%       0.130000     0.280000     0.160000  2018.000000  \n75%       0.310000     0.460000     0.260000  2020.000000  \nmax      18.230000    18.230000    11.280000  2022.000000  ",
      "text/html": "<div>\n<style scoped>\n    .dataframe tbody tr th:only-of-type {\n        vertical-align: middle;\n    }\n\n    .dataframe tbody tr th {\n        vertical-align: top;\n    }\n\n    .dataframe thead th {\n        text-align: right;\n    }\n</style>\n<table border=\"1\" class=\"dataframe\">\n  <thead>\n    <tr style=\"text-align: right;\">\n      <th></th>\n      <th>No</th>\n      <th>Apps</th>\n      <th>Min</th>\n      <th>G</th>\n      <th>NPG</th>\n      <th>A</th>\n      <th>xG</th>\n      <th>NPxG</th>\n      <th>xA</th>\n      <th>xGChain</th>\n      <th>xGBuildup</th>\n      <th>xG90</th>\n      <th>NPxG90</th>\n      <th>xA90</th>\n      <th>xG90+xA90</th>\n      <th>NPxG90+xA90</th>\n      <th>xGChain90</th>\n      <th>xGBuildup90</th>\n      <th>year</th>\n    </tr>\n  </thead>\n  <tbody>\n    <tr>\n      <th>count</th>\n      <td>4755.000000</td>\n      <td>4755.000000</td>\n      <td>4755.000000</td>\n      <td>4755.000000</td>\n      <td>4755.000000</td>\n      <td>4755.000000</td>\n      <td>4755.000000</td>\n      <td>4755.000000</td>\n      <td>4755.000000</td>\n      <td>4755.000000</td>\n      <td>4755.000000</td>\n      <td>4755.000000</td>\n      <td>4755.000000</td>\n      <td>4755.000000</td>\n      <td>4755.000000</td>\n      <td>4755.000000</td>\n      <td>4755.000000</td>\n      <td>4755.000000</td>\n      <td>4755.000000</td>\n    </tr>\n    <tr>\n      <th>mean</th>\n      <td>3045.897371</td>\n      <td>20.007361</td>\n      <td>1422.121556</td>\n      <td>1.903049</td>\n      <td>1.757939</td>\n      <td>1.348896</td>\n      <td>1.993846</td>\n      <td>1.852675</td>\n      <td>1.414740</td>\n      <td>5.362151</td>\n      <td>3.203384</td>\n      <td>0.142473</td>\n      <td>0.136170</td>\n      <td>0.094665</td>\n      <td>0.237167</td>\n      <td>0.230856</td>\n      <td>0.366126</td>\n      <td>0.207901</td>\n      <td>2018.011146</td>\n    </tr>\n    <tr>\n      <th>std</th>\n      <td>3146.976514</td>\n      <td>11.750748</td>\n      <td>1044.377644</td>\n      <td>3.475205</td>\n      <td>3.139191</td>\n      <td>2.170973</td>\n      <td>3.261073</td>\n      <td>2.932931</td>\n      <td>1.970535</td>\n      <td>5.669350</td>\n      <td>3.407195</td>\n      <td>0.307156</td>\n      <td>0.302856</td>\n      <td>0.341072</td>\n      <td>0.471481</td>\n      <td>0.468036</td>\n      <td>0.544369</td>\n      <td>0.342093</td>\n      <td>2.609181</td>\n    </tr>\n    <tr>\n      <th>min</th>\n      <td>12.000000</td>\n      <td>1.000000</td>\n      <td>1.000000</td>\n      <td>0.000000</td>\n      <td>0.000000</td>\n      <td>0.000000</td>\n      <td>0.000000</td>\n      <td>0.000000</td>\n      <td>0.000000</td>\n      <td>0.000000</td>\n      <td>0.000000</td>\n      <td>0.000000</td>\n      <td>0.000000</td>\n      <td>0.000000</td>\n      <td>0.000000</td>\n      <td>0.000000</td>\n      <td>0.000000</td>\n      <td>0.000000</td>\n      <td>2014.000000</td>\n    </tr>\n    <tr>\n      <th>25%</th>\n      <td>669.000000</td>\n      <td>10.000000</td>\n      <td>443.000000</td>\n      <td>0.000000</td>\n      <td>0.000000</td>\n      <td>0.000000</td>\n      <td>0.090000</td>\n      <td>0.085000</td>\n      <td>0.080000</td>\n      <td>1.100000</td>\n      <td>0.630000</td>\n      <td>0.010000</td>\n      <td>0.010000</td>\n      <td>0.010000</td>\n      <td>0.050000</td>\n      <td>0.050000</td>\n      <td>0.150000</td>\n      <td>0.080000</td>\n      <td>2016.000000</td>\n    </tr>\n    <tr>\n      <th>50%</th>\n      <td>1017.000000</td>\n      <td>21.000000</td>\n      <td>1334.000000</td>\n      <td>0.000000</td>\n      <td>0.000000</td>\n      <td>0.000000</td>\n      <td>0.770000</td>\n      <td>0.750000</td>\n      <td>0.660000</td>\n      <td>3.590000</td>\n      <td>2.200000</td>\n      <td>0.060000</td>\n      <td>0.060000</td>\n      <td>0.050000</td>\n      <td>0.130000</td>\n      <td>0.130000</td>\n      <td>0.280000</td>\n      <td>0.160000</td>\n      <td>2018.000000</td>\n    </tr>\n    <tr>\n      <th>75%</th>\n      <td>6026.000000</td>\n      <td>30.000000</td>\n      <td>2288.500000</td>\n      <td>2.000000</td>\n      <td>2.000000</td>\n      <td>2.000000</td>\n      <td>2.370000</td>\n      <td>2.245000</td>\n      <td>1.950000</td>\n      <td>7.810000</td>\n      <td>4.635000</td>\n      <td>0.170000</td>\n      <td>0.170000</td>\n      <td>0.130000</td>\n      <td>0.320000</td>\n      <td>0.310000</td>\n      <td>0.460000</td>\n      <td>0.260000</td>\n      <td>2020.000000</td>\n    </tr>\n    <tr>\n      <th>max</th>\n      <td>11618.000000</td>\n      <td>38.000000</td>\n      <td>3420.000000</td>\n      <td>36.000000</td>\n      <td>31.000000</td>\n      <td>20.000000</td>\n      <td>32.760000</td>\n      <td>27.430000</td>\n      <td>20.620000</td>\n      <td>37.800000</td>\n      <td>23.960000</td>\n      <td>7.010000</td>\n      <td>7.010000</td>\n      <td>18.230000</td>\n      <td>18.230000</td>\n      <td>18.230000</td>\n      <td>18.230000</td>\n      <td>11.280000</td>\n      <td>2022.000000</td>\n    </tr>\n  </tbody>\n</table>\n</div>"
     },
     "execution_count": 5,
     "metadata": {},
     "output_type": "execute_result"
    }
   ],
   "source": [
    "stats_df.describe()"
   ],
   "metadata": {
    "collapsed": false,
    "pycharm": {
     "name": "#%%\n"
    }
   }
  },
  {
   "cell_type": "code",
   "execution_count": 6,
   "outputs": [
    {
     "data": {
      "text/plain": "Player\nRuben Loftus-Cheek    9\nNathan Ake            9\nRaheem Sterling       9\nDavid de Gea          9\nKurt Zouma            9\n                     ..\nMario Vrancic         1\nJosip Drmic           1\nTom Lawrence          1\nBrad Jones            1\nSamuel Amo-Ameyaw     1\nName: count, Length: 1730, dtype: int64"
     },
     "execution_count": 6,
     "metadata": {},
     "output_type": "execute_result"
    }
   ],
   "source": [
    "stats_df.Player.value_counts()"
   ],
   "metadata": {
    "collapsed": false,
    "pycharm": {
     "name": "#%%\n"
    }
   }
  },
  {
   "cell_type": "code",
   "execution_count": 7,
   "outputs": [
    {
     "data": {
      "text/plain": "      No        Player         Team  Apps   Min   G  NPG  A    xG  NPxG  ...  \\\n53   503  Theo Walcott      Arsenal    14   427   5    5  0  5.35  5.35  ...   \n53   503  Theo Walcott      Arsenal    28  1374   5    5  2  8.39  8.39  ...   \n18   503  Theo Walcott      Arsenal    28  1944  10   10  2  9.90  9.14  ...   \n90   503  Theo Walcott      Arsenal    20  1207   3    3  3  3.15  3.15  ...   \n60   503  Theo Walcott      Everton    37  2127   5    5  2  6.51  6.51  ...   \n122  503  Theo Walcott      Everton    25  1310   2    2  3  3.48  3.48  ...   \n86   503  Theo Walcott      Everton    22  1660   3    3  3  2.28  2.28  ...   \n291  503  Theo Walcott  Southampton     9   387   0    0  0  0.86  0.86  ...   \n127  503  Theo Walcott  Southampton    20  1149   2    2  2  3.13  3.13  ...   \n\n     xGChain  xGBuildup  xG90  NPxG90  xA90  xG90+xA90  NPxG90+xA90  \\\n53      5.93       0.70  1.13    1.13  0.08       1.21         1.21   \n53     14.59       5.33  0.55    0.55  0.13       0.68         0.68   \n18     11.12       2.42  0.46    0.42  0.12       0.58         0.54   \n90      6.35       2.44  0.24    0.24  0.23       0.46         0.46   \n60     10.27       2.55  0.28    0.28  0.12       0.40         0.40   \n122     8.40       2.61  0.24    0.24  0.27       0.51         0.51   \n86      5.55       2.23  0.12    0.12  0.07       0.19         0.19   \n291     1.19       0.33  0.20    0.20  0.01       0.21         0.21   \n127     4.90       0.99  0.24    0.24  0.14       0.39         0.39   \n\n     xGChain90  xGBuildup90  year  \n53        1.25         0.15  2014  \n53        0.96         0.35  2015  \n18        0.51         0.11  2016  \n90        0.47         0.18  2017  \n60        0.43         0.11  2018  \n122       0.58         0.18  2019  \n86        0.30         0.12  2020  \n291       0.28         0.08  2021  \n127       0.38         0.08  2022  \n\n[9 rows x 21 columns]",
      "text/html": "<div>\n<style scoped>\n    .dataframe tbody tr th:only-of-type {\n        vertical-align: middle;\n    }\n\n    .dataframe tbody tr th {\n        vertical-align: top;\n    }\n\n    .dataframe thead th {\n        text-align: right;\n    }\n</style>\n<table border=\"1\" class=\"dataframe\">\n  <thead>\n    <tr style=\"text-align: right;\">\n      <th></th>\n      <th>No</th>\n      <th>Player</th>\n      <th>Team</th>\n      <th>Apps</th>\n      <th>Min</th>\n      <th>G</th>\n      <th>NPG</th>\n      <th>A</th>\n      <th>xG</th>\n      <th>NPxG</th>\n      <th>...</th>\n      <th>xGChain</th>\n      <th>xGBuildup</th>\n      <th>xG90</th>\n      <th>NPxG90</th>\n      <th>xA90</th>\n      <th>xG90+xA90</th>\n      <th>NPxG90+xA90</th>\n      <th>xGChain90</th>\n      <th>xGBuildup90</th>\n      <th>year</th>\n    </tr>\n  </thead>\n  <tbody>\n    <tr>\n      <th>53</th>\n      <td>503</td>\n      <td>Theo Walcott</td>\n      <td>Arsenal</td>\n      <td>14</td>\n      <td>427</td>\n      <td>5</td>\n      <td>5</td>\n      <td>0</td>\n      <td>5.35</td>\n      <td>5.35</td>\n      <td>...</td>\n      <td>5.93</td>\n      <td>0.70</td>\n      <td>1.13</td>\n      <td>1.13</td>\n      <td>0.08</td>\n      <td>1.21</td>\n      <td>1.21</td>\n      <td>1.25</td>\n      <td>0.15</td>\n      <td>2014</td>\n    </tr>\n    <tr>\n      <th>53</th>\n      <td>503</td>\n      <td>Theo Walcott</td>\n      <td>Arsenal</td>\n      <td>28</td>\n      <td>1374</td>\n      <td>5</td>\n      <td>5</td>\n      <td>2</td>\n      <td>8.39</td>\n      <td>8.39</td>\n      <td>...</td>\n      <td>14.59</td>\n      <td>5.33</td>\n      <td>0.55</td>\n      <td>0.55</td>\n      <td>0.13</td>\n      <td>0.68</td>\n      <td>0.68</td>\n      <td>0.96</td>\n      <td>0.35</td>\n      <td>2015</td>\n    </tr>\n    <tr>\n      <th>18</th>\n      <td>503</td>\n      <td>Theo Walcott</td>\n      <td>Arsenal</td>\n      <td>28</td>\n      <td>1944</td>\n      <td>10</td>\n      <td>10</td>\n      <td>2</td>\n      <td>9.90</td>\n      <td>9.14</td>\n      <td>...</td>\n      <td>11.12</td>\n      <td>2.42</td>\n      <td>0.46</td>\n      <td>0.42</td>\n      <td>0.12</td>\n      <td>0.58</td>\n      <td>0.54</td>\n      <td>0.51</td>\n      <td>0.11</td>\n      <td>2016</td>\n    </tr>\n    <tr>\n      <th>90</th>\n      <td>503</td>\n      <td>Theo Walcott</td>\n      <td>Arsenal</td>\n      <td>20</td>\n      <td>1207</td>\n      <td>3</td>\n      <td>3</td>\n      <td>3</td>\n      <td>3.15</td>\n      <td>3.15</td>\n      <td>...</td>\n      <td>6.35</td>\n      <td>2.44</td>\n      <td>0.24</td>\n      <td>0.24</td>\n      <td>0.23</td>\n      <td>0.46</td>\n      <td>0.46</td>\n      <td>0.47</td>\n      <td>0.18</td>\n      <td>2017</td>\n    </tr>\n    <tr>\n      <th>60</th>\n      <td>503</td>\n      <td>Theo Walcott</td>\n      <td>Everton</td>\n      <td>37</td>\n      <td>2127</td>\n      <td>5</td>\n      <td>5</td>\n      <td>2</td>\n      <td>6.51</td>\n      <td>6.51</td>\n      <td>...</td>\n      <td>10.27</td>\n      <td>2.55</td>\n      <td>0.28</td>\n      <td>0.28</td>\n      <td>0.12</td>\n      <td>0.40</td>\n      <td>0.40</td>\n      <td>0.43</td>\n      <td>0.11</td>\n      <td>2018</td>\n    </tr>\n    <tr>\n      <th>122</th>\n      <td>503</td>\n      <td>Theo Walcott</td>\n      <td>Everton</td>\n      <td>25</td>\n      <td>1310</td>\n      <td>2</td>\n      <td>2</td>\n      <td>3</td>\n      <td>3.48</td>\n      <td>3.48</td>\n      <td>...</td>\n      <td>8.40</td>\n      <td>2.61</td>\n      <td>0.24</td>\n      <td>0.24</td>\n      <td>0.27</td>\n      <td>0.51</td>\n      <td>0.51</td>\n      <td>0.58</td>\n      <td>0.18</td>\n      <td>2019</td>\n    </tr>\n    <tr>\n      <th>86</th>\n      <td>503</td>\n      <td>Theo Walcott</td>\n      <td>Everton</td>\n      <td>22</td>\n      <td>1660</td>\n      <td>3</td>\n      <td>3</td>\n      <td>3</td>\n      <td>2.28</td>\n      <td>2.28</td>\n      <td>...</td>\n      <td>5.55</td>\n      <td>2.23</td>\n      <td>0.12</td>\n      <td>0.12</td>\n      <td>0.07</td>\n      <td>0.19</td>\n      <td>0.19</td>\n      <td>0.30</td>\n      <td>0.12</td>\n      <td>2020</td>\n    </tr>\n    <tr>\n      <th>291</th>\n      <td>503</td>\n      <td>Theo Walcott</td>\n      <td>Southampton</td>\n      <td>9</td>\n      <td>387</td>\n      <td>0</td>\n      <td>0</td>\n      <td>0</td>\n      <td>0.86</td>\n      <td>0.86</td>\n      <td>...</td>\n      <td>1.19</td>\n      <td>0.33</td>\n      <td>0.20</td>\n      <td>0.20</td>\n      <td>0.01</td>\n      <td>0.21</td>\n      <td>0.21</td>\n      <td>0.28</td>\n      <td>0.08</td>\n      <td>2021</td>\n    </tr>\n    <tr>\n      <th>127</th>\n      <td>503</td>\n      <td>Theo Walcott</td>\n      <td>Southampton</td>\n      <td>20</td>\n      <td>1149</td>\n      <td>2</td>\n      <td>2</td>\n      <td>2</td>\n      <td>3.13</td>\n      <td>3.13</td>\n      <td>...</td>\n      <td>4.90</td>\n      <td>0.99</td>\n      <td>0.24</td>\n      <td>0.24</td>\n      <td>0.14</td>\n      <td>0.39</td>\n      <td>0.39</td>\n      <td>0.38</td>\n      <td>0.08</td>\n      <td>2022</td>\n    </tr>\n  </tbody>\n</table>\n<p>9 rows × 21 columns</p>\n</div>"
     },
     "execution_count": 7,
     "metadata": {},
     "output_type": "execute_result"
    }
   ],
   "source": [
    "stats_df[stats_df.Player=='Theo Walcott']"
   ],
   "metadata": {
    "collapsed": false,
    "pycharm": {
     "name": "#%%\n"
    }
   }
  },
  {
   "cell_type": "code",
   "execution_count": 8,
   "outputs": [],
   "source": [
    "stats_df.to_csv('../data/new/understat_all.csv', index=False)"
   ],
   "metadata": {
    "collapsed": false,
    "pycharm": {
     "name": "#%%\n"
    }
   }
  },
  {
   "cell_type": "code",
   "execution_count": 7,
   "outputs": [],
   "source": [],
   "metadata": {
    "collapsed": false,
    "pycharm": {
     "name": "#%%\n"
    }
   }
  },
  {
   "cell_type": "code",
   "execution_count": 7,
   "outputs": [],
   "source": [],
   "metadata": {
    "collapsed": false,
    "pycharm": {
     "name": "#%%\n"
    }
   }
  },
  {
   "cell_type": "code",
   "execution_count": 7,
   "outputs": [],
   "source": [],
   "metadata": {
    "collapsed": false,
    "pycharm": {
     "name": "#%%\n"
    }
   }
  },
  {
   "cell_type": "code",
   "execution_count": 7,
   "outputs": [],
   "source": [],
   "metadata": {
    "collapsed": false,
    "pycharm": {
     "name": "#%%\n"
    }
   }
  },
  {
   "cell_type": "code",
   "execution_count": 7,
   "outputs": [],
   "source": [],
   "metadata": {
    "collapsed": false,
    "pycharm": {
     "name": "#%%\n"
    }
   }
  },
  {
   "cell_type": "code",
   "execution_count": 7,
   "outputs": [],
   "source": [],
   "metadata": {
    "collapsed": false,
    "pycharm": {
     "name": "#%%\n"
    }
   }
  },
  {
   "cell_type": "code",
   "execution_count": 7,
   "outputs": [],
   "source": [],
   "metadata": {
    "collapsed": false,
    "pycharm": {
     "name": "#%%\n"
    }
   }
  }
 ],
 "metadata": {
  "kernelspec": {
   "display_name": "Python 3",
   "language": "python",
   "name": "python3"
  },
  "language_info": {
   "codemirror_mode": {
    "name": "ipython",
    "version": 2
   },
   "file_extension": ".py",
   "mimetype": "text/x-python",
   "name": "python",
   "nbconvert_exporter": "python",
   "pygments_lexer": "ipython2",
   "version": "2.7.6"
  }
 },
 "nbformat": 4,
 "nbformat_minor": 0
}