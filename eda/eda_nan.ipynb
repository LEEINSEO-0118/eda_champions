{
 "cells": [
  {
   "cell_type": "code",
   "execution_count": 49,
   "metadata": {
    "collapsed": true
   },
   "outputs": [],
   "source": [
    "import pandas as pd\n",
    "import numpy as np\n",
    "import matplotlib.pyplot as plt\n",
    "import seaborn as sns"
   ]
  },
  {
   "cell_type": "code",
   "execution_count": 50,
   "outputs": [],
   "source": [
    "path = '../data/origin/player/players_{}.csv'"
   ],
   "metadata": {
    "collapsed": false,
    "pycharm": {
     "name": "#%%\n"
    }
   }
  },
  {
   "cell_type": "code",
   "execution_count": 51,
   "outputs": [
    {
     "name": "stdout",
     "output_type": "stream",
     "text": [
      "<class 'pandas.core.frame.DataFrame'>\n",
      "Int64Index: 4742 entries, 0 to 554\n",
      "Data columns (total 8 columns):\n",
      " #   Column      Non-Null Count  Dtype \n",
      "---  ------      --------------  ----- \n",
      " 0   Unnamed: 0  4742 non-null   int64 \n",
      " 1   No.         4742 non-null   int64 \n",
      " 2   Year        4742 non-null   int64 \n",
      " 3   Name        4742 non-null   object\n",
      " 4   Age         4742 non-null   int64 \n",
      " 5   Team        4742 non-null   object\n",
      " 6   Position    4742 non-null   object\n",
      " 7   year        4742 non-null   int64 \n",
      "dtypes: int64(5), object(3)\n",
      "memory usage: 333.4+ KB\n"
     ]
    }
   ],
   "source": [
    "start_year, end_year = 2014,2022\n",
    "players_df = pd.DataFrame()\n",
    "for year in range(start_year, end_year+1):\n",
    "    data = pd.read_csv(path.format(year))\n",
    "    data['year'] = year\n",
    "    players_df = pd.concat([players_df, data])\n",
    "players_df.info()"
   ],
   "metadata": {
    "collapsed": false,
    "pycharm": {
     "name": "#%%\n"
    }
   }
  },
  {
   "cell_type": "code",
   "execution_count": 52,
   "outputs": [],
   "source": [
    "path = '../data/origin/salary/Weekly Salary_{}_edited.csv'"
   ],
   "metadata": {
    "collapsed": false,
    "pycharm": {
     "name": "#%%\n"
    }
   }
  },
  {
   "cell_type": "code",
   "execution_count": 53,
   "outputs": [
    {
     "data": {
      "text/plain": "Index(['Rank', 'Name', 'Position', 'Team', 'Weekly Salary', 'year'], dtype='object')"
     },
     "execution_count": 53,
     "metadata": {},
     "output_type": "execute_result"
    }
   ],
   "source": [
    "start_year, end_year = 2014, 2022\n",
    "salary_df = pd.DataFrame()\n",
    "for year in range(start_year, end_year + 1):\n",
    "    data = pd.read_csv(path.format(year))\n",
    "    data['year'] = year\n",
    "    salary_df = pd.concat([salary_df, data])\n",
    "salary_df.columns"
   ],
   "metadata": {
    "collapsed": false,
    "pycharm": {
     "name": "#%%\n"
    }
   }
  },
  {
   "cell_type": "code",
   "execution_count": 54,
   "outputs": [
    {
     "name": "stdout",
     "output_type": "stream",
     "text": [
      "<class 'pandas.core.frame.DataFrame'>\n",
      "Int64Index: 4763 entries, 0 to 4762\n",
      "Data columns (total 11 columns):\n",
      " #   Column         Non-Null Count  Dtype  \n",
      "---  ------         --------------  -----  \n",
      " 0   Unnamed: 0     4763 non-null   int64  \n",
      " 1   No.            4763 non-null   int64  \n",
      " 2   Year           4763 non-null   int64  \n",
      " 3   Name           4763 non-null   object \n",
      " 4   Age            4763 non-null   int64  \n",
      " 5   Team_x         4763 non-null   object \n",
      " 6   Position_x     4763 non-null   object \n",
      " 7   year           4763 non-null   int64  \n",
      " 8   Position_y     3133 non-null   object \n",
      " 9   Team_y         3133 non-null   object \n",
      " 10  Weekly Salary  3133 non-null   float64\n",
      "dtypes: float64(1), int64(5), object(5)\n",
      "memory usage: 446.5+ KB\n"
     ]
    }
   ],
   "source": [
    "eda_df = players_df.merge(salary_df[['Name', 'Position', 'Team', 'Weekly Salary', 'year']], how='left', left_on=['Name', 'year'], right_on=['Name', 'year'])\n",
    "eda_df.info()"
   ],
   "metadata": {
    "collapsed": false,
    "pycharm": {
     "name": "#%%\n"
    }
   }
  },
  {
   "cell_type": "code",
   "execution_count": 55,
   "outputs": [
    {
     "data": {
      "text/plain": "Unnamed: 0          0\nNo.                 0\nYear                0\nName                0\nAge                 0\nTeam_x              0\nPosition_x          0\nyear                0\nPosition_y       1630\nTeam_y           1630\nWeekly Salary    1630\ndtype: int64"
     },
     "execution_count": 55,
     "metadata": {},
     "output_type": "execute_result"
    }
   ],
   "source": [
    "eda_df.isnull().sum()"
   ],
   "metadata": {
    "collapsed": false,
    "pycharm": {
     "name": "#%%\n"
    }
   }
  },
  {
   "cell_type": "code",
   "execution_count": 56,
   "outputs": [
    {
     "data": {
      "text/plain": "Unnamed: 0       0.000000\nNo.              0.000000\nYear             0.000000\nName             0.000000\nAge              0.000000\nTeam_x           0.000000\nPosition_x       0.000000\nyear             0.000000\nPosition_y       0.342221\nTeam_y           0.342221\nWeekly Salary    0.342221\ndtype: float64"
     },
     "execution_count": 56,
     "metadata": {},
     "output_type": "execute_result"
    }
   ],
   "source": [
    "eda_df.isnull().mean()"
   ],
   "metadata": {
    "collapsed": false,
    "pycharm": {
     "name": "#%%\n"
    }
   }
  },
  {
   "cell_type": "code",
   "execution_count": 57,
   "outputs": [],
   "source": [
    "path = '../data/origin/capology/capology_{}.csv'"
   ],
   "metadata": {
    "collapsed": false,
    "pycharm": {
     "name": "#%%\n"
    }
   }
  },
  {
   "cell_type": "code",
   "execution_count": 58,
   "outputs": [
    {
     "name": "stdout",
     "output_type": "stream",
     "text": [
      "<class 'pandas.core.frame.DataFrame'>\n",
      "Int64Index: 6140 entries, 0 to 592\n",
      "Data columns (total 6 columns):\n",
      " #   Column   Non-Null Count  Dtype \n",
      "---  ------   --------------  ----- \n",
      " 0   name     6140 non-null   object\n",
      " 1   money-w  6140 non-null   int64 \n",
      " 2   money-y  6140 non-null   int64 \n",
      " 3   money-a  6140 non-null   int64 \n",
      " 4   team     6140 non-null   object\n",
      " 5   year     6140 non-null   int64 \n",
      "dtypes: int64(4), object(2)\n",
      "memory usage: 335.8+ KB\n"
     ]
    }
   ],
   "source": [
    "start_year, end_year = 2014, 2022\n",
    "salary_df = pd.DataFrame()\n",
    "for year in range(start_year, end_year + 1):\n",
    "    data = pd.read_csv(path.format(year))\n",
    "    data['year'] = year\n",
    "    salary_df = pd.concat([salary_df, data])\n",
    "salary_df.info()"
   ],
   "metadata": {
    "collapsed": false,
    "pycharm": {
     "name": "#%%\n"
    }
   }
  },
  {
   "cell_type": "code",
   "execution_count": 59,
   "outputs": [
    {
     "name": "stdout",
     "output_type": "stream",
     "text": [
      "<class 'pandas.core.frame.DataFrame'>\n",
      "Int64Index: 4938 entries, 0 to 4937\n",
      "Data columns (total 12 columns):\n",
      " #   Column      Non-Null Count  Dtype  \n",
      "---  ------      --------------  -----  \n",
      " 0   Unnamed: 0  4938 non-null   int64  \n",
      " 1   No.         4938 non-null   int64  \n",
      " 2   Year        4938 non-null   int64  \n",
      " 3   Name        4938 non-null   object \n",
      " 4   Age         4938 non-null   int64  \n",
      " 5   Team        4938 non-null   object \n",
      " 6   Position    4938 non-null   object \n",
      " 7   year        4938 non-null   int64  \n",
      " 8   money-y     4076 non-null   float64\n",
      " 9   money-w     4076 non-null   float64\n",
      " 10  money-a     4076 non-null   float64\n",
      " 11  name        4076 non-null   object \n",
      "dtypes: float64(3), int64(5), object(4)\n",
      "memory usage: 501.5+ KB\n"
     ]
    }
   ],
   "source": [
    "eda_df = players_df.merge(salary_df[['money-y','money-w','money-a','name', 'year']], how='left', left_on=['Name', 'year'], right_on=['name', 'year'])\n",
    "eda_df.info()"
   ],
   "metadata": {
    "collapsed": false,
    "pycharm": {
     "name": "#%%\n"
    }
   }
  },
  {
   "cell_type": "code",
   "execution_count": 60,
   "outputs": [
    {
     "data": {
      "text/plain": "Unnamed: 0    0.000000\nNo.           0.000000\nYear          0.000000\nName          0.000000\nAge           0.000000\nTeam          0.000000\nPosition      0.000000\nyear          0.000000\nmoney-y       0.174565\nmoney-w       0.174565\nmoney-a       0.174565\nname          0.174565\ndtype: float64"
     },
     "execution_count": 60,
     "metadata": {},
     "output_type": "execute_result"
    }
   ],
   "source": [
    "eda_df.isnull().mean()"
   ],
   "metadata": {
    "collapsed": false,
    "pycharm": {
     "name": "#%%\n"
    }
   }
  },
  {
   "cell_type": "code",
   "execution_count": 61,
   "outputs": [
    {
     "data": {
      "text/plain": "Unnamed: 0    0.000000\nNo.           0.000000\nYear          0.000000\nName          0.000000\nAge           0.000000\nTeam          0.000000\nPosition      0.000000\nyear          0.000000\nmoney-y       0.182696\nmoney-w       0.182696\nmoney-a       0.182696\nname          0.182696\ndtype: float64"
     },
     "execution_count": 61,
     "metadata": {},
     "output_type": "execute_result"
    }
   ],
   "source": [
    "eda_df = eda_df[~eda_df.duplicated(['year', 'Name'], keep='first')]\n",
    "eda_df.isnull().mean()"
   ],
   "metadata": {
    "collapsed": false,
    "pycharm": {
     "name": "#%%\n"
    }
   }
  },
  {
   "cell_type": "code",
   "execution_count": 64,
   "outputs": [],
   "source": [],
   "metadata": {
    "collapsed": false,
    "pycharm": {
     "name": "#%%\n"
    }
   }
  },
  {
   "cell_type": "code",
   "execution_count": 64,
   "outputs": [],
   "source": [],
   "metadata": {
    "collapsed": false,
    "pycharm": {
     "name": "#%%\n"
    }
   }
  }
 ],
 "metadata": {
  "kernelspec": {
   "display_name": "Python 3",
   "language": "python",
   "name": "python3"
  },
  "language_info": {
   "codemirror_mode": {
    "name": "ipython",
    "version": 2
   },
   "file_extension": ".py",
   "mimetype": "text/x-python",
   "name": "python",
   "nbconvert_exporter": "python",
   "pygments_lexer": "ipython2",
   "version": "2.7.6"
  }
 },
 "nbformat": 4,
 "nbformat_minor": 0
}