{
 "cells": [
  {
   "cell_type": "code",
   "execution_count": 1,
   "metadata": {
    "collapsed": true
   },
   "outputs": [],
   "source": [
    "import pandas as pd\n",
    "import numpy as np\n",
    "import seaborn as sns\n",
    "import matplotlib.pyplot as plt"
   ]
  },
  {
   "cell_type": "code",
   "execution_count": 2,
   "outputs": [],
   "source": [
    "path = '../data/origin/player/players_{}.csv'"
   ],
   "metadata": {
    "collapsed": false,
    "pycharm": {
     "name": "#%%\n"
    }
   }
  },
  {
   "cell_type": "code",
   "execution_count": 3,
   "outputs": [
    {
     "name": "stdout",
     "output_type": "stream",
     "text": [
      "<class 'pandas.core.frame.DataFrame'>\n",
      "Index: 4742 entries, 0 to 554\n",
      "Data columns (total 8 columns):\n",
      " #   Column      Non-Null Count  Dtype \n",
      "---  ------      --------------  ----- \n",
      " 0   Unnamed: 0  4742 non-null   int64 \n",
      " 1   No.         4742 non-null   int64 \n",
      " 2   Year        4742 non-null   int64 \n",
      " 3   Name        4742 non-null   object\n",
      " 4   Age         4742 non-null   int64 \n",
      " 5   Team        4742 non-null   object\n",
      " 6   Position    4742 non-null   object\n",
      " 7   year        4742 non-null   int64 \n",
      "dtypes: int64(5), object(3)\n",
      "memory usage: 333.4+ KB\n"
     ]
    }
   ],
   "source": [
    "start_year, end_year = 2014,2022\n",
    "players_df = pd.DataFrame()\n",
    "for year in range(start_year, end_year+1):\n",
    "    data = pd.read_csv(path.format(year))\n",
    "    data['year'] = year\n",
    "    players_df = pd.concat([players_df, data])\n",
    "players_df.info()"
   ],
   "metadata": {
    "collapsed": false,
    "pycharm": {
     "name": "#%%\n"
    }
   }
  },
  {
   "cell_type": "code",
   "execution_count": 4,
   "outputs": [
    {
     "data": {
      "text/plain": "   Unnamed: 0   No.  Year            Name  Age     Team    Position  year\n0           0   444  2014     Eden Hazard   23  Chelsea     Forward  2014\n1           1    73  2014  Alexis Sanchez   25  Arsenal     Forward  2014\n2           2   260  2014   Cesc Fabregas   27  Chelsea  Midfielder  2014\n3           3  1462  2014   Santi Cazorla   29  Arsenal  Midfielder  2014\n4           4  1159  2014      Mesut Ozil   25  Arsenal  Midfielder  2014",
      "text/html": "<div>\n<style scoped>\n    .dataframe tbody tr th:only-of-type {\n        vertical-align: middle;\n    }\n\n    .dataframe tbody tr th {\n        vertical-align: top;\n    }\n\n    .dataframe thead th {\n        text-align: right;\n    }\n</style>\n<table border=\"1\" class=\"dataframe\">\n  <thead>\n    <tr style=\"text-align: right;\">\n      <th></th>\n      <th>Unnamed: 0</th>\n      <th>No.</th>\n      <th>Year</th>\n      <th>Name</th>\n      <th>Age</th>\n      <th>Team</th>\n      <th>Position</th>\n      <th>year</th>\n    </tr>\n  </thead>\n  <tbody>\n    <tr>\n      <th>0</th>\n      <td>0</td>\n      <td>444</td>\n      <td>2014</td>\n      <td>Eden Hazard</td>\n      <td>23</td>\n      <td>Chelsea</td>\n      <td>Forward</td>\n      <td>2014</td>\n    </tr>\n    <tr>\n      <th>1</th>\n      <td>1</td>\n      <td>73</td>\n      <td>2014</td>\n      <td>Alexis Sanchez</td>\n      <td>25</td>\n      <td>Arsenal</td>\n      <td>Forward</td>\n      <td>2014</td>\n    </tr>\n    <tr>\n      <th>2</th>\n      <td>2</td>\n      <td>260</td>\n      <td>2014</td>\n      <td>Cesc Fabregas</td>\n      <td>27</td>\n      <td>Chelsea</td>\n      <td>Midfielder</td>\n      <td>2014</td>\n    </tr>\n    <tr>\n      <th>3</th>\n      <td>3</td>\n      <td>1462</td>\n      <td>2014</td>\n      <td>Santi Cazorla</td>\n      <td>29</td>\n      <td>Arsenal</td>\n      <td>Midfielder</td>\n      <td>2014</td>\n    </tr>\n    <tr>\n      <th>4</th>\n      <td>4</td>\n      <td>1159</td>\n      <td>2014</td>\n      <td>Mesut Ozil</td>\n      <td>25</td>\n      <td>Arsenal</td>\n      <td>Midfielder</td>\n      <td>2014</td>\n    </tr>\n  </tbody>\n</table>\n</div>"
     },
     "execution_count": 4,
     "metadata": {},
     "output_type": "execute_result"
    }
   ],
   "source": [
    "players_df.head()"
   ],
   "metadata": {
    "collapsed": false,
    "pycharm": {
     "name": "#%%\n"
    }
   }
  },
  {
   "cell_type": "code",
   "execution_count": 5,
   "outputs": [
    {
     "data": {
      "text/plain": "    Unnamed: 0  No.  Year         Name  Age     Team Position  year\n0            0  444  2014  Eden Hazard   23  Chelsea  Forward  2014\n74         609  444  2015  Eden Hazard   24  Chelsea  Forward  2015\n2         1084  444  2016  Eden Hazard   25  Chelsea  Forward  2016\n5         1616  444  2017  Eden Hazard   26  Chelsea  Forward  2017\n0         2127  444  2018  Eden Hazard   27  Chelsea  Forward  2018",
      "text/html": "<div>\n<style scoped>\n    .dataframe tbody tr th:only-of-type {\n        vertical-align: middle;\n    }\n\n    .dataframe tbody tr th {\n        vertical-align: top;\n    }\n\n    .dataframe thead th {\n        text-align: right;\n    }\n</style>\n<table border=\"1\" class=\"dataframe\">\n  <thead>\n    <tr style=\"text-align: right;\">\n      <th></th>\n      <th>Unnamed: 0</th>\n      <th>No.</th>\n      <th>Year</th>\n      <th>Name</th>\n      <th>Age</th>\n      <th>Team</th>\n      <th>Position</th>\n      <th>year</th>\n    </tr>\n  </thead>\n  <tbody>\n    <tr>\n      <th>0</th>\n      <td>0</td>\n      <td>444</td>\n      <td>2014</td>\n      <td>Eden Hazard</td>\n      <td>23</td>\n      <td>Chelsea</td>\n      <td>Forward</td>\n      <td>2014</td>\n    </tr>\n    <tr>\n      <th>74</th>\n      <td>609</td>\n      <td>444</td>\n      <td>2015</td>\n      <td>Eden Hazard</td>\n      <td>24</td>\n      <td>Chelsea</td>\n      <td>Forward</td>\n      <td>2015</td>\n    </tr>\n    <tr>\n      <th>2</th>\n      <td>1084</td>\n      <td>444</td>\n      <td>2016</td>\n      <td>Eden Hazard</td>\n      <td>25</td>\n      <td>Chelsea</td>\n      <td>Forward</td>\n      <td>2016</td>\n    </tr>\n    <tr>\n      <th>5</th>\n      <td>1616</td>\n      <td>444</td>\n      <td>2017</td>\n      <td>Eden Hazard</td>\n      <td>26</td>\n      <td>Chelsea</td>\n      <td>Forward</td>\n      <td>2017</td>\n    </tr>\n    <tr>\n      <th>0</th>\n      <td>2127</td>\n      <td>444</td>\n      <td>2018</td>\n      <td>Eden Hazard</td>\n      <td>27</td>\n      <td>Chelsea</td>\n      <td>Forward</td>\n      <td>2018</td>\n    </tr>\n  </tbody>\n</table>\n</div>"
     },
     "execution_count": 5,
     "metadata": {},
     "output_type": "execute_result"
    }
   ],
   "source": [
    "players_df[players_df.Name=='Eden Hazard']"
   ],
   "metadata": {
    "collapsed": false,
    "pycharm": {
     "name": "#%%\n"
    }
   }
  },
  {
   "cell_type": "code",
   "execution_count": 6,
   "outputs": [],
   "source": [
    "players_df = players_df.rename(columns={'Unnamed: 0':'Id'})\n",
    "players_df.head()"
   ],
   "metadata": {
    "collapsed": false,
    "pycharm": {
     "name": "#%%\n"
    }
   }
  },
  {
   "cell_type": "code",
   "execution_count": 7,
   "outputs": [],
   "source": [
    "players_df.to_csv('../data/new/players_all.csv', index=False)"
   ],
   "metadata": {
    "collapsed": false,
    "pycharm": {
     "name": "#%%\n"
    }
   }
  },
  {
   "cell_type": "code",
   "execution_count": 7,
   "outputs": [],
   "source": [],
   "metadata": {
    "collapsed": false,
    "pycharm": {
     "name": "#%%\n"
    }
   }
  },
  {
   "cell_type": "code",
   "execution_count": 7,
   "outputs": [],
   "source": [],
   "metadata": {
    "collapsed": false,
    "pycharm": {
     "name": "#%%\n"
    }
   }
  },
  {
   "cell_type": "code",
   "execution_count": 7,
   "outputs": [],
   "source": [],
   "metadata": {
    "collapsed": false,
    "pycharm": {
     "name": "#%%\n"
    }
   }
  },
  {
   "cell_type": "code",
   "execution_count": 7,
   "outputs": [],
   "source": [],
   "metadata": {
    "collapsed": false,
    "pycharm": {
     "name": "#%%\n"
    }
   }
  },
  {
   "cell_type": "code",
   "execution_count": 7,
   "outputs": [],
   "source": [],
   "metadata": {
    "collapsed": false,
    "pycharm": {
     "name": "#%%\n"
    }
   }
  },
  {
   "cell_type": "code",
   "execution_count": 7,
   "outputs": [],
   "source": [],
   "metadata": {
    "collapsed": false,
    "pycharm": {
     "name": "#%%\n"
    }
   }
  },
  {
   "cell_type": "code",
   "execution_count": 7,
   "outputs": [],
   "source": [],
   "metadata": {
    "collapsed": false,
    "pycharm": {
     "name": "#%%\n"
    }
   }
  },
  {
   "cell_type": "code",
   "execution_count": 7,
   "outputs": [],
   "source": [],
   "metadata": {
    "collapsed": false,
    "pycharm": {
     "name": "#%%\n"
    }
   }
  }
 ],
 "metadata": {
  "kernelspec": {
   "display_name": "Python 3",
   "language": "python",
   "name": "python3"
  },
  "language_info": {
   "codemirror_mode": {
    "name": "ipython",
    "version": 2
   },
   "file_extension": ".py",
   "mimetype": "text/x-python",
   "name": "python",
   "nbconvert_exporter": "python",
   "pygments_lexer": "ipython2",
   "version": "2.7.6"
  }
 },
 "nbformat": 4,
 "nbformat_minor": 0
}