{
 "cells": [
  {
   "cell_type": "code",
   "execution_count": 1,
   "metadata": {
    "collapsed": true
   },
   "outputs": [],
   "source": [
    "import pandas as pd\n",
    "import numpy as np\n",
    "import matplotlib.pyplot as plt\n",
    "import seaborn as sns"
   ]
  },
  {
   "cell_type": "code",
   "execution_count": 2,
   "outputs": [],
   "source": [
    "# plyaer data load 및 정리(프로필)\n",
    "player_df = pd.read_csv('../data/new/players_all.csv')\n",
    "player_df = player_df.rename(columns={'Unnamed: 0':'Id'}).drop(['No.', 'Id'], axis=1)"
   ],
   "metadata": {
    "collapsed": false,
    "pycharm": {
     "name": "#%%\n"
    }
   }
  },
  {
   "cell_type": "code",
   "execution_count": 3,
   "outputs": [],
   "source": [
    "# 1xbet data load 및 정리(스텟)\n",
    "xbet_df = pd.read_csv('../data/new/1xbet_all.csv')\n",
    "xbet_df = xbet_df.drop(['Team','Age','Position'], axis=1).rename(columns={'Drb_x':'Drb_Off', 'Drb_y':'Drb_Def'})"
   ],
   "metadata": {
    "collapsed": false,
    "pycharm": {
     "name": "#%%\n"
    }
   }
  },
  {
   "cell_type": "code",
   "execution_count": 4,
   "outputs": [],
   "source": [
    "# understat data load 및 정리(스텟)\n",
    "understat_df = pd.read_csv('../data/new/understat_all.csv')\n",
    "understat_df = understat_df.drop(['No','Team'], axis=1)"
   ],
   "metadata": {
    "collapsed": false,
    "pycharm": {
     "name": "#%%\n"
    }
   }
  },
  {
   "cell_type": "code",
   "execution_count": 5,
   "outputs": [],
   "source": [
    "# capology load(연봉)\n",
    "capology_df = pd.read_csv('../data/new/capology_all.csv')"
   ],
   "metadata": {
    "collapsed": false,
    "pycharm": {
     "name": "#%%\n"
    }
   }
  },
  {
   "cell_type": "code",
   "execution_count": 6,
   "outputs": [],
   "source": [
    "# 프로필 + 연봉\n",
    "eda_df = player_df.merge(capology_df[['Weekly Salary','Base Salary','ADJ Salary','Name', 'year']], how='left', left_on=['Name', 'year'], right_on=['Name', 'year'])\n",
    "eda_df = eda_df[~eda_df.duplicated(['year', 'Name'], keep='first')] # 중복 제거"
   ],
   "metadata": {
    "collapsed": false,
    "pycharm": {
     "name": "#%%\n"
    }
   }
  },
  {
   "cell_type": "code",
   "execution_count": 7,
   "outputs": [],
   "source": [
    "# 프로필 + 연봉 + 스텟(understat)\n",
    "eda_df = eda_df.merge(understat_df, how='left', left_on=['Name', 'year'], right_on=['Name', 'year'])"
   ],
   "metadata": {
    "collapsed": false,
    "pycharm": {
     "name": "#%%\n"
    }
   }
  },
  {
   "cell_type": "code",
   "execution_count": 8,
   "outputs": [],
   "source": [
    "# 프로필 + 연봉 + 스텟(understat) + 스텟(1xbet)\n",
    "eda_df = eda_df.merge(\n",
    "    xbet_df[[\n",
    "        'Name', 'year', 'SpG', 'KeyP', 'Drb_Off', 'Fouled', 'Off',\n",
    "        'Disp', 'UnsTch', 'Rating', 'Tackles', 'Inter','Fouls',\n",
    "        'Offsides', 'Clear', 'Drb_Def', 'Blocks', 'AvgP', 'PS%']],\n",
    "    how='left',\n",
    "    left_on=['Name', 'year'],\n",
    "    right_on=['Name', 'year']\n",
    ")"
   ],
   "metadata": {
    "collapsed": false,
    "pycharm": {
     "name": "#%%\n"
    }
   }
  },
  {
   "cell_type": "code",
   "execution_count": 9,
   "outputs": [
    {
     "name": "stdout",
     "output_type": "stream",
     "text": [
      "<class 'pandas.core.frame.DataFrame'>\n",
      "Int64Index: 4756 entries, 0 to 4755\n",
      "Data columns (total 42 columns):\n",
      " #   Column         Non-Null Count  Dtype  \n",
      "---  ------         --------------  -----  \n",
      " 0   year           4756 non-null   int64  \n",
      " 1   Name           4756 non-null   object \n",
      " 2   Age            4756 non-null   int64  \n",
      " 3   Team           4756 non-null   object \n",
      " 4   Position       4756 non-null   object \n",
      " 5   Weekly Salary  4598 non-null   float64\n",
      " 6   Base Salary    4598 non-null   float64\n",
      " 7   ADJ Salary     4598 non-null   float64\n",
      " 8   Apps           4744 non-null   float64\n",
      " 9   Min            4744 non-null   float64\n",
      " 10  G              4744 non-null   float64\n",
      " 11  NPG            4744 non-null   float64\n",
      " 12  A              4744 non-null   float64\n",
      " 13  xG             4744 non-null   float64\n",
      " 14  NPxG           4744 non-null   float64\n",
      " 15  xA             4744 non-null   float64\n",
      " 16  xGChain        4744 non-null   float64\n",
      " 17  xGBuildup      4744 non-null   float64\n",
      " 18  xG90           4744 non-null   float64\n",
      " 19  NPxG90         4744 non-null   float64\n",
      " 20  xA90           4744 non-null   float64\n",
      " 21  xG90+xA90      4744 non-null   float64\n",
      " 22  NPxG90+xA90    4744 non-null   float64\n",
      " 23  xGChain90      4744 non-null   float64\n",
      " 24  xGBuildup90    4744 non-null   float64\n",
      " 25  SpG            4756 non-null   float64\n",
      " 26  KeyP           4756 non-null   float64\n",
      " 27  Drb_Off        4756 non-null   float64\n",
      " 28  Fouled         4756 non-null   float64\n",
      " 29  Off            4756 non-null   float64\n",
      " 30  Disp           4756 non-null   float64\n",
      " 31  UnsTch         4756 non-null   float64\n",
      " 32  Rating         4756 non-null   float64\n",
      " 33  Tackles        4756 non-null   float64\n",
      " 34  Inter          4756 non-null   float64\n",
      " 35  Fouls          4756 non-null   float64\n",
      " 36  Offsides       4756 non-null   float64\n",
      " 37  Clear          4756 non-null   float64\n",
      " 38  Drb_Def        4756 non-null   float64\n",
      " 39  Blocks         4756 non-null   float64\n",
      " 40  AvgP           4756 non-null   float64\n",
      " 41  PS%            4756 non-null   float64\n",
      "dtypes: float64(37), int64(2), object(3)\n",
      "memory usage: 1.6+ MB\n"
     ]
    }
   ],
   "source": [
    "eda_df.info()"
   ],
   "metadata": {
    "collapsed": false,
    "pycharm": {
     "name": "#%%\n"
    }
   }
  },
  {
   "cell_type": "code",
   "execution_count": 10,
   "outputs": [],
   "source": [
    "eda_df = eda_df.dropna()"
   ],
   "metadata": {
    "collapsed": false,
    "pycharm": {
     "name": "#%%\n"
    }
   }
  },
  {
   "cell_type": "code",
   "execution_count": 11,
   "outputs": [
    {
     "data": {
      "text/plain": "          year      Age  Weekly Salary  Base Salary   ADJ Salary     Apps  \\\ncount  4588.00  4588.00        4588.00      4588.00      4588.00  4588.00   \nmean   2017.93    25.91       53921.12   2803898.52   3076834.48    20.58   \nstd       2.60     4.21       52782.05   2744666.44   2942732.53    11.49   \nmin    2014.00    15.00           0.00         0.00         0.00     1.00   \n25%    2016.00    23.00       20000.00   1040000.00   1252784.00    11.00   \n50%    2018.00    26.00       40000.00   2080000.00   2301310.00    22.00   \n75%    2020.00    29.00       70000.00   3640000.00   4071549.00    31.00   \nmax    2022.00    41.00      600000.00  31200000.00  33671679.00    38.00   \n\n           Min        G      NPG        A  ...   Rating  Tackles    Inter  \\\ncount  4588.00  4588.00  4588.00  4588.00  ...  4588.00  4588.00  4588.00   \nmean   1466.58     1.96     1.81     1.39  ...     6.65     1.12     0.78   \nstd    1032.21     3.52     3.18     2.19  ...     0.36     0.84     0.70   \nmin       1.00     0.00     0.00     0.00  ...     4.95     0.00     0.00   \n25%     532.50     0.00     0.00     0.00  ...     6.40     0.50     0.18   \n50%    1390.00     1.00     1.00     1.00  ...     6.65     1.00     0.65   \n75%    2326.25     2.00     2.00     2.00  ...     6.88     1.63     1.20   \nmax    3420.00    36.00    31.00    20.00  ...     8.34     7.00     4.22   \n\n         Fouls  Offsides    Clear  Drb_Def   Blocks     AvgP      PS%  \ncount  4588.00   4588.00  4588.00  4588.00  4588.00  4588.00  4588.00  \nmean      0.70      0.13     1.53     0.61     0.22    29.00    76.91  \nstd       0.46      0.23     1.75     0.48     0.29    16.44    12.42  \nmin       0.00      0.00     0.00     0.00     0.00     0.00     0.00  \n25%       0.38      0.00     0.33     0.25     0.00    17.00    72.73  \n50%       0.68      0.00     0.86     0.53     0.11    27.29    79.32  \n75%       1.00      0.15     2.09     0.88     0.33    38.44    84.32  \nmax       4.00      2.00    11.50     4.00     2.05    90.41   100.00  \n\n[8 rows x 39 columns]",
      "text/html": "<div>\n<style scoped>\n    .dataframe tbody tr th:only-of-type {\n        vertical-align: middle;\n    }\n\n    .dataframe tbody tr th {\n        vertical-align: top;\n    }\n\n    .dataframe thead th {\n        text-align: right;\n    }\n</style>\n<table border=\"1\" class=\"dataframe\">\n  <thead>\n    <tr style=\"text-align: right;\">\n      <th></th>\n      <th>year</th>\n      <th>Age</th>\n      <th>Weekly Salary</th>\n      <th>Base Salary</th>\n      <th>ADJ Salary</th>\n      <th>Apps</th>\n      <th>Min</th>\n      <th>G</th>\n      <th>NPG</th>\n      <th>A</th>\n      <th>...</th>\n      <th>Rating</th>\n      <th>Tackles</th>\n      <th>Inter</th>\n      <th>Fouls</th>\n      <th>Offsides</th>\n      <th>Clear</th>\n      <th>Drb_Def</th>\n      <th>Blocks</th>\n      <th>AvgP</th>\n      <th>PS%</th>\n    </tr>\n  </thead>\n  <tbody>\n    <tr>\n      <th>count</th>\n      <td>4588.00</td>\n      <td>4588.00</td>\n      <td>4588.00</td>\n      <td>4588.00</td>\n      <td>4588.00</td>\n      <td>4588.00</td>\n      <td>4588.00</td>\n      <td>4588.00</td>\n      <td>4588.00</td>\n      <td>4588.00</td>\n      <td>...</td>\n      <td>4588.00</td>\n      <td>4588.00</td>\n      <td>4588.00</td>\n      <td>4588.00</td>\n      <td>4588.00</td>\n      <td>4588.00</td>\n      <td>4588.00</td>\n      <td>4588.00</td>\n      <td>4588.00</td>\n      <td>4588.00</td>\n    </tr>\n    <tr>\n      <th>mean</th>\n      <td>2017.93</td>\n      <td>25.91</td>\n      <td>53921.12</td>\n      <td>2803898.52</td>\n      <td>3076834.48</td>\n      <td>20.58</td>\n      <td>1466.58</td>\n      <td>1.96</td>\n      <td>1.81</td>\n      <td>1.39</td>\n      <td>...</td>\n      <td>6.65</td>\n      <td>1.12</td>\n      <td>0.78</td>\n      <td>0.70</td>\n      <td>0.13</td>\n      <td>1.53</td>\n      <td>0.61</td>\n      <td>0.22</td>\n      <td>29.00</td>\n      <td>76.91</td>\n    </tr>\n    <tr>\n      <th>std</th>\n      <td>2.60</td>\n      <td>4.21</td>\n      <td>52782.05</td>\n      <td>2744666.44</td>\n      <td>2942732.53</td>\n      <td>11.49</td>\n      <td>1032.21</td>\n      <td>3.52</td>\n      <td>3.18</td>\n      <td>2.19</td>\n      <td>...</td>\n      <td>0.36</td>\n      <td>0.84</td>\n      <td>0.70</td>\n      <td>0.46</td>\n      <td>0.23</td>\n      <td>1.75</td>\n      <td>0.48</td>\n      <td>0.29</td>\n      <td>16.44</td>\n      <td>12.42</td>\n    </tr>\n    <tr>\n      <th>min</th>\n      <td>2014.00</td>\n      <td>15.00</td>\n      <td>0.00</td>\n      <td>0.00</td>\n      <td>0.00</td>\n      <td>1.00</td>\n      <td>1.00</td>\n      <td>0.00</td>\n      <td>0.00</td>\n      <td>0.00</td>\n      <td>...</td>\n      <td>4.95</td>\n      <td>0.00</td>\n      <td>0.00</td>\n      <td>0.00</td>\n      <td>0.00</td>\n      <td>0.00</td>\n      <td>0.00</td>\n      <td>0.00</td>\n      <td>0.00</td>\n      <td>0.00</td>\n    </tr>\n    <tr>\n      <th>25%</th>\n      <td>2016.00</td>\n      <td>23.00</td>\n      <td>20000.00</td>\n      <td>1040000.00</td>\n      <td>1252784.00</td>\n      <td>11.00</td>\n      <td>532.50</td>\n      <td>0.00</td>\n      <td>0.00</td>\n      <td>0.00</td>\n      <td>...</td>\n      <td>6.40</td>\n      <td>0.50</td>\n      <td>0.18</td>\n      <td>0.38</td>\n      <td>0.00</td>\n      <td>0.33</td>\n      <td>0.25</td>\n      <td>0.00</td>\n      <td>17.00</td>\n      <td>72.73</td>\n    </tr>\n    <tr>\n      <th>50%</th>\n      <td>2018.00</td>\n      <td>26.00</td>\n      <td>40000.00</td>\n      <td>2080000.00</td>\n      <td>2301310.00</td>\n      <td>22.00</td>\n      <td>1390.00</td>\n      <td>1.00</td>\n      <td>1.00</td>\n      <td>1.00</td>\n      <td>...</td>\n      <td>6.65</td>\n      <td>1.00</td>\n      <td>0.65</td>\n      <td>0.68</td>\n      <td>0.00</td>\n      <td>0.86</td>\n      <td>0.53</td>\n      <td>0.11</td>\n      <td>27.29</td>\n      <td>79.32</td>\n    </tr>\n    <tr>\n      <th>75%</th>\n      <td>2020.00</td>\n      <td>29.00</td>\n      <td>70000.00</td>\n      <td>3640000.00</td>\n      <td>4071549.00</td>\n      <td>31.00</td>\n      <td>2326.25</td>\n      <td>2.00</td>\n      <td>2.00</td>\n      <td>2.00</td>\n      <td>...</td>\n      <td>6.88</td>\n      <td>1.63</td>\n      <td>1.20</td>\n      <td>1.00</td>\n      <td>0.15</td>\n      <td>2.09</td>\n      <td>0.88</td>\n      <td>0.33</td>\n      <td>38.44</td>\n      <td>84.32</td>\n    </tr>\n    <tr>\n      <th>max</th>\n      <td>2022.00</td>\n      <td>41.00</td>\n      <td>600000.00</td>\n      <td>31200000.00</td>\n      <td>33671679.00</td>\n      <td>38.00</td>\n      <td>3420.00</td>\n      <td>36.00</td>\n      <td>31.00</td>\n      <td>20.00</td>\n      <td>...</td>\n      <td>8.34</td>\n      <td>7.00</td>\n      <td>4.22</td>\n      <td>4.00</td>\n      <td>2.00</td>\n      <td>11.50</td>\n      <td>4.00</td>\n      <td>2.05</td>\n      <td>90.41</td>\n      <td>100.00</td>\n    </tr>\n  </tbody>\n</table>\n<p>8 rows × 39 columns</p>\n</div>"
     },
     "execution_count": 11,
     "metadata": {},
     "output_type": "execute_result"
    }
   ],
   "source": [
    "round(eda_df.describe(), 2)"
   ],
   "metadata": {
    "collapsed": false,
    "pycharm": {
     "name": "#%%\n"
    }
   }
  },
  {
   "cell_type": "code",
   "execution_count": 12,
   "outputs": [
    {
     "data": {
      "text/plain": "<Axes: xlabel='Age', ylabel='Density'>"
     },
     "execution_count": 12,
     "metadata": {},
     "output_type": "execute_result"
    },
    {
     "data": {
      "text/plain": "<Figure size 640x480 with 1 Axes>",
      "image/png": "[encoded data removed]"
     },
     "metadata": {},
     "output_type": "display_data"
    }
   ],
   "source": [
    "sns.kdeplot(data=eda_df[eda_df['Min']>1000], x='Age')"
   ],
   "metadata": {
    "collapsed": false,
    "pycharm": {
     "name": "#%%\n"
    }
   }
  },
  {
   "cell_type": "code",
   "execution_count": 13,
   "outputs": [],
   "source": [
    "eda_df['Age Lev'] = eda_df['Age'].apply(lambda age: '<23' if age < 23 else '<25' if age <25 else '<27' if age<27 else '<30' if age<30 else '<33' if age<33 else '>33')"
   ],
   "metadata": {
    "collapsed": false,
    "pycharm": {
     "name": "#%%\n"
    }
   }
  },
  {
   "cell_type": "code",
   "execution_count": 14,
   "outputs": [
    {
     "data": {
      "text/plain": "      year                Name  Age               Team    Position  \\\n4745  2022        Alex Mighten   20  Nottingham Forest     Forward   \n4746  2022         Jamal Lewis   24          Newcastle    Defender   \n4747  2022      Maximo Perrone   19           Man City  Midfielder   \n4750  2022  Nathaniel Chalobah   27             Fulham  Midfielder   \n4754  2022         Shane Duffy   30             Fulham    Defender   \n\n      Weekly Salary  Base Salary  ADJ Salary  Apps   Min  ...  Tackles  Inter  \\\n4745         3462.0     180000.0    180000.0   1.0   5.0  ...     0.00    0.0   \n4746        38000.0    1976000.0   1976000.0   2.0   4.0  ...     0.00    0.0   \n4747        30000.0    1560000.0   1560000.0   1.0  17.0  ...     0.00    0.0   \n4750        35000.0    1820000.0   1820000.0   4.0  10.0  ...     0.25    0.0   \n4754        40000.0    2080000.0   2080000.0   5.0  16.0  ...     0.00    0.0   \n\n      Fouls  Offsides  Clear  Drb_Def  Blocks   AvgP         PS%  Age Lev  \n4745    0.0       0.0    0.0      1.0     0.0   1.00  100.000000      <23  \n4746    0.0       0.0    0.0      0.0     0.0   7.00   85.714286      <25  \n4747    0.0       0.0    0.0      0.0     0.0  20.00   90.000000      <23  \n4750    0.5       0.0    0.5      0.0     0.0   1.25   80.000000      <30  \n4754    0.0       0.0    0.0      0.0     0.0   4.00   80.000000      <33  \n\n[5 rows x 43 columns]",
      "text/html": "<div>\n<style scoped>\n    .dataframe tbody tr th:only-of-type {\n        vertical-align: middle;\n    }\n\n    .dataframe tbody tr th {\n        vertical-align: top;\n    }\n\n    .dataframe thead th {\n        text-align: right;\n    }\n</style>\n<table border=\"1\" class=\"dataframe\">\n  <thead>\n    <tr style=\"text-align: right;\">\n      <th></th>\n      <th>year</th>\n      <th>Name</th>\n      <th>Age</th>\n      <th>Team</th>\n      <th>Position</th>\n      <th>Weekly Salary</th>\n      <th>Base Salary</th>\n      <th>ADJ Salary</th>\n      <th>Apps</th>\n      <th>Min</th>\n      <th>...</th>\n      <th>Tackles</th>\n      <th>Inter</th>\n      <th>Fouls</th>\n      <th>Offsides</th>\n      <th>Clear</th>\n      <th>Drb_Def</th>\n      <th>Blocks</th>\n      <th>AvgP</th>\n      <th>PS%</th>\n      <th>Age Lev</th>\n    </tr>\n  </thead>\n  <tbody>\n    <tr>\n      <th>4745</th>\n      <td>2022</td>\n      <td>Alex Mighten</td>\n      <td>20</td>\n      <td>Nottingham Forest</td>\n      <td>Forward</td>\n      <td>3462.0</td>\n      <td>180000.0</td>\n      <td>180000.0</td>\n      <td>1.0</td>\n      <td>5.0</td>\n      <td>...</td>\n      <td>0.00</td>\n      <td>0.0</td>\n      <td>0.0</td>\n      <td>0.0</td>\n      <td>0.0</td>\n      <td>1.0</td>\n      <td>0.0</td>\n      <td>1.00</td>\n      <td>100.000000</td>\n      <td>&lt;23</td>\n    </tr>\n    <tr>\n      <th>4746</th>\n      <td>2022</td>\n      <td>Jamal Lewis</td>\n      <td>24</td>\n      <td>Newcastle</td>\n      <td>Defender</td>\n      <td>38000.0</td>\n      <td>1976000.0</td>\n      <td>1976000.0</td>\n      <td>2.0</td>\n      <td>4.0</td>\n      <td>...</td>\n      <td>0.00</td>\n      <td>0.0</td>\n      <td>0.0</td>\n      <td>0.0</td>\n      <td>0.0</td>\n      <td>0.0</td>\n      <td>0.0</td>\n      <td>7.00</td>\n      <td>85.714286</td>\n      <td>&lt;25</td>\n    </tr>\n    <tr>\n      <th>4747</th>\n      <td>2022</td>\n      <td>Maximo Perrone</td>\n      <td>19</td>\n      <td>Man City</td>\n      <td>Midfielder</td>\n      <td>30000.0</td>\n      <td>1560000.0</td>\n      <td>1560000.0</td>\n      <td>1.0</td>\n      <td>17.0</td>\n      <td>...</td>\n      <td>0.00</td>\n      <td>0.0</td>\n      <td>0.0</td>\n      <td>0.0</td>\n      <td>0.0</td>\n      <td>0.0</td>\n      <td>0.0</td>\n      <td>20.00</td>\n      <td>90.000000</td>\n      <td>&lt;23</td>\n    </tr>\n    <tr>\n      <th>4750</th>\n      <td>2022</td>\n      <td>Nathaniel Chalobah</td>\n      <td>27</td>\n      <td>Fulham</td>\n      <td>Midfielder</td>\n      <td>35000.0</td>\n      <td>1820000.0</td>\n      <td>1820000.0</td>\n      <td>4.0</td>\n      <td>10.0</td>\n      <td>...</td>\n      <td>0.25</td>\n      <td>0.0</td>\n      <td>0.5</td>\n      <td>0.0</td>\n      <td>0.5</td>\n      <td>0.0</td>\n      <td>0.0</td>\n      <td>1.25</td>\n      <td>80.000000</td>\n      <td>&lt;30</td>\n    </tr>\n    <tr>\n      <th>4754</th>\n      <td>2022</td>\n      <td>Shane Duffy</td>\n      <td>30</td>\n      <td>Fulham</td>\n      <td>Defender</td>\n      <td>40000.0</td>\n      <td>2080000.0</td>\n      <td>2080000.0</td>\n      <td>5.0</td>\n      <td>16.0</td>\n      <td>...</td>\n      <td>0.00</td>\n      <td>0.0</td>\n      <td>0.0</td>\n      <td>0.0</td>\n      <td>0.0</td>\n      <td>0.0</td>\n      <td>0.0</td>\n      <td>4.00</td>\n      <td>80.000000</td>\n      <td>&lt;33</td>\n    </tr>\n  </tbody>\n</table>\n<p>5 rows × 43 columns</p>\n</div>"
     },
     "execution_count": 14,
     "metadata": {},
     "output_type": "execute_result"
    }
   ],
   "source": [
    "eda_df.tail()"
   ],
   "metadata": {
    "collapsed": false,
    "pycharm": {
     "name": "#%%\n"
    }
   }
  },
  {
   "cell_type": "code",
   "execution_count": 15,
   "outputs": [
    {
     "data": {
      "text/plain": "                           year        Age  Weekly Salary   Base Salary  \\\nPosition   Age Lev                                                        \nDefender   <23      2018.208333  20.937500   39674.885417  2.063094e+06   \n           <25      2018.386861  23.583942   55395.423358  2.880562e+06   \n           <27      2017.827381  25.482143   51796.702381  2.693429e+06   \n           <30      2017.884615  27.952991   59403.675214  3.088991e+06   \n           <33      2018.111111  30.833333   58106.972222  3.021562e+06   \n           >33      2016.906977  34.000000   56290.697674  2.927116e+06   \nForward    <23      2017.904110  20.863014   74593.767123  3.878877e+06   \n           <25      2018.185714  23.542857   81212.928571  4.223071e+06   \n           <27      2017.738636  25.465909   82777.750000  4.304443e+06   \n           <30      2017.880734  27.972477   96257.587156  5.005394e+06   \n           <33      2018.767442  30.581395  108162.348837  5.624442e+06   \n           >33      2018.166667  34.000000  120416.666667  6.261667e+06   \nGoalkeeper <23      2018.909091  21.454545   24545.454545  1.276364e+06   \n           <25      2017.705882  23.647059   84558.823529  4.397059e+06   \n           <27      2017.619048  25.523810   73333.333333  3.813333e+06   \n           <30      2017.846154  27.984615   69428.692308  3.610292e+06   \n           <33      2017.947368  30.868421   78154.868421  4.064053e+06   \n           >33      2018.230769  34.358974   60897.435897  3.166667e+06   \nMidfielder <23      2018.504673  20.971963   54873.289720  2.853411e+06   \n           <25      2018.097222  23.555556   59596.152778  3.099000e+06   \n           <27      2017.818713  25.467836   67623.929825  3.516444e+06   \n           <30      2017.857820  27.909953   77684.383886  4.039588e+06   \n           <33      2017.777778  30.737374   80831.010101  4.203212e+06   \n           >33      2017.952381  33.809524   95846.142857  4.984000e+06   \n\n                      ADJ Salary       Apps          Min          G       NPG  \\\nPosition   Age Lev                                                              \nDefender   <23      2.263488e+06  28.395833  2334.572917   0.854167  0.854167   \n           <25      3.119764e+06  28.773723  2418.335766   1.109489  1.109489   \n           <27      2.982028e+06  29.142857  2457.303571   1.154762  1.148810   \n           <30      3.389427e+06  28.987179  2463.782051   1.145299  1.123932   \n           <33      3.307410e+06  29.138889  2468.465278   1.097222  1.069444   \n           >33      3.287142e+06  27.069767  2255.837209   1.116279  1.116279   \nForward    <23      4.239725e+06  32.095890  2241.931507   7.986301  7.479452   \n           <25      4.654376e+06  32.300000  2395.271429   9.257143  8.700000   \n           <27      4.792931e+06  32.261364  2440.579545   9.954545  8.931818   \n           <30      5.512200e+06  32.678899  2375.752294  10.311927  9.155963   \n           <33      6.101030e+06  32.046512  2275.767442   9.581395  8.302326   \n           >33      6.634285e+06  32.166667  2214.000000  10.750000  8.583333   \nGoalkeeper <23      1.427338e+06  33.545455  3010.818182   0.000000  0.000000   \n           <25      4.958839e+06  31.941176  2866.705882   0.000000  0.000000   \n           <27      4.280296e+06  31.857143  2846.619048   0.000000  0.000000   \n           <30      3.952947e+06  31.753846  2848.476923   0.015385  0.015385   \n           <33      4.408228e+06  29.894737  2683.289474   0.000000  0.000000   \n           >33      3.434263e+06  31.435897  2810.051282   0.000000  0.000000   \nMidfielder <23      3.072916e+06  31.177570  2299.728972   3.794393  3.607477   \n           <25      3.421534e+06  30.993056  2350.027778   3.541667  3.326389   \n           <27      3.882191e+06  31.695906  2413.631579   3.391813  3.087719   \n           <30      4.459959e+06  30.682464  2331.568720   2.843602  2.459716   \n           <33      4.572442e+06  30.191919  2282.282828   2.272727  1.939394   \n           >33      5.527751e+06  29.190476  2173.000000   1.761905  1.476190   \n\n                           A  ...    Rating   Tackles     Inter     Fouls  \\\nPosition   Age Lev            ...                                           \nDefender   <23      1.552083  ...  6.844537  1.731692  1.427347  0.727860   \n           <25      1.540146  ...  6.861063  1.731912  1.397206  0.817056   \n           <27      1.398810  ...  6.871861  1.657565  1.459016  0.806375   \n           <30      1.414530  ...  6.868021  1.623164  1.519336  0.804590   \n           <33      1.201389  ...  6.823209  1.512348  1.481129  0.743057   \n           >33      0.697674  ...  6.821799  1.433416  1.585303  0.759957   \nForward    <23      3.589041  ...  6.899413  0.835380  0.395722  0.833094   \n           <25      4.214286  ...  7.007853  0.872636  0.412235  0.952726   \n           <27      3.795455  ...  6.999231  0.875713  0.439667  0.998722   \n           <30      4.192661  ...  6.950004  0.773303  0.353813  0.966614   \n           <33      3.674419  ...  6.845665  0.707253  0.274330  0.843494   \n           >33      3.250000  ...  6.816386  0.361714  0.132540  1.075444   \nGoalkeeper <23      0.090909  ...  6.695973  0.029101  0.025596  0.020171   \n           <25      0.000000  ...  6.608750  0.021191  0.025093  0.022213   \n           <27      0.190476  ...  6.701243  0.016737  0.029150  0.022151   \n           <30      0.138462  ...  6.692147  0.023712  0.031725  0.016129   \n           <33      0.052632  ...  6.645203  0.020847  0.021970  0.014767   \n           >33      0.025641  ...  6.660125  0.024535  0.031097  0.018860   \nMidfielder <23      3.392523  ...  6.857012  1.584671  0.869492  0.960285   \n           <25      3.340278  ...  6.913926  1.778037  1.099751  1.035315   \n           <27      3.128655  ...  6.861911  1.732233  1.040547  0.979648   \n           <30      2.881517  ...  6.836359  1.744970  1.107379  0.998589   \n           <33      2.868687  ...  6.804233  1.616337  1.091181  0.970036   \n           >33      1.761905  ...  6.772482  1.737090  1.073753  0.937802   \n\n                    Offsides     Clear   Drb_Def    Blocks       AvgP  \\\nPosition   Age Lev                                                      \nDefender   <23      0.377028  3.318697  0.625182  0.506470  42.392977   \n           <25      0.380476  3.510291  0.638055  0.504028  44.552832   \n           <27      0.363847  3.764116  0.642896  0.530082  42.713800   \n           <30      0.405466  3.872239  0.608767  0.565476  42.955833   \n           <33      0.421367  3.909336  0.603664  0.584624  43.119474   \n           >33      0.430087  4.934897  0.503956  0.714259  36.570050   \nForward    <23      0.007525  0.437064  0.616192  0.060633  22.216574   \n           <25      0.012538  0.498811  0.659954  0.069891  22.628652   \n           <27      0.013958  0.570519  0.676577  0.079808  24.090686   \n           <30      0.012480  0.542745  0.588002  0.072012  23.166222   \n           <33      0.006807  0.552813  0.525146  0.067279  21.204571   \n           >33      0.020003  0.670978  0.366827  0.064012  19.515467   \nGoalkeeper <23      0.003135  0.991232  0.013810  0.000000  28.758461   \n           <25      0.000000  0.792766  0.016657  0.000000  27.631849   \n           <27      0.000000  0.760343  0.039526  0.000000  28.962628   \n           <30      0.000844  0.831281  0.038231  0.000000  27.487788   \n           <33      0.000000  0.773232  0.043195  0.000000  26.659860   \n           >33      0.000986  0.895632  0.048989  0.000000  26.556166   \nMidfielder <23      0.027474  0.817265  1.005084  0.161699  36.147670   \n           <25      0.029420  0.961109  1.031504  0.180654  39.033511   \n           <27      0.026664  0.950918  1.115940  0.189022  39.906674   \n           <30      0.024111  0.951599  1.163252  0.192795  41.161150   \n           <33      0.038914  1.096248  1.115458  0.246123  42.457264   \n           >33      0.055662  1.432915  1.127509  0.286429  47.433758   \n\n                          PS%  \nPosition   Age Lev             \nDefender   <23      80.665011  \n           <25      80.458301  \n           <27      79.563487  \n           <30      79.855481  \n           <33      79.536973  \n           >33      77.679199  \nForward    <23      76.300208  \n           <25      74.385809  \n           <27      74.452742  \n           <30      73.602728  \n           <33      73.650580  \n           >33      67.593074  \nGoalkeeper <23      55.155494  \n           <25      63.740246  \n           <27      62.251358  \n           <30      58.676348  \n           <33      55.650843  \n           >33      56.401838  \nMidfielder <23      82.058551  \n           <25      81.724818  \n           <27      81.459711  \n           <30      82.349163  \n           <33      81.711874  \n           >33      82.864305  \n\n[24 rows x 39 columns]",
      "text/html": "<div>\n<style scoped>\n    .dataframe tbody tr th:only-of-type {\n        vertical-align: middle;\n    }\n\n    .dataframe tbody tr th {\n        vertical-align: top;\n    }\n\n    .dataframe thead th {\n        text-align: right;\n    }\n</style>\n<table border=\"1\" class=\"dataframe\">\n  <thead>\n    <tr style=\"text-align: right;\">\n      <th></th>\n      <th></th>\n      <th>year</th>\n      <th>Age</th>\n      <th>Weekly Salary</th>\n      <th>Base Salary</th>\n      <th>ADJ Salary</th>\n      <th>Apps</th>\n      <th>Min</th>\n      <th>G</th>\n      <th>NPG</th>\n      <th>A</th>\n      <th>...</th>\n      <th>Rating</th>\n      <th>Tackles</th>\n      <th>Inter</th>\n      <th>Fouls</th>\n      <th>Offsides</th>\n      <th>Clear</th>\n      <th>Drb_Def</th>\n      <th>Blocks</th>\n      <th>AvgP</th>\n      <th>PS%</th>\n    </tr>\n    <tr>\n      <th>Position</th>\n      <th>Age Lev</th>\n      <th></th>\n      <th></th>\n      <th></th>\n      <th></th>\n      <th></th>\n      <th></th>\n      <th></th>\n      <th></th>\n      <th></th>\n      <th></th>\n      <th></th>\n      <th></th>\n      <th></th>\n      <th></th>\n      <th></th>\n      <th></th>\n      <th></th>\n      <th></th>\n      <th></th>\n      <th></th>\n      <th></th>\n    </tr>\n  </thead>\n  <tbody>\n    <tr>\n      <th rowspan=\"6\" valign=\"top\">Defender</th>\n      <th>&lt;23</th>\n      <td>2018.208333</td>\n      <td>20.937500</td>\n      <td>39674.885417</td>\n      <td>2.063094e+06</td>\n      <td>2.263488e+06</td>\n      <td>28.395833</td>\n      <td>2334.572917</td>\n      <td>0.854167</td>\n      <td>0.854167</td>\n      <td>1.552083</td>\n      <td>...</td>\n      <td>6.844537</td>\n      <td>1.731692</td>\n      <td>1.427347</td>\n      <td>0.727860</td>\n      <td>0.377028</td>\n      <td>3.318697</td>\n      <td>0.625182</td>\n      <td>0.506470</td>\n      <td>42.392977</td>\n      <td>80.665011</td>\n    </tr>\n    <tr>\n      <th>&lt;25</th>\n      <td>2018.386861</td>\n      <td>23.583942</td>\n      <td>55395.423358</td>\n      <td>2.880562e+06</td>\n      <td>3.119764e+06</td>\n      <td>28.773723</td>\n      <td>2418.335766</td>\n      <td>1.109489</td>\n      <td>1.109489</td>\n      <td>1.540146</td>\n      <td>...</td>\n      <td>6.861063</td>\n      <td>1.731912</td>\n      <td>1.397206</td>\n      <td>0.817056</td>\n      <td>0.380476</td>\n      <td>3.510291</td>\n      <td>0.638055</td>\n      <td>0.504028</td>\n      <td>44.552832</td>\n      <td>80.458301</td>\n    </tr>\n    <tr>\n      <th>&lt;27</th>\n      <td>2017.827381</td>\n      <td>25.482143</td>\n      <td>51796.702381</td>\n      <td>2.693429e+06</td>\n      <td>2.982028e+06</td>\n      <td>29.142857</td>\n      <td>2457.303571</td>\n      <td>1.154762</td>\n      <td>1.148810</td>\n      <td>1.398810</td>\n      <td>...</td>\n      <td>6.871861</td>\n      <td>1.657565</td>\n      <td>1.459016</td>\n      <td>0.806375</td>\n      <td>0.363847</td>\n      <td>3.764116</td>\n      <td>0.642896</td>\n      <td>0.530082</td>\n      <td>42.713800</td>\n      <td>79.563487</td>\n    </tr>\n    <tr>\n      <th>&lt;30</th>\n      <td>2017.884615</td>\n      <td>27.952991</td>\n      <td>59403.675214</td>\n      <td>3.088991e+06</td>\n      <td>3.389427e+06</td>\n      <td>28.987179</td>\n      <td>2463.782051</td>\n      <td>1.145299</td>\n      <td>1.123932</td>\n      <td>1.414530</td>\n      <td>...</td>\n      <td>6.868021</td>\n      <td>1.623164</td>\n      <td>1.519336</td>\n      <td>0.804590</td>\n      <td>0.405466</td>\n      <td>3.872239</td>\n      <td>0.608767</td>\n      <td>0.565476</td>\n      <td>42.955833</td>\n      <td>79.855481</td>\n    </tr>\n    <tr>\n      <th>&lt;33</th>\n      <td>2018.111111</td>\n      <td>30.833333</td>\n      <td>58106.972222</td>\n      <td>3.021562e+06</td>\n      <td>3.307410e+06</td>\n      <td>29.138889</td>\n      <td>2468.465278</td>\n      <td>1.097222</td>\n      <td>1.069444</td>\n      <td>1.201389</td>\n      <td>...</td>\n      <td>6.823209</td>\n      <td>1.512348</td>\n      <td>1.481129</td>\n      <td>0.743057</td>\n      <td>0.421367</td>\n      <td>3.909336</td>\n      <td>0.603664</td>\n      <td>0.584624</td>\n      <td>43.119474</td>\n      <td>79.536973</td>\n    </tr>\n    <tr>\n      <th>&gt;33</th>\n      <td>2016.906977</td>\n      <td>34.000000</td>\n      <td>56290.697674</td>\n      <td>2.927116e+06</td>\n      <td>3.287142e+06</td>\n      <td>27.069767</td>\n      <td>2255.837209</td>\n      <td>1.116279</td>\n      <td>1.116279</td>\n      <td>0.697674</td>\n      <td>...</td>\n      <td>6.821799</td>\n      <td>1.433416</td>\n      <td>1.585303</td>\n      <td>0.759957</td>\n      <td>0.430087</td>\n      <td>4.934897</td>\n      <td>0.503956</td>\n      <td>0.714259</td>\n      <td>36.570050</td>\n      <td>77.679199</td>\n    </tr>\n    <tr>\n      <th rowspan=\"6\" valign=\"top\">Forward</th>\n      <th>&lt;23</th>\n      <td>2017.904110</td>\n      <td>20.863014</td>\n      <td>74593.767123</td>\n      <td>3.878877e+06</td>\n      <td>4.239725e+06</td>\n      <td>32.095890</td>\n      <td>2241.931507</td>\n      <td>7.986301</td>\n      <td>7.479452</td>\n      <td>3.589041</td>\n      <td>...</td>\n      <td>6.899413</td>\n      <td>0.835380</td>\n      <td>0.395722</td>\n      <td>0.833094</td>\n      <td>0.007525</td>\n      <td>0.437064</td>\n      <td>0.616192</td>\n      <td>0.060633</td>\n      <td>22.216574</td>\n      <td>76.300208</td>\n    </tr>\n    <tr>\n      <th>&lt;25</th>\n      <td>2018.185714</td>\n      <td>23.542857</td>\n      <td>81212.928571</td>\n      <td>4.223071e+06</td>\n      <td>4.654376e+06</td>\n      <td>32.300000</td>\n      <td>2395.271429</td>\n      <td>9.257143</td>\n      <td>8.700000</td>\n      <td>4.214286</td>\n      <td>...</td>\n      <td>7.007853</td>\n      <td>0.872636</td>\n      <td>0.412235</td>\n      <td>0.952726</td>\n      <td>0.012538</td>\n      <td>0.498811</td>\n      <td>0.659954</td>\n      <td>0.069891</td>\n      <td>22.628652</td>\n      <td>74.385809</td>\n    </tr>\n    <tr>\n      <th>&lt;27</th>\n      <td>2017.738636</td>\n      <td>25.465909</td>\n      <td>82777.750000</td>\n      <td>4.304443e+06</td>\n      <td>4.792931e+06</td>\n      <td>32.261364</td>\n      <td>2440.579545</td>\n      <td>9.954545</td>\n      <td>8.931818</td>\n      <td>3.795455</td>\n      <td>...</td>\n      <td>6.999231</td>\n      <td>0.875713</td>\n      <td>0.439667</td>\n      <td>0.998722</td>\n      <td>0.013958</td>\n      <td>0.570519</td>\n      <td>0.676577</td>\n      <td>0.079808</td>\n      <td>24.090686</td>\n      <td>74.452742</td>\n    </tr>\n    <tr>\n      <th>&lt;30</th>\n      <td>2017.880734</td>\n      <td>27.972477</td>\n      <td>96257.587156</td>\n      <td>5.005394e+06</td>\n      <td>5.512200e+06</td>\n      <td>32.678899</td>\n      <td>2375.752294</td>\n      <td>10.311927</td>\n      <td>9.155963</td>\n      <td>4.192661</td>\n      <td>...</td>\n      <td>6.950004</td>\n      <td>0.773303</td>\n      <td>0.353813</td>\n      <td>0.966614</td>\n      <td>0.012480</td>\n      <td>0.542745</td>\n      <td>0.588002</td>\n      <td>0.072012</td>\n      <td>23.166222</td>\n      <td>73.602728</td>\n    </tr>\n    <tr>\n      <th>&lt;33</th>\n      <td>2018.767442</td>\n      <td>30.581395</td>\n      <td>108162.348837</td>\n      <td>5.624442e+06</td>\n      <td>6.101030e+06</td>\n      <td>32.046512</td>\n      <td>2275.767442</td>\n      <td>9.581395</td>\n      <td>8.302326</td>\n      <td>3.674419</td>\n      <td>...</td>\n      <td>6.845665</td>\n      <td>0.707253</td>\n      <td>0.274330</td>\n      <td>0.843494</td>\n      <td>0.006807</td>\n      <td>0.552813</td>\n      <td>0.525146</td>\n      <td>0.067279</td>\n      <td>21.204571</td>\n      <td>73.650580</td>\n    </tr>\n    <tr>\n      <th>&gt;33</th>\n      <td>2018.166667</td>\n      <td>34.000000</td>\n      <td>120416.666667</td>\n      <td>6.261667e+06</td>\n      <td>6.634285e+06</td>\n      <td>32.166667</td>\n      <td>2214.000000</td>\n      <td>10.750000</td>\n      <td>8.583333</td>\n      <td>3.250000</td>\n      <td>...</td>\n      <td>6.816386</td>\n      <td>0.361714</td>\n      <td>0.132540</td>\n      <td>1.075444</td>\n      <td>0.020003</td>\n      <td>0.670978</td>\n      <td>0.366827</td>\n      <td>0.064012</td>\n      <td>19.515467</td>\n      <td>67.593074</td>\n    </tr>\n    <tr>\n      <th rowspan=\"6\" valign=\"top\">Goalkeeper</th>\n      <th>&lt;23</th>\n      <td>2018.909091</td>\n      <td>21.454545</td>\n      <td>24545.454545</td>\n      <td>1.276364e+06</td>\n      <td>1.427338e+06</td>\n      <td>33.545455</td>\n      <td>3010.818182</td>\n      <td>0.000000</td>\n      <td>0.000000</td>\n      <td>0.090909</td>\n      <td>...</td>\n      <td>6.695973</td>\n      <td>0.029101</td>\n      <td>0.025596</td>\n      <td>0.020171</td>\n      <td>0.003135</td>\n      <td>0.991232</td>\n      <td>0.013810</td>\n      <td>0.000000</td>\n      <td>28.758461</td>\n      <td>55.155494</td>\n    </tr>\n    <tr>\n      <th>&lt;25</th>\n      <td>2017.705882</td>\n      <td>23.647059</td>\n      <td>84558.823529</td>\n      <td>4.397059e+06</td>\n      <td>4.958839e+06</td>\n      <td>31.941176</td>\n      <td>2866.705882</td>\n      <td>0.000000</td>\n      <td>0.000000</td>\n      <td>0.000000</td>\n      <td>...</td>\n      <td>6.608750</td>\n      <td>0.021191</td>\n      <td>0.025093</td>\n      <td>0.022213</td>\n      <td>0.000000</td>\n      <td>0.792766</td>\n      <td>0.016657</td>\n      <td>0.000000</td>\n      <td>27.631849</td>\n      <td>63.740246</td>\n    </tr>\n    <tr>\n      <th>&lt;27</th>\n      <td>2017.619048</td>\n      <td>25.523810</td>\n      <td>73333.333333</td>\n      <td>3.813333e+06</td>\n      <td>4.280296e+06</td>\n      <td>31.857143</td>\n      <td>2846.619048</td>\n      <td>0.000000</td>\n      <td>0.000000</td>\n      <td>0.190476</td>\n      <td>...</td>\n      <td>6.701243</td>\n      <td>0.016737</td>\n      <td>0.029150</td>\n      <td>0.022151</td>\n      <td>0.000000</td>\n      <td>0.760343</td>\n      <td>0.039526</td>\n      <td>0.000000</td>\n      <td>28.962628</td>\n      <td>62.251358</td>\n    </tr>\n    <tr>\n      <th>&lt;30</th>\n      <td>2017.846154</td>\n      <td>27.984615</td>\n      <td>69428.692308</td>\n      <td>3.610292e+06</td>\n      <td>3.952947e+06</td>\n      <td>31.753846</td>\n      <td>2848.476923</td>\n      <td>0.015385</td>\n      <td>0.015385</td>\n      <td>0.138462</td>\n      <td>...</td>\n      <td>6.692147</td>\n      <td>0.023712</td>\n      <td>0.031725</td>\n      <td>0.016129</td>\n      <td>0.000844</td>\n      <td>0.831281</td>\n      <td>0.038231</td>\n      <td>0.000000</td>\n      <td>27.487788</td>\n      <td>58.676348</td>\n    </tr>\n    <tr>\n      <th>&lt;33</th>\n      <td>2017.947368</td>\n      <td>30.868421</td>\n      <td>78154.868421</td>\n      <td>4.064053e+06</td>\n      <td>4.408228e+06</td>\n      <td>29.894737</td>\n      <td>2683.289474</td>\n      <td>0.000000</td>\n      <td>0.000000</td>\n      <td>0.052632</td>\n      <td>...</td>\n      <td>6.645203</td>\n      <td>0.020847</td>\n      <td>0.021970</td>\n      <td>0.014767</td>\n      <td>0.000000</td>\n      <td>0.773232</td>\n      <td>0.043195</td>\n      <td>0.000000</td>\n      <td>26.659860</td>\n      <td>55.650843</td>\n    </tr>\n    <tr>\n      <th>&gt;33</th>\n      <td>2018.230769</td>\n      <td>34.358974</td>\n      <td>60897.435897</td>\n      <td>3.166667e+06</td>\n      <td>3.434263e+06</td>\n      <td>31.435897</td>\n      <td>2810.051282</td>\n      <td>0.000000</td>\n      <td>0.000000</td>\n      <td>0.025641</td>\n      <td>...</td>\n      <td>6.660125</td>\n      <td>0.024535</td>\n      <td>0.031097</td>\n      <td>0.018860</td>\n      <td>0.000986</td>\n      <td>0.895632</td>\n      <td>0.048989</td>\n      <td>0.000000</td>\n      <td>26.556166</td>\n      <td>56.401838</td>\n    </tr>\n    <tr>\n      <th rowspan=\"6\" valign=\"top\">Midfielder</th>\n      <th>&lt;23</th>\n      <td>2018.504673</td>\n      <td>20.971963</td>\n      <td>54873.289720</td>\n      <td>2.853411e+06</td>\n      <td>3.072916e+06</td>\n      <td>31.177570</td>\n      <td>2299.728972</td>\n      <td>3.794393</td>\n      <td>3.607477</td>\n      <td>3.392523</td>\n      <td>...</td>\n      <td>6.857012</td>\n      <td>1.584671</td>\n      <td>0.869492</td>\n      <td>0.960285</td>\n      <td>0.027474</td>\n      <td>0.817265</td>\n      <td>1.005084</td>\n      <td>0.161699</td>\n      <td>36.147670</td>\n      <td>82.058551</td>\n    </tr>\n    <tr>\n      <th>&lt;25</th>\n      <td>2018.097222</td>\n      <td>23.555556</td>\n      <td>59596.152778</td>\n      <td>3.099000e+06</td>\n      <td>3.421534e+06</td>\n      <td>30.993056</td>\n      <td>2350.027778</td>\n      <td>3.541667</td>\n      <td>3.326389</td>\n      <td>3.340278</td>\n      <td>...</td>\n      <td>6.913926</td>\n      <td>1.778037</td>\n      <td>1.099751</td>\n      <td>1.035315</td>\n      <td>0.029420</td>\n      <td>0.961109</td>\n      <td>1.031504</td>\n      <td>0.180654</td>\n      <td>39.033511</td>\n      <td>81.724818</td>\n    </tr>\n    <tr>\n      <th>&lt;27</th>\n      <td>2017.818713</td>\n      <td>25.467836</td>\n      <td>67623.929825</td>\n      <td>3.516444e+06</td>\n      <td>3.882191e+06</td>\n      <td>31.695906</td>\n      <td>2413.631579</td>\n      <td>3.391813</td>\n      <td>3.087719</td>\n      <td>3.128655</td>\n      <td>...</td>\n      <td>6.861911</td>\n      <td>1.732233</td>\n      <td>1.040547</td>\n      <td>0.979648</td>\n      <td>0.026664</td>\n      <td>0.950918</td>\n      <td>1.115940</td>\n      <td>0.189022</td>\n      <td>39.906674</td>\n      <td>81.459711</td>\n    </tr>\n    <tr>\n      <th>&lt;30</th>\n      <td>2017.857820</td>\n      <td>27.909953</td>\n      <td>77684.383886</td>\n      <td>4.039588e+06</td>\n      <td>4.459959e+06</td>\n      <td>30.682464</td>\n      <td>2331.568720</td>\n      <td>2.843602</td>\n      <td>2.459716</td>\n      <td>2.881517</td>\n      <td>...</td>\n      <td>6.836359</td>\n      <td>1.744970</td>\n      <td>1.107379</td>\n      <td>0.998589</td>\n      <td>0.024111</td>\n      <td>0.951599</td>\n      <td>1.163252</td>\n      <td>0.192795</td>\n      <td>41.161150</td>\n      <td>82.349163</td>\n    </tr>\n    <tr>\n      <th>&lt;33</th>\n      <td>2017.777778</td>\n      <td>30.737374</td>\n      <td>80831.010101</td>\n      <td>4.203212e+06</td>\n      <td>4.572442e+06</td>\n      <td>30.191919</td>\n      <td>2282.282828</td>\n      <td>2.272727</td>\n      <td>1.939394</td>\n      <td>2.868687</td>\n      <td>...</td>\n      <td>6.804233</td>\n      <td>1.616337</td>\n      <td>1.091181</td>\n      <td>0.970036</td>\n      <td>0.038914</td>\n      <td>1.096248</td>\n      <td>1.115458</td>\n      <td>0.246123</td>\n      <td>42.457264</td>\n      <td>81.711874</td>\n    </tr>\n    <tr>\n      <th>&gt;33</th>\n      <td>2017.952381</td>\n      <td>33.809524</td>\n      <td>95846.142857</td>\n      <td>4.984000e+06</td>\n      <td>5.527751e+06</td>\n      <td>29.190476</td>\n      <td>2173.000000</td>\n      <td>1.761905</td>\n      <td>1.476190</td>\n      <td>1.761905</td>\n      <td>...</td>\n      <td>6.772482</td>\n      <td>1.737090</td>\n      <td>1.073753</td>\n      <td>0.937802</td>\n      <td>0.055662</td>\n      <td>1.432915</td>\n      <td>1.127509</td>\n      <td>0.286429</td>\n      <td>47.433758</td>\n      <td>82.864305</td>\n    </tr>\n  </tbody>\n</table>\n<p>24 rows × 39 columns</p>\n</div>"
     },
     "execution_count": 15,
     "metadata": {},
     "output_type": "execute_result"
    }
   ],
   "source": [
    "static_df = eda_df[eda_df['Min']>1500].groupby(['Position', 'Age Lev']).mean(numeric_only=True)\n",
    "static_df"
   ],
   "metadata": {
    "collapsed": false,
    "pycharm": {
     "name": "#%%\n"
    }
   }
  },
  {
   "cell_type": "code",
   "execution_count": 16,
   "outputs": [],
   "source": [
    "cond1 = eda_df['Name']=='Son Heung-Min'\n",
    "cond2 = eda_df['year']==2016\n",
    "player = eda_df[cond1 & cond2]"
   ],
   "metadata": {
    "collapsed": false,
    "pycharm": {
     "name": "#%%\n"
    }
   }
  },
  {
   "cell_type": "code",
   "execution_count": 17,
   "outputs": [
    {
     "data": {
      "text/plain": "1142    Forward\nName: Position, dtype: object"
     },
     "execution_count": 17,
     "metadata": {},
     "output_type": "execute_result"
    }
   ],
   "source": [
    "player['Position']"
   ],
   "metadata": {
    "collapsed": false,
    "pycharm": {
     "name": "#%%\n"
    }
   }
  },
  {
   "cell_type": "code",
   "execution_count": 18,
   "outputs": [
    {
     "data": {
      "text/plain": "1142    <25\nName: Age Lev, dtype: object"
     },
     "execution_count": 18,
     "metadata": {},
     "output_type": "execute_result"
    }
   ],
   "source": [
    "player['Age Lev']"
   ],
   "metadata": {
    "collapsed": false,
    "pycharm": {
     "name": "#%%\n"
    }
   }
  },
  {
   "cell_type": "code",
   "execution_count": 19,
   "outputs": [
    {
     "data": {
      "text/plain": "('Forward', '<25')"
     },
     "execution_count": 19,
     "metadata": {},
     "output_type": "execute_result"
    }
   ],
   "source": [
    "(player['Position'].values[0], player['Age Lev'].values[0])"
   ],
   "metadata": {
    "collapsed": false,
    "pycharm": {
     "name": "#%%\n"
    }
   }
  },
  {
   "cell_type": "code",
   "execution_count": 20,
   "outputs": [
    {
     "data": {
      "text/plain": "MultiIndex([(  'Defender', '<23'),\n            (  'Defender', '<25'),\n            (  'Defender', '<27'),\n            (  'Defender', '<30'),\n            (  'Defender', '<33'),\n            (  'Defender', '>33'),\n            (   'Forward', '<23'),\n            (   'Forward', '<25'),\n            (   'Forward', '<27'),\n            (   'Forward', '<30'),\n            (   'Forward', '<33'),\n            (   'Forward', '>33'),\n            ('Goalkeeper', '<23'),\n            ('Goalkeeper', '<25'),\n            ('Goalkeeper', '<27'),\n            ('Goalkeeper', '<30'),\n            ('Goalkeeper', '<33'),\n            ('Goalkeeper', '>33'),\n            ('Midfielder', '<23'),\n            ('Midfielder', '<25'),\n            ('Midfielder', '<27'),\n            ('Midfielder', '<30'),\n            ('Midfielder', '<33'),\n            ('Midfielder', '>33')],\n           names=['Position', 'Age Lev'])"
     },
     "execution_count": 20,
     "metadata": {},
     "output_type": "execute_result"
    }
   ],
   "source": [
    "static_df.index"
   ],
   "metadata": {
    "collapsed": false,
    "pycharm": {
     "name": "#%%\n"
    }
   }
  },
  {
   "cell_type": "code",
   "execution_count": 21,
   "outputs": [
    {
     "data": {
      "text/plain": "year             2.018186e+03\nAge              2.354286e+01\nWeekly Salary    8.121293e+04\nBase Salary      4.223071e+06\nADJ Salary       4.654376e+06\nApps             3.230000e+01\nMin              2.395271e+03\nG                9.257143e+00\nNPG              8.700000e+00\nA                4.214286e+00\nxG               9.363714e+00\nNPxG             8.766000e+00\nxA               4.397571e+00\nxGChain          1.511243e+01\nxGBuildup        4.800714e+00\nxG90             3.434286e-01\nNPxG90           3.225714e-01\nxA90             1.635714e-01\nxG90+xA90        5.068571e-01\nNPxG90+xA90      4.864286e-01\nxGChain90        5.590000e-01\nxGBuildup90      1.771429e-01\nSpG              2.068004e+00\nKeyP             1.095976e+00\nDrb_Off          1.621802e+00\nFouled           1.262916e+00\nOff              4.538322e-01\nDisp             1.656487e+00\nUnsTch           2.282548e+00\nRating           7.007853e+00\nTackles          8.726359e-01\nInter            4.122354e-01\nFouls            9.527259e-01\nOffsides         1.253818e-02\nClear            4.988110e-01\nDrb_Def          6.599542e-01\nBlocks           6.989142e-02\nAvgP             2.262865e+01\nPS%              7.438581e+01\nName: (Forward, <25), dtype: float64"
     },
     "execution_count": 21,
     "metadata": {},
     "output_type": "execute_result"
    }
   ],
   "source": [
    "static_df.loc[(player['Position'].values[0], player['Age Lev'].values[0])]"
   ],
   "metadata": {
    "collapsed": false,
    "pycharm": {
     "name": "#%%\n"
    }
   }
  },
  {
   "cell_type": "code",
   "execution_count": 22,
   "outputs": [
    {
     "data": {
      "text/plain": "                year    Age  Weekly Salary  Base Salary  ADJ Salary  Apps  \\\nForward <25  2018.19  23.54       81212.93   4223071.43  4654375.57  32.3   \n\n                 Min     G  NPG     A  ...  Rating  Tackles  Inter  Fouls  \\\nForward <25  2395.27  9.26  8.7  4.21  ...    7.01     0.87   0.41   0.95   \n\n             Offsides  Clear  Drb_Def  Blocks   AvgP    PS%  \nForward <25      0.01    0.5     0.66    0.07  22.63  74.39  \n\n[1 rows x 39 columns]",
      "text/html": "<div>\n<style scoped>\n    .dataframe tbody tr th:only-of-type {\n        vertical-align: middle;\n    }\n\n    .dataframe tbody tr th {\n        vertical-align: top;\n    }\n\n    .dataframe thead th {\n        text-align: right;\n    }\n</style>\n<table border=\"1\" class=\"dataframe\">\n  <thead>\n    <tr style=\"text-align: right;\">\n      <th></th>\n      <th></th>\n      <th>year</th>\n      <th>Age</th>\n      <th>Weekly Salary</th>\n      <th>Base Salary</th>\n      <th>ADJ Salary</th>\n      <th>Apps</th>\n      <th>Min</th>\n      <th>G</th>\n      <th>NPG</th>\n      <th>A</th>\n      <th>...</th>\n      <th>Rating</th>\n      <th>Tackles</th>\n      <th>Inter</th>\n      <th>Fouls</th>\n      <th>Offsides</th>\n      <th>Clear</th>\n      <th>Drb_Def</th>\n      <th>Blocks</th>\n      <th>AvgP</th>\n      <th>PS%</th>\n    </tr>\n  </thead>\n  <tbody>\n    <tr>\n      <th>Forward</th>\n      <th>&lt;25</th>\n      <td>2018.19</td>\n      <td>23.54</td>\n      <td>81212.93</td>\n      <td>4223071.43</td>\n      <td>4654375.57</td>\n      <td>32.3</td>\n      <td>2395.27</td>\n      <td>9.26</td>\n      <td>8.7</td>\n      <td>4.21</td>\n      <td>...</td>\n      <td>7.01</td>\n      <td>0.87</td>\n      <td>0.41</td>\n      <td>0.95</td>\n      <td>0.01</td>\n      <td>0.5</td>\n      <td>0.66</td>\n      <td>0.07</td>\n      <td>22.63</td>\n      <td>74.39</td>\n    </tr>\n  </tbody>\n</table>\n<p>1 rows × 39 columns</p>\n</div>"
     },
     "execution_count": 22,
     "metadata": {},
     "output_type": "execute_result"
    }
   ],
   "source": [
    "r = pd.DataFrame(data=static_df.loc[(player['Position'].values[0], player['Age Lev'].values[0])]).T\n",
    "round(r,2)"
   ],
   "metadata": {
    "collapsed": false,
    "pycharm": {
     "name": "#%%\n"
    }
   }
  },
  {
   "cell_type": "code",
   "execution_count": 23,
   "outputs": [
    {
     "data": {
      "text/plain": "      year  Age  Weekly Salary  Base Salary  ADJ Salary  Apps     Min     G  \\\n1142  2016   24        85000.0    4420000.0   5139717.0  34.0  2069.0  14.0   \n\n       NPG    A  ...    Rating   Tackles     Inter     Fouls  Offsides  \\\n1142  14.0  6.0  ...  7.132647  0.558824  0.235294  0.264706       0.0   \n\n         Clear   Drb_Def    Blocks       AvgP        PS%  \n1142  0.176471  0.588235  0.029412  22.823529  81.185567  \n\n[1 rows x 39 columns]",
      "text/html": "<div>\n<style scoped>\n    .dataframe tbody tr th:only-of-type {\n        vertical-align: middle;\n    }\n\n    .dataframe tbody tr th {\n        vertical-align: top;\n    }\n\n    .dataframe thead th {\n        text-align: right;\n    }\n</style>\n<table border=\"1\" class=\"dataframe\">\n  <thead>\n    <tr style=\"text-align: right;\">\n      <th></th>\n      <th>year</th>\n      <th>Age</th>\n      <th>Weekly Salary</th>\n      <th>Base Salary</th>\n      <th>ADJ Salary</th>\n      <th>Apps</th>\n      <th>Min</th>\n      <th>G</th>\n      <th>NPG</th>\n      <th>A</th>\n      <th>...</th>\n      <th>Rating</th>\n      <th>Tackles</th>\n      <th>Inter</th>\n      <th>Fouls</th>\n      <th>Offsides</th>\n      <th>Clear</th>\n      <th>Drb_Def</th>\n      <th>Blocks</th>\n      <th>AvgP</th>\n      <th>PS%</th>\n    </tr>\n  </thead>\n  <tbody>\n    <tr>\n      <th>1142</th>\n      <td>2016</td>\n      <td>24</td>\n      <td>85000.0</td>\n      <td>4420000.0</td>\n      <td>5139717.0</td>\n      <td>34.0</td>\n      <td>2069.0</td>\n      <td>14.0</td>\n      <td>14.0</td>\n      <td>6.0</td>\n      <td>...</td>\n      <td>7.132647</td>\n      <td>0.558824</td>\n      <td>0.235294</td>\n      <td>0.264706</td>\n      <td>0.0</td>\n      <td>0.176471</td>\n      <td>0.588235</td>\n      <td>0.029412</td>\n      <td>22.823529</td>\n      <td>81.185567</td>\n    </tr>\n  </tbody>\n</table>\n<p>1 rows × 39 columns</p>\n</div>"
     },
     "execution_count": 23,
     "metadata": {},
     "output_type": "execute_result"
    }
   ],
   "source": [
    "player[r.columns]"
   ],
   "metadata": {
    "collapsed": false,
    "pycharm": {
     "name": "#%%\n"
    }
   }
  },
  {
   "cell_type": "code",
   "execution_count": 40,
   "outputs": [
    {
     "data": {
      "text/plain": "year\n2014    23.500000\n2015    28.166667\n2016    29.400000\n2017    31.200000\n2018    28.375000\n2019    29.100000\n2020    27.142857\n2021    28.900000\n2022    32.272727\nName: Apps, dtype: float64"
     },
     "execution_count": 40,
     "metadata": {},
     "output_type": "execute_result"
    }
   ],
   "source": [
    "static2_df = eda_df[eda_df['Min']>1000].groupby(['Position', 'Age Lev', 'year']).mean(numeric_only=True)\n",
    "y1 = static2_df.loc[('Forward', '<33'), 'Apps']\n",
    "y1"
   ],
   "metadata": {
    "collapsed": false,
    "pycharm": {
     "name": "#%%\n"
    }
   }
  },
  {
   "cell_type": "code",
   "execution_count": 42,
   "outputs": [
    {
     "data": {
      "text/plain": "year\n2014    30.000000\n2015    28.812500\n2016    28.450000\n2017    29.428571\n2018    31.071429\n2019    31.555556\n2020    29.428571\n2021    30.692308\n2022    31.111111\nName: Apps, dtype: float64"
     },
     "execution_count": 42,
     "metadata": {},
     "output_type": "execute_result"
    }
   ],
   "source": [
    "static2_df = eda_df[eda_df['Min']>1000].groupby(['Position', 'Age Lev', 'year']).mean(numeric_only=True)\n",
    "y2 = static2_df.loc[('Forward', '<30'), 'Apps']\n",
    "y2"
   ],
   "metadata": {
    "collapsed": false,
    "pycharm": {
     "name": "#%%\n"
    }
   }
  },
  {
   "cell_type": "code",
   "execution_count": 45,
   "outputs": [
    {
     "data": {
      "text/plain": "<Axes: >"
     },
     "execution_count": 45,
     "metadata": {},
     "output_type": "execute_result"
    },
    {
     "data": {
      "text/plain": "<Figure size 640x480 with 3 Axes>",
      "image/png": "[encoded data removed]"
     },
     "metadata": {},
     "output_type": "display_data"
    }
   ],
   "source": [
    "plt.subplot(3,1,1)\n",
    "sns.lineplot(x=range(2014,2022+1), y=y1) # <33\n",
    "sns.lineplot(x=range(2014,2022+1), y=y2) # <30\n",
    "plt.subplot(3,1,2)\n",
    "plt.subplot(3,1,3)"
   ],
   "metadata": {
    "collapsed": false,
    "pycharm": {
     "name": "#%%\n"
    }
   }
  },
  {
   "cell_type": "code",
   "execution_count": 23,
   "outputs": [],
   "source": [],
   "metadata": {
    "collapsed": false,
    "pycharm": {
     "name": "#%%\n"
    }
   }
  }
 ],
 "metadata": {
  "kernelspec": {
   "display_name": "Python 3",
   "language": "python",
   "name": "python3"
  },
  "language_info": {
   "codemirror_mode": {
    "name": "ipython",
    "version": 2
   },
   "file_extension": ".py",
   "mimetype": "text/x-python",
   "name": "python",
   "nbconvert_exporter": "python",
   "pygments_lexer": "ipython2",
   "version": "2.7.6"
  }
 },
 "nbformat": 4,
 "nbformat_minor": 0
}