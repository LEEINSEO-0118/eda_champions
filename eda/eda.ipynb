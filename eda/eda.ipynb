{
 "cells": [
  {
   "cell_type": "code",
   "execution_count": 2,
   "metadata": {
    "collapsed": true
   },
   "outputs": [],
   "source": [
    "import pandas as pd\n",
    "import numpy as np\n",
    "import matplotlib.pyplot as plt\n",
    "import seaborn as sns"
   ]
  },
  {
   "cell_type": "code",
   "execution_count": 3,
   "outputs": [],
   "source": [
    "# plyaer data load 및 정리(프로필)\n",
    "player_df = pd.read_csv('../data/new/players_all.csv')\n",
    "player_df = player_df.drop('Unnamed: 0', axis=1)"
   ],
   "metadata": {
    "collapsed": false,
    "pycharm": {
     "name": "#%%\n"
    }
   }
  },
  {
   "cell_type": "code",
   "execution_count": 4,
   "outputs": [],
   "source": [
    "# 1xbet data load 및 정리(스텟)\n",
    "xbet_df = pd.read_csv('../data/new/1xbet_all.csv')\n",
    "xbet_df = xbet_df.drop(['Team','Age','Position'], axis=1).rename(columns={'Drb_x':'Drb_Off', 'Drb_y':'Drb_Def'})"
   ],
   "metadata": {
    "collapsed": false,
    "pycharm": {
     "name": "#%%\n"
    }
   }
  },
  {
   "cell_type": "code",
   "execution_count": 5,
   "outputs": [],
   "source": [
    "# understat data load 및 정리(스텟)\n",
    "understat_df = pd.read_csv('../data/new/understat_all.csv')\n",
    "understat_df = understat_df.drop(['No','Team'], axis=1)"
   ],
   "metadata": {
    "collapsed": false,
    "pycharm": {
     "name": "#%%\n"
    }
   }
  },
  {
   "cell_type": "code",
   "execution_count": 6,
   "outputs": [],
   "source": [
    "# capology load(연봉)\n",
    "capology_df = pd.read_csv('../data/new/capology_all.csv')"
   ],
   "metadata": {
    "collapsed": false,
    "pycharm": {
     "name": "#%%\n"
    }
   }
  },
  {
   "cell_type": "code",
   "execution_count": 7,
   "outputs": [],
   "source": [
    "# 프로필 + 연봉\n",
    "eda_df = player_df.merge(capology_df[['Weekly Salary','Base Salary','ADJ Salary','Name', 'year']], how='left', left_on=['Name', 'year'], right_on=['Name', 'year'])\n",
    "eda_df = eda_df[~eda_df.duplicated(['year', 'Name'], keep='first')] # 중복 제거"
   ],
   "metadata": {
    "collapsed": false,
    "pycharm": {
     "name": "#%%\n"
    }
   }
  },
  {
   "cell_type": "code",
   "execution_count": 8,
   "outputs": [],
   "source": [
    "# 프로필 + 연봉 + 스텟(understat)\n",
    "eda_df = eda_df.merge(understat_df, how='left', left_on=['Name', 'year'], right_on=['Name', 'year'])"
   ],
   "metadata": {
    "collapsed": false,
    "pycharm": {
     "name": "#%%\n"
    }
   }
  },
  {
   "cell_type": "code",
   "execution_count": 9,
   "outputs": [],
   "source": [
    "# 프로필 + 연봉 + 스텟(understat) + 스텟(1xbet)\n",
    "eda_df = eda_df.merge(\n",
    "    xbet_df[[\n",
    "        'Name', 'year', 'SpG', 'KeyP', 'Drb_Off', 'Fouled', 'Off',\n",
    "        'Disp', 'UnsTch', 'Rating', 'Tackles', 'Inter','Fouls',\n",
    "        'Offsides', 'Clear', 'Drb_Def', 'Blocks', 'AvgP', 'PS%']],\n",
    "    how='left',\n",
    "    left_on=['Name', 'year'],\n",
    "    right_on=['Name', 'year']\n",
    ")"
   ],
   "metadata": {
    "collapsed": false,
    "pycharm": {
     "name": "#%%\n"
    }
   }
  },
  {
   "cell_type": "code",
   "execution_count": 10,
   "outputs": [
    {
     "name": "stdout",
     "output_type": "stream",
     "text": [
      "<class 'pandas.core.frame.DataFrame'>\n",
      "Int64Index: 4756 entries, 0 to 4755\n",
      "Data columns (total 44 columns):\n",
      " #   Column         Non-Null Count  Dtype  \n",
      "---  ------         --------------  -----  \n",
      " 0   Player Id      4756 non-null   int64  \n",
      " 1   Name           4756 non-null   object \n",
      " 2   Birth Year     4756 non-null   int64  \n",
      " 3   Age            4756 non-null   int64  \n",
      " 4   Team           4756 non-null   object \n",
      " 5   Position       4756 non-null   object \n",
      " 6   year           4756 non-null   int64  \n",
      " 7   Weekly Salary  4598 non-null   float64\n",
      " 8   Base Salary    4598 non-null   float64\n",
      " 9   ADJ Salary     4598 non-null   float64\n",
      " 10  Apps           4744 non-null   float64\n",
      " 11  Min            4744 non-null   float64\n",
      " 12  G              4744 non-null   float64\n",
      " 13  NPG            4744 non-null   float64\n",
      " 14  A              4744 non-null   float64\n",
      " 15  xG             4744 non-null   float64\n",
      " 16  NPxG           4744 non-null   float64\n",
      " 17  xA             4744 non-null   float64\n",
      " 18  xGChain        4744 non-null   float64\n",
      " 19  xGBuildup      4744 non-null   float64\n",
      " 20  xG90           4744 non-null   float64\n",
      " 21  NPxG90         4744 non-null   float64\n",
      " 22  xA90           4744 non-null   float64\n",
      " 23  xG90+xA90      4744 non-null   float64\n",
      " 24  NPxG90+xA90    4744 non-null   float64\n",
      " 25  xGChain90      4744 non-null   float64\n",
      " 26  xGBuildup90    4744 non-null   float64\n",
      " 27  SpG            4756 non-null   float64\n",
      " 28  KeyP           4756 non-null   float64\n",
      " 29  Drb_Off        4756 non-null   float64\n",
      " 30  Fouled         4756 non-null   float64\n",
      " 31  Off            4756 non-null   float64\n",
      " 32  Disp           4756 non-null   float64\n",
      " 33  UnsTch         4756 non-null   float64\n",
      " 34  Rating         4756 non-null   float64\n",
      " 35  Tackles        4756 non-null   float64\n",
      " 36  Inter          4756 non-null   float64\n",
      " 37  Fouls          4756 non-null   float64\n",
      " 38  Offsides       4756 non-null   float64\n",
      " 39  Clear          4756 non-null   float64\n",
      " 40  Drb_Def        4756 non-null   float64\n",
      " 41  Blocks         4756 non-null   float64\n",
      " 42  AvgP           4756 non-null   float64\n",
      " 43  PS%            4756 non-null   float64\n",
      "dtypes: float64(37), int64(4), object(3)\n",
      "memory usage: 1.6+ MB\n"
     ]
    }
   ],
   "source": [
    "eda_df.info()"
   ],
   "metadata": {
    "collapsed": false,
    "pycharm": {
     "name": "#%%\n"
    }
   }
  },
  {
   "cell_type": "code",
   "execution_count": 11,
   "outputs": [],
   "source": [
    "eda_df = eda_df.dropna()"
   ],
   "metadata": {
    "collapsed": false,
    "pycharm": {
     "name": "#%%\n"
    }
   }
  },
  {
   "cell_type": "code",
   "execution_count": 12,
   "outputs": [
    {
     "data": {
      "text/plain": "       Player Id  Birth Year      Age     year  Weekly Salary  Base Salary  \\\ncount    4588.00     4588.00  4588.00  4588.00        4588.00      4588.00   \nmean   129453.85     1992.02    25.91  2017.93       53921.12   2803898.52   \nstd    119957.91        4.93     4.21     2.60       52782.05   2744666.44   \nmin        17.00     1973.00    15.00  2014.00           0.00         0.00   \n25%     31281.00     1989.00    23.00  2016.00       20000.00   1040000.00   \n50%     91387.00     1992.00    26.00  2018.00       40000.00   2080000.00   \n75%    145392.00     1996.00    29.00  2020.00       70000.00   3640000.00   \nmax    470690.00     2005.00    41.00  2022.00      600000.00  31200000.00   \n\n        ADJ Salary     Apps      Min        G  ...   Rating  Tackles    Inter  \\\ncount      4588.00  4588.00  4588.00  4588.00  ...  4588.00  4588.00  4588.00   \nmean    3076834.48    20.58  1466.58     1.96  ...     6.65     1.12     0.78   \nstd     2942732.53    11.49  1032.21     3.52  ...     0.36     0.84     0.70   \nmin           0.00     1.00     1.00     0.00  ...     4.95     0.00     0.00   \n25%     1252784.00    11.00   532.50     0.00  ...     6.40     0.50     0.18   \n50%     2301310.00    22.00  1390.00     1.00  ...     6.65     1.00     0.65   \n75%     4071549.00    31.00  2326.25     2.00  ...     6.88     1.63     1.20   \nmax    33671679.00    38.00  3420.00    36.00  ...     8.34     7.00     4.22   \n\n         Fouls  Offsides    Clear  Drb_Def   Blocks     AvgP      PS%  \ncount  4588.00   4588.00  4588.00  4588.00  4588.00  4588.00  4588.00  \nmean      0.70      0.13     1.53     0.61     0.22    29.00    76.91  \nstd       0.46      0.23     1.75     0.48     0.29    16.44    12.42  \nmin       0.00      0.00     0.00     0.00     0.00     0.00     0.00  \n25%       0.38      0.00     0.33     0.25     0.00    17.00    72.73  \n50%       0.68      0.00     0.86     0.53     0.11    27.29    79.32  \n75%       1.00      0.15     2.09     0.88     0.33    38.44    84.32  \nmax       4.00      2.00    11.50     4.00     2.05    90.41   100.00  \n\n[8 rows x 41 columns]",
      "text/html": "<div>\n<style scoped>\n    .dataframe tbody tr th:only-of-type {\n        vertical-align: middle;\n    }\n\n    .dataframe tbody tr th {\n        vertical-align: top;\n    }\n\n    .dataframe thead th {\n        text-align: right;\n    }\n</style>\n<table border=\"1\" class=\"dataframe\">\n  <thead>\n    <tr style=\"text-align: right;\">\n      <th></th>\n      <th>Player Id</th>\n      <th>Birth Year</th>\n      <th>Age</th>\n      <th>year</th>\n      <th>Weekly Salary</th>\n      <th>Base Salary</th>\n      <th>ADJ Salary</th>\n      <th>Apps</th>\n      <th>Min</th>\n      <th>G</th>\n      <th>...</th>\n      <th>Rating</th>\n      <th>Tackles</th>\n      <th>Inter</th>\n      <th>Fouls</th>\n      <th>Offsides</th>\n      <th>Clear</th>\n      <th>Drb_Def</th>\n      <th>Blocks</th>\n      <th>AvgP</th>\n      <th>PS%</th>\n    </tr>\n  </thead>\n  <tbody>\n    <tr>\n      <th>count</th>\n      <td>4588.00</td>\n      <td>4588.00</td>\n      <td>4588.00</td>\n      <td>4588.00</td>\n      <td>4588.00</td>\n      <td>4588.00</td>\n      <td>4588.00</td>\n      <td>4588.00</td>\n      <td>4588.00</td>\n      <td>4588.00</td>\n      <td>...</td>\n      <td>4588.00</td>\n      <td>4588.00</td>\n      <td>4588.00</td>\n      <td>4588.00</td>\n      <td>4588.00</td>\n      <td>4588.00</td>\n      <td>4588.00</td>\n      <td>4588.00</td>\n      <td>4588.00</td>\n      <td>4588.00</td>\n    </tr>\n    <tr>\n      <th>mean</th>\n      <td>129453.85</td>\n      <td>1992.02</td>\n      <td>25.91</td>\n      <td>2017.93</td>\n      <td>53921.12</td>\n      <td>2803898.52</td>\n      <td>3076834.48</td>\n      <td>20.58</td>\n      <td>1466.58</td>\n      <td>1.96</td>\n      <td>...</td>\n      <td>6.65</td>\n      <td>1.12</td>\n      <td>0.78</td>\n      <td>0.70</td>\n      <td>0.13</td>\n      <td>1.53</td>\n      <td>0.61</td>\n      <td>0.22</td>\n      <td>29.00</td>\n      <td>76.91</td>\n    </tr>\n    <tr>\n      <th>std</th>\n      <td>119957.91</td>\n      <td>4.93</td>\n      <td>4.21</td>\n      <td>2.60</td>\n      <td>52782.05</td>\n      <td>2744666.44</td>\n      <td>2942732.53</td>\n      <td>11.49</td>\n      <td>1032.21</td>\n      <td>3.52</td>\n      <td>...</td>\n      <td>0.36</td>\n      <td>0.84</td>\n      <td>0.70</td>\n      <td>0.46</td>\n      <td>0.23</td>\n      <td>1.75</td>\n      <td>0.48</td>\n      <td>0.29</td>\n      <td>16.44</td>\n      <td>12.42</td>\n    </tr>\n    <tr>\n      <th>min</th>\n      <td>17.00</td>\n      <td>1973.00</td>\n      <td>15.00</td>\n      <td>2014.00</td>\n      <td>0.00</td>\n      <td>0.00</td>\n      <td>0.00</td>\n      <td>1.00</td>\n      <td>1.00</td>\n      <td>0.00</td>\n      <td>...</td>\n      <td>4.95</td>\n      <td>0.00</td>\n      <td>0.00</td>\n      <td>0.00</td>\n      <td>0.00</td>\n      <td>0.00</td>\n      <td>0.00</td>\n      <td>0.00</td>\n      <td>0.00</td>\n      <td>0.00</td>\n    </tr>\n    <tr>\n      <th>25%</th>\n      <td>31281.00</td>\n      <td>1989.00</td>\n      <td>23.00</td>\n      <td>2016.00</td>\n      <td>20000.00</td>\n      <td>1040000.00</td>\n      <td>1252784.00</td>\n      <td>11.00</td>\n      <td>532.50</td>\n      <td>0.00</td>\n      <td>...</td>\n      <td>6.40</td>\n      <td>0.50</td>\n      <td>0.18</td>\n      <td>0.38</td>\n      <td>0.00</td>\n      <td>0.33</td>\n      <td>0.25</td>\n      <td>0.00</td>\n      <td>17.00</td>\n      <td>72.73</td>\n    </tr>\n    <tr>\n      <th>50%</th>\n      <td>91387.00</td>\n      <td>1992.00</td>\n      <td>26.00</td>\n      <td>2018.00</td>\n      <td>40000.00</td>\n      <td>2080000.00</td>\n      <td>2301310.00</td>\n      <td>22.00</td>\n      <td>1390.00</td>\n      <td>1.00</td>\n      <td>...</td>\n      <td>6.65</td>\n      <td>1.00</td>\n      <td>0.65</td>\n      <td>0.68</td>\n      <td>0.00</td>\n      <td>0.86</td>\n      <td>0.53</td>\n      <td>0.11</td>\n      <td>27.29</td>\n      <td>79.32</td>\n    </tr>\n    <tr>\n      <th>75%</th>\n      <td>145392.00</td>\n      <td>1996.00</td>\n      <td>29.00</td>\n      <td>2020.00</td>\n      <td>70000.00</td>\n      <td>3640000.00</td>\n      <td>4071549.00</td>\n      <td>31.00</td>\n      <td>2326.25</td>\n      <td>2.00</td>\n      <td>...</td>\n      <td>6.88</td>\n      <td>1.63</td>\n      <td>1.20</td>\n      <td>1.00</td>\n      <td>0.15</td>\n      <td>2.09</td>\n      <td>0.88</td>\n      <td>0.33</td>\n      <td>38.44</td>\n      <td>84.32</td>\n    </tr>\n    <tr>\n      <th>max</th>\n      <td>470690.00</td>\n      <td>2005.00</td>\n      <td>41.00</td>\n      <td>2022.00</td>\n      <td>600000.00</td>\n      <td>31200000.00</td>\n      <td>33671679.00</td>\n      <td>38.00</td>\n      <td>3420.00</td>\n      <td>36.00</td>\n      <td>...</td>\n      <td>8.34</td>\n      <td>7.00</td>\n      <td>4.22</td>\n      <td>4.00</td>\n      <td>2.00</td>\n      <td>11.50</td>\n      <td>4.00</td>\n      <td>2.05</td>\n      <td>90.41</td>\n      <td>100.00</td>\n    </tr>\n  </tbody>\n</table>\n<p>8 rows × 41 columns</p>\n</div>"
     },
     "execution_count": 12,
     "metadata": {},
     "output_type": "execute_result"
    }
   ],
   "source": [
    "round(eda_df.describe(), 2)"
   ],
   "metadata": {
    "collapsed": false,
    "pycharm": {
     "name": "#%%\n"
    }
   }
  },
  {
   "cell_type": "code",
   "execution_count": 13,
   "outputs": [
    {
     "data": {
      "text/plain": "<Axes: xlabel='Age', ylabel='Density'>"
     },
     "execution_count": 13,
     "metadata": {},
     "output_type": "execute_result"
    },
    {
     "data": {
      "text/plain": "<Figure size 640x480 with 1 Axes>",
      "image/png": "[encoded data removed]"
     },
     "metadata": {},
     "output_type": "display_data"
    }
   ],
   "source": [
    "sns.kdeplot(data=eda_df[eda_df['Min']>1000], x='Age')"
   ],
   "metadata": {
    "collapsed": false,
    "pycharm": {
     "name": "#%%\n"
    }
   }
  },
  {
   "cell_type": "code",
   "execution_count": 14,
   "outputs": [],
   "source": [
    "eda_df['Age Lev'] = eda_df['Age'].apply(lambda age: '<21' if age < 21 else '32<' if age>32 else f'{age}')"
   ],
   "metadata": {
    "collapsed": false,
    "pycharm": {
     "name": "#%%\n"
    }
   }
  },
  {
   "cell_type": "code",
   "execution_count": 15,
   "outputs": [
    {
     "data": {
      "text/plain": "Index(['Player Id', 'Name', 'Birth Year', 'Age', 'Team', 'Position', 'year',\n       'Weekly Salary', 'Base Salary', 'ADJ Salary', 'Apps', 'Min', 'G', 'NPG',\n       'A', 'xG', 'NPxG', 'xA', 'xGChain', 'xGBuildup', 'xG90', 'NPxG90',\n       'xA90', 'xG90+xA90', 'NPxG90+xA90', 'xGChain90', 'xGBuildup90', 'SpG',\n       'KeyP', 'Drb_Off', 'Fouled', 'Off', 'Disp', 'UnsTch', 'Rating',\n       'Tackles', 'Inter', 'Fouls', 'Offsides', 'Clear', 'Drb_Def', 'Blocks',\n       'AvgP', 'PS%', 'Age Lev'],\n      dtype='object')"
     },
     "execution_count": 15,
     "metadata": {},
     "output_type": "execute_result"
    }
   ],
   "source": [
    "eda_df.columns"
   ],
   "metadata": {
    "collapsed": false,
    "pycharm": {
     "name": "#%%\n"
    }
   }
  },
  {
   "cell_type": "code",
   "execution_count": 16,
   "outputs": [
    {
     "data": {
      "text/plain": "      Player Id                Name  Birth Year  Age               Team  \\\n4745     381101        Alex Mighten        2002   20  Nottingham Forest   \n4746     350138         Jamal Lewis        1998   24          Newcastle   \n4747     433972      Maximo Perrone        2003   19           Man City   \n4750      92729  Nathaniel Chalobah        1995   27             Fulham   \n4754      75692         Shane Duffy        1992   30             Fulham   \n\n        Position  year  Weekly Salary  Base Salary  ADJ Salary  ...  Tackles  \\\n4745     Forward  2022         3462.0     180000.0    180000.0  ...     0.00   \n4746    Defender  2022        38000.0    1976000.0   1976000.0  ...     0.00   \n4747  Midfielder  2022        30000.0    1560000.0   1560000.0  ...     0.00   \n4750  Midfielder  2022        35000.0    1820000.0   1820000.0  ...     0.25   \n4754    Defender  2022        40000.0    2080000.0   2080000.0  ...     0.00   \n\n      Inter  Fouls  Offsides  Clear  Drb_Def  Blocks   AvgP         PS%  \\\n4745    0.0    0.0       0.0    0.0      1.0     0.0   1.00  100.000000   \n4746    0.0    0.0       0.0    0.0      0.0     0.0   7.00   85.714286   \n4747    0.0    0.0       0.0    0.0      0.0     0.0  20.00   90.000000   \n4750    0.0    0.5       0.0    0.5      0.0     0.0   1.25   80.000000   \n4754    0.0    0.0       0.0    0.0      0.0     0.0   4.00   80.000000   \n\n      Age Lev  \n4745      <21  \n4746       24  \n4747      <21  \n4750       27  \n4754       30  \n\n[5 rows x 45 columns]",
      "text/html": "<div>\n<style scoped>\n    .dataframe tbody tr th:only-of-type {\n        vertical-align: middle;\n    }\n\n    .dataframe tbody tr th {\n        vertical-align: top;\n    }\n\n    .dataframe thead th {\n        text-align: right;\n    }\n</style>\n<table border=\"1\" class=\"dataframe\">\n  <thead>\n    <tr style=\"text-align: right;\">\n      <th></th>\n      <th>Player Id</th>\n      <th>Name</th>\n      <th>Birth Year</th>\n      <th>Age</th>\n      <th>Team</th>\n      <th>Position</th>\n      <th>year</th>\n      <th>Weekly Salary</th>\n      <th>Base Salary</th>\n      <th>ADJ Salary</th>\n      <th>...</th>\n      <th>Tackles</th>\n      <th>Inter</th>\n      <th>Fouls</th>\n      <th>Offsides</th>\n      <th>Clear</th>\n      <th>Drb_Def</th>\n      <th>Blocks</th>\n      <th>AvgP</th>\n      <th>PS%</th>\n      <th>Age Lev</th>\n    </tr>\n  </thead>\n  <tbody>\n    <tr>\n      <th>4745</th>\n      <td>381101</td>\n      <td>Alex Mighten</td>\n      <td>2002</td>\n      <td>20</td>\n      <td>Nottingham Forest</td>\n      <td>Forward</td>\n      <td>2022</td>\n      <td>3462.0</td>\n      <td>180000.0</td>\n      <td>180000.0</td>\n      <td>...</td>\n      <td>0.00</td>\n      <td>0.0</td>\n      <td>0.0</td>\n      <td>0.0</td>\n      <td>0.0</td>\n      <td>1.0</td>\n      <td>0.0</td>\n      <td>1.00</td>\n      <td>100.000000</td>\n      <td>&lt;21</td>\n    </tr>\n    <tr>\n      <th>4746</th>\n      <td>350138</td>\n      <td>Jamal Lewis</td>\n      <td>1998</td>\n      <td>24</td>\n      <td>Newcastle</td>\n      <td>Defender</td>\n      <td>2022</td>\n      <td>38000.0</td>\n      <td>1976000.0</td>\n      <td>1976000.0</td>\n      <td>...</td>\n      <td>0.00</td>\n      <td>0.0</td>\n      <td>0.0</td>\n      <td>0.0</td>\n      <td>0.0</td>\n      <td>0.0</td>\n      <td>0.0</td>\n      <td>7.00</td>\n      <td>85.714286</td>\n      <td>24</td>\n    </tr>\n    <tr>\n      <th>4747</th>\n      <td>433972</td>\n      <td>Maximo Perrone</td>\n      <td>2003</td>\n      <td>19</td>\n      <td>Man City</td>\n      <td>Midfielder</td>\n      <td>2022</td>\n      <td>30000.0</td>\n      <td>1560000.0</td>\n      <td>1560000.0</td>\n      <td>...</td>\n      <td>0.00</td>\n      <td>0.0</td>\n      <td>0.0</td>\n      <td>0.0</td>\n      <td>0.0</td>\n      <td>0.0</td>\n      <td>0.0</td>\n      <td>20.00</td>\n      <td>90.000000</td>\n      <td>&lt;21</td>\n    </tr>\n    <tr>\n      <th>4750</th>\n      <td>92729</td>\n      <td>Nathaniel Chalobah</td>\n      <td>1995</td>\n      <td>27</td>\n      <td>Fulham</td>\n      <td>Midfielder</td>\n      <td>2022</td>\n      <td>35000.0</td>\n      <td>1820000.0</td>\n      <td>1820000.0</td>\n      <td>...</td>\n      <td>0.25</td>\n      <td>0.0</td>\n      <td>0.5</td>\n      <td>0.0</td>\n      <td>0.5</td>\n      <td>0.0</td>\n      <td>0.0</td>\n      <td>1.25</td>\n      <td>80.000000</td>\n      <td>27</td>\n    </tr>\n    <tr>\n      <th>4754</th>\n      <td>75692</td>\n      <td>Shane Duffy</td>\n      <td>1992</td>\n      <td>30</td>\n      <td>Fulham</td>\n      <td>Defender</td>\n      <td>2022</td>\n      <td>40000.0</td>\n      <td>2080000.0</td>\n      <td>2080000.0</td>\n      <td>...</td>\n      <td>0.00</td>\n      <td>0.0</td>\n      <td>0.0</td>\n      <td>0.0</td>\n      <td>0.0</td>\n      <td>0.0</td>\n      <td>0.0</td>\n      <td>4.00</td>\n      <td>80.000000</td>\n      <td>30</td>\n    </tr>\n  </tbody>\n</table>\n<p>5 rows × 45 columns</p>\n</div>"
     },
     "execution_count": 16,
     "metadata": {},
     "output_type": "execute_result"
    }
   ],
   "source": [
    "eda_df.tail()"
   ],
   "metadata": {
    "collapsed": false,
    "pycharm": {
     "name": "#%%\n"
    }
   }
  },
  {
   "cell_type": "code",
   "execution_count": 17,
   "outputs": [
    {
     "data": {
      "text/plain": "                        Player Id   Birth Year        Age         year  \\\nPosition   Age Lev                                                       \nDefender   21       268151.703704  1997.259259  21.000000  2018.259259   \n           22       233398.736842  1996.263158  22.000000  2018.263158   \n           23       222881.035088  1995.859649  23.000000  2018.859649   \n           24       164062.725000  1994.050000  24.000000  2018.050000   \n           25       133913.839080  1992.977011  25.000000  2017.977011   \n           26        97015.419753  1991.666667  26.000000  2017.666667   \n           27        84127.232558  1990.988372  27.000000  2017.988372   \n           28        73883.917808  1990.095890  28.000000  2018.095890   \n           29        53380.573333  1988.560000  29.000000  2017.560000   \n           30        49544.750000  1988.066667  30.000000  2018.066667   \n           31        40855.708333  1987.270833  31.000000  2018.270833   \n           32        26024.027778  1985.972222  32.000000  2017.972222   \n           32<       13133.581395  1982.906977  34.000000  2016.906977   \n           <21      284173.354839  1998.516129  19.580645  2018.096774   \nForward    21       214234.625000  1996.791667  21.000000  2017.791667   \n           22       198957.153846  1996.192308  22.000000  2018.192308   \n           23       164319.281250  1994.781250  23.000000  2017.781250   \n           24       156733.289474  1994.526316  24.000000  2018.526316   \n           25       117285.446809  1992.617021  25.000000  2017.617021   \n           26        86190.121951  1991.878049  26.000000  2017.878049   \n           27        66302.025641  1990.589744  27.000000  2017.589744   \n           28        61928.970588  1989.882353  28.000000  2017.882353   \n           29        53325.555556  1989.194444  29.000000  2018.194444   \n           30        54831.863636  1988.727273  30.000000  2018.727273   \n           31        38482.941176  1987.764706  31.000000  2018.764706   \n           32        49459.000000  1987.000000  32.000000  2019.000000   \n           32<       34800.000000  1984.166667  34.000000  2018.166667   \n           <21      264023.260870  1998.260870  19.434783  2017.695652   \nGoalkeeper 21       348719.000000  1999.000000  21.000000  2020.000000   \n           22       236425.571429  1996.000000  22.000000  2018.000000   \n           23       176071.666667  1994.666667  23.000000  2017.666667   \n           24       143226.545455  1993.727273  24.000000  2017.727273   \n           25       130382.400000  1992.900000  25.000000  2017.900000   \n           26        96519.909091  1991.363636  26.000000  2017.363636   \n           27        70941.590909  1990.409091  27.000000  2017.409091   \n           28        78763.954545  1989.681818  28.000000  2017.681818   \n           29        75461.857143  1989.476190  29.000000  2018.476190   \n           30        41643.933333  1988.000000  30.000000  2018.000000   \n           31        26680.461538  1987.076923  31.000000  2018.076923   \n           32        20520.100000  1985.700000  32.000000  2017.700000   \n           32<       18814.846154  1983.871795  34.358974  2018.230769   \n           <21      382724.000000  2001.000000  20.000000  2021.000000   \nMidfielder 21       267636.838710  1997.709677  21.000000  2018.709677   \n           22       226397.130435  1996.413043  22.000000  2018.413043   \n           23       182861.734375  1995.281250  23.000000  2018.281250   \n           24       156643.687500  1993.950000  24.000000  2017.950000   \n           25       130182.076923  1992.923077  25.000000  2017.923077   \n           26        98232.912500  1991.700000  26.000000  2017.700000   \n           27        81564.358974  1990.910256  27.000000  2017.910256   \n           28        67597.121622  1989.824324  28.000000  2017.824324   \n           29        46735.745763  1988.830508  29.000000  2017.830508   \n           30        40168.212766  1987.765957  30.000000  2017.765957   \n           31        27668.419355  1986.741935  31.000000  2017.741935   \n           32        20463.666667  1985.857143  32.000000  2017.857143   \n           32<       13106.476190  1984.142857  33.809524  2017.952381   \n           <21      297405.700000  1999.066667  19.366667  2018.433333   \n\n                    Weekly Salary   Base Salary    ADJ Salary       Apps  \\\nPosition   Age Lev                                                         \nDefender   21        38388.888889  1.996222e+06  2.185467e+06  29.888889   \n           22        50304.157895  2.615816e+06  2.863025e+06  29.605263   \n           23        55392.368421  2.880404e+06  3.087163e+06  28.105263   \n           24        55397.600000  2.880675e+06  3.142993e+06  29.250000   \n           25        50844.390805  2.643908e+06  2.910920e+06  28.965517   \n           26        52819.555556  2.746617e+06  3.058403e+06  29.333333   \n           27        59778.383721  3.108477e+06  3.390745e+06  28.255814   \n           28        62359.068493  3.242671e+06  3.520791e+06  29.534247   \n           29        56097.426667  2.917067e+06  3.260056e+06  29.293333   \n           30        51266.983333  2.665883e+06  2.932242e+06  29.733333   \n           31        65418.666667  3.401771e+06  3.685638e+06  28.750000   \n           32        59758.027778  3.107417e+06  3.428385e+06  28.666667   \n           32<       56290.697674  2.927116e+06  3.287142e+06  27.069767   \n           <21       27765.516129  1.443806e+06  1.596524e+06  25.612903   \nForward    21        78116.958333  4.062083e+06  4.443178e+06  33.083333   \n           22        96365.384615  5.011000e+06  5.369939e+06  31.884615   \n           23        74200.125000  3.858406e+06  4.302533e+06  31.906250   \n           24        87118.447368  4.530158e+06  4.950664e+06  32.631579   \n           25        78851.063830  4.100255e+06  4.566142e+06  31.510638   \n           26        87279.073171  4.538512e+06  5.052908e+06  33.121951   \n           27        93397.435897  4.856667e+06  5.402876e+06  33.205128   \n           28       104485.852941  5.433265e+06  5.998984e+06  33.088235   \n           29        91584.944444  4.762417e+06  5.170894e+06  31.722222   \n           30       115197.545455  5.990273e+06  6.427003e+06  32.545455   \n           31       104949.117647  5.457353e+06  5.998308e+06  30.941176   \n           32        83125.000000  4.322500e+06  4.744745e+06  34.000000   \n           32<      120416.666667  6.261667e+06  6.634285e+06  32.166667   \n           <21       46306.000000  2.407913e+06  2.749793e+06  31.304348   \nGoalkeeper 21        17500.000000  9.100000e+05  9.238320e+05  37.500000   \n           22        29285.714286  1.522857e+06  1.750266e+06  32.428571   \n           23        77935.833333  4.052667e+06  4.570018e+06  34.166667   \n           24        88171.363636  4.584909e+06  5.170923e+06  30.727273   \n           25        78500.000000  4.082000e+06  4.566449e+06  31.700000   \n           26        68636.363636  3.569091e+06  4.020158e+06  32.000000   \n           27        63409.090909  3.297273e+06  3.672594e+06  31.409091   \n           28        74266.590909  3.861864e+06  4.222546e+06  33.590909   \n           29        70666.666667  3.674667e+06  3.964213e+06  30.190476   \n           30        85059.000000  4.423067e+06  4.775899e+06  32.533333   \n           31        85153.846154  4.428000e+06  4.771380e+06  28.307692   \n           32        58700.000000  3.052400e+06  3.384625e+06  28.000000   \n           32<       60897.435897  3.166667e+06  3.434263e+06  31.435897   \n           <21       15000.000000  7.800000e+05  8.005975e+05  33.500000   \nMidfielder 21        57791.548387  3.005161e+06  3.237122e+06  31.709677   \n           22        58421.826087  3.037935e+06  3.264974e+06  30.891304   \n           23        61754.203125  3.211219e+06  3.532484e+06  30.625000   \n           24        57869.712500  3.009225e+06  3.332774e+06  31.287500   \n           25        61656.175824  3.206121e+06  3.526303e+06  31.967033   \n           26        74412.250000  3.869438e+06  4.287014e+06  31.387500   \n           27        76069.038462  3.955590e+06  4.360504e+06  31.115385   \n           28        76675.418919  3.987122e+06  4.409562e+06  30.567568   \n           29        81085.406780  4.216441e+06  4.654653e+06  30.254237   \n           30        82685.765957  4.299660e+06  4.622718e+06  30.148936   \n           31        79627.806452  4.140645e+06  4.532866e+06  30.322581   \n           32        78456.047619  4.079714e+06  4.518341e+06  30.095238   \n           32<       95846.142857  4.984000e+06  5.527751e+06  29.190476   \n           <21       46416.666667  2.413667e+06  2.608749e+06  31.066667   \n\n                            Min          G  ...    Rating   Tackles     Inter  \\\nPosition   Age Lev                          ...                                 \nDefender   21       2449.111111   0.851852  ...  6.780677  1.598067  1.349702   \n           22       2490.605263   0.947368  ...  6.856591  1.606696  1.420457   \n           23       2373.157895   0.964912  ...  6.827955  1.755241  1.298774   \n           24       2450.525000   1.212500  ...  6.884652  1.715290  1.467339   \n           25       2437.965517   1.114943  ...  6.871053  1.668645  1.437835   \n           26       2478.074074   1.197531  ...  6.872729  1.645664  1.481766   \n           27       2400.697674   1.069767  ...  6.882133  1.646278  1.527706   \n           28       2500.260274   1.178082  ...  6.851137  1.629832  1.523589   \n           29       2500.613333   1.200000  ...  6.868272  1.590171  1.505597   \n           30       2541.233333   1.050000  ...  6.822415  1.511094  1.511518   \n           31       2419.854167   1.125000  ...  6.851640  1.580121  1.476389   \n           32       2412.000000   1.138889  ...  6.786625  1.424071  1.436801   \n           32<      2255.837209   1.116279  ...  6.821799  1.433416  1.585303   \n           <21      2043.548387   0.741935  ...  6.885382  2.001295  1.503419   \nForward    21       2293.250000   8.041667  ...  6.829888  0.829589  0.401012   \n           22       2302.500000  10.038462  ...  6.989734  0.799087  0.352930   \n           23       2362.937500   8.937500  ...  7.037966  0.905712  0.423367   \n           24       2422.500000   9.526316  ...  6.982494  0.844782  0.402862   \n           25       2362.170213   9.425532  ...  6.967638  0.885427  0.491943   \n           26       2530.463415  10.560976  ...  7.035446  0.864578  0.379740   \n           27       2473.589744  10.512821  ...  6.977056  0.823774  0.371025   \n           28       2437.558824  10.882353  ...  6.987392  0.820148  0.388572   \n           29       2211.388889   9.555556  ...  6.885386  0.674384  0.302340   \n           30       2239.227273   9.409091  ...  6.845882  0.706416  0.302573   \n           31       2279.235294   9.058824  ...  6.854482  0.740599  0.283127   \n           32       2462.000000  12.750000  ...  6.807004  0.570130  0.081602   \n           32<      2214.000000  10.750000  ...  6.816386  0.361714  0.132540   \n           <21      2119.913043   5.608696  ...  6.869859  0.882449  0.438573   \nGoalkeeper 21       3363.000000   0.000000  ...  6.653176  0.067212  0.000000   \n           22       2909.000000   0.000000  ...  6.715117  0.022062  0.035758   \n           23       3064.666667   0.000000  ...  6.646649  0.023443  0.025027   \n           24       2758.727273   0.000000  ...  6.588079  0.019963  0.025129   \n           25       2849.500000   0.000000  ...  6.714516  0.018713  0.021053   \n           26       2844.000000   0.000000  ...  6.689177  0.014939  0.036511   \n           27       2816.954545   0.045455  ...  6.742751  0.028726  0.036813   \n           28       3017.136364   0.000000  ...  6.662987  0.020028  0.037515   \n           29       2704.809524   0.000000  ...  6.669682  0.022318  0.020329   \n           30       2923.266667   0.000000  ...  6.662506  0.030923  0.028937   \n           31       2538.307692   0.000000  ...  6.619059  0.010592  0.023063   \n           32       2511.800000   0.000000  ...  6.653236  0.019063  0.010096   \n           32<      2810.051282   0.000000  ...  6.660125  0.024535  0.031097   \n           <21      3015.000000   0.000000  ...  6.671763  0.015625  0.015625   \nMidfielder 21       2333.387097   4.064516  ...  6.840203  1.435021  0.831622   \n           22       2266.195652   3.630435  ...  6.863210  1.556470  0.832423   \n           23       2279.343750   3.578125  ...  6.904181  1.771006  1.031860   \n           24       2406.575000   3.512500  ...  6.921722  1.783663  1.154064   \n           25       2465.747253   3.648352  ...  6.866840  1.774739  1.072997   \n           26       2354.350000   3.100000  ...  6.856305  1.683883  1.003635   \n           27       2384.551282   2.717949  ...  6.817589  1.705710  1.128703   \n           28       2262.756757   3.283784  ...  6.848956  1.805795  1.046702   \n           29       2347.830508   2.457627  ...  6.845374  1.720584  1.155291   \n           30       2284.212766   2.446809  ...  6.827182  1.658845  1.140751   \n           31       2338.774194   2.290323  ...  6.832567  1.657463  1.056948   \n           32       2194.571429   1.857143  ...  6.711045  1.460489  1.030776   \n           32<      2173.000000   1.761905  ...  6.772482  1.737090  1.073753   \n           <21      2316.366667   3.766667  ...  6.864878  1.782552  0.965463   \n\n                       Fouls  Offsides     Clear   Drb_Def    Blocks  \\\nPosition   Age Lev                                                     \nDefender   21       0.676626  0.358101  3.284293  0.561304  0.565987   \n           22       0.751572  0.472866  3.873778  0.588940  0.553808   \n           23       0.817331  0.331149  3.261512  0.645503  0.493443   \n           24       0.816860  0.415621  3.687547  0.632748  0.511569   \n           25       0.796441  0.337526  3.570975  0.652071  0.496984   \n           26       0.817045  0.392117  3.971563  0.633040  0.565632   \n           27       0.806623  0.432503  3.984628  0.609718  0.568872   \n           28       0.819084  0.408554  3.693452  0.602985  0.556870   \n           29       0.788150  0.371458  3.917385  0.613305  0.569959   \n           30       0.741119  0.481647  4.059810  0.582857  0.591209   \n           31       0.752497  0.378515  3.741526  0.658781  0.571278   \n           32       0.733701  0.378035  3.882291  0.564855  0.591443   \n           32<      0.759957  0.430087  4.934897  0.503956  0.714259   \n           <21      0.743419  0.276034  2.668238  0.725243  0.396604   \nForward    21       0.788843  0.006397  0.447122  0.604883  0.052032   \n           22       0.884862  0.010701  0.407652  0.597734  0.062464   \n           23       0.966218  0.010666  0.514723  0.612471  0.068276   \n           24       0.941364  0.014115  0.485411  0.699940  0.071252   \n           25       1.000845  0.011533  0.560636  0.707153  0.067906   \n           26       0.996289  0.016738  0.581849  0.641527  0.093451   \n           27       1.010757  0.014109  0.536290  0.649208  0.070337   \n           28       0.995948  0.012433  0.609491  0.629358  0.074741   \n           29       0.891089  0.010758  0.486699  0.482638  0.071249   \n           30       0.808400  0.002392  0.474361  0.526680  0.061955   \n           31       0.897922  0.014121  0.689175  0.582809  0.069322   \n           32       0.805195  0.000000  0.404762  0.271645  0.087879   \n           32<      1.075444  0.020003  0.670978  0.366827  0.064012   \n           <21      0.820749  0.005113  0.459818  0.648858  0.067540   \nGoalkeeper 21       0.000000  0.000000  1.159673  0.000000  0.000000   \n           22       0.023151  0.004926  0.893790  0.017620  0.000000   \n           23       0.023383  0.000000  0.834706  0.022808  0.000000   \n           24       0.021574  0.000000  0.769890  0.013301  0.000000   \n           25       0.026188  0.000000  0.717817  0.024135  0.000000   \n           26       0.018481  0.000000  0.799002  0.053517  0.000000   \n           27       0.012477  0.001196  0.847651  0.038409  0.000000   \n           28       0.019815  0.001299  0.804954  0.037736  0.000000   \n           29       0.016094  0.000000  0.841712  0.038564  0.000000   \n           30       0.017834  0.000000  0.869114  0.046472  0.000000   \n           31       0.013556  0.000000  0.758348  0.048981  0.000000   \n           32       0.011741  0.000000  0.648758  0.030758  0.000000   \n           32<      0.018860  0.000986  0.895632  0.048989  0.000000   \n           <21      0.029911  0.000000  1.163839  0.014286  0.000000   \nMidfielder 21       0.887598  0.023462  0.749480  0.938487  0.153980   \n           22       0.985120  0.016732  0.753640  0.989869  0.163679   \n           23       1.018387  0.028092  0.959349  0.990243  0.176610   \n           24       1.048858  0.030482  0.962517  1.064512  0.183890   \n           25       1.034356  0.025137  0.958980  1.138200  0.197787   \n           26       0.917417  0.028402  0.941747  1.090620  0.179051   \n           27       0.973316  0.027659  1.018853  1.153798  0.209712   \n           28       1.029334  0.022076  0.891653  1.156152  0.184232   \n           29       0.993438  0.021973  0.937874  1.184656  0.181170   \n           30       0.986405  0.050451  1.181097  1.148417  0.245425   \n           31       1.006045  0.025713  1.046863  1.145830  0.254224   \n           32       0.880247  0.032582  0.979251  0.996859  0.235727   \n           32<      0.937802  0.055662  1.432915  1.127509  0.286429   \n           <21      0.997314  0.048091  0.984866  1.097232  0.166638   \n\n                         AvgP        PS%  \nPosition   Age Lev                        \nDefender   21       43.608212  81.405886  \n           22       44.266680  81.547699  \n           23       44.564420  79.878766  \n           24       44.544576  80.871220  \n           25       43.120097  79.950862  \n           26       42.277406  79.147418  \n           27       43.525225  79.595247  \n           28       43.784403  80.699011  \n           29       41.496456  79.332848  \n           30       43.182196  79.477030  \n           31       45.115634  79.966534  \n           32       40.353388  79.064131  \n           32<      36.570050  77.679199  \n           <21      39.037750  78.937727  \nForward    21       22.108540  75.992378  \n           22       22.806251  76.885670  \n           23       23.064500  74.497435  \n           24       22.261621  74.291808  \n           25       23.518956  74.884374  \n           26       24.746083  73.957944  \n           27       24.365760  73.445731  \n           28       24.258123  73.750736  \n           29       20.835482  73.633021  \n           30       20.597739  73.735902  \n           31       23.409140  74.480524  \n           32       15.172727  69.654050  \n           32<      19.515467  67.593074  \n           <21      21.662715  75.959594  \nGoalkeeper 21       27.441323  60.463141  \n           22       28.354040  50.388668  \n           23       29.143007  62.030084  \n           24       26.807581  64.673063  \n           25       29.313759  61.909417  \n           26       28.643418  62.562214  \n           27       27.232180  57.820824  \n           28       27.227642  57.657872  \n           29       28.028103  60.639585  \n           30       26.642870  55.287744  \n           31       27.626052  56.144385  \n           32       25.429295  55.553889  \n           32<      26.556166  56.401838  \n           <21      31.491071  66.531741  \nMidfielder 21       33.730873  81.654710  \n           22       37.471251  81.973493  \n           23       38.813704  81.548722  \n           24       39.209356  81.865695  \n           25       39.718100  81.047792  \n           26       40.121177  81.928269  \n           27       41.059172  81.918722  \n           28       39.853395  82.284976  \n           29       42.936204  82.998726  \n           30       42.285396  81.675985  \n           31       43.816931  81.499017  \n           32       40.834796  82.106413  \n           32<      47.433758  82.864305  \n           <21      36.615536  82.606275  \n\n[56 rows x 41 columns]",
      "text/html": "<div>\n<style scoped>\n    .dataframe tbody tr th:only-of-type {\n        vertical-align: middle;\n    }\n\n    .dataframe tbody tr th {\n        vertical-align: top;\n    }\n\n    .dataframe thead th {\n        text-align: right;\n    }\n</style>\n<table border=\"1\" class=\"dataframe\">\n  <thead>\n    <tr style=\"text-align: right;\">\n      <th></th>\n      <th></th>\n      <th>Player Id</th>\n      <th>Birth Year</th>\n      <th>Age</th>\n      <th>year</th>\n      <th>Weekly Salary</th>\n      <th>Base Salary</th>\n      <th>ADJ Salary</th>\n      <th>Apps</th>\n      <th>Min</th>\n      <th>G</th>\n      <th>...</th>\n      <th>Rating</th>\n      <th>Tackles</th>\n      <th>Inter</th>\n      <th>Fouls</th>\n      <th>Offsides</th>\n      <th>Clear</th>\n      <th>Drb_Def</th>\n      <th>Blocks</th>\n      <th>AvgP</th>\n      <th>PS%</th>\n    </tr>\n    <tr>\n      <th>Position</th>\n      <th>Age Lev</th>\n      <th></th>\n      <th></th>\n      <th></th>\n      <th></th>\n      <th></th>\n      <th></th>\n      <th></th>\n      <th></th>\n      <th></th>\n      <th></th>\n      <th></th>\n      <th></th>\n      <th></th>\n      <th></th>\n      <th></th>\n      <th></th>\n      <th></th>\n      <th></th>\n      <th></th>\n      <th></th>\n      <th></th>\n    </tr>\n  </thead>\n  <tbody>\n    <tr>\n      <th rowspan=\"14\" valign=\"top\">Defender</th>\n      <th>21</th>\n      <td>268151.703704</td>\n      <td>1997.259259</td>\n      <td>21.000000</td>\n      <td>2018.259259</td>\n      <td>38388.888889</td>\n      <td>1.996222e+06</td>\n      <td>2.185467e+06</td>\n      <td>29.888889</td>\n      <td>2449.111111</td>\n      <td>0.851852</td>\n      <td>...</td>\n      <td>6.780677</td>\n      <td>1.598067</td>\n      <td>1.349702</td>\n      <td>0.676626</td>\n      <td>0.358101</td>\n      <td>3.284293</td>\n      <td>0.561304</td>\n      <td>0.565987</td>\n      <td>43.608212</td>\n      <td>81.405886</td>\n    </tr>\n    <tr>\n      <th>22</th>\n      <td>233398.736842</td>\n      <td>1996.263158</td>\n      <td>22.000000</td>\n      <td>2018.263158</td>\n      <td>50304.157895</td>\n      <td>2.615816e+06</td>\n      <td>2.863025e+06</td>\n      <td>29.605263</td>\n      <td>2490.605263</td>\n      <td>0.947368</td>\n      <td>...</td>\n      <td>6.856591</td>\n      <td>1.606696</td>\n      <td>1.420457</td>\n      <td>0.751572</td>\n      <td>0.472866</td>\n      <td>3.873778</td>\n      <td>0.588940</td>\n      <td>0.553808</td>\n      <td>44.266680</td>\n      <td>81.547699</td>\n    </tr>\n    <tr>\n      <th>23</th>\n      <td>222881.035088</td>\n      <td>1995.859649</td>\n      <td>23.000000</td>\n      <td>2018.859649</td>\n      <td>55392.368421</td>\n      <td>2.880404e+06</td>\n      <td>3.087163e+06</td>\n      <td>28.105263</td>\n      <td>2373.157895</td>\n      <td>0.964912</td>\n      <td>...</td>\n      <td>6.827955</td>\n      <td>1.755241</td>\n      <td>1.298774</td>\n      <td>0.817331</td>\n      <td>0.331149</td>\n      <td>3.261512</td>\n      <td>0.645503</td>\n      <td>0.493443</td>\n      <td>44.564420</td>\n      <td>79.878766</td>\n    </tr>\n    <tr>\n      <th>24</th>\n      <td>164062.725000</td>\n      <td>1994.050000</td>\n      <td>24.000000</td>\n      <td>2018.050000</td>\n      <td>55397.600000</td>\n      <td>2.880675e+06</td>\n      <td>3.142993e+06</td>\n      <td>29.250000</td>\n      <td>2450.525000</td>\n      <td>1.212500</td>\n      <td>...</td>\n      <td>6.884652</td>\n      <td>1.715290</td>\n      <td>1.467339</td>\n      <td>0.816860</td>\n      <td>0.415621</td>\n      <td>3.687547</td>\n      <td>0.632748</td>\n      <td>0.511569</td>\n      <td>44.544576</td>\n      <td>80.871220</td>\n    </tr>\n    <tr>\n      <th>25</th>\n      <td>133913.839080</td>\n      <td>1992.977011</td>\n      <td>25.000000</td>\n      <td>2017.977011</td>\n      <td>50844.390805</td>\n      <td>2.643908e+06</td>\n      <td>2.910920e+06</td>\n      <td>28.965517</td>\n      <td>2437.965517</td>\n      <td>1.114943</td>\n      <td>...</td>\n      <td>6.871053</td>\n      <td>1.668645</td>\n      <td>1.437835</td>\n      <td>0.796441</td>\n      <td>0.337526</td>\n      <td>3.570975</td>\n      <td>0.652071</td>\n      <td>0.496984</td>\n      <td>43.120097</td>\n      <td>79.950862</td>\n    </tr>\n    <tr>\n      <th>26</th>\n      <td>97015.419753</td>\n      <td>1991.666667</td>\n      <td>26.000000</td>\n      <td>2017.666667</td>\n      <td>52819.555556</td>\n      <td>2.746617e+06</td>\n      <td>3.058403e+06</td>\n      <td>29.333333</td>\n      <td>2478.074074</td>\n      <td>1.197531</td>\n      <td>...</td>\n      <td>6.872729</td>\n      <td>1.645664</td>\n      <td>1.481766</td>\n      <td>0.817045</td>\n      <td>0.392117</td>\n      <td>3.971563</td>\n      <td>0.633040</td>\n      <td>0.565632</td>\n      <td>42.277406</td>\n      <td>79.147418</td>\n    </tr>\n    <tr>\n      <th>27</th>\n      <td>84127.232558</td>\n      <td>1990.988372</td>\n      <td>27.000000</td>\n      <td>2017.988372</td>\n      <td>59778.383721</td>\n      <td>3.108477e+06</td>\n      <td>3.390745e+06</td>\n      <td>28.255814</td>\n      <td>2400.697674</td>\n      <td>1.069767</td>\n      <td>...</td>\n      <td>6.882133</td>\n      <td>1.646278</td>\n      <td>1.527706</td>\n      <td>0.806623</td>\n      <td>0.432503</td>\n      <td>3.984628</td>\n      <td>0.609718</td>\n      <td>0.568872</td>\n      <td>43.525225</td>\n      <td>79.595247</td>\n    </tr>\n    <tr>\n      <th>28</th>\n      <td>73883.917808</td>\n      <td>1990.095890</td>\n      <td>28.000000</td>\n      <td>2018.095890</td>\n      <td>62359.068493</td>\n      <td>3.242671e+06</td>\n      <td>3.520791e+06</td>\n      <td>29.534247</td>\n      <td>2500.260274</td>\n      <td>1.178082</td>\n      <td>...</td>\n      <td>6.851137</td>\n      <td>1.629832</td>\n      <td>1.523589</td>\n      <td>0.819084</td>\n      <td>0.408554</td>\n      <td>3.693452</td>\n      <td>0.602985</td>\n      <td>0.556870</td>\n      <td>43.784403</td>\n      <td>80.699011</td>\n    </tr>\n    <tr>\n      <th>29</th>\n      <td>53380.573333</td>\n      <td>1988.560000</td>\n      <td>29.000000</td>\n      <td>2017.560000</td>\n      <td>56097.426667</td>\n      <td>2.917067e+06</td>\n      <td>3.260056e+06</td>\n      <td>29.293333</td>\n      <td>2500.613333</td>\n      <td>1.200000</td>\n      <td>...</td>\n      <td>6.868272</td>\n      <td>1.590171</td>\n      <td>1.505597</td>\n      <td>0.788150</td>\n      <td>0.371458</td>\n      <td>3.917385</td>\n      <td>0.613305</td>\n      <td>0.569959</td>\n      <td>41.496456</td>\n      <td>79.332848</td>\n    </tr>\n    <tr>\n      <th>30</th>\n      <td>49544.750000</td>\n      <td>1988.066667</td>\n      <td>30.000000</td>\n      <td>2018.066667</td>\n      <td>51266.983333</td>\n      <td>2.665883e+06</td>\n      <td>2.932242e+06</td>\n      <td>29.733333</td>\n      <td>2541.233333</td>\n      <td>1.050000</td>\n      <td>...</td>\n      <td>6.822415</td>\n      <td>1.511094</td>\n      <td>1.511518</td>\n      <td>0.741119</td>\n      <td>0.481647</td>\n      <td>4.059810</td>\n      <td>0.582857</td>\n      <td>0.591209</td>\n      <td>43.182196</td>\n      <td>79.477030</td>\n    </tr>\n    <tr>\n      <th>31</th>\n      <td>40855.708333</td>\n      <td>1987.270833</td>\n      <td>31.000000</td>\n      <td>2018.270833</td>\n      <td>65418.666667</td>\n      <td>3.401771e+06</td>\n      <td>3.685638e+06</td>\n      <td>28.750000</td>\n      <td>2419.854167</td>\n      <td>1.125000</td>\n      <td>...</td>\n      <td>6.851640</td>\n      <td>1.580121</td>\n      <td>1.476389</td>\n      <td>0.752497</td>\n      <td>0.378515</td>\n      <td>3.741526</td>\n      <td>0.658781</td>\n      <td>0.571278</td>\n      <td>45.115634</td>\n      <td>79.966534</td>\n    </tr>\n    <tr>\n      <th>32</th>\n      <td>26024.027778</td>\n      <td>1985.972222</td>\n      <td>32.000000</td>\n      <td>2017.972222</td>\n      <td>59758.027778</td>\n      <td>3.107417e+06</td>\n      <td>3.428385e+06</td>\n      <td>28.666667</td>\n      <td>2412.000000</td>\n      <td>1.138889</td>\n      <td>...</td>\n      <td>6.786625</td>\n      <td>1.424071</td>\n      <td>1.436801</td>\n      <td>0.733701</td>\n      <td>0.378035</td>\n      <td>3.882291</td>\n      <td>0.564855</td>\n      <td>0.591443</td>\n      <td>40.353388</td>\n      <td>79.064131</td>\n    </tr>\n    <tr>\n      <th>32&lt;</th>\n      <td>13133.581395</td>\n      <td>1982.906977</td>\n      <td>34.000000</td>\n      <td>2016.906977</td>\n      <td>56290.697674</td>\n      <td>2.927116e+06</td>\n      <td>3.287142e+06</td>\n      <td>27.069767</td>\n      <td>2255.837209</td>\n      <td>1.116279</td>\n      <td>...</td>\n      <td>6.821799</td>\n      <td>1.433416</td>\n      <td>1.585303</td>\n      <td>0.759957</td>\n      <td>0.430087</td>\n      <td>4.934897</td>\n      <td>0.503956</td>\n      <td>0.714259</td>\n      <td>36.570050</td>\n      <td>77.679199</td>\n    </tr>\n    <tr>\n      <th>&lt;21</th>\n      <td>284173.354839</td>\n      <td>1998.516129</td>\n      <td>19.580645</td>\n      <td>2018.096774</td>\n      <td>27765.516129</td>\n      <td>1.443806e+06</td>\n      <td>1.596524e+06</td>\n      <td>25.612903</td>\n      <td>2043.548387</td>\n      <td>0.741935</td>\n      <td>...</td>\n      <td>6.885382</td>\n      <td>2.001295</td>\n      <td>1.503419</td>\n      <td>0.743419</td>\n      <td>0.276034</td>\n      <td>2.668238</td>\n      <td>0.725243</td>\n      <td>0.396604</td>\n      <td>39.037750</td>\n      <td>78.937727</td>\n    </tr>\n    <tr>\n      <th rowspan=\"14\" valign=\"top\">Forward</th>\n      <th>21</th>\n      <td>214234.625000</td>\n      <td>1996.791667</td>\n      <td>21.000000</td>\n      <td>2017.791667</td>\n      <td>78116.958333</td>\n      <td>4.062083e+06</td>\n      <td>4.443178e+06</td>\n      <td>33.083333</td>\n      <td>2293.250000</td>\n      <td>8.041667</td>\n      <td>...</td>\n      <td>6.829888</td>\n      <td>0.829589</td>\n      <td>0.401012</td>\n      <td>0.788843</td>\n      <td>0.006397</td>\n      <td>0.447122</td>\n      <td>0.604883</td>\n      <td>0.052032</td>\n      <td>22.108540</td>\n      <td>75.992378</td>\n    </tr>\n    <tr>\n      <th>22</th>\n      <td>198957.153846</td>\n      <td>1996.192308</td>\n      <td>22.000000</td>\n      <td>2018.192308</td>\n      <td>96365.384615</td>\n      <td>5.011000e+06</td>\n      <td>5.369939e+06</td>\n      <td>31.884615</td>\n      <td>2302.500000</td>\n      <td>10.038462</td>\n      <td>...</td>\n      <td>6.989734</td>\n      <td>0.799087</td>\n      <td>0.352930</td>\n      <td>0.884862</td>\n      <td>0.010701</td>\n      <td>0.407652</td>\n      <td>0.597734</td>\n      <td>0.062464</td>\n      <td>22.806251</td>\n      <td>76.885670</td>\n    </tr>\n    <tr>\n      <th>23</th>\n      <td>164319.281250</td>\n      <td>1994.781250</td>\n      <td>23.000000</td>\n      <td>2017.781250</td>\n      <td>74200.125000</td>\n      <td>3.858406e+06</td>\n      <td>4.302533e+06</td>\n      <td>31.906250</td>\n      <td>2362.937500</td>\n      <td>8.937500</td>\n      <td>...</td>\n      <td>7.037966</td>\n      <td>0.905712</td>\n      <td>0.423367</td>\n      <td>0.966218</td>\n      <td>0.010666</td>\n      <td>0.514723</td>\n      <td>0.612471</td>\n      <td>0.068276</td>\n      <td>23.064500</td>\n      <td>74.497435</td>\n    </tr>\n    <tr>\n      <th>24</th>\n      <td>156733.289474</td>\n      <td>1994.526316</td>\n      <td>24.000000</td>\n      <td>2018.526316</td>\n      <td>87118.447368</td>\n      <td>4.530158e+06</td>\n      <td>4.950664e+06</td>\n      <td>32.631579</td>\n      <td>2422.500000</td>\n      <td>9.526316</td>\n      <td>...</td>\n      <td>6.982494</td>\n      <td>0.844782</td>\n      <td>0.402862</td>\n      <td>0.941364</td>\n      <td>0.014115</td>\n      <td>0.485411</td>\n      <td>0.699940</td>\n      <td>0.071252</td>\n      <td>22.261621</td>\n      <td>74.291808</td>\n    </tr>\n    <tr>\n      <th>25</th>\n      <td>117285.446809</td>\n      <td>1992.617021</td>\n      <td>25.000000</td>\n      <td>2017.617021</td>\n      <td>78851.063830</td>\n      <td>4.100255e+06</td>\n      <td>4.566142e+06</td>\n      <td>31.510638</td>\n      <td>2362.170213</td>\n      <td>9.425532</td>\n      <td>...</td>\n      <td>6.967638</td>\n      <td>0.885427</td>\n      <td>0.491943</td>\n      <td>1.000845</td>\n      <td>0.011533</td>\n      <td>0.560636</td>\n      <td>0.707153</td>\n      <td>0.067906</td>\n      <td>23.518956</td>\n      <td>74.884374</td>\n    </tr>\n    <tr>\n      <th>26</th>\n      <td>86190.121951</td>\n      <td>1991.878049</td>\n      <td>26.000000</td>\n      <td>2017.878049</td>\n      <td>87279.073171</td>\n      <td>4.538512e+06</td>\n      <td>5.052908e+06</td>\n      <td>33.121951</td>\n      <td>2530.463415</td>\n      <td>10.560976</td>\n      <td>...</td>\n      <td>7.035446</td>\n      <td>0.864578</td>\n      <td>0.379740</td>\n      <td>0.996289</td>\n      <td>0.016738</td>\n      <td>0.581849</td>\n      <td>0.641527</td>\n      <td>0.093451</td>\n      <td>24.746083</td>\n      <td>73.957944</td>\n    </tr>\n    <tr>\n      <th>27</th>\n      <td>66302.025641</td>\n      <td>1990.589744</td>\n      <td>27.000000</td>\n      <td>2017.589744</td>\n      <td>93397.435897</td>\n      <td>4.856667e+06</td>\n      <td>5.402876e+06</td>\n      <td>33.205128</td>\n      <td>2473.589744</td>\n      <td>10.512821</td>\n      <td>...</td>\n      <td>6.977056</td>\n      <td>0.823774</td>\n      <td>0.371025</td>\n      <td>1.010757</td>\n      <td>0.014109</td>\n      <td>0.536290</td>\n      <td>0.649208</td>\n      <td>0.070337</td>\n      <td>24.365760</td>\n      <td>73.445731</td>\n    </tr>\n    <tr>\n      <th>28</th>\n      <td>61928.970588</td>\n      <td>1989.882353</td>\n      <td>28.000000</td>\n      <td>2017.882353</td>\n      <td>104485.852941</td>\n      <td>5.433265e+06</td>\n      <td>5.998984e+06</td>\n      <td>33.088235</td>\n      <td>2437.558824</td>\n      <td>10.882353</td>\n      <td>...</td>\n      <td>6.987392</td>\n      <td>0.820148</td>\n      <td>0.388572</td>\n      <td>0.995948</td>\n      <td>0.012433</td>\n      <td>0.609491</td>\n      <td>0.629358</td>\n      <td>0.074741</td>\n      <td>24.258123</td>\n      <td>73.750736</td>\n    </tr>\n    <tr>\n      <th>29</th>\n      <td>53325.555556</td>\n      <td>1989.194444</td>\n      <td>29.000000</td>\n      <td>2018.194444</td>\n      <td>91584.944444</td>\n      <td>4.762417e+06</td>\n      <td>5.170894e+06</td>\n      <td>31.722222</td>\n      <td>2211.388889</td>\n      <td>9.555556</td>\n      <td>...</td>\n      <td>6.885386</td>\n      <td>0.674384</td>\n      <td>0.302340</td>\n      <td>0.891089</td>\n      <td>0.010758</td>\n      <td>0.486699</td>\n      <td>0.482638</td>\n      <td>0.071249</td>\n      <td>20.835482</td>\n      <td>73.633021</td>\n    </tr>\n    <tr>\n      <th>30</th>\n      <td>54831.863636</td>\n      <td>1988.727273</td>\n      <td>30.000000</td>\n      <td>2018.727273</td>\n      <td>115197.545455</td>\n      <td>5.990273e+06</td>\n      <td>6.427003e+06</td>\n      <td>32.545455</td>\n      <td>2239.227273</td>\n      <td>9.409091</td>\n      <td>...</td>\n      <td>6.845882</td>\n      <td>0.706416</td>\n      <td>0.302573</td>\n      <td>0.808400</td>\n      <td>0.002392</td>\n      <td>0.474361</td>\n      <td>0.526680</td>\n      <td>0.061955</td>\n      <td>20.597739</td>\n      <td>73.735902</td>\n    </tr>\n    <tr>\n      <th>31</th>\n      <td>38482.941176</td>\n      <td>1987.764706</td>\n      <td>31.000000</td>\n      <td>2018.764706</td>\n      <td>104949.117647</td>\n      <td>5.457353e+06</td>\n      <td>5.998308e+06</td>\n      <td>30.941176</td>\n      <td>2279.235294</td>\n      <td>9.058824</td>\n      <td>...</td>\n      <td>6.854482</td>\n      <td>0.740599</td>\n      <td>0.283127</td>\n      <td>0.897922</td>\n      <td>0.014121</td>\n      <td>0.689175</td>\n      <td>0.582809</td>\n      <td>0.069322</td>\n      <td>23.409140</td>\n      <td>74.480524</td>\n    </tr>\n    <tr>\n      <th>32</th>\n      <td>49459.000000</td>\n      <td>1987.000000</td>\n      <td>32.000000</td>\n      <td>2019.000000</td>\n      <td>83125.000000</td>\n      <td>4.322500e+06</td>\n      <td>4.744745e+06</td>\n      <td>34.000000</td>\n      <td>2462.000000</td>\n      <td>12.750000</td>\n      <td>...</td>\n      <td>6.807004</td>\n      <td>0.570130</td>\n      <td>0.081602</td>\n      <td>0.805195</td>\n      <td>0.000000</td>\n      <td>0.404762</td>\n      <td>0.271645</td>\n      <td>0.087879</td>\n      <td>15.172727</td>\n      <td>69.654050</td>\n    </tr>\n    <tr>\n      <th>32&lt;</th>\n      <td>34800.000000</td>\n      <td>1984.166667</td>\n      <td>34.000000</td>\n      <td>2018.166667</td>\n      <td>120416.666667</td>\n      <td>6.261667e+06</td>\n      <td>6.634285e+06</td>\n      <td>32.166667</td>\n      <td>2214.000000</td>\n      <td>10.750000</td>\n      <td>...</td>\n      <td>6.816386</td>\n      <td>0.361714</td>\n      <td>0.132540</td>\n      <td>1.075444</td>\n      <td>0.020003</td>\n      <td>0.670978</td>\n      <td>0.366827</td>\n      <td>0.064012</td>\n      <td>19.515467</td>\n      <td>67.593074</td>\n    </tr>\n    <tr>\n      <th>&lt;21</th>\n      <td>264023.260870</td>\n      <td>1998.260870</td>\n      <td>19.434783</td>\n      <td>2017.695652</td>\n      <td>46306.000000</td>\n      <td>2.407913e+06</td>\n      <td>2.749793e+06</td>\n      <td>31.304348</td>\n      <td>2119.913043</td>\n      <td>5.608696</td>\n      <td>...</td>\n      <td>6.869859</td>\n      <td>0.882449</td>\n      <td>0.438573</td>\n      <td>0.820749</td>\n      <td>0.005113</td>\n      <td>0.459818</td>\n      <td>0.648858</td>\n      <td>0.067540</td>\n      <td>21.662715</td>\n      <td>75.959594</td>\n    </tr>\n    <tr>\n      <th rowspan=\"14\" valign=\"top\">Goalkeeper</th>\n      <th>21</th>\n      <td>348719.000000</td>\n      <td>1999.000000</td>\n      <td>21.000000</td>\n      <td>2020.000000</td>\n      <td>17500.000000</td>\n      <td>9.100000e+05</td>\n      <td>9.238320e+05</td>\n      <td>37.500000</td>\n      <td>3363.000000</td>\n      <td>0.000000</td>\n      <td>...</td>\n      <td>6.653176</td>\n      <td>0.067212</td>\n      <td>0.000000</td>\n      <td>0.000000</td>\n      <td>0.000000</td>\n      <td>1.159673</td>\n      <td>0.000000</td>\n      <td>0.000000</td>\n      <td>27.441323</td>\n      <td>60.463141</td>\n    </tr>\n    <tr>\n      <th>22</th>\n      <td>236425.571429</td>\n      <td>1996.000000</td>\n      <td>22.000000</td>\n      <td>2018.000000</td>\n      <td>29285.714286</td>\n      <td>1.522857e+06</td>\n      <td>1.750266e+06</td>\n      <td>32.428571</td>\n      <td>2909.000000</td>\n      <td>0.000000</td>\n      <td>...</td>\n      <td>6.715117</td>\n      <td>0.022062</td>\n      <td>0.035758</td>\n      <td>0.023151</td>\n      <td>0.004926</td>\n      <td>0.893790</td>\n      <td>0.017620</td>\n      <td>0.000000</td>\n      <td>28.354040</td>\n      <td>50.388668</td>\n    </tr>\n    <tr>\n      <th>23</th>\n      <td>176071.666667</td>\n      <td>1994.666667</td>\n      <td>23.000000</td>\n      <td>2017.666667</td>\n      <td>77935.833333</td>\n      <td>4.052667e+06</td>\n      <td>4.570018e+06</td>\n      <td>34.166667</td>\n      <td>3064.666667</td>\n      <td>0.000000</td>\n      <td>...</td>\n      <td>6.646649</td>\n      <td>0.023443</td>\n      <td>0.025027</td>\n      <td>0.023383</td>\n      <td>0.000000</td>\n      <td>0.834706</td>\n      <td>0.022808</td>\n      <td>0.000000</td>\n      <td>29.143007</td>\n      <td>62.030084</td>\n    </tr>\n    <tr>\n      <th>24</th>\n      <td>143226.545455</td>\n      <td>1993.727273</td>\n      <td>24.000000</td>\n      <td>2017.727273</td>\n      <td>88171.363636</td>\n      <td>4.584909e+06</td>\n      <td>5.170923e+06</td>\n      <td>30.727273</td>\n      <td>2758.727273</td>\n      <td>0.000000</td>\n      <td>...</td>\n      <td>6.588079</td>\n      <td>0.019963</td>\n      <td>0.025129</td>\n      <td>0.021574</td>\n      <td>0.000000</td>\n      <td>0.769890</td>\n      <td>0.013301</td>\n      <td>0.000000</td>\n      <td>26.807581</td>\n      <td>64.673063</td>\n    </tr>\n    <tr>\n      <th>25</th>\n      <td>130382.400000</td>\n      <td>1992.900000</td>\n      <td>25.000000</td>\n      <td>2017.900000</td>\n      <td>78500.000000</td>\n      <td>4.082000e+06</td>\n      <td>4.566449e+06</td>\n      <td>31.700000</td>\n      <td>2849.500000</td>\n      <td>0.000000</td>\n      <td>...</td>\n      <td>6.714516</td>\n      <td>0.018713</td>\n      <td>0.021053</td>\n      <td>0.026188</td>\n      <td>0.000000</td>\n      <td>0.717817</td>\n      <td>0.024135</td>\n      <td>0.000000</td>\n      <td>29.313759</td>\n      <td>61.909417</td>\n    </tr>\n    <tr>\n      <th>26</th>\n      <td>96519.909091</td>\n      <td>1991.363636</td>\n      <td>26.000000</td>\n      <td>2017.363636</td>\n      <td>68636.363636</td>\n      <td>3.569091e+06</td>\n      <td>4.020158e+06</td>\n      <td>32.000000</td>\n      <td>2844.000000</td>\n      <td>0.000000</td>\n      <td>...</td>\n      <td>6.689177</td>\n      <td>0.014939</td>\n      <td>0.036511</td>\n      <td>0.018481</td>\n      <td>0.000000</td>\n      <td>0.799002</td>\n      <td>0.053517</td>\n      <td>0.000000</td>\n      <td>28.643418</td>\n      <td>62.562214</td>\n    </tr>\n    <tr>\n      <th>27</th>\n      <td>70941.590909</td>\n      <td>1990.409091</td>\n      <td>27.000000</td>\n      <td>2017.409091</td>\n      <td>63409.090909</td>\n      <td>3.297273e+06</td>\n      <td>3.672594e+06</td>\n      <td>31.409091</td>\n      <td>2816.954545</td>\n      <td>0.045455</td>\n      <td>...</td>\n      <td>6.742751</td>\n      <td>0.028726</td>\n      <td>0.036813</td>\n      <td>0.012477</td>\n      <td>0.001196</td>\n      <td>0.847651</td>\n      <td>0.038409</td>\n      <td>0.000000</td>\n      <td>27.232180</td>\n      <td>57.820824</td>\n    </tr>\n    <tr>\n      <th>28</th>\n      <td>78763.954545</td>\n      <td>1989.681818</td>\n      <td>28.000000</td>\n      <td>2017.681818</td>\n      <td>74266.590909</td>\n      <td>3.861864e+06</td>\n      <td>4.222546e+06</td>\n      <td>33.590909</td>\n      <td>3017.136364</td>\n      <td>0.000000</td>\n      <td>...</td>\n      <td>6.662987</td>\n      <td>0.020028</td>\n      <td>0.037515</td>\n      <td>0.019815</td>\n      <td>0.001299</td>\n      <td>0.804954</td>\n      <td>0.037736</td>\n      <td>0.000000</td>\n      <td>27.227642</td>\n      <td>57.657872</td>\n    </tr>\n    <tr>\n      <th>29</th>\n      <td>75461.857143</td>\n      <td>1989.476190</td>\n      <td>29.000000</td>\n      <td>2018.476190</td>\n      <td>70666.666667</td>\n      <td>3.674667e+06</td>\n      <td>3.964213e+06</td>\n      <td>30.190476</td>\n      <td>2704.809524</td>\n      <td>0.000000</td>\n      <td>...</td>\n      <td>6.669682</td>\n      <td>0.022318</td>\n      <td>0.020329</td>\n      <td>0.016094</td>\n      <td>0.000000</td>\n      <td>0.841712</td>\n      <td>0.038564</td>\n      <td>0.000000</td>\n      <td>28.028103</td>\n      <td>60.639585</td>\n    </tr>\n    <tr>\n      <th>30</th>\n      <td>41643.933333</td>\n      <td>1988.000000</td>\n      <td>30.000000</td>\n      <td>2018.000000</td>\n      <td>85059.000000</td>\n      <td>4.423067e+06</td>\n      <td>4.775899e+06</td>\n      <td>32.533333</td>\n      <td>2923.266667</td>\n      <td>0.000000</td>\n      <td>...</td>\n      <td>6.662506</td>\n      <td>0.030923</td>\n      <td>0.028937</td>\n      <td>0.017834</td>\n      <td>0.000000</td>\n      <td>0.869114</td>\n      <td>0.046472</td>\n      <td>0.000000</td>\n      <td>26.642870</td>\n      <td>55.287744</td>\n    </tr>\n    <tr>\n      <th>31</th>\n      <td>26680.461538</td>\n      <td>1987.076923</td>\n      <td>31.000000</td>\n      <td>2018.076923</td>\n      <td>85153.846154</td>\n      <td>4.428000e+06</td>\n      <td>4.771380e+06</td>\n      <td>28.307692</td>\n      <td>2538.307692</td>\n      <td>0.000000</td>\n      <td>...</td>\n      <td>6.619059</td>\n      <td>0.010592</td>\n      <td>0.023063</td>\n      <td>0.013556</td>\n      <td>0.000000</td>\n      <td>0.758348</td>\n      <td>0.048981</td>\n      <td>0.000000</td>\n      <td>27.626052</td>\n      <td>56.144385</td>\n    </tr>\n    <tr>\n      <th>32</th>\n      <td>20520.100000</td>\n      <td>1985.700000</td>\n      <td>32.000000</td>\n      <td>2017.700000</td>\n      <td>58700.000000</td>\n      <td>3.052400e+06</td>\n      <td>3.384625e+06</td>\n      <td>28.000000</td>\n      <td>2511.800000</td>\n      <td>0.000000</td>\n      <td>...</td>\n      <td>6.653236</td>\n      <td>0.019063</td>\n      <td>0.010096</td>\n      <td>0.011741</td>\n      <td>0.000000</td>\n      <td>0.648758</td>\n      <td>0.030758</td>\n      <td>0.000000</td>\n      <td>25.429295</td>\n      <td>55.553889</td>\n    </tr>\n    <tr>\n      <th>32&lt;</th>\n      <td>18814.846154</td>\n      <td>1983.871795</td>\n      <td>34.358974</td>\n      <td>2018.230769</td>\n      <td>60897.435897</td>\n      <td>3.166667e+06</td>\n      <td>3.434263e+06</td>\n      <td>31.435897</td>\n      <td>2810.051282</td>\n      <td>0.000000</td>\n      <td>...</td>\n      <td>6.660125</td>\n      <td>0.024535</td>\n      <td>0.031097</td>\n      <td>0.018860</td>\n      <td>0.000986</td>\n      <td>0.895632</td>\n      <td>0.048989</td>\n      <td>0.000000</td>\n      <td>26.556166</td>\n      <td>56.401838</td>\n    </tr>\n    <tr>\n      <th>&lt;21</th>\n      <td>382724.000000</td>\n      <td>2001.000000</td>\n      <td>20.000000</td>\n      <td>2021.000000</td>\n      <td>15000.000000</td>\n      <td>7.800000e+05</td>\n      <td>8.005975e+05</td>\n      <td>33.500000</td>\n      <td>3015.000000</td>\n      <td>0.000000</td>\n      <td>...</td>\n      <td>6.671763</td>\n      <td>0.015625</td>\n      <td>0.015625</td>\n      <td>0.029911</td>\n      <td>0.000000</td>\n      <td>1.163839</td>\n      <td>0.014286</td>\n      <td>0.000000</td>\n      <td>31.491071</td>\n      <td>66.531741</td>\n    </tr>\n    <tr>\n      <th rowspan=\"14\" valign=\"top\">Midfielder</th>\n      <th>21</th>\n      <td>267636.838710</td>\n      <td>1997.709677</td>\n      <td>21.000000</td>\n      <td>2018.709677</td>\n      <td>57791.548387</td>\n      <td>3.005161e+06</td>\n      <td>3.237122e+06</td>\n      <td>31.709677</td>\n      <td>2333.387097</td>\n      <td>4.064516</td>\n      <td>...</td>\n      <td>6.840203</td>\n      <td>1.435021</td>\n      <td>0.831622</td>\n      <td>0.887598</td>\n      <td>0.023462</td>\n      <td>0.749480</td>\n      <td>0.938487</td>\n      <td>0.153980</td>\n      <td>33.730873</td>\n      <td>81.654710</td>\n    </tr>\n    <tr>\n      <th>22</th>\n      <td>226397.130435</td>\n      <td>1996.413043</td>\n      <td>22.000000</td>\n      <td>2018.413043</td>\n      <td>58421.826087</td>\n      <td>3.037935e+06</td>\n      <td>3.264974e+06</td>\n      <td>30.891304</td>\n      <td>2266.195652</td>\n      <td>3.630435</td>\n      <td>...</td>\n      <td>6.863210</td>\n      <td>1.556470</td>\n      <td>0.832423</td>\n      <td>0.985120</td>\n      <td>0.016732</td>\n      <td>0.753640</td>\n      <td>0.989869</td>\n      <td>0.163679</td>\n      <td>37.471251</td>\n      <td>81.973493</td>\n    </tr>\n    <tr>\n      <th>23</th>\n      <td>182861.734375</td>\n      <td>1995.281250</td>\n      <td>23.000000</td>\n      <td>2018.281250</td>\n      <td>61754.203125</td>\n      <td>3.211219e+06</td>\n      <td>3.532484e+06</td>\n      <td>30.625000</td>\n      <td>2279.343750</td>\n      <td>3.578125</td>\n      <td>...</td>\n      <td>6.904181</td>\n      <td>1.771006</td>\n      <td>1.031860</td>\n      <td>1.018387</td>\n      <td>0.028092</td>\n      <td>0.959349</td>\n      <td>0.990243</td>\n      <td>0.176610</td>\n      <td>38.813704</td>\n      <td>81.548722</td>\n    </tr>\n    <tr>\n      <th>24</th>\n      <td>156643.687500</td>\n      <td>1993.950000</td>\n      <td>24.000000</td>\n      <td>2017.950000</td>\n      <td>57869.712500</td>\n      <td>3.009225e+06</td>\n      <td>3.332774e+06</td>\n      <td>31.287500</td>\n      <td>2406.575000</td>\n      <td>3.512500</td>\n      <td>...</td>\n      <td>6.921722</td>\n      <td>1.783663</td>\n      <td>1.154064</td>\n      <td>1.048858</td>\n      <td>0.030482</td>\n      <td>0.962517</td>\n      <td>1.064512</td>\n      <td>0.183890</td>\n      <td>39.209356</td>\n      <td>81.865695</td>\n    </tr>\n    <tr>\n      <th>25</th>\n      <td>130182.076923</td>\n      <td>1992.923077</td>\n      <td>25.000000</td>\n      <td>2017.923077</td>\n      <td>61656.175824</td>\n      <td>3.206121e+06</td>\n      <td>3.526303e+06</td>\n      <td>31.967033</td>\n      <td>2465.747253</td>\n      <td>3.648352</td>\n      <td>...</td>\n      <td>6.866840</td>\n      <td>1.774739</td>\n      <td>1.072997</td>\n      <td>1.034356</td>\n      <td>0.025137</td>\n      <td>0.958980</td>\n      <td>1.138200</td>\n      <td>0.197787</td>\n      <td>39.718100</td>\n      <td>81.047792</td>\n    </tr>\n    <tr>\n      <th>26</th>\n      <td>98232.912500</td>\n      <td>1991.700000</td>\n      <td>26.000000</td>\n      <td>2017.700000</td>\n      <td>74412.250000</td>\n      <td>3.869438e+06</td>\n      <td>4.287014e+06</td>\n      <td>31.387500</td>\n      <td>2354.350000</td>\n      <td>3.100000</td>\n      <td>...</td>\n      <td>6.856305</td>\n      <td>1.683883</td>\n      <td>1.003635</td>\n      <td>0.917417</td>\n      <td>0.028402</td>\n      <td>0.941747</td>\n      <td>1.090620</td>\n      <td>0.179051</td>\n      <td>40.121177</td>\n      <td>81.928269</td>\n    </tr>\n    <tr>\n      <th>27</th>\n      <td>81564.358974</td>\n      <td>1990.910256</td>\n      <td>27.000000</td>\n      <td>2017.910256</td>\n      <td>76069.038462</td>\n      <td>3.955590e+06</td>\n      <td>4.360504e+06</td>\n      <td>31.115385</td>\n      <td>2384.551282</td>\n      <td>2.717949</td>\n      <td>...</td>\n      <td>6.817589</td>\n      <td>1.705710</td>\n      <td>1.128703</td>\n      <td>0.973316</td>\n      <td>0.027659</td>\n      <td>1.018853</td>\n      <td>1.153798</td>\n      <td>0.209712</td>\n      <td>41.059172</td>\n      <td>81.918722</td>\n    </tr>\n    <tr>\n      <th>28</th>\n      <td>67597.121622</td>\n      <td>1989.824324</td>\n      <td>28.000000</td>\n      <td>2017.824324</td>\n      <td>76675.418919</td>\n      <td>3.987122e+06</td>\n      <td>4.409562e+06</td>\n      <td>30.567568</td>\n      <td>2262.756757</td>\n      <td>3.283784</td>\n      <td>...</td>\n      <td>6.848956</td>\n      <td>1.805795</td>\n      <td>1.046702</td>\n      <td>1.029334</td>\n      <td>0.022076</td>\n      <td>0.891653</td>\n      <td>1.156152</td>\n      <td>0.184232</td>\n      <td>39.853395</td>\n      <td>82.284976</td>\n    </tr>\n    <tr>\n      <th>29</th>\n      <td>46735.745763</td>\n      <td>1988.830508</td>\n      <td>29.000000</td>\n      <td>2017.830508</td>\n      <td>81085.406780</td>\n      <td>4.216441e+06</td>\n      <td>4.654653e+06</td>\n      <td>30.254237</td>\n      <td>2347.830508</td>\n      <td>2.457627</td>\n      <td>...</td>\n      <td>6.845374</td>\n      <td>1.720584</td>\n      <td>1.155291</td>\n      <td>0.993438</td>\n      <td>0.021973</td>\n      <td>0.937874</td>\n      <td>1.184656</td>\n      <td>0.181170</td>\n      <td>42.936204</td>\n      <td>82.998726</td>\n    </tr>\n    <tr>\n      <th>30</th>\n      <td>40168.212766</td>\n      <td>1987.765957</td>\n      <td>30.000000</td>\n      <td>2017.765957</td>\n      <td>82685.765957</td>\n      <td>4.299660e+06</td>\n      <td>4.622718e+06</td>\n      <td>30.148936</td>\n      <td>2284.212766</td>\n      <td>2.446809</td>\n      <td>...</td>\n      <td>6.827182</td>\n      <td>1.658845</td>\n      <td>1.140751</td>\n      <td>0.986405</td>\n      <td>0.050451</td>\n      <td>1.181097</td>\n      <td>1.148417</td>\n      <td>0.245425</td>\n      <td>42.285396</td>\n      <td>81.675985</td>\n    </tr>\n    <tr>\n      <th>31</th>\n      <td>27668.419355</td>\n      <td>1986.741935</td>\n      <td>31.000000</td>\n      <td>2017.741935</td>\n      <td>79627.806452</td>\n      <td>4.140645e+06</td>\n      <td>4.532866e+06</td>\n      <td>30.322581</td>\n      <td>2338.774194</td>\n      <td>2.290323</td>\n      <td>...</td>\n      <td>6.832567</td>\n      <td>1.657463</td>\n      <td>1.056948</td>\n      <td>1.006045</td>\n      <td>0.025713</td>\n      <td>1.046863</td>\n      <td>1.145830</td>\n      <td>0.254224</td>\n      <td>43.816931</td>\n      <td>81.499017</td>\n    </tr>\n    <tr>\n      <th>32</th>\n      <td>20463.666667</td>\n      <td>1985.857143</td>\n      <td>32.000000</td>\n      <td>2017.857143</td>\n      <td>78456.047619</td>\n      <td>4.079714e+06</td>\n      <td>4.518341e+06</td>\n      <td>30.095238</td>\n      <td>2194.571429</td>\n      <td>1.857143</td>\n      <td>...</td>\n      <td>6.711045</td>\n      <td>1.460489</td>\n      <td>1.030776</td>\n      <td>0.880247</td>\n      <td>0.032582</td>\n      <td>0.979251</td>\n      <td>0.996859</td>\n      <td>0.235727</td>\n      <td>40.834796</td>\n      <td>82.106413</td>\n    </tr>\n    <tr>\n      <th>32&lt;</th>\n      <td>13106.476190</td>\n      <td>1984.142857</td>\n      <td>33.809524</td>\n      <td>2017.952381</td>\n      <td>95846.142857</td>\n      <td>4.984000e+06</td>\n      <td>5.527751e+06</td>\n      <td>29.190476</td>\n      <td>2173.000000</td>\n      <td>1.761905</td>\n      <td>...</td>\n      <td>6.772482</td>\n      <td>1.737090</td>\n      <td>1.073753</td>\n      <td>0.937802</td>\n      <td>0.055662</td>\n      <td>1.432915</td>\n      <td>1.127509</td>\n      <td>0.286429</td>\n      <td>47.433758</td>\n      <td>82.864305</td>\n    </tr>\n    <tr>\n      <th>&lt;21</th>\n      <td>297405.700000</td>\n      <td>1999.066667</td>\n      <td>19.366667</td>\n      <td>2018.433333</td>\n      <td>46416.666667</td>\n      <td>2.413667e+06</td>\n      <td>2.608749e+06</td>\n      <td>31.066667</td>\n      <td>2316.366667</td>\n      <td>3.766667</td>\n      <td>...</td>\n      <td>6.864878</td>\n      <td>1.782552</td>\n      <td>0.965463</td>\n      <td>0.997314</td>\n      <td>0.048091</td>\n      <td>0.984866</td>\n      <td>1.097232</td>\n      <td>0.166638</td>\n      <td>36.615536</td>\n      <td>82.606275</td>\n    </tr>\n  </tbody>\n</table>\n<p>56 rows × 41 columns</p>\n</div>"
     },
     "execution_count": 17,
     "metadata": {},
     "output_type": "execute_result"
    }
   ],
   "source": [
    "static_df = eda_df[eda_df['Min']>1500].groupby(['Position', 'Age Lev']).mean(numeric_only=True)\n",
    "static_df"
   ],
   "metadata": {
    "collapsed": false,
    "pycharm": {
     "name": "#%%\n"
    }
   }
  },
  {
   "cell_type": "code",
   "execution_count": 18,
   "outputs": [
    {
     "data": {
      "text/plain": "      Player Id               Name  Birth Year  Age     Team Position  year  \\\n3698       5583  Cristiano Ronaldo        1985   36  Man Utd  Forward  2021   \n4559       5583  Cristiano Ronaldo        1985   37  Man Utd  Forward  2022   \n\n      Weekly Salary  Base Salary  ADJ Salary  ...   Tackles     Inter  \\\n3698       515000.0   26780000.0  26780000.0  ...  0.266667  0.066667   \n4559       515000.0   26780000.0  26780000.0  ...  0.200000  0.100000   \n\n         Fouls  Offsides     Clear   Drb_Def  Blocks  AvgP        PS%  Age Lev  \n3698  0.533333       0.0  0.966667  0.133333     0.0  29.3  81.911263      32<  \n4559  0.700000       0.0  0.800000  0.100000     0.0  15.8  76.582278      32<  \n\n[2 rows x 45 columns]",
      "text/html": "<div>\n<style scoped>\n    .dataframe tbody tr th:only-of-type {\n        vertical-align: middle;\n    }\n\n    .dataframe tbody tr th {\n        vertical-align: top;\n    }\n\n    .dataframe thead th {\n        text-align: right;\n    }\n</style>\n<table border=\"1\" class=\"dataframe\">\n  <thead>\n    <tr style=\"text-align: right;\">\n      <th></th>\n      <th>Player Id</th>\n      <th>Name</th>\n      <th>Birth Year</th>\n      <th>Age</th>\n      <th>Team</th>\n      <th>Position</th>\n      <th>year</th>\n      <th>Weekly Salary</th>\n      <th>Base Salary</th>\n      <th>ADJ Salary</th>\n      <th>...</th>\n      <th>Tackles</th>\n      <th>Inter</th>\n      <th>Fouls</th>\n      <th>Offsides</th>\n      <th>Clear</th>\n      <th>Drb_Def</th>\n      <th>Blocks</th>\n      <th>AvgP</th>\n      <th>PS%</th>\n      <th>Age Lev</th>\n    </tr>\n  </thead>\n  <tbody>\n    <tr>\n      <th>3698</th>\n      <td>5583</td>\n      <td>Cristiano Ronaldo</td>\n      <td>1985</td>\n      <td>36</td>\n      <td>Man Utd</td>\n      <td>Forward</td>\n      <td>2021</td>\n      <td>515000.0</td>\n      <td>26780000.0</td>\n      <td>26780000.0</td>\n      <td>...</td>\n      <td>0.266667</td>\n      <td>0.066667</td>\n      <td>0.533333</td>\n      <td>0.0</td>\n      <td>0.966667</td>\n      <td>0.133333</td>\n      <td>0.0</td>\n      <td>29.3</td>\n      <td>81.911263</td>\n      <td>32&lt;</td>\n    </tr>\n    <tr>\n      <th>4559</th>\n      <td>5583</td>\n      <td>Cristiano Ronaldo</td>\n      <td>1985</td>\n      <td>37</td>\n      <td>Man Utd</td>\n      <td>Forward</td>\n      <td>2022</td>\n      <td>515000.0</td>\n      <td>26780000.0</td>\n      <td>26780000.0</td>\n      <td>...</td>\n      <td>0.200000</td>\n      <td>0.100000</td>\n      <td>0.700000</td>\n      <td>0.0</td>\n      <td>0.800000</td>\n      <td>0.100000</td>\n      <td>0.0</td>\n      <td>15.8</td>\n      <td>76.582278</td>\n      <td>32&lt;</td>\n    </tr>\n  </tbody>\n</table>\n<p>2 rows × 45 columns</p>\n</div>"
     },
     "execution_count": 18,
     "metadata": {},
     "output_type": "execute_result"
    }
   ],
   "source": [
    "cond1 = eda_df['Name']=='Cristiano Ronaldo'\n",
    "# cond2 = eda_df['year']==2016\n",
    "player = eda_df[cond1]\n",
    "player"
   ],
   "metadata": {
    "collapsed": false,
    "pycharm": {
     "name": "#%%\n"
    }
   }
  },
  {
   "cell_type": "code",
   "execution_count": 19,
   "outputs": [
    {
     "data": {
      "text/plain": "3698    Forward\n4559    Forward\nName: Position, dtype: object"
     },
     "execution_count": 19,
     "metadata": {},
     "output_type": "execute_result"
    }
   ],
   "source": [
    "player['Position']"
   ],
   "metadata": {
    "collapsed": false,
    "pycharm": {
     "name": "#%%\n"
    }
   }
  },
  {
   "cell_type": "code",
   "execution_count": 20,
   "outputs": [
    {
     "data": {
      "text/plain": "3698    32<\n4559    32<\nName: Age Lev, dtype: object"
     },
     "execution_count": 20,
     "metadata": {},
     "output_type": "execute_result"
    }
   ],
   "source": [
    "player['Age Lev']"
   ],
   "metadata": {
    "collapsed": false,
    "pycharm": {
     "name": "#%%\n"
    }
   }
  },
  {
   "cell_type": "code",
   "execution_count": 21,
   "outputs": [
    {
     "data": {
      "text/plain": "('Forward', '32<')"
     },
     "execution_count": 21,
     "metadata": {},
     "output_type": "execute_result"
    }
   ],
   "source": [
    "(player['Position'].values[0], player['Age Lev'].values[0])"
   ],
   "metadata": {
    "collapsed": false,
    "pycharm": {
     "name": "#%%\n"
    }
   }
  },
  {
   "cell_type": "code",
   "execution_count": 22,
   "outputs": [
    {
     "data": {
      "text/plain": "MultiIndex([(  'Defender',  '21'),\n            (  'Defender',  '22'),\n            (  'Defender',  '23'),\n            (  'Defender',  '24'),\n            (  'Defender',  '25'),\n            (  'Defender',  '26'),\n            (  'Defender',  '27'),\n            (  'Defender',  '28'),\n            (  'Defender',  '29'),\n            (  'Defender',  '30'),\n            (  'Defender',  '31'),\n            (  'Defender',  '32'),\n            (  'Defender', '32<'),\n            (  'Defender', '<21'),\n            (   'Forward',  '21'),\n            (   'Forward',  '22'),\n            (   'Forward',  '23'),\n            (   'Forward',  '24'),\n            (   'Forward',  '25'),\n            (   'Forward',  '26'),\n            (   'Forward',  '27'),\n            (   'Forward',  '28'),\n            (   'Forward',  '29'),\n            (   'Forward',  '30'),\n            (   'Forward',  '31'),\n            (   'Forward',  '32'),\n            (   'Forward', '32<'),\n            (   'Forward', '<21'),\n            ('Goalkeeper',  '21'),\n            ('Goalkeeper',  '22'),\n            ('Goalkeeper',  '23'),\n            ('Goalkeeper',  '24'),\n            ('Goalkeeper',  '25'),\n            ('Goalkeeper',  '26'),\n            ('Goalkeeper',  '27'),\n            ('Goalkeeper',  '28'),\n            ('Goalkeeper',  '29'),\n            ('Goalkeeper',  '30'),\n            ('Goalkeeper',  '31'),\n            ('Goalkeeper',  '32'),\n            ('Goalkeeper', '32<'),\n            ('Goalkeeper', '<21'),\n            ('Midfielder',  '21'),\n            ('Midfielder',  '22'),\n            ('Midfielder',  '23'),\n            ('Midfielder',  '24'),\n            ('Midfielder',  '25'),\n            ('Midfielder',  '26'),\n            ('Midfielder',  '27'),\n            ('Midfielder',  '28'),\n            ('Midfielder',  '29'),\n            ('Midfielder',  '30'),\n            ('Midfielder',  '31'),\n            ('Midfielder',  '32'),\n            ('Midfielder', '32<'),\n            ('Midfielder', '<21')],\n           names=['Position', 'Age Lev'])"
     },
     "execution_count": 22,
     "metadata": {},
     "output_type": "execute_result"
    }
   ],
   "source": [
    "static_df.index"
   ],
   "metadata": {
    "collapsed": false,
    "pycharm": {
     "name": "#%%\n"
    }
   }
  },
  {
   "cell_type": "code",
   "execution_count": 23,
   "outputs": [
    {
     "data": {
      "text/plain": "Player Id        3.480000e+04\nBirth Year       1.984167e+03\nAge              3.400000e+01\nyear             2.018167e+03\nWeekly Salary    1.204167e+05\nBase Salary      6.261667e+06\nADJ Salary       6.634285e+06\nApps             3.216667e+01\nMin              2.214000e+03\nG                1.075000e+01\nNPG              8.583333e+00\nA                3.250000e+00\nxG               1.027583e+01\nNPxG             8.309167e+00\nxA               3.149167e+00\nxGChain          1.225917e+01\nxGBuildup        3.087500e+00\nxG90             4.025000e-01\nNPxG90           3.333333e-01\nxA90             1.333333e-01\nxG90+xA90        5.358333e-01\nNPxG90+xA90      4.666667e-01\nxGChain90        5.008333e-01\nxGBuildup90      1.283333e-01\nSpG              1.974763e+00\nKeyP             8.732218e-01\nDrb_Off          4.833688e-01\nFouled           7.249073e-01\nOff              8.112167e-01\nDisp             8.696129e-01\nUnsTch           1.593041e+00\nRating           6.816386e+00\nTackles          3.617142e-01\nInter            1.325398e-01\nFouls            1.075444e+00\nOffsides         2.000294e-02\nClear            6.709780e-01\nDrb_Def          3.668273e-01\nBlocks           6.401184e-02\nAvgP             1.951547e+01\nPS%              6.759307e+01\nName: (Forward, 32<), dtype: float64"
     },
     "execution_count": 23,
     "metadata": {},
     "output_type": "execute_result"
    }
   ],
   "source": [
    "static_df.loc[(player['Position'].values[0], player['Age Lev'].values[0])]"
   ],
   "metadata": {
    "collapsed": false,
    "pycharm": {
     "name": "#%%\n"
    }
   }
  },
  {
   "cell_type": "code",
   "execution_count": 24,
   "outputs": [
    {
     "data": {
      "text/plain": "             Player Id  Birth Year   Age     year  Weekly Salary  Base Salary  \\\nForward 32<    34800.0     1984.17  34.0  2018.17      120416.67   6261666.67   \n\n             ADJ Salary   Apps     Min      G  ...  Rating  Tackles  Inter  \\\nForward 32<  6634285.17  32.17  2214.0  10.75  ...    6.82     0.36   0.13   \n\n             Fouls  Offsides  Clear  Drb_Def  Blocks   AvgP    PS%  \nForward 32<   1.08      0.02   0.67     0.37    0.06  19.52  67.59  \n\n[1 rows x 41 columns]",
      "text/html": "<div>\n<style scoped>\n    .dataframe tbody tr th:only-of-type {\n        vertical-align: middle;\n    }\n\n    .dataframe tbody tr th {\n        vertical-align: top;\n    }\n\n    .dataframe thead th {\n        text-align: right;\n    }\n</style>\n<table border=\"1\" class=\"dataframe\">\n  <thead>\n    <tr style=\"text-align: right;\">\n      <th></th>\n      <th></th>\n      <th>Player Id</th>\n      <th>Birth Year</th>\n      <th>Age</th>\n      <th>year</th>\n      <th>Weekly Salary</th>\n      <th>Base Salary</th>\n      <th>ADJ Salary</th>\n      <th>Apps</th>\n      <th>Min</th>\n      <th>G</th>\n      <th>...</th>\n      <th>Rating</th>\n      <th>Tackles</th>\n      <th>Inter</th>\n      <th>Fouls</th>\n      <th>Offsides</th>\n      <th>Clear</th>\n      <th>Drb_Def</th>\n      <th>Blocks</th>\n      <th>AvgP</th>\n      <th>PS%</th>\n    </tr>\n  </thead>\n  <tbody>\n    <tr>\n      <th>Forward</th>\n      <th>32&lt;</th>\n      <td>34800.0</td>\n      <td>1984.17</td>\n      <td>34.0</td>\n      <td>2018.17</td>\n      <td>120416.67</td>\n      <td>6261666.67</td>\n      <td>6634285.17</td>\n      <td>32.17</td>\n      <td>2214.0</td>\n      <td>10.75</td>\n      <td>...</td>\n      <td>6.82</td>\n      <td>0.36</td>\n      <td>0.13</td>\n      <td>1.08</td>\n      <td>0.02</td>\n      <td>0.67</td>\n      <td>0.37</td>\n      <td>0.06</td>\n      <td>19.52</td>\n      <td>67.59</td>\n    </tr>\n  </tbody>\n</table>\n<p>1 rows × 41 columns</p>\n</div>"
     },
     "execution_count": 24,
     "metadata": {},
     "output_type": "execute_result"
    }
   ],
   "source": [
    "r = pd.DataFrame(data=static_df.loc[(player['Position'].values[0], player['Age Lev'].values[0])]).T\n",
    "round(r,2)"
   ],
   "metadata": {
    "collapsed": false,
    "pycharm": {
     "name": "#%%\n"
    }
   }
  },
  {
   "cell_type": "code",
   "execution_count": 25,
   "outputs": [
    {
     "data": {
      "text/plain": "      Player Id  Birth Year  Age  year  Weekly Salary  Base Salary  \\\n3698       5583        1985   36  2021       515000.0   26780000.0   \n4559       5583        1985   37  2022       515000.0   26780000.0   \n\n      ADJ Salary  Apps     Min     G  ...    Rating   Tackles     Inter  \\\n3698  26780000.0  30.0  2468.0  18.0  ...  7.110333  0.266667  0.066667   \n4559  26780000.0  10.0   517.0   1.0  ...  6.392000  0.200000  0.100000   \n\n         Fouls  Offsides     Clear   Drb_Def  Blocks  AvgP        PS%  \n3698  0.533333       0.0  0.966667  0.133333     0.0  29.3  81.911263  \n4559  0.700000       0.0  0.800000  0.100000     0.0  15.8  76.582278  \n\n[2 rows x 41 columns]",
      "text/html": "<div>\n<style scoped>\n    .dataframe tbody tr th:only-of-type {\n        vertical-align: middle;\n    }\n\n    .dataframe tbody tr th {\n        vertical-align: top;\n    }\n\n    .dataframe thead th {\n        text-align: right;\n    }\n</style>\n<table border=\"1\" class=\"dataframe\">\n  <thead>\n    <tr style=\"text-align: right;\">\n      <th></th>\n      <th>Player Id</th>\n      <th>Birth Year</th>\n      <th>Age</th>\n      <th>year</th>\n      <th>Weekly Salary</th>\n      <th>Base Salary</th>\n      <th>ADJ Salary</th>\n      <th>Apps</th>\n      <th>Min</th>\n      <th>G</th>\n      <th>...</th>\n      <th>Rating</th>\n      <th>Tackles</th>\n      <th>Inter</th>\n      <th>Fouls</th>\n      <th>Offsides</th>\n      <th>Clear</th>\n      <th>Drb_Def</th>\n      <th>Blocks</th>\n      <th>AvgP</th>\n      <th>PS%</th>\n    </tr>\n  </thead>\n  <tbody>\n    <tr>\n      <th>3698</th>\n      <td>5583</td>\n      <td>1985</td>\n      <td>36</td>\n      <td>2021</td>\n      <td>515000.0</td>\n      <td>26780000.0</td>\n      <td>26780000.0</td>\n      <td>30.0</td>\n      <td>2468.0</td>\n      <td>18.0</td>\n      <td>...</td>\n      <td>7.110333</td>\n      <td>0.266667</td>\n      <td>0.066667</td>\n      <td>0.533333</td>\n      <td>0.0</td>\n      <td>0.966667</td>\n      <td>0.133333</td>\n      <td>0.0</td>\n      <td>29.3</td>\n      <td>81.911263</td>\n    </tr>\n    <tr>\n      <th>4559</th>\n      <td>5583</td>\n      <td>1985</td>\n      <td>37</td>\n      <td>2022</td>\n      <td>515000.0</td>\n      <td>26780000.0</td>\n      <td>26780000.0</td>\n      <td>10.0</td>\n      <td>517.0</td>\n      <td>1.0</td>\n      <td>...</td>\n      <td>6.392000</td>\n      <td>0.200000</td>\n      <td>0.100000</td>\n      <td>0.700000</td>\n      <td>0.0</td>\n      <td>0.800000</td>\n      <td>0.100000</td>\n      <td>0.0</td>\n      <td>15.8</td>\n      <td>76.582278</td>\n    </tr>\n  </tbody>\n</table>\n<p>2 rows × 41 columns</p>\n</div>"
     },
     "execution_count": 25,
     "metadata": {},
     "output_type": "execute_result"
    }
   ],
   "source": [
    "player[r.columns]"
   ],
   "metadata": {
    "collapsed": false,
    "pycharm": {
     "name": "#%%\n"
    }
   }
  },
  {
   "cell_type": "code",
   "execution_count": 26,
   "outputs": [
    {
     "data": {
      "text/plain": "year\n2014    32.000000\n2016    30.666667\n2017    30.000000\n2018    38.000000\n2019    25.000000\n2020    30.000000\n2021    27.500000\n2022    26.750000\nName: Apps, dtype: float64"
     },
     "execution_count": 26,
     "metadata": {},
     "output_type": "execute_result"
    }
   ],
   "source": [
    "static2_df = eda_df[eda_df['Min']>1000].groupby(['Position', 'Age Lev', 'year']).mean(numeric_only=True)\n",
    "y1 = static2_df.loc[('Forward', '32<'), 'Apps']\n",
    "y1"
   ],
   "metadata": {
    "collapsed": false,
    "pycharm": {
     "name": "#%%\n"
    }
   }
  },
  {
   "cell_type": "code",
   "execution_count": 27,
   "outputs": [
    {
     "data": {
      "text/plain": "year\n2014    25.000000\n2015    28.000000\n2016    27.500000\n2017    32.666667\n2018    27.200000\n2019    32.333333\n2020    24.000000\n2021    28.833333\n2022    32.857143\nName: Apps, dtype: float64"
     },
     "execution_count": 27,
     "metadata": {},
     "output_type": "execute_result"
    }
   ],
   "source": [
    "static2_df = eda_df[eda_df['Min']>1000].groupby(['Position', 'Age Lev', 'year']).mean(numeric_only=True)\n",
    "y2 = static2_df.loc[('Forward', '30'), 'Apps']\n",
    "y2"
   ],
   "metadata": {
    "collapsed": false,
    "pycharm": {
     "name": "#%%\n"
    }
   }
  },
  {
   "cell_type": "code",
   "execution_count": 28,
   "outputs": [],
   "source": [
    "# plt.subplot(3,1,1)\n",
    "# sns.lineplot(x=range(2014,2022+1), y=y1) # <33\n",
    "# sns.lineplot(x=range(2014,2022+1), y=y2) # <30\n",
    "# plt.subplot(3,1,2)\n",
    "# plt.subplot(3,1,3)"
   ],
   "metadata": {
    "collapsed": false,
    "pycharm": {
     "name": "#%%\n"
    }
   }
  },
  {
   "cell_type": "code",
   "execution_count": 29,
   "outputs": [
    {
     "data": {
      "text/plain": "['Gareth Bale',\n 'Cristiano Ronaldo',\n 'Kevin De Bruyne',\n 'Erling Haaland',\n 'David de Gea',\n 'Alexis Sanchez',\n 'Mesut Ozil',\n 'Jadon Sancho',\n 'Mohamed Salah',\n 'Casemiro',\n 'Raphael Varane',\n 'Raheem Sterling',\n 'Romelu Lukaku',\n 'Gonzalo Higuain',\n 'Jack Grealish',\n 'Kalidou Koulibaly',\n 'Paul Pogba',\n \"N'Golo Kante\",\n 'Timo Werner',\n 'Gabriel Jesus',\n 'Anthony Martial',\n 'Pierre-Emerick Aubameyang',\n 'Joao Cancelo',\n 'Kai Havertz',\n 'Angel Di Maria',\n 'John Stones',\n 'Edinson Cavani',\n 'Reece James',\n 'Bastian Schweinsteiger',\n 'Bruno Fernandes',\n 'Wayne Rooney',\n 'Sergio Aguero',\n 'Phil Foden',\n 'Eden Hazard',\n 'Rodri',\n 'Zlatan Ibrahimovic',\n 'Virgil van Dijk',\n 'David Silva',\n 'Robin van Persie',\n 'Marcel Sabitzer',\n 'Cesc Fabregas',\n 'Harry Kane',\n 'Marcus Rashford',\n 'Thomas Partey',\n 'Tanguy Ndombele',\n 'Thiago Alcantara',\n 'Henrikh Mkhitaryan',\n 'Antony',\n 'Wesley Fofana',\n 'Ben Chilwell',\n 'Saul Niguez',\n 'Joao Felix',\n 'Bukayo Saka',\n 'Yaya Toure',\n 'Harry Maguire',\n 'Son Heung-Min',\n 'Alexandre Lacazette',\n 'Callum Hudson-Odoi',\n 'Ruben Dias',\n 'Roberto Firmino',\n 'Trent Alexander-Arnold',\n 'Enzo Fernandez',\n 'Cesar Azpilicueta',\n 'Fernandinho',\n 'Fabinho',\n 'Ivan Perisic',\n 'Gabriel Martinelli',\n 'Manuel Akanji',\n 'John Terry',\n 'Marc Cucurella',\n 'Alvaro Morata',\n 'Cristian Romero',\n 'Juan Mata',\n 'Riyad Mahrez',\n 'Kyle Walker',\n 'Kepa',\n 'Vincent Kompany',\n 'Bernardo Silva',\n 'Oscar',\n 'Luke Shaw',\n 'Christian Pulisic',\n 'Alisson Becker',\n 'Samir Nasri',\n 'Diego Costa',\n 'Oleksandr Zinchenko',\n 'Lucas Paqueta',\n 'Boubacar Kamara',\n 'Kalvin Phillips',\n 'Christian Eriksen',\n 'Clement Lenglet',\n 'James Milner',\n 'Jordan Henderson',\n 'Theo Walcott',\n 'Ilkay Gundogan',\n 'Jamie Vardy',\n 'Steven Gerrard',\n 'Nicolas Pepe',\n 'Diogo Jota',\n 'Darwin Nunez',\n 'Chicharito']"
     },
     "execution_count": 29,
     "metadata": {},
     "output_type": "execute_result"
    }
   ],
   "source": [
    "s_eda_df = eda_df.sort_values(by='Base Salary', ascending=False)\n",
    "s_eda_df[~s_eda_df.duplicated(subset='Name', keep='first')].iloc[:100]['Name'].to_list()"
   ],
   "metadata": {
    "collapsed": false,
    "pycharm": {
     "name": "#%%\n"
    }
   }
  },
  {
   "cell_type": "code",
   "execution_count": 30,
   "outputs": [
    {
     "data": {
      "text/plain": "[(2021, 'Man Utd', 26780000.0), (2022, 'Man Utd', 26780000.0)]"
     },
     "execution_count": 30,
     "metadata": {},
     "output_type": "execute_result"
    }
   ],
   "source": [
    "eda_df[eda_df['Name']=='Cristiano Ronaldo'].apply(lambda row: (row['year'], row['Team'], row['Base Salary']), axis=1).to_list()"
   ],
   "metadata": {
    "collapsed": false,
    "pycharm": {
     "name": "#%%\n"
    }
   }
  },
  {
   "cell_type": "code",
   "execution_count": 31,
   "outputs": [
    {
     "data": {
      "text/plain": "year\n2014    15.625000\n2015    19.666667\n2016    20.750000\n2017    24.333333\n2018    23.333333\n2019    25.400000\n2020    20.250000\n2021    24.857143\n2022    28.700000\nName: Apps, dtype: float64"
     },
     "execution_count": 31,
     "metadata": {},
     "output_type": "execute_result"
    }
   ],
   "source": [
    "eda_df.groupby(['Position', 'Age Lev', 'year']).mean(numeric_only=True).loc[('Forward', '30'), 'Apps']"
   ],
   "metadata": {
    "collapsed": false,
    "pycharm": {
     "name": "#%%\n"
    }
   }
  },
  {
   "cell_type": "code",
   "execution_count": 32,
   "outputs": [
    {
     "data": {
      "text/plain": "   Player Id            Name  Birth Year  Age      Team    Position  year  \\\n0      33404     Eden Hazard        1991   23   Chelsea     Forward  2014   \n1      25244  Alexis Sanchez        1989   25   Arsenal     Forward  2014   \n2      14260   Sergio Aguero        1988   26  Man City     Forward  2014   \n3       8040   Cesc Fabregas        1987   27   Chelsea  Midfielder  2014   \n4       4522   Santi Cazorla        1985   29   Arsenal  Midfielder  2014   \n\n   Weekly Salary  Base Salary  ADJ Salary  ...   Tackles     Inter     Fouls  \\\n0       185827.0    9663000.0  11640054.0  ...  0.736842  0.578947  0.315789   \n1       140000.0    7280000.0   8769491.0  ...  1.971429  1.171429  1.257143   \n2       160000.0    8320000.0  10022275.0  ...  0.666667  0.393939  0.545455   \n3       171481.0    8917000.0  10741422.0  ...  2.588235  0.676471  0.882353   \n4        90000.0    4680000.0   5637530.0  ...  1.594595  1.081081  0.540541   \n\n   Offsides     Clear   Drb_Def    Blocks       AvgP        PS%  Age Lev  \n0       0.0  0.236842  0.605263  0.026316  58.368421  86.834986       23  \n1       0.0  0.171429  1.542857  0.000000  42.000000  76.802721       25  \n2       0.0  0.060606  0.515152  0.000000  25.242424  85.594238       26  \n3       0.0  0.882353  2.117647  0.147059  80.647059  85.193290       27  \n4       0.0  0.648649  1.459459  0.135135  64.027027  89.024905       29  \n\n[5 rows x 45 columns]",
      "text/html": "<div>\n<style scoped>\n    .dataframe tbody tr th:only-of-type {\n        vertical-align: middle;\n    }\n\n    .dataframe tbody tr th {\n        vertical-align: top;\n    }\n\n    .dataframe thead th {\n        text-align: right;\n    }\n</style>\n<table border=\"1\" class=\"dataframe\">\n  <thead>\n    <tr style=\"text-align: right;\">\n      <th></th>\n      <th>Player Id</th>\n      <th>Name</th>\n      <th>Birth Year</th>\n      <th>Age</th>\n      <th>Team</th>\n      <th>Position</th>\n      <th>year</th>\n      <th>Weekly Salary</th>\n      <th>Base Salary</th>\n      <th>ADJ Salary</th>\n      <th>...</th>\n      <th>Tackles</th>\n      <th>Inter</th>\n      <th>Fouls</th>\n      <th>Offsides</th>\n      <th>Clear</th>\n      <th>Drb_Def</th>\n      <th>Blocks</th>\n      <th>AvgP</th>\n      <th>PS%</th>\n      <th>Age Lev</th>\n    </tr>\n  </thead>\n  <tbody>\n    <tr>\n      <th>0</th>\n      <td>33404</td>\n      <td>Eden Hazard</td>\n      <td>1991</td>\n      <td>23</td>\n      <td>Chelsea</td>\n      <td>Forward</td>\n      <td>2014</td>\n      <td>185827.0</td>\n      <td>9663000.0</td>\n      <td>11640054.0</td>\n      <td>...</td>\n      <td>0.736842</td>\n      <td>0.578947</td>\n      <td>0.315789</td>\n      <td>0.0</td>\n      <td>0.236842</td>\n      <td>0.605263</td>\n      <td>0.026316</td>\n      <td>58.368421</td>\n      <td>86.834986</td>\n      <td>23</td>\n    </tr>\n    <tr>\n      <th>1</th>\n      <td>25244</td>\n      <td>Alexis Sanchez</td>\n      <td>1989</td>\n      <td>25</td>\n      <td>Arsenal</td>\n      <td>Forward</td>\n      <td>2014</td>\n      <td>140000.0</td>\n      <td>7280000.0</td>\n      <td>8769491.0</td>\n      <td>...</td>\n      <td>1.971429</td>\n      <td>1.171429</td>\n      <td>1.257143</td>\n      <td>0.0</td>\n      <td>0.171429</td>\n      <td>1.542857</td>\n      <td>0.000000</td>\n      <td>42.000000</td>\n      <td>76.802721</td>\n      <td>25</td>\n    </tr>\n    <tr>\n      <th>2</th>\n      <td>14260</td>\n      <td>Sergio Aguero</td>\n      <td>1988</td>\n      <td>26</td>\n      <td>Man City</td>\n      <td>Forward</td>\n      <td>2014</td>\n      <td>160000.0</td>\n      <td>8320000.0</td>\n      <td>10022275.0</td>\n      <td>...</td>\n      <td>0.666667</td>\n      <td>0.393939</td>\n      <td>0.545455</td>\n      <td>0.0</td>\n      <td>0.060606</td>\n      <td>0.515152</td>\n      <td>0.000000</td>\n      <td>25.242424</td>\n      <td>85.594238</td>\n      <td>26</td>\n    </tr>\n    <tr>\n      <th>3</th>\n      <td>8040</td>\n      <td>Cesc Fabregas</td>\n      <td>1987</td>\n      <td>27</td>\n      <td>Chelsea</td>\n      <td>Midfielder</td>\n      <td>2014</td>\n      <td>171481.0</td>\n      <td>8917000.0</td>\n      <td>10741422.0</td>\n      <td>...</td>\n      <td>2.588235</td>\n      <td>0.676471</td>\n      <td>0.882353</td>\n      <td>0.0</td>\n      <td>0.882353</td>\n      <td>2.117647</td>\n      <td>0.147059</td>\n      <td>80.647059</td>\n      <td>85.193290</td>\n      <td>27</td>\n    </tr>\n    <tr>\n      <th>4</th>\n      <td>4522</td>\n      <td>Santi Cazorla</td>\n      <td>1985</td>\n      <td>29</td>\n      <td>Arsenal</td>\n      <td>Midfielder</td>\n      <td>2014</td>\n      <td>90000.0</td>\n      <td>4680000.0</td>\n      <td>5637530.0</td>\n      <td>...</td>\n      <td>1.594595</td>\n      <td>1.081081</td>\n      <td>0.540541</td>\n      <td>0.0</td>\n      <td>0.648649</td>\n      <td>1.459459</td>\n      <td>0.135135</td>\n      <td>64.027027</td>\n      <td>89.024905</td>\n      <td>29</td>\n    </tr>\n  </tbody>\n</table>\n<p>5 rows × 45 columns</p>\n</div>"
     },
     "execution_count": 32,
     "metadata": {},
     "output_type": "execute_result"
    }
   ],
   "source": [
    "eda_df.head()"
   ],
   "metadata": {
    "collapsed": false,
    "pycharm": {
     "name": "#%%\n"
    }
   }
  },
  {
   "cell_type": "code",
   "execution_count": 33,
   "outputs": [],
   "source": [
    "age_order = ['<21', '21', '22', '23', '24', '25', '26', '27', '28', '29', '30', '31', '32', '32<']\n",
    "eda_df['Age Lev'] = pd.Categorical(eda_df['Age Lev'], categories=age_order, ordered=True)"
   ],
   "metadata": {
    "collapsed": false,
    "pycharm": {
     "name": "#%%\n"
    }
   }
  },
  {
   "cell_type": "code",
   "execution_count": 34,
   "outputs": [
    {
     "name": "stdout",
     "output_type": "stream",
     "text": [
      "<class 'pandas.core.frame.DataFrame'>\n",
      "Int64Index: 4588 entries, 0 to 4754\n",
      "Data columns (total 45 columns):\n",
      " #   Column         Non-Null Count  Dtype   \n",
      "---  ------         --------------  -----   \n",
      " 0   Player Id      4588 non-null   int64   \n",
      " 1   Name           4588 non-null   object  \n",
      " 2   Birth Year     4588 non-null   int64   \n",
      " 3   Age            4588 non-null   int64   \n",
      " 4   Team           4588 non-null   object  \n",
      " 5   Position       4588 non-null   object  \n",
      " 6   year           4588 non-null   int64   \n",
      " 7   Weekly Salary  4588 non-null   float64 \n",
      " 8   Base Salary    4588 non-null   float64 \n",
      " 9   ADJ Salary     4588 non-null   float64 \n",
      " 10  Apps           4588 non-null   float64 \n",
      " 11  Min            4588 non-null   float64 \n",
      " 12  G              4588 non-null   float64 \n",
      " 13  NPG            4588 non-null   float64 \n",
      " 14  A              4588 non-null   float64 \n",
      " 15  xG             4588 non-null   float64 \n",
      " 16  NPxG           4588 non-null   float64 \n",
      " 17  xA             4588 non-null   float64 \n",
      " 18  xGChain        4588 non-null   float64 \n",
      " 19  xGBuildup      4588 non-null   float64 \n",
      " 20  xG90           4588 non-null   float64 \n",
      " 21  NPxG90         4588 non-null   float64 \n",
      " 22  xA90           4588 non-null   float64 \n",
      " 23  xG90+xA90      4588 non-null   float64 \n",
      " 24  NPxG90+xA90    4588 non-null   float64 \n",
      " 25  xGChain90      4588 non-null   float64 \n",
      " 26  xGBuildup90    4588 non-null   float64 \n",
      " 27  SpG            4588 non-null   float64 \n",
      " 28  KeyP           4588 non-null   float64 \n",
      " 29  Drb_Off        4588 non-null   float64 \n",
      " 30  Fouled         4588 non-null   float64 \n",
      " 31  Off            4588 non-null   float64 \n",
      " 32  Disp           4588 non-null   float64 \n",
      " 33  UnsTch         4588 non-null   float64 \n",
      " 34  Rating         4588 non-null   float64 \n",
      " 35  Tackles        4588 non-null   float64 \n",
      " 36  Inter          4588 non-null   float64 \n",
      " 37  Fouls          4588 non-null   float64 \n",
      " 38  Offsides       4588 non-null   float64 \n",
      " 39  Clear          4588 non-null   float64 \n",
      " 40  Drb_Def        4588 non-null   float64 \n",
      " 41  Blocks         4588 non-null   float64 \n",
      " 42  AvgP           4588 non-null   float64 \n",
      " 43  PS%            4588 non-null   float64 \n",
      " 44  Age Lev        4588 non-null   category\n",
      "dtypes: category(1), float64(37), int64(4), object(3)\n",
      "memory usage: 1.6+ MB\n"
     ]
    }
   ],
   "source": [
    "eda_df.info()"
   ],
   "metadata": {
    "collapsed": false,
    "pycharm": {
     "name": "#%%\n"
    }
   }
  },
  {
   "cell_type": "code",
   "execution_count": 35,
   "outputs": [
    {
     "data": {
      "text/plain": "             Player Id   Birth Year        Age         year  Weekly Salary  \\\nAge Lev                                                                      \n<21      303877.496503  1999.097902  18.881119  2017.979021   24603.741259   \n21       245968.000000  1997.089286  21.000000  2018.089286   52073.142857   \n22       211719.556962  1996.088608  22.000000  2018.088608   54921.367089   \n23       180007.740260  1994.987013  23.000000  2017.987013   60094.558442   \n24       140174.035714  1993.845238  24.000000  2017.845238   64899.726190   \n25       131949.912621  1992.980583  25.000000  2017.980583   68065.533981   \n26        96308.129032  1991.559140  26.000000  2017.559140   65752.279570   \n27        63832.175824  1990.043956  27.000000  2017.043956   63228.659341   \n28        63450.961538  1989.705128  28.000000  2017.705128   75021.679487   \n29        55388.513158  1988.776316  29.000000  2017.776316   75402.328947   \n30        46886.803571  1988.178571  30.000000  2018.178571   83955.000000   \n31        34709.538462  1987.564103  31.000000  2018.564103   98393.000000   \n32        30497.227273  1986.636364  32.000000  2018.636364   79038.454545   \n32<       18938.428571  1984.119048  33.976190  2018.095238   88468.404762   \n\n          Base Salary    ADJ Salary       Apps          Min         G  ...  \\\nAge Lev                                                                ...   \n<21      1.279394e+06  1.399043e+06  13.958042   654.874126  1.804196  ...   \n21       2.707804e+06  2.961762e+06  22.589286  1307.482143  4.214286  ...   \n22       2.855911e+06  3.079328e+06  20.151899  1135.253165  4.303797  ...   \n23       3.124917e+06  3.436752e+06  22.259740  1363.636364  5.233766  ...   \n24       3.374786e+06  3.726915e+06  23.440476  1518.297619  5.511905  ...   \n25       3.539408e+06  3.883778e+06  22.873786  1452.446602  5.378641  ...   \n26       3.419118e+06  3.800687e+06  23.634409  1524.462366  5.838710  ...   \n27       3.287890e+06  3.684228e+06  22.098901  1390.450549  5.626374  ...   \n28       3.901128e+06  4.345078e+06  23.141026  1466.692308  5.858974  ...   \n29       3.920921e+06  4.296540e+06  23.118421  1396.368421  5.881579  ...   \n30       4.365661e+06  4.708715e+06  22.875000  1321.821429  5.250000  ...   \n31       5.116436e+06  5.589635e+06  23.384615  1393.769231  5.512821  ...   \n32       4.110000e+06  4.420372e+06  18.136364   944.090909  3.636364  ...   \n32<      4.600357e+06  4.884989e+06  19.238095  1021.738095  4.261905  ...   \n\n           Rating   Tackles     Inter     Fouls  Offsides     Clear   Drb_Def  \\\nAge Lev                                                                         \n<21      6.392343  0.529411  0.196584  0.525784  0.004794  0.206427  0.337975   \n21       6.572149  0.582858  0.274198  0.600074  0.007206  0.332081  0.470652   \n22       6.557411  0.603678  0.258404  0.635625  0.003944  0.313356  0.453238   \n23       6.657855  0.663491  0.287833  0.795438  0.008938  0.334824  0.498418   \n24       6.698128  0.664512  0.300388  0.785360  0.009719  0.386263  0.535371   \n25       6.666182  0.686901  0.345168  0.826541  0.008573  0.417779  0.517322   \n26       6.692632  0.698714  0.294073  0.828720  0.010890  0.456903  0.530893   \n27       6.641115  0.572400  0.266172  0.779772  0.008292  0.419184  0.458249   \n28       6.670146  0.624095  0.261187  0.809550  0.008463  0.507822  0.444810   \n29       6.634705  0.592745  0.268750  0.772710  0.010008  0.399752  0.448417   \n30       6.591541  0.562756  0.218105  0.791096  0.007994  0.461139  0.417021   \n31       6.572930  0.581377  0.210891  0.727714  0.008719  0.486429  0.484254   \n32       6.463173  0.472184  0.145099  0.532177  0.010356  0.337006  0.334321   \n32<      6.464067  0.321901  0.159069  0.682243  0.006631  0.437155  0.281366   \n\n           Blocks       AvgP        PS%  \nAge Lev                                  \n<21      0.033593  10.699055  74.852615  \n21       0.034291  15.798359  73.317294  \n22       0.035439  14.337803  73.902100  \n23       0.045739  15.987850  73.787866  \n24       0.051441  17.341840  74.628010  \n25       0.049944  16.952998  73.380213  \n26       0.067811  17.668021  73.869583  \n27       0.050096  16.881974  73.924348  \n28       0.059044  17.451838  71.814828  \n29       0.058980  16.603136  73.117890  \n30       0.060504  15.762375  72.833420  \n31       0.053674  16.004925  74.401939  \n32       0.045195  12.492536  71.059526  \n32<      0.035091  13.310960  67.591704  \n\n[14 rows x 41 columns]",
      "text/html": "<div>\n<style scoped>\n    .dataframe tbody tr th:only-of-type {\n        vertical-align: middle;\n    }\n\n    .dataframe tbody tr th {\n        vertical-align: top;\n    }\n\n    .dataframe thead th {\n        text-align: right;\n    }\n</style>\n<table border=\"1\" class=\"dataframe\">\n  <thead>\n    <tr style=\"text-align: right;\">\n      <th></th>\n      <th>Player Id</th>\n      <th>Birth Year</th>\n      <th>Age</th>\n      <th>year</th>\n      <th>Weekly Salary</th>\n      <th>Base Salary</th>\n      <th>ADJ Salary</th>\n      <th>Apps</th>\n      <th>Min</th>\n      <th>G</th>\n      <th>...</th>\n      <th>Rating</th>\n      <th>Tackles</th>\n      <th>Inter</th>\n      <th>Fouls</th>\n      <th>Offsides</th>\n      <th>Clear</th>\n      <th>Drb_Def</th>\n      <th>Blocks</th>\n      <th>AvgP</th>\n      <th>PS%</th>\n    </tr>\n    <tr>\n      <th>Age Lev</th>\n      <th></th>\n      <th></th>\n      <th></th>\n      <th></th>\n      <th></th>\n      <th></th>\n      <th></th>\n      <th></th>\n      <th></th>\n      <th></th>\n      <th></th>\n      <th></th>\n      <th></th>\n      <th></th>\n      <th></th>\n      <th></th>\n      <th></th>\n      <th></th>\n      <th></th>\n      <th></th>\n      <th></th>\n    </tr>\n  </thead>\n  <tbody>\n    <tr>\n      <th>&lt;21</th>\n      <td>303877.496503</td>\n      <td>1999.097902</td>\n      <td>18.881119</td>\n      <td>2017.979021</td>\n      <td>24603.741259</td>\n      <td>1.279394e+06</td>\n      <td>1.399043e+06</td>\n      <td>13.958042</td>\n      <td>654.874126</td>\n      <td>1.804196</td>\n      <td>...</td>\n      <td>6.392343</td>\n      <td>0.529411</td>\n      <td>0.196584</td>\n      <td>0.525784</td>\n      <td>0.004794</td>\n      <td>0.206427</td>\n      <td>0.337975</td>\n      <td>0.033593</td>\n      <td>10.699055</td>\n      <td>74.852615</td>\n    </tr>\n    <tr>\n      <th>21</th>\n      <td>245968.000000</td>\n      <td>1997.089286</td>\n      <td>21.000000</td>\n      <td>2018.089286</td>\n      <td>52073.142857</td>\n      <td>2.707804e+06</td>\n      <td>2.961762e+06</td>\n      <td>22.589286</td>\n      <td>1307.482143</td>\n      <td>4.214286</td>\n      <td>...</td>\n      <td>6.572149</td>\n      <td>0.582858</td>\n      <td>0.274198</td>\n      <td>0.600074</td>\n      <td>0.007206</td>\n      <td>0.332081</td>\n      <td>0.470652</td>\n      <td>0.034291</td>\n      <td>15.798359</td>\n      <td>73.317294</td>\n    </tr>\n    <tr>\n      <th>22</th>\n      <td>211719.556962</td>\n      <td>1996.088608</td>\n      <td>22.000000</td>\n      <td>2018.088608</td>\n      <td>54921.367089</td>\n      <td>2.855911e+06</td>\n      <td>3.079328e+06</td>\n      <td>20.151899</td>\n      <td>1135.253165</td>\n      <td>4.303797</td>\n      <td>...</td>\n      <td>6.557411</td>\n      <td>0.603678</td>\n      <td>0.258404</td>\n      <td>0.635625</td>\n      <td>0.003944</td>\n      <td>0.313356</td>\n      <td>0.453238</td>\n      <td>0.035439</td>\n      <td>14.337803</td>\n      <td>73.902100</td>\n    </tr>\n    <tr>\n      <th>23</th>\n      <td>180007.740260</td>\n      <td>1994.987013</td>\n      <td>23.000000</td>\n      <td>2017.987013</td>\n      <td>60094.558442</td>\n      <td>3.124917e+06</td>\n      <td>3.436752e+06</td>\n      <td>22.259740</td>\n      <td>1363.636364</td>\n      <td>5.233766</td>\n      <td>...</td>\n      <td>6.657855</td>\n      <td>0.663491</td>\n      <td>0.287833</td>\n      <td>0.795438</td>\n      <td>0.008938</td>\n      <td>0.334824</td>\n      <td>0.498418</td>\n      <td>0.045739</td>\n      <td>15.987850</td>\n      <td>73.787866</td>\n    </tr>\n    <tr>\n      <th>24</th>\n      <td>140174.035714</td>\n      <td>1993.845238</td>\n      <td>24.000000</td>\n      <td>2017.845238</td>\n      <td>64899.726190</td>\n      <td>3.374786e+06</td>\n      <td>3.726915e+06</td>\n      <td>23.440476</td>\n      <td>1518.297619</td>\n      <td>5.511905</td>\n      <td>...</td>\n      <td>6.698128</td>\n      <td>0.664512</td>\n      <td>0.300388</td>\n      <td>0.785360</td>\n      <td>0.009719</td>\n      <td>0.386263</td>\n      <td>0.535371</td>\n      <td>0.051441</td>\n      <td>17.341840</td>\n      <td>74.628010</td>\n    </tr>\n    <tr>\n      <th>25</th>\n      <td>131949.912621</td>\n      <td>1992.980583</td>\n      <td>25.000000</td>\n      <td>2017.980583</td>\n      <td>68065.533981</td>\n      <td>3.539408e+06</td>\n      <td>3.883778e+06</td>\n      <td>22.873786</td>\n      <td>1452.446602</td>\n      <td>5.378641</td>\n      <td>...</td>\n      <td>6.666182</td>\n      <td>0.686901</td>\n      <td>0.345168</td>\n      <td>0.826541</td>\n      <td>0.008573</td>\n      <td>0.417779</td>\n      <td>0.517322</td>\n      <td>0.049944</td>\n      <td>16.952998</td>\n      <td>73.380213</td>\n    </tr>\n    <tr>\n      <th>26</th>\n      <td>96308.129032</td>\n      <td>1991.559140</td>\n      <td>26.000000</td>\n      <td>2017.559140</td>\n      <td>65752.279570</td>\n      <td>3.419118e+06</td>\n      <td>3.800687e+06</td>\n      <td>23.634409</td>\n      <td>1524.462366</td>\n      <td>5.838710</td>\n      <td>...</td>\n      <td>6.692632</td>\n      <td>0.698714</td>\n      <td>0.294073</td>\n      <td>0.828720</td>\n      <td>0.010890</td>\n      <td>0.456903</td>\n      <td>0.530893</td>\n      <td>0.067811</td>\n      <td>17.668021</td>\n      <td>73.869583</td>\n    </tr>\n    <tr>\n      <th>27</th>\n      <td>63832.175824</td>\n      <td>1990.043956</td>\n      <td>27.000000</td>\n      <td>2017.043956</td>\n      <td>63228.659341</td>\n      <td>3.287890e+06</td>\n      <td>3.684228e+06</td>\n      <td>22.098901</td>\n      <td>1390.450549</td>\n      <td>5.626374</td>\n      <td>...</td>\n      <td>6.641115</td>\n      <td>0.572400</td>\n      <td>0.266172</td>\n      <td>0.779772</td>\n      <td>0.008292</td>\n      <td>0.419184</td>\n      <td>0.458249</td>\n      <td>0.050096</td>\n      <td>16.881974</td>\n      <td>73.924348</td>\n    </tr>\n    <tr>\n      <th>28</th>\n      <td>63450.961538</td>\n      <td>1989.705128</td>\n      <td>28.000000</td>\n      <td>2017.705128</td>\n      <td>75021.679487</td>\n      <td>3.901128e+06</td>\n      <td>4.345078e+06</td>\n      <td>23.141026</td>\n      <td>1466.692308</td>\n      <td>5.858974</td>\n      <td>...</td>\n      <td>6.670146</td>\n      <td>0.624095</td>\n      <td>0.261187</td>\n      <td>0.809550</td>\n      <td>0.008463</td>\n      <td>0.507822</td>\n      <td>0.444810</td>\n      <td>0.059044</td>\n      <td>17.451838</td>\n      <td>71.814828</td>\n    </tr>\n    <tr>\n      <th>29</th>\n      <td>55388.513158</td>\n      <td>1988.776316</td>\n      <td>29.000000</td>\n      <td>2017.776316</td>\n      <td>75402.328947</td>\n      <td>3.920921e+06</td>\n      <td>4.296540e+06</td>\n      <td>23.118421</td>\n      <td>1396.368421</td>\n      <td>5.881579</td>\n      <td>...</td>\n      <td>6.634705</td>\n      <td>0.592745</td>\n      <td>0.268750</td>\n      <td>0.772710</td>\n      <td>0.010008</td>\n      <td>0.399752</td>\n      <td>0.448417</td>\n      <td>0.058980</td>\n      <td>16.603136</td>\n      <td>73.117890</td>\n    </tr>\n    <tr>\n      <th>30</th>\n      <td>46886.803571</td>\n      <td>1988.178571</td>\n      <td>30.000000</td>\n      <td>2018.178571</td>\n      <td>83955.000000</td>\n      <td>4.365661e+06</td>\n      <td>4.708715e+06</td>\n      <td>22.875000</td>\n      <td>1321.821429</td>\n      <td>5.250000</td>\n      <td>...</td>\n      <td>6.591541</td>\n      <td>0.562756</td>\n      <td>0.218105</td>\n      <td>0.791096</td>\n      <td>0.007994</td>\n      <td>0.461139</td>\n      <td>0.417021</td>\n      <td>0.060504</td>\n      <td>15.762375</td>\n      <td>72.833420</td>\n    </tr>\n    <tr>\n      <th>31</th>\n      <td>34709.538462</td>\n      <td>1987.564103</td>\n      <td>31.000000</td>\n      <td>2018.564103</td>\n      <td>98393.000000</td>\n      <td>5.116436e+06</td>\n      <td>5.589635e+06</td>\n      <td>23.384615</td>\n      <td>1393.769231</td>\n      <td>5.512821</td>\n      <td>...</td>\n      <td>6.572930</td>\n      <td>0.581377</td>\n      <td>0.210891</td>\n      <td>0.727714</td>\n      <td>0.008719</td>\n      <td>0.486429</td>\n      <td>0.484254</td>\n      <td>0.053674</td>\n      <td>16.004925</td>\n      <td>74.401939</td>\n    </tr>\n    <tr>\n      <th>32</th>\n      <td>30497.227273</td>\n      <td>1986.636364</td>\n      <td>32.000000</td>\n      <td>2018.636364</td>\n      <td>79038.454545</td>\n      <td>4.110000e+06</td>\n      <td>4.420372e+06</td>\n      <td>18.136364</td>\n      <td>944.090909</td>\n      <td>3.636364</td>\n      <td>...</td>\n      <td>6.463173</td>\n      <td>0.472184</td>\n      <td>0.145099</td>\n      <td>0.532177</td>\n      <td>0.010356</td>\n      <td>0.337006</td>\n      <td>0.334321</td>\n      <td>0.045195</td>\n      <td>12.492536</td>\n      <td>71.059526</td>\n    </tr>\n    <tr>\n      <th>32&lt;</th>\n      <td>18938.428571</td>\n      <td>1984.119048</td>\n      <td>33.976190</td>\n      <td>2018.095238</td>\n      <td>88468.404762</td>\n      <td>4.600357e+06</td>\n      <td>4.884989e+06</td>\n      <td>19.238095</td>\n      <td>1021.738095</td>\n      <td>4.261905</td>\n      <td>...</td>\n      <td>6.464067</td>\n      <td>0.321901</td>\n      <td>0.159069</td>\n      <td>0.682243</td>\n      <td>0.006631</td>\n      <td>0.437155</td>\n      <td>0.281366</td>\n      <td>0.035091</td>\n      <td>13.310960</td>\n      <td>67.591704</td>\n    </tr>\n  </tbody>\n</table>\n<p>14 rows × 41 columns</p>\n</div>"
     },
     "execution_count": 35,
     "metadata": {},
     "output_type": "execute_result"
    }
   ],
   "source": [
    "eda_df.groupby(['Position', 'Age Lev']).mean(numeric_only=True).loc['Forward']"
   ],
   "metadata": {
    "collapsed": false,
    "pycharm": {
     "name": "#%%\n"
    }
   }
  },
  {
   "cell_type": "code",
   "execution_count": 36,
   "outputs": [
    {
     "data": {
      "text/plain": "   Player Id            Name  Birth Year  Age      Team    Position  year  \\\n0      33404     Eden Hazard        1991   23   Chelsea     Forward  2014   \n1      25244  Alexis Sanchez        1989   25   Arsenal     Forward  2014   \n2      14260   Sergio Aguero        1988   26  Man City     Forward  2014   \n3       8040   Cesc Fabregas        1987   27   Chelsea  Midfielder  2014   \n4       4522   Santi Cazorla        1985   29   Arsenal  Midfielder  2014   \n\n   Weekly Salary  Base Salary  ADJ Salary  ...   Tackles     Inter     Fouls  \\\n0       185827.0    9663000.0  11640054.0  ...  0.736842  0.578947  0.315789   \n1       140000.0    7280000.0   8769491.0  ...  1.971429  1.171429  1.257143   \n2       160000.0    8320000.0  10022275.0  ...  0.666667  0.393939  0.545455   \n3       171481.0    8917000.0  10741422.0  ...  2.588235  0.676471  0.882353   \n4        90000.0    4680000.0   5637530.0  ...  1.594595  1.081081  0.540541   \n\n   Offsides     Clear   Drb_Def    Blocks       AvgP        PS%  Age Lev  \n0       0.0  0.236842  0.605263  0.026316  58.368421  86.834986       23  \n1       0.0  0.171429  1.542857  0.000000  42.000000  76.802721       25  \n2       0.0  0.060606  0.515152  0.000000  25.242424  85.594238       26  \n3       0.0  0.882353  2.117647  0.147059  80.647059  85.193290       27  \n4       0.0  0.648649  1.459459  0.135135  64.027027  89.024905       29  \n\n[5 rows x 45 columns]",
      "text/html": "<div>\n<style scoped>\n    .dataframe tbody tr th:only-of-type {\n        vertical-align: middle;\n    }\n\n    .dataframe tbody tr th {\n        vertical-align: top;\n    }\n\n    .dataframe thead th {\n        text-align: right;\n    }\n</style>\n<table border=\"1\" class=\"dataframe\">\n  <thead>\n    <tr style=\"text-align: right;\">\n      <th></th>\n      <th>Player Id</th>\n      <th>Name</th>\n      <th>Birth Year</th>\n      <th>Age</th>\n      <th>Team</th>\n      <th>Position</th>\n      <th>year</th>\n      <th>Weekly Salary</th>\n      <th>Base Salary</th>\n      <th>ADJ Salary</th>\n      <th>...</th>\n      <th>Tackles</th>\n      <th>Inter</th>\n      <th>Fouls</th>\n      <th>Offsides</th>\n      <th>Clear</th>\n      <th>Drb_Def</th>\n      <th>Blocks</th>\n      <th>AvgP</th>\n      <th>PS%</th>\n      <th>Age Lev</th>\n    </tr>\n  </thead>\n  <tbody>\n    <tr>\n      <th>0</th>\n      <td>33404</td>\n      <td>Eden Hazard</td>\n      <td>1991</td>\n      <td>23</td>\n      <td>Chelsea</td>\n      <td>Forward</td>\n      <td>2014</td>\n      <td>185827.0</td>\n      <td>9663000.0</td>\n      <td>11640054.0</td>\n      <td>...</td>\n      <td>0.736842</td>\n      <td>0.578947</td>\n      <td>0.315789</td>\n      <td>0.0</td>\n      <td>0.236842</td>\n      <td>0.605263</td>\n      <td>0.026316</td>\n      <td>58.368421</td>\n      <td>86.834986</td>\n      <td>23</td>\n    </tr>\n    <tr>\n      <th>1</th>\n      <td>25244</td>\n      <td>Alexis Sanchez</td>\n      <td>1989</td>\n      <td>25</td>\n      <td>Arsenal</td>\n      <td>Forward</td>\n      <td>2014</td>\n      <td>140000.0</td>\n      <td>7280000.0</td>\n      <td>8769491.0</td>\n      <td>...</td>\n      <td>1.971429</td>\n      <td>1.171429</td>\n      <td>1.257143</td>\n      <td>0.0</td>\n      <td>0.171429</td>\n      <td>1.542857</td>\n      <td>0.000000</td>\n      <td>42.000000</td>\n      <td>76.802721</td>\n      <td>25</td>\n    </tr>\n    <tr>\n      <th>2</th>\n      <td>14260</td>\n      <td>Sergio Aguero</td>\n      <td>1988</td>\n      <td>26</td>\n      <td>Man City</td>\n      <td>Forward</td>\n      <td>2014</td>\n      <td>160000.0</td>\n      <td>8320000.0</td>\n      <td>10022275.0</td>\n      <td>...</td>\n      <td>0.666667</td>\n      <td>0.393939</td>\n      <td>0.545455</td>\n      <td>0.0</td>\n      <td>0.060606</td>\n      <td>0.515152</td>\n      <td>0.000000</td>\n      <td>25.242424</td>\n      <td>85.594238</td>\n      <td>26</td>\n    </tr>\n    <tr>\n      <th>3</th>\n      <td>8040</td>\n      <td>Cesc Fabregas</td>\n      <td>1987</td>\n      <td>27</td>\n      <td>Chelsea</td>\n      <td>Midfielder</td>\n      <td>2014</td>\n      <td>171481.0</td>\n      <td>8917000.0</td>\n      <td>10741422.0</td>\n      <td>...</td>\n      <td>2.588235</td>\n      <td>0.676471</td>\n      <td>0.882353</td>\n      <td>0.0</td>\n      <td>0.882353</td>\n      <td>2.117647</td>\n      <td>0.147059</td>\n      <td>80.647059</td>\n      <td>85.193290</td>\n      <td>27</td>\n    </tr>\n    <tr>\n      <th>4</th>\n      <td>4522</td>\n      <td>Santi Cazorla</td>\n      <td>1985</td>\n      <td>29</td>\n      <td>Arsenal</td>\n      <td>Midfielder</td>\n      <td>2014</td>\n      <td>90000.0</td>\n      <td>4680000.0</td>\n      <td>5637530.0</td>\n      <td>...</td>\n      <td>1.594595</td>\n      <td>1.081081</td>\n      <td>0.540541</td>\n      <td>0.0</td>\n      <td>0.648649</td>\n      <td>1.459459</td>\n      <td>0.135135</td>\n      <td>64.027027</td>\n      <td>89.024905</td>\n      <td>29</td>\n    </tr>\n  </tbody>\n</table>\n<p>5 rows × 45 columns</p>\n</div>"
     },
     "execution_count": 36,
     "metadata": {},
     "output_type": "execute_result"
    }
   ],
   "source": [
    "eda_df.head()"
   ],
   "metadata": {
    "collapsed": false,
    "pycharm": {
     "name": "#%%\n"
    }
   }
  },
  {
   "cell_type": "code",
   "execution_count": 37,
   "outputs": [
    {
     "data": {
      "text/plain": "Index(['Player Id', 'Name', 'Birth Year', 'Age', 'Team', 'Position', 'year',\n       'Weekly Salary', 'Base Salary', 'ADJ Salary', 'Apps', 'Min', 'G', 'NPG',\n       'A', 'xG', 'NPxG', 'xA', 'xGChain', 'xGBuildup', 'xG90', 'NPxG90',\n       'xA90', 'xG90+xA90', 'NPxG90+xA90', 'xGChain90', 'xGBuildup90', 'SpG',\n       'KeyP', 'Drb_Off', 'Fouled', 'Off', 'Disp', 'UnsTch', 'Rating',\n       'Tackles', 'Inter', 'Fouls', 'Offsides', 'Clear', 'Drb_Def', 'Blocks',\n       'AvgP', 'PS%', 'Age Lev'],\n      dtype='object')"
     },
     "execution_count": 37,
     "metadata": {},
     "output_type": "execute_result"
    }
   ],
   "source": [
    "eda_df.columns"
   ],
   "metadata": {
    "collapsed": false,
    "pycharm": {
     "name": "#%%\n"
    }
   }
  },
  {
   "cell_type": "code",
   "execution_count": 38,
   "outputs": [
    {
     "data": {
      "text/plain": "[898, 1142, 1695, 2164, 2646, 3152, 3667, 4265]"
     },
     "execution_count": 38,
     "metadata": {},
     "output_type": "execute_result"
    }
   ],
   "source": [
    "player_indexes = eda_df[eda_df['Name']=='Son Heung-Min'].index\n",
    "list(player_indexes)"
   ],
   "metadata": {
    "collapsed": false,
    "pycharm": {
     "name": "#%%\n"
    }
   }
  },
  {
   "cell_type": "code",
   "execution_count": 39,
   "outputs": [
    {
     "data": {
      "text/plain": "   Position     Min     G   NPG     A     xG   NPxG     xA  xGChain  \\\n0         0  3389.0  14.0  11.0   9.0  12.02   8.97  11.24    31.84   \n1         0  2967.0  16.0  16.0   8.0  13.45  12.69   8.49    27.16   \n2         0  2551.0  26.0  21.0   8.0  25.27  20.70   5.57    27.81   \n3         1  2895.0   3.0   3.0  18.0   3.25   3.25  10.15    23.01   \n4         1  2999.0   7.0   1.0  11.0  10.59   6.02   9.76    24.66   \n\n   xGBuildup  ...    Rating   Tackles     Inter     Fouls  Offsides     Clear  \\\n0      19.48  ...  7.956842  0.736842  0.578947  0.315789       0.0  0.236842   \n1      10.74  ...  7.810857  1.971429  1.171429  1.257143       0.0  0.171429   \n2       6.88  ...  7.671515  0.666667  0.393939  0.545455       0.0  0.060606   \n3      16.97  ...  7.618529  2.588235  0.676471  0.882353       0.0  0.882353   \n4      16.91  ...  7.599459  1.594595  1.081081  0.540541       0.0  0.648649   \n\n    Drb_Def    Blocks       AvgP        PS%  \n0  0.605263  0.026316  58.368421  86.834986  \n1  1.542857  0.000000  42.000000  76.802721  \n2  0.515152  0.000000  25.242424  85.594238  \n3  2.117647  0.147059  80.647059  85.193290  \n4  1.459459  0.135135  64.027027  89.024905  \n\n[5 rows x 27 columns]",
      "text/html": "<div>\n<style scoped>\n    .dataframe tbody tr th:only-of-type {\n        vertical-align: middle;\n    }\n\n    .dataframe tbody tr th {\n        vertical-align: top;\n    }\n\n    .dataframe thead th {\n        text-align: right;\n    }\n</style>\n<table border=\"1\" class=\"dataframe\">\n  <thead>\n    <tr style=\"text-align: right;\">\n      <th></th>\n      <th>Position</th>\n      <th>Min</th>\n      <th>G</th>\n      <th>NPG</th>\n      <th>A</th>\n      <th>xG</th>\n      <th>NPxG</th>\n      <th>xA</th>\n      <th>xGChain</th>\n      <th>xGBuildup</th>\n      <th>...</th>\n      <th>Rating</th>\n      <th>Tackles</th>\n      <th>Inter</th>\n      <th>Fouls</th>\n      <th>Offsides</th>\n      <th>Clear</th>\n      <th>Drb_Def</th>\n      <th>Blocks</th>\n      <th>AvgP</th>\n      <th>PS%</th>\n    </tr>\n  </thead>\n  <tbody>\n    <tr>\n      <th>0</th>\n      <td>0</td>\n      <td>3389.0</td>\n      <td>14.0</td>\n      <td>11.0</td>\n      <td>9.0</td>\n      <td>12.02</td>\n      <td>8.97</td>\n      <td>11.24</td>\n      <td>31.84</td>\n      <td>19.48</td>\n      <td>...</td>\n      <td>7.956842</td>\n      <td>0.736842</td>\n      <td>0.578947</td>\n      <td>0.315789</td>\n      <td>0.0</td>\n      <td>0.236842</td>\n      <td>0.605263</td>\n      <td>0.026316</td>\n      <td>58.368421</td>\n      <td>86.834986</td>\n    </tr>\n    <tr>\n      <th>1</th>\n      <td>0</td>\n      <td>2967.0</td>\n      <td>16.0</td>\n      <td>16.0</td>\n      <td>8.0</td>\n      <td>13.45</td>\n      <td>12.69</td>\n      <td>8.49</td>\n      <td>27.16</td>\n      <td>10.74</td>\n      <td>...</td>\n      <td>7.810857</td>\n      <td>1.971429</td>\n      <td>1.171429</td>\n      <td>1.257143</td>\n      <td>0.0</td>\n      <td>0.171429</td>\n      <td>1.542857</td>\n      <td>0.000000</td>\n      <td>42.000000</td>\n      <td>76.802721</td>\n    </tr>\n    <tr>\n      <th>2</th>\n      <td>0</td>\n      <td>2551.0</td>\n      <td>26.0</td>\n      <td>21.0</td>\n      <td>8.0</td>\n      <td>25.27</td>\n      <td>20.70</td>\n      <td>5.57</td>\n      <td>27.81</td>\n      <td>6.88</td>\n      <td>...</td>\n      <td>7.671515</td>\n      <td>0.666667</td>\n      <td>0.393939</td>\n      <td>0.545455</td>\n      <td>0.0</td>\n      <td>0.060606</td>\n      <td>0.515152</td>\n      <td>0.000000</td>\n      <td>25.242424</td>\n      <td>85.594238</td>\n    </tr>\n    <tr>\n      <th>3</th>\n      <td>1</td>\n      <td>2895.0</td>\n      <td>3.0</td>\n      <td>3.0</td>\n      <td>18.0</td>\n      <td>3.25</td>\n      <td>3.25</td>\n      <td>10.15</td>\n      <td>23.01</td>\n      <td>16.97</td>\n      <td>...</td>\n      <td>7.618529</td>\n      <td>2.588235</td>\n      <td>0.676471</td>\n      <td>0.882353</td>\n      <td>0.0</td>\n      <td>0.882353</td>\n      <td>2.117647</td>\n      <td>0.147059</td>\n      <td>80.647059</td>\n      <td>85.193290</td>\n    </tr>\n    <tr>\n      <th>4</th>\n      <td>1</td>\n      <td>2999.0</td>\n      <td>7.0</td>\n      <td>1.0</td>\n      <td>11.0</td>\n      <td>10.59</td>\n      <td>6.02</td>\n      <td>9.76</td>\n      <td>24.66</td>\n      <td>16.91</td>\n      <td>...</td>\n      <td>7.599459</td>\n      <td>1.594595</td>\n      <td>1.081081</td>\n      <td>0.540541</td>\n      <td>0.0</td>\n      <td>0.648649</td>\n      <td>1.459459</td>\n      <td>0.135135</td>\n      <td>64.027027</td>\n      <td>89.024905</td>\n    </tr>\n  </tbody>\n</table>\n<p>5 rows × 27 columns</p>\n</div>"
     },
     "execution_count": 39,
     "metadata": {},
     "output_type": "execute_result"
    }
   ],
   "source": [
    "featuring_df = eda_df[eda_df.Min>1000].copy()\n",
    "featured_df = featuring_df.copy()\n",
    "featured_df.Position = pd.factorize(featuring_df.Position)[0]\n",
    "featured_df = featured_df.drop(\n",
    "            [\n",
    "                'Player Id', 'Name', 'Team', 'Birth Year', 'year',\n",
    "                'Weekly Salary', 'Base Salary', 'ADJ Salary',\n",
    "                'Age', 'Age Lev', 'Apps',\n",
    "                'xG90', 'NPxG90', 'xA90', 'xGChain90', 'xGBuildup90',\n",
    "                'xG90+xA90', 'NPxG90+xA90'\n",
    "            ],\n",
    "            axis=1\n",
    "        )\n",
    "featured_df.head()"
   ],
   "metadata": {
    "collapsed": false,
    "pycharm": {
     "name": "#%%\n"
    }
   }
  },
  {
   "cell_type": "code",
   "execution_count": 40,
   "outputs": [
    {
     "data": {
      "text/plain": "      Player Id           Name  Birth Year  Age       Team Position  year  \\\n898       91909  Son Heung-Min        1992   23  Tottenham  Forward  2015   \n1142      91909  Son Heung-Min        1992   24  Tottenham  Forward  2016   \n1695      91909  Son Heung-Min        1992   25  Tottenham  Forward  2017   \n2164      91909  Son Heung-Min        1992   26  Tottenham  Forward  2018   \n2646      91909  Son Heung-Min        1992   27  Tottenham  Forward  2019   \n3152      91909  Son Heung-Min        1992   28  Tottenham  Forward  2020   \n3667      91909  Son Heung-Min        1992   29  Tottenham  Forward  2021   \n4265      91909  Son Heung-Min        1992   30  Tottenham  Forward  2022   \n\n      Weekly Salary  Base Salary  ADJ Salary  ...   Tackles     Inter  \\\n898         85000.0    4420000.0   5271178.0  ...  0.964286  0.428571   \n1142        85000.0    4420000.0   5139717.0  ...  0.558824  0.235294   \n1695        85000.0    4420000.0   5024513.0  ...  0.459459  0.270270   \n2164        85000.0    4420000.0   4938673.0  ...  0.741935  0.258065   \n2646       140000.0    7280000.0   8054587.0  ...  0.766667  0.633333   \n3152       140000.0    7280000.0   7856725.0  ...  0.864865  0.378378   \n3667       190000.0    9880000.0   9880000.0  ...  0.428571  0.371429   \n4265       190000.0    9880000.0   9880000.0  ...  0.666667  0.361111   \n\n         Fouls  Offsides     Clear   Drb_Def    Blocks       AvgP        PS%  \\\n898   0.428571       0.0  0.250000  0.678571  0.035714  15.964286  79.642058   \n1142  0.264706       0.0  0.176471  0.588235  0.029412  22.823529  81.185567   \n1695  0.405405       0.0  0.243243  0.702703  0.000000  24.756757  85.152838   \n2164  0.387097       0.0  0.129032  0.774194  0.064516  24.258065  85.638298   \n2646  0.566667       0.0  0.566667  1.600000  0.000000  26.566667  84.692597   \n3152  0.378378       0.0  0.081081  1.459459  0.081081  28.567568  83.443709   \n3667  0.400000       0.0  0.228571  0.514286  0.171429  29.000000  86.600985   \n4265  0.361111       0.0  0.111111  0.583333  0.055556  21.805556  82.038217   \n\n      Age Lev  \n898        23  \n1142       24  \n1695       25  \n2164       26  \n2646       27  \n3152       28  \n3667       29  \n4265       30  \n\n[8 rows x 45 columns]",
      "text/html": "<div>\n<style scoped>\n    .dataframe tbody tr th:only-of-type {\n        vertical-align: middle;\n    }\n\n    .dataframe tbody tr th {\n        vertical-align: top;\n    }\n\n    .dataframe thead th {\n        text-align: right;\n    }\n</style>\n<table border=\"1\" class=\"dataframe\">\n  <thead>\n    <tr style=\"text-align: right;\">\n      <th></th>\n      <th>Player Id</th>\n      <th>Name</th>\n      <th>Birth Year</th>\n      <th>Age</th>\n      <th>Team</th>\n      <th>Position</th>\n      <th>year</th>\n      <th>Weekly Salary</th>\n      <th>Base Salary</th>\n      <th>ADJ Salary</th>\n      <th>...</th>\n      <th>Tackles</th>\n      <th>Inter</th>\n      <th>Fouls</th>\n      <th>Offsides</th>\n      <th>Clear</th>\n      <th>Drb_Def</th>\n      <th>Blocks</th>\n      <th>AvgP</th>\n      <th>PS%</th>\n      <th>Age Lev</th>\n    </tr>\n  </thead>\n  <tbody>\n    <tr>\n      <th>898</th>\n      <td>91909</td>\n      <td>Son Heung-Min</td>\n      <td>1992</td>\n      <td>23</td>\n      <td>Tottenham</td>\n      <td>Forward</td>\n      <td>2015</td>\n      <td>85000.0</td>\n      <td>4420000.0</td>\n      <td>5271178.0</td>\n      <td>...</td>\n      <td>0.964286</td>\n      <td>0.428571</td>\n      <td>0.428571</td>\n      <td>0.0</td>\n      <td>0.250000</td>\n      <td>0.678571</td>\n      <td>0.035714</td>\n      <td>15.964286</td>\n      <td>79.642058</td>\n      <td>23</td>\n    </tr>\n    <tr>\n      <th>1142</th>\n      <td>91909</td>\n      <td>Son Heung-Min</td>\n      <td>1992</td>\n      <td>24</td>\n      <td>Tottenham</td>\n      <td>Forward</td>\n      <td>2016</td>\n      <td>85000.0</td>\n      <td>4420000.0</td>\n      <td>5139717.0</td>\n      <td>...</td>\n      <td>0.558824</td>\n      <td>0.235294</td>\n      <td>0.264706</td>\n      <td>0.0</td>\n      <td>0.176471</td>\n      <td>0.588235</td>\n      <td>0.029412</td>\n      <td>22.823529</td>\n      <td>81.185567</td>\n      <td>24</td>\n    </tr>\n    <tr>\n      <th>1695</th>\n      <td>91909</td>\n      <td>Son Heung-Min</td>\n      <td>1992</td>\n      <td>25</td>\n      <td>Tottenham</td>\n      <td>Forward</td>\n      <td>2017</td>\n      <td>85000.0</td>\n      <td>4420000.0</td>\n      <td>5024513.0</td>\n      <td>...</td>\n      <td>0.459459</td>\n      <td>0.270270</td>\n      <td>0.405405</td>\n      <td>0.0</td>\n      <td>0.243243</td>\n      <td>0.702703</td>\n      <td>0.000000</td>\n      <td>24.756757</td>\n      <td>85.152838</td>\n      <td>25</td>\n    </tr>\n    <tr>\n      <th>2164</th>\n      <td>91909</td>\n      <td>Son Heung-Min</td>\n      <td>1992</td>\n      <td>26</td>\n      <td>Tottenham</td>\n      <td>Forward</td>\n      <td>2018</td>\n      <td>85000.0</td>\n      <td>4420000.0</td>\n      <td>4938673.0</td>\n      <td>...</td>\n      <td>0.741935</td>\n      <td>0.258065</td>\n      <td>0.387097</td>\n      <td>0.0</td>\n      <td>0.129032</td>\n      <td>0.774194</td>\n      <td>0.064516</td>\n      <td>24.258065</td>\n      <td>85.638298</td>\n      <td>26</td>\n    </tr>\n    <tr>\n      <th>2646</th>\n      <td>91909</td>\n      <td>Son Heung-Min</td>\n      <td>1992</td>\n      <td>27</td>\n      <td>Tottenham</td>\n      <td>Forward</td>\n      <td>2019</td>\n      <td>140000.0</td>\n      <td>7280000.0</td>\n      <td>8054587.0</td>\n      <td>...</td>\n      <td>0.766667</td>\n      <td>0.633333</td>\n      <td>0.566667</td>\n      <td>0.0</td>\n      <td>0.566667</td>\n      <td>1.600000</td>\n      <td>0.000000</td>\n      <td>26.566667</td>\n      <td>84.692597</td>\n      <td>27</td>\n    </tr>\n    <tr>\n      <th>3152</th>\n      <td>91909</td>\n      <td>Son Heung-Min</td>\n      <td>1992</td>\n      <td>28</td>\n      <td>Tottenham</td>\n      <td>Forward</td>\n      <td>2020</td>\n      <td>140000.0</td>\n      <td>7280000.0</td>\n      <td>7856725.0</td>\n      <td>...</td>\n      <td>0.864865</td>\n      <td>0.378378</td>\n      <td>0.378378</td>\n      <td>0.0</td>\n      <td>0.081081</td>\n      <td>1.459459</td>\n      <td>0.081081</td>\n      <td>28.567568</td>\n      <td>83.443709</td>\n      <td>28</td>\n    </tr>\n    <tr>\n      <th>3667</th>\n      <td>91909</td>\n      <td>Son Heung-Min</td>\n      <td>1992</td>\n      <td>29</td>\n      <td>Tottenham</td>\n      <td>Forward</td>\n      <td>2021</td>\n      <td>190000.0</td>\n      <td>9880000.0</td>\n      <td>9880000.0</td>\n      <td>...</td>\n      <td>0.428571</td>\n      <td>0.371429</td>\n      <td>0.400000</td>\n      <td>0.0</td>\n      <td>0.228571</td>\n      <td>0.514286</td>\n      <td>0.171429</td>\n      <td>29.000000</td>\n      <td>86.600985</td>\n      <td>29</td>\n    </tr>\n    <tr>\n      <th>4265</th>\n      <td>91909</td>\n      <td>Son Heung-Min</td>\n      <td>1992</td>\n      <td>30</td>\n      <td>Tottenham</td>\n      <td>Forward</td>\n      <td>2022</td>\n      <td>190000.0</td>\n      <td>9880000.0</td>\n      <td>9880000.0</td>\n      <td>...</td>\n      <td>0.666667</td>\n      <td>0.361111</td>\n      <td>0.361111</td>\n      <td>0.0</td>\n      <td>0.111111</td>\n      <td>0.583333</td>\n      <td>0.055556</td>\n      <td>21.805556</td>\n      <td>82.038217</td>\n      <td>30</td>\n    </tr>\n  </tbody>\n</table>\n<p>8 rows × 45 columns</p>\n</div>"
     },
     "execution_count": 40,
     "metadata": {},
     "output_type": "execute_result"
    }
   ],
   "source": [
    "player_name = 'Son Heung-Min'\n",
    "player_indexes = featuring_df[featuring_df['Name']==player_name].index\n",
    "featuring_df.loc[player_indexes]"
   ],
   "metadata": {
    "collapsed": false,
    "pycharm": {
     "name": "#%%\n"
    }
   }
  },
  {
   "cell_type": "code",
   "execution_count": 41,
   "outputs": [
    {
     "data": {
      "text/plain": "   Position       Min     G   NPG         A        xG      NPxG        xA  \\\n0      -1.0  1.083846  3.25  2.50  2.666667  3.286724  2.527919  3.888446   \n1      -1.0  0.725536  3.75  3.75  2.333333  3.736057  3.786802  2.792829   \n2      -1.0  0.372320  6.25  5.00  2.333333  7.450118  6.497462  1.629482   \n3       0.0  0.664402  0.50  0.50  5.666667  0.531029  0.592217  3.454183   \n4       0.0  0.752706  1.50  0.00  3.333333  2.837392  1.529611  3.298805   \n\n    xGChain  xGBuildup  ...    Rating   Tackles     Inter     Fouls  Offsides  \\\n0  3.708997   3.813268  ...  3.184956 -0.500926 -0.279381 -0.876477 -0.146883   \n1  3.015920   1.665848  ...  2.789225  0.625815  0.302054  0.848437 -0.146883   \n2  3.112181   0.717445  ...  2.411501 -0.564972 -0.460940 -0.455644 -0.146883   \n3  2.401333   3.196560  ...  2.267869  1.188741 -0.183676  0.161680 -0.146883   \n4  2.645687   3.181818  ...  2.216175  0.281899  0.213391 -0.464649 -0.146883   \n\n      Clear   Drb_Def    Blocks      AvgP       PS%  \n0 -0.422861 -0.077473 -0.435176  1.307526  0.702786  \n1 -0.454499  1.546205 -0.512099  0.487102 -0.251182  \n2 -0.508101 -0.233524 -0.512099 -0.352828  0.584803  \n3 -0.110644  2.541597 -0.082235  2.424185  0.546677  \n4 -0.223681  1.401781 -0.117089  1.591149  0.911025  \n\n[5 rows x 27 columns]",
      "text/html": "<div>\n<style scoped>\n    .dataframe tbody tr th:only-of-type {\n        vertical-align: middle;\n    }\n\n    .dataframe tbody tr th {\n        vertical-align: top;\n    }\n\n    .dataframe thead th {\n        text-align: right;\n    }\n</style>\n<table border=\"1\" class=\"dataframe\">\n  <thead>\n    <tr style=\"text-align: right;\">\n      <th></th>\n      <th>Position</th>\n      <th>Min</th>\n      <th>G</th>\n      <th>NPG</th>\n      <th>A</th>\n      <th>xG</th>\n      <th>NPxG</th>\n      <th>xA</th>\n      <th>xGChain</th>\n      <th>xGBuildup</th>\n      <th>...</th>\n      <th>Rating</th>\n      <th>Tackles</th>\n      <th>Inter</th>\n      <th>Fouls</th>\n      <th>Offsides</th>\n      <th>Clear</th>\n      <th>Drb_Def</th>\n      <th>Blocks</th>\n      <th>AvgP</th>\n      <th>PS%</th>\n    </tr>\n  </thead>\n  <tbody>\n    <tr>\n      <th>0</th>\n      <td>-1.0</td>\n      <td>1.083846</td>\n      <td>3.25</td>\n      <td>2.50</td>\n      <td>2.666667</td>\n      <td>3.286724</td>\n      <td>2.527919</td>\n      <td>3.888446</td>\n      <td>3.708997</td>\n      <td>3.813268</td>\n      <td>...</td>\n      <td>3.184956</td>\n      <td>-0.500926</td>\n      <td>-0.279381</td>\n      <td>-0.876477</td>\n      <td>-0.146883</td>\n      <td>-0.422861</td>\n      <td>-0.077473</td>\n      <td>-0.435176</td>\n      <td>1.307526</td>\n      <td>0.702786</td>\n    </tr>\n    <tr>\n      <th>1</th>\n      <td>-1.0</td>\n      <td>0.725536</td>\n      <td>3.75</td>\n      <td>3.75</td>\n      <td>2.333333</td>\n      <td>3.736057</td>\n      <td>3.786802</td>\n      <td>2.792829</td>\n      <td>3.015920</td>\n      <td>1.665848</td>\n      <td>...</td>\n      <td>2.789225</td>\n      <td>0.625815</td>\n      <td>0.302054</td>\n      <td>0.848437</td>\n      <td>-0.146883</td>\n      <td>-0.454499</td>\n      <td>1.546205</td>\n      <td>-0.512099</td>\n      <td>0.487102</td>\n      <td>-0.251182</td>\n    </tr>\n    <tr>\n      <th>2</th>\n      <td>-1.0</td>\n      <td>0.372320</td>\n      <td>6.25</td>\n      <td>5.00</td>\n      <td>2.333333</td>\n      <td>7.450118</td>\n      <td>6.497462</td>\n      <td>1.629482</td>\n      <td>3.112181</td>\n      <td>0.717445</td>\n      <td>...</td>\n      <td>2.411501</td>\n      <td>-0.564972</td>\n      <td>-0.460940</td>\n      <td>-0.455644</td>\n      <td>-0.146883</td>\n      <td>-0.508101</td>\n      <td>-0.233524</td>\n      <td>-0.512099</td>\n      <td>-0.352828</td>\n      <td>0.584803</td>\n    </tr>\n    <tr>\n      <th>3</th>\n      <td>0.0</td>\n      <td>0.664402</td>\n      <td>0.50</td>\n      <td>0.50</td>\n      <td>5.666667</td>\n      <td>0.531029</td>\n      <td>0.592217</td>\n      <td>3.454183</td>\n      <td>2.401333</td>\n      <td>3.196560</td>\n      <td>...</td>\n      <td>2.267869</td>\n      <td>1.188741</td>\n      <td>-0.183676</td>\n      <td>0.161680</td>\n      <td>-0.146883</td>\n      <td>-0.110644</td>\n      <td>2.541597</td>\n      <td>-0.082235</td>\n      <td>2.424185</td>\n      <td>0.546677</td>\n    </tr>\n    <tr>\n      <th>4</th>\n      <td>0.0</td>\n      <td>0.752706</td>\n      <td>1.50</td>\n      <td>0.00</td>\n      <td>3.333333</td>\n      <td>2.837392</td>\n      <td>1.529611</td>\n      <td>3.298805</td>\n      <td>2.645687</td>\n      <td>3.181818</td>\n      <td>...</td>\n      <td>2.216175</td>\n      <td>0.281899</td>\n      <td>0.213391</td>\n      <td>-0.464649</td>\n      <td>-0.146883</td>\n      <td>-0.223681</td>\n      <td>1.401781</td>\n      <td>-0.117089</td>\n      <td>1.591149</td>\n      <td>0.911025</td>\n    </tr>\n  </tbody>\n</table>\n<p>5 rows × 27 columns</p>\n</div>"
     },
     "execution_count": 41,
     "metadata": {},
     "output_type": "execute_result"
    }
   ],
   "source": [
    "from sklearn.preprocessing import RobustScaler\n",
    "scaler = RobustScaler()\n",
    "scalered_data = scaler.fit_transform(featured_df)\n",
    "scalered_df = pd.DataFrame(scalered_data, index=featured_df.index, columns=featured_df.columns)\n",
    "scalered_df.head()"
   ],
   "metadata": {
    "collapsed": false,
    "pycharm": {
     "name": "#%%\n"
    }
   }
  },
  {
   "cell_type": "code",
   "execution_count": 42,
   "outputs": [],
   "source": [
    "from sklearn.metrics.pairwise import cosine_similarity"
   ],
   "metadata": {
    "collapsed": false,
    "pycharm": {
     "name": "#%%\n"
    }
   }
  },
  {
   "cell_type": "code",
   "execution_count": 43,
   "outputs": [
    {
     "data": {
      "text/plain": "array([[0.25057017, 0.67148005, 0.71290327, ..., 0.78546191, 0.77151255,\n        0.73145582],\n       [0.41961204, 0.79853719, 0.81768954, ..., 0.8831722 , 0.87527639,\n        0.83804508],\n       [0.67077459, 0.93321374, 0.95655925, ..., 0.87637023, 0.94138307,\n        0.93128011],\n       ...,\n       [0.72607572, 0.56556047, 0.60477505, ..., 0.49089527, 0.5559761 ,\n        0.58985576],\n       [0.69805163, 0.43350504, 0.41025535, ..., 0.14456382, 0.15582167,\n        0.36209084],\n       [0.54745269, 0.19539523, 0.22899156, ..., 0.05826672, 0.16949483,\n        0.24656676]])"
     },
     "execution_count": 43,
     "metadata": {},
     "output_type": "execute_result"
    }
   ],
   "source": [
    "player_name = 'Son Heung-Min'\n",
    "player_indexes = featuring_df[featuring_df['Name']==player_name].index\n",
    "similarity = cosine_similarity(scalered_df.loc[list(player_indexes)], scalered_df)\n",
    "similarity.T"
   ],
   "metadata": {
    "collapsed": false,
    "pycharm": {
     "name": "#%%\n"
    }
   }
  },
  {
   "cell_type": "code",
   "execution_count": 44,
   "outputs": [
    {
     "data": {
      "text/plain": "                     Name  Birth Year  Age       Team Position  year\n1666  Alexandre Lacazette        1991   26    Arsenal  Forward  2017\n1606        Sergio Aguero        1988   29   Man City  Forward  2017\n2122        Mohamed Salah        1992   26  Liverpool  Forward  2018",
      "text/html": "<div>\n<style scoped>\n    .dataframe tbody tr th:only-of-type {\n        vertical-align: middle;\n    }\n\n    .dataframe tbody tr th {\n        vertical-align: top;\n    }\n\n    .dataframe thead th {\n        text-align: right;\n    }\n</style>\n<table border=\"1\" class=\"dataframe\">\n  <thead>\n    <tr style=\"text-align: right;\">\n      <th></th>\n      <th>Name</th>\n      <th>Birth Year</th>\n      <th>Age</th>\n      <th>Team</th>\n      <th>Position</th>\n      <th>year</th>\n    </tr>\n  </thead>\n  <tbody>\n    <tr>\n      <th>1666</th>\n      <td>Alexandre Lacazette</td>\n      <td>1991</td>\n      <td>26</td>\n      <td>Arsenal</td>\n      <td>Forward</td>\n      <td>2017</td>\n    </tr>\n    <tr>\n      <th>1606</th>\n      <td>Sergio Aguero</td>\n      <td>1988</td>\n      <td>29</td>\n      <td>Man City</td>\n      <td>Forward</td>\n      <td>2017</td>\n    </tr>\n    <tr>\n      <th>2122</th>\n      <td>Mohamed Salah</td>\n      <td>1992</td>\n      <td>26</td>\n      <td>Liverpool</td>\n      <td>Forward</td>\n      <td>2018</td>\n    </tr>\n  </tbody>\n</table>\n</div>"
     },
     "execution_count": 44,
     "metadata": {},
     "output_type": "execute_result"
    }
   ],
   "source": [
    "featuring_df['similarity'] = similarity.sum(axis=0)\n",
    "featuring_df['similarity-rank'] = featuring_df['similarity'].rank(ascending=False)\n",
    "featuring_df = featuring_df[featuring_df['Name']!=player_name].sort_values('similarity-rank')\n",
    "featuring_df[~featuring_df.duplicated(['Name'], keep='first')].iloc[:3, 1:7]"
   ],
   "metadata": {
    "collapsed": false,
    "pycharm": {
     "name": "#%%\n"
    }
   }
  },
  {
   "cell_type": "code",
   "execution_count": 45,
   "outputs": [
    {
     "data": {
      "text/plain": "<Axes: xlabel='xGBuildup', ylabel='Density'>"
     },
     "execution_count": 45,
     "metadata": {},
     "output_type": "execute_result"
    },
    {
     "data": {
      "text/plain": "<Figure size 500x300 with 1 Axes>",
      "image/png": "[encoded data removed]"
     },
     "metadata": {},
     "output_type": "display_data"
    }
   ],
   "source": [
    "plt.figure(figsize=(5,3))\n",
    "sns.kdeplot(scalered_df, x='xGBuildup')"
   ],
   "metadata": {
    "collapsed": false,
    "pycharm": {
     "name": "#%%\n"
    }
   }
  },
  {
   "cell_type": "code",
   "execution_count": 46,
   "outputs": [
    {
     "data": {
      "text/plain": "<Axes: xlabel='xGBuildup', ylabel='Density'>"
     },
     "execution_count": 46,
     "metadata": {},
     "output_type": "execute_result"
    },
    {
     "data": {
      "text/plain": "<Figure size 500x300 with 1 Axes>",
      "image/png": "[encoded data removed]"
     },
     "metadata": {},
     "output_type": "display_data"
    }
   ],
   "source": [
    "plt.figure(figsize=(5,3))\n",
    "sns.kdeplot(eda_df[eda_df['Min']>1000], x='xGBuildup')"
   ],
   "metadata": {
    "collapsed": false,
    "pycharm": {
     "name": "#%%\n"
    }
   }
  },
  {
   "cell_type": "code",
   "execution_count": 47,
   "outputs": [],
   "source": [
    "featuring_df = eda_df[eda_df.Min>1000].copy()\n",
    "featured_df = featuring_df.copy()\n",
    "featured_df.Position = pd.factorize(featuring_df.Position)[0]\n",
    "featured_df = featured_df.drop(\n",
    "            [\n",
    "                'Player Id', 'Name', 'Team', 'Birth Year', 'year',\n",
    "                'Weekly Salary', 'Base Salary', 'ADJ Salary',\n",
    "                'Age', 'Age Lev', 'Apps',\n",
    "                'xG90', 'NPxG90', 'xA90', 'xGChain90', 'xGBuildup90',\n",
    "                'xG90+xA90', 'NPxG90+xA90'\n",
    "            ],\n",
    "            axis=1\n",
    "        )"
   ],
   "metadata": {
    "collapsed": false,
    "pycharm": {
     "name": "#%%\n"
    }
   }
  },
  {
   "cell_type": "code",
   "execution_count": 48,
   "outputs": [
    {
     "data": {
      "text/plain": "   Position       Min     G   NPG         A        xG      NPxG        xA  \\\n0      -1.0  1.083846  3.25  2.50  2.666667  3.286724  2.527919  3.888446   \n1      -1.0  0.725536  3.75  3.75  2.333333  3.736057  3.786802  2.792829   \n2      -1.0  0.372320  6.25  5.00  2.333333  7.450118  6.497462  1.629482   \n3       0.0  0.664402  0.50  0.50  5.666667  0.531029  0.592217  3.454183   \n4       0.0  0.752706  1.50  0.00  3.333333  2.837392  1.529611  3.298805   \n\n    xGChain  xGBuildup  ...    Rating   Tackles     Inter     Fouls  Offsides  \\\n0  3.708997   3.813268  ...  3.184956 -0.500926 -0.279381 -0.876477 -0.146883   \n1  3.015920   1.665848  ...  2.789225  0.625815  0.302054  0.848437 -0.146883   \n2  3.112181   0.717445  ...  2.411501 -0.564972 -0.460940 -0.455644 -0.146883   \n3  2.401333   3.196560  ...  2.267869  1.188741 -0.183676  0.161680 -0.146883   \n4  2.645687   3.181818  ...  2.216175  0.281899  0.213391 -0.464649 -0.146883   \n\n      Clear   Drb_Def    Blocks      AvgP       PS%  \n0 -0.422861 -0.077473 -0.435176  1.307526  0.702786  \n1 -0.454499  1.546205 -0.512099  0.487102 -0.251182  \n2 -0.508101 -0.233524 -0.512099 -0.352828  0.584803  \n3 -0.110644  2.541597 -0.082235  2.424185  0.546677  \n4 -0.223681  1.401781 -0.117089  1.591149  0.911025  \n\n[5 rows x 27 columns]",
      "text/html": "<div>\n<style scoped>\n    .dataframe tbody tr th:only-of-type {\n        vertical-align: middle;\n    }\n\n    .dataframe tbody tr th {\n        vertical-align: top;\n    }\n\n    .dataframe thead th {\n        text-align: right;\n    }\n</style>\n<table border=\"1\" class=\"dataframe\">\n  <thead>\n    <tr style=\"text-align: right;\">\n      <th></th>\n      <th>Position</th>\n      <th>Min</th>\n      <th>G</th>\n      <th>NPG</th>\n      <th>A</th>\n      <th>xG</th>\n      <th>NPxG</th>\n      <th>xA</th>\n      <th>xGChain</th>\n      <th>xGBuildup</th>\n      <th>...</th>\n      <th>Rating</th>\n      <th>Tackles</th>\n      <th>Inter</th>\n      <th>Fouls</th>\n      <th>Offsides</th>\n      <th>Clear</th>\n      <th>Drb_Def</th>\n      <th>Blocks</th>\n      <th>AvgP</th>\n      <th>PS%</th>\n    </tr>\n  </thead>\n  <tbody>\n    <tr>\n      <th>0</th>\n      <td>-1.0</td>\n      <td>1.083846</td>\n      <td>3.25</td>\n      <td>2.50</td>\n      <td>2.666667</td>\n      <td>3.286724</td>\n      <td>2.527919</td>\n      <td>3.888446</td>\n      <td>3.708997</td>\n      <td>3.813268</td>\n      <td>...</td>\n      <td>3.184956</td>\n      <td>-0.500926</td>\n      <td>-0.279381</td>\n      <td>-0.876477</td>\n      <td>-0.146883</td>\n      <td>-0.422861</td>\n      <td>-0.077473</td>\n      <td>-0.435176</td>\n      <td>1.307526</td>\n      <td>0.702786</td>\n    </tr>\n    <tr>\n      <th>1</th>\n      <td>-1.0</td>\n      <td>0.725536</td>\n      <td>3.75</td>\n      <td>3.75</td>\n      <td>2.333333</td>\n      <td>3.736057</td>\n      <td>3.786802</td>\n      <td>2.792829</td>\n      <td>3.015920</td>\n      <td>1.665848</td>\n      <td>...</td>\n      <td>2.789225</td>\n      <td>0.625815</td>\n      <td>0.302054</td>\n      <td>0.848437</td>\n      <td>-0.146883</td>\n      <td>-0.454499</td>\n      <td>1.546205</td>\n      <td>-0.512099</td>\n      <td>0.487102</td>\n      <td>-0.251182</td>\n    </tr>\n    <tr>\n      <th>2</th>\n      <td>-1.0</td>\n      <td>0.372320</td>\n      <td>6.25</td>\n      <td>5.00</td>\n      <td>2.333333</td>\n      <td>7.450118</td>\n      <td>6.497462</td>\n      <td>1.629482</td>\n      <td>3.112181</td>\n      <td>0.717445</td>\n      <td>...</td>\n      <td>2.411501</td>\n      <td>-0.564972</td>\n      <td>-0.460940</td>\n      <td>-0.455644</td>\n      <td>-0.146883</td>\n      <td>-0.508101</td>\n      <td>-0.233524</td>\n      <td>-0.512099</td>\n      <td>-0.352828</td>\n      <td>0.584803</td>\n    </tr>\n    <tr>\n      <th>3</th>\n      <td>0.0</td>\n      <td>0.664402</td>\n      <td>0.50</td>\n      <td>0.50</td>\n      <td>5.666667</td>\n      <td>0.531029</td>\n      <td>0.592217</td>\n      <td>3.454183</td>\n      <td>2.401333</td>\n      <td>3.196560</td>\n      <td>...</td>\n      <td>2.267869</td>\n      <td>1.188741</td>\n      <td>-0.183676</td>\n      <td>0.161680</td>\n      <td>-0.146883</td>\n      <td>-0.110644</td>\n      <td>2.541597</td>\n      <td>-0.082235</td>\n      <td>2.424185</td>\n      <td>0.546677</td>\n    </tr>\n    <tr>\n      <th>4</th>\n      <td>0.0</td>\n      <td>0.752706</td>\n      <td>1.50</td>\n      <td>0.00</td>\n      <td>3.333333</td>\n      <td>2.837392</td>\n      <td>1.529611</td>\n      <td>3.298805</td>\n      <td>2.645687</td>\n      <td>3.181818</td>\n      <td>...</td>\n      <td>2.216175</td>\n      <td>0.281899</td>\n      <td>0.213391</td>\n      <td>-0.464649</td>\n      <td>-0.146883</td>\n      <td>-0.223681</td>\n      <td>1.401781</td>\n      <td>-0.117089</td>\n      <td>1.591149</td>\n      <td>0.911025</td>\n    </tr>\n  </tbody>\n</table>\n<p>5 rows × 27 columns</p>\n</div>"
     },
     "execution_count": 48,
     "metadata": {},
     "output_type": "execute_result"
    }
   ],
   "source": [
    "from sklearn.preprocessing import RobustScaler\n",
    "scaler = RobustScaler()\n",
    "scalered_data = scaler.fit_transform(featured_df)\n",
    "scalered_df = pd.DataFrame(scalered_data, index=featured_df.index, columns=featured_df.columns)\n",
    "scalered_df.head()"
   ],
   "metadata": {
    "collapsed": false,
    "pycharm": {
     "name": "#%%\n"
    }
   }
  },
  {
   "cell_type": "code",
   "execution_count": 49,
   "outputs": [],
   "source": [
    "from sklearn.metrics.pairwise import euclidean_distances"
   ],
   "metadata": {
    "collapsed": false,
    "pycharm": {
     "name": "#%%\n"
    }
   }
  },
  {
   "cell_type": "code",
   "execution_count": 50,
   "outputs": [
    {
     "data": {
      "text/plain": "array([[12.39001479,  9.50850356,  8.98954619, ...,  7.92835215,\n         8.63509021,  8.97482031],\n       [10.84830811,  7.30916511,  6.91374873, ...,  5.61697233,\n         6.20589718,  6.99699418],\n       [13.92730139,  9.16586136,  8.25778546, ...,  8.90858835,\n         5.90717249,  9.66990054],\n       ...,\n       [ 2.5003348 ,  6.61246083,  7.11040712, ...,  8.55384672,\n        11.31540855,  5.9649152 ],\n       [ 3.82013008,  7.33830228,  8.00991433, ..., 10.32292225,\n        13.03381187,  7.27899621],\n       [ 3.42663292,  7.99399091,  8.49746122, ..., 10.11364554,\n        12.65795197,  7.27062282]])"
     },
     "execution_count": 50,
     "metadata": {},
     "output_type": "execute_result"
    }
   ],
   "source": [
    "player_name = 'Son Heung-Min'\n",
    "player_indexes = featuring_df[featuring_df['Name']==player_name].index\n",
    "similarity = euclidean_distances(scalered_df.loc[list(player_indexes)], scalered_df)\n",
    "similarity.T"
   ],
   "metadata": {
    "collapsed": false,
    "pycharm": {
     "name": "#%%\n"
    }
   }
  },
  {
   "cell_type": "code",
   "execution_count": 51,
   "outputs": [
    {
     "data": {
      "text/plain": "                     Name  Birth Year  Age      Team    Position  year\n3678           Phil Foden        2000   21  Man City  Midfielder  2021\n2212      Marcus Rashford        1998   20   Man Utd     Forward  2018\n1666  Alexandre Lacazette        1991   26   Arsenal     Forward  2017",
      "text/html": "<div>\n<style scoped>\n    .dataframe tbody tr th:only-of-type {\n        vertical-align: middle;\n    }\n\n    .dataframe tbody tr th {\n        vertical-align: top;\n    }\n\n    .dataframe thead th {\n        text-align: right;\n    }\n</style>\n<table border=\"1\" class=\"dataframe\">\n  <thead>\n    <tr style=\"text-align: right;\">\n      <th></th>\n      <th>Name</th>\n      <th>Birth Year</th>\n      <th>Age</th>\n      <th>Team</th>\n      <th>Position</th>\n      <th>year</th>\n    </tr>\n  </thead>\n  <tbody>\n    <tr>\n      <th>3678</th>\n      <td>Phil Foden</td>\n      <td>2000</td>\n      <td>21</td>\n      <td>Man City</td>\n      <td>Midfielder</td>\n      <td>2021</td>\n    </tr>\n    <tr>\n      <th>2212</th>\n      <td>Marcus Rashford</td>\n      <td>1998</td>\n      <td>20</td>\n      <td>Man Utd</td>\n      <td>Forward</td>\n      <td>2018</td>\n    </tr>\n    <tr>\n      <th>1666</th>\n      <td>Alexandre Lacazette</td>\n      <td>1991</td>\n      <td>26</td>\n      <td>Arsenal</td>\n      <td>Forward</td>\n      <td>2017</td>\n    </tr>\n  </tbody>\n</table>\n</div>"
     },
     "execution_count": 51,
     "metadata": {},
     "output_type": "execute_result"
    }
   ],
   "source": [
    "featuring_df['similarity'] = similarity.sum(axis=0)\n",
    "featuring_df['similarity-rank'] = featuring_df['similarity'].rank(ascending=True)\n",
    "featuring_df = featuring_df[featuring_df['Name']!=player_name].sort_values('similarity-rank')\n",
    "featuring_df[~featuring_df.duplicated(['Name'], keep='first')].iloc[:3, 1:7]"
   ],
   "metadata": {
    "collapsed": false,
    "pycharm": {
     "name": "#%%\n"
    }
   }
  },
  {
   "cell_type": "code",
   "execution_count": 52,
   "outputs": [
    {
     "data": {
      "text/plain": "array([12.39001479, 10.84830811, 13.92730139, ...,  2.5003348 ,\n        3.82013008,  3.42663292])"
     },
     "execution_count": 52,
     "metadata": {},
     "output_type": "execute_result"
    }
   ],
   "source": [
    "similarity[0]"
   ],
   "metadata": {
    "collapsed": false,
    "pycharm": {
     "name": "#%%\n"
    }
   }
  },
  {
   "cell_type": "code",
   "execution_count": 53,
   "outputs": [
    {
     "data": {
      "text/plain": "array([74.19800857, 57.12601861, 73.93192276, ..., 56.04696365,\n       65.64749056, 66.98807427])"
     },
     "execution_count": 53,
     "metadata": {},
     "output_type": "execute_result"
    }
   ],
   "source": [
    "similarity.sum(axis=0)"
   ],
   "metadata": {
    "collapsed": false,
    "pycharm": {
     "name": "#%%\n"
    }
   }
  },
  {
   "cell_type": "code",
   "execution_count": 57,
   "outputs": [
    {
     "data": {
      "text/plain": "Index(['Player Id', 'Name', 'Birth Year', 'Age', 'Team', 'Position', 'year',\n       'Weekly Salary', 'Base Salary', 'ADJ Salary', 'Apps', 'Min', 'G', 'NPG',\n       'A', 'xG', 'NPxG', 'xA', 'xGChain', 'xGBuildup', 'xG90', 'NPxG90',\n       'xA90', 'xG90+xA90', 'NPxG90+xA90', 'xGChain90', 'xGBuildup90', 'SpG',\n       'KeyP', 'Drb_Off', 'Fouled', 'Off', 'Disp', 'UnsTch', 'Rating',\n       'Tackles', 'Inter', 'Fouls', 'Offsides', 'Clear', 'Drb_Def', 'Blocks',\n       'AvgP', 'PS%', 'Age Lev'],\n      dtype='object')"
     },
     "execution_count": 57,
     "metadata": {},
     "output_type": "execute_result"
    }
   ],
   "source": [
    "eda_df.columns"
   ],
   "metadata": {
    "collapsed": false,
    "pycharm": {
     "name": "#%%\n"
    }
   }
  },
  {
   "cell_type": "code",
   "execution_count": 55,
   "outputs": [
    {
     "name": "stdout",
     "output_type": "stream",
     "text": [
      "<class 'pandas.core.frame.DataFrame'>\n",
      "Int64Index: 4588 entries, 0 to 4754\n",
      "Data columns (total 45 columns):\n",
      " #   Column         Non-Null Count  Dtype   \n",
      "---  ------         --------------  -----   \n",
      " 0   Player Id      4588 non-null   int64   \n",
      " 1   Name           4588 non-null   object  \n",
      " 2   Birth Year     4588 non-null   int64   \n",
      " 3   Age            4588 non-null   int64   \n",
      " 4   Team           4588 non-null   object  \n",
      " 5   Position       4588 non-null   object  \n",
      " 6   year           4588 non-null   int64   \n",
      " 7   Weekly Salary  4588 non-null   float64 \n",
      " 8   Base Salary    4588 non-null   float64 \n",
      " 9   ADJ Salary     4588 non-null   float64 \n",
      " 10  Apps           4588 non-null   float64 \n",
      " 11  Min            4588 non-null   float64 \n",
      " 12  G              4588 non-null   float64 \n",
      " 13  NPG            4588 non-null   float64 \n",
      " 14  A              4588 non-null   float64 \n",
      " 15  xG             4588 non-null   float64 \n",
      " 16  NPxG           4588 non-null   float64 \n",
      " 17  xA             4588 non-null   float64 \n",
      " 18  xGChain        4588 non-null   float64 \n",
      " 19  xGBuildup      4588 non-null   float64 \n",
      " 20  xG90           4588 non-null   float64 \n",
      " 21  NPxG90         4588 non-null   float64 \n",
      " 22  xA90           4588 non-null   float64 \n",
      " 23  xG90+xA90      4588 non-null   float64 \n",
      " 24  NPxG90+xA90    4588 non-null   float64 \n",
      " 25  xGChain90      4588 non-null   float64 \n",
      " 26  xGBuildup90    4588 non-null   float64 \n",
      " 27  SpG            4588 non-null   float64 \n",
      " 28  KeyP           4588 non-null   float64 \n",
      " 29  Drb_Off        4588 non-null   float64 \n",
      " 30  Fouled         4588 non-null   float64 \n",
      " 31  Off            4588 non-null   float64 \n",
      " 32  Disp           4588 non-null   float64 \n",
      " 33  UnsTch         4588 non-null   float64 \n",
      " 34  Rating         4588 non-null   float64 \n",
      " 35  Tackles        4588 non-null   float64 \n",
      " 36  Inter          4588 non-null   float64 \n",
      " 37  Fouls          4588 non-null   float64 \n",
      " 38  Offsides       4588 non-null   float64 \n",
      " 39  Clear          4588 non-null   float64 \n",
      " 40  Drb_Def        4588 non-null   float64 \n",
      " 41  Blocks         4588 non-null   float64 \n",
      " 42  AvgP           4588 non-null   float64 \n",
      " 43  PS%            4588 non-null   float64 \n",
      " 44  Age Lev        4588 non-null   category\n",
      "dtypes: category(1), float64(37), int64(4), object(3)\n",
      "memory usage: 1.6+ MB\n"
     ]
    }
   ],
   "source": [
    "eda_df.info()"
   ],
   "metadata": {
    "collapsed": false,
    "pycharm": {
     "name": "#%%\n"
    }
   }
  },
  {
   "cell_type": "code",
   "execution_count": 63,
   "outputs": [
    {
     "data": {
      "text/plain": "1641"
     },
     "execution_count": 63,
     "metadata": {},
     "output_type": "execute_result"
    }
   ],
   "source": [
    "(~eda_df.duplicated(['Name'], keep='first')).sum()"
   ],
   "metadata": {
    "collapsed": false,
    "pycharm": {
     "name": "#%%\n"
    }
   }
  },
  {
   "cell_type": "code",
   "execution_count": 64,
   "outputs": [
    {
     "data": {
      "text/plain": "33"
     },
     "execution_count": 64,
     "metadata": {},
     "output_type": "execute_result"
    }
   ],
   "source": [
    "(~eda_df.duplicated(['Team'], keep='first')).sum()"
   ],
   "metadata": {
    "collapsed": false,
    "pycharm": {
     "name": "#%%\n"
    }
   }
  },
  {
   "cell_type": "code",
   "execution_count": 67,
   "outputs": [
    {
     "data": {
      "text/plain": "['Chelsea',\n 'Arsenal',\n 'Man City',\n 'Crystal Palace',\n 'Man Utd',\n 'Southampton',\n 'Stoke',\n 'Leicester',\n 'West Ham',\n 'Tottenham',\n 'WBA',\n 'Newcastle',\n 'Liverpool',\n 'Hull',\n 'QPR',\n 'Everton',\n 'Burnley',\n 'Swansea',\n 'Sunderland',\n 'Aston Villa',\n 'Watford',\n 'Norwich',\n 'Bournemouth',\n 'Middlesbrough',\n 'Brighton',\n 'Huddersfield',\n 'Wolves',\n 'Cardiff',\n 'Fulham',\n 'Sheff Utd',\n 'Leeds',\n 'Brentford',\n 'Nottingham Forest']"
     },
     "execution_count": 67,
     "metadata": {},
     "output_type": "execute_result"
    }
   ],
   "source": [
    "list(eda_df[(~eda_df.duplicated(['Team'], keep='first'))]['Team'])"
   ],
   "metadata": {
    "collapsed": false,
    "pycharm": {
     "name": "#%%\n"
    }
   }
  },
  {
   "cell_type": "code",
   "execution_count": null,
   "outputs": [],
   "source": [],
   "metadata": {
    "collapsed": false,
    "pycharm": {
     "name": "#%%\n"
    }
   }
  }
 ],
 "metadata": {
  "kernelspec": {
   "display_name": "Python 3",
   "language": "python",
   "name": "python3"
  },
  "language_info": {
   "codemirror_mode": {
    "name": "ipython",
    "version": 2
   },
   "file_extension": ".py",
   "mimetype": "text/x-python",
   "name": "python",
   "nbconvert_exporter": "python",
   "pygments_lexer": "ipython2",
   "version": "2.7.6"
  }
 },
 "nbformat": 4,
 "nbformat_minor": 0
}