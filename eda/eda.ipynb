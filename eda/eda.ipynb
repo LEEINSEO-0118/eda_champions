{
 "cells": [
  {
   "cell_type": "code",
   "execution_count": 2,
   "metadata": {
    "collapsed": true
   },
   "outputs": [],
   "source": [
    "import pandas as pd\n",
    "import numpy as np\n",
    "import matplotlib.pyplot as plt\n",
    "import seaborn as sns"
   ]
  },
  {
   "cell_type": "code",
   "execution_count": 3,
   "outputs": [
    {
     "name": "stdout",
     "output_type": "stream",
     "text": [
      "<class 'pandas.core.frame.DataFrame'>\n",
      "RangeIndex: 4742 entries, 0 to 4741\n",
      "Data columns (total 7 columns):\n",
      " #   Column    Non-Null Count  Dtype \n",
      "---  ------    --------------  ----- \n",
      " 0   Id        4742 non-null   int64 \n",
      " 1   No.       4742 non-null   int64 \n",
      " 2   Name      4742 non-null   object\n",
      " 3   Age       4742 non-null   int64 \n",
      " 4   Team      4742 non-null   object\n",
      " 5   Position  4742 non-null   object\n",
      " 6   year      4742 non-null   int64 \n",
      "dtypes: int64(4), object(3)\n",
      "memory usage: 259.5+ KB\n"
     ]
    }
   ],
   "source": [
    "player_df = pd.read_csv('../data/new/players_all.csv')\n",
    "player_df.info()"
   ],
   "metadata": {
    "collapsed": false,
    "pycharm": {
     "name": "#%%\n"
    }
   }
  },
  {
   "cell_type": "code",
   "execution_count": 4,
   "outputs": [
    {
     "name": "stdout",
     "output_type": "stream",
     "text": [
      "<class 'pandas.core.frame.DataFrame'>\n",
      "RangeIndex: 4756 entries, 0 to 4755\n",
      "Data columns (total 21 columns):\n",
      " #   Column    Non-Null Count  Dtype  \n",
      "---  ------    --------------  -----  \n",
      " 0   Name      4756 non-null   object \n",
      " 1   Apps      4756 non-null   int64  \n",
      " 2   Mins      4756 non-null   int64  \n",
      " 3   Goals     4756 non-null   int64  \n",
      " 4   Assists   4756 non-null   int64  \n",
      " 5   SpG       4756 non-null   float64\n",
      " 6   KeyP      4756 non-null   float64\n",
      " 7   Drb_x     4756 non-null   float64\n",
      " 8   Fouled    4756 non-null   float64\n",
      " 9   Off       4756 non-null   float64\n",
      " 10  Disp      4756 non-null   float64\n",
      " 11  UnsTch    4756 non-null   float64\n",
      " 12  Rating    4756 non-null   float64\n",
      " 13  Tackles   4756 non-null   float64\n",
      " 14  Inter     4756 non-null   float64\n",
      " 15  Fouls     4756 non-null   float64\n",
      " 16  Offsides  4756 non-null   float64\n",
      " 17  Clear     4756 non-null   float64\n",
      " 18  Drb_y     4756 non-null   float64\n",
      " 19  Blocks    4756 non-null   float64\n",
      " 20  year      4756 non-null   int64  \n",
      "dtypes: float64(15), int64(5), object(1)\n",
      "memory usage: 780.4+ KB\n"
     ]
    }
   ],
   "source": [
    "stats1_df = pd.read_csv('../data/new/1xbet_all.csv')\n",
    "stats1_df = stats1_df.drop(['Team','Age','Position'], axis=1)\n",
    "stats1_df.info()"
   ],
   "metadata": {
    "collapsed": false,
    "pycharm": {
     "name": "#%%\n"
    }
   }
  },
  {
   "cell_type": "code",
   "execution_count": 5,
   "outputs": [
    {
     "name": "stdout",
     "output_type": "stream",
     "text": [
      "<class 'pandas.core.frame.DataFrame'>\n",
      "RangeIndex: 4755 entries, 0 to 4754\n",
      "Data columns (total 19 columns):\n",
      " #   Column       Non-Null Count  Dtype  \n",
      "---  ------       --------------  -----  \n",
      " 0   Player       4755 non-null   object \n",
      " 1   Apps         4755 non-null   int64  \n",
      " 2   Min          4755 non-null   int64  \n",
      " 3   G            4755 non-null   int64  \n",
      " 4   NPG          4755 non-null   int64  \n",
      " 5   A            4755 non-null   int64  \n",
      " 6   xG           4755 non-null   float64\n",
      " 7   NPxG         4755 non-null   float64\n",
      " 8   xA           4755 non-null   float64\n",
      " 9   xGChain      4755 non-null   float64\n",
      " 10  xGBuildup    4755 non-null   float64\n",
      " 11  xG90         4755 non-null   float64\n",
      " 12  NPxG90       4755 non-null   float64\n",
      " 13  xA90         4755 non-null   float64\n",
      " 14  xG90+xA90    4755 non-null   float64\n",
      " 15  NPxG90+xA90  4755 non-null   float64\n",
      " 16  xGChain90    4755 non-null   float64\n",
      " 17  xGBuildup90  4755 non-null   float64\n",
      " 18  year         4755 non-null   int64  \n",
      "dtypes: float64(12), int64(6), object(1)\n",
      "memory usage: 705.9+ KB\n"
     ]
    }
   ],
   "source": [
    "stats2_df = pd.read_csv('../data/new/understat_all.csv')\n",
    "stats2_df = stats2_df.drop(['No','Team'], axis=1)\n",
    "stats2_df.info()"
   ],
   "metadata": {
    "collapsed": false,
    "pycharm": {
     "name": "#%%\n"
    }
   }
  },
  {
   "cell_type": "code",
   "execution_count": 6,
   "outputs": [
    {
     "name": "stdout",
     "output_type": "stream",
     "text": [
      "<class 'pandas.core.frame.DataFrame'>\n",
      "RangeIndex: 4803 entries, 0 to 4802\n",
      "Data columns (total 4 columns):\n",
      " #   Column         Non-Null Count  Dtype  \n",
      "---  ------         --------------  -----  \n",
      " 0   Rank           4803 non-null   float64\n",
      " 1   Name           4803 non-null   object \n",
      " 2   Weekly Salary  4803 non-null   int64  \n",
      " 3   year           4803 non-null   int64  \n",
      "dtypes: float64(1), int64(2), object(1)\n",
      "memory usage: 150.2+ KB\n"
     ]
    }
   ],
   "source": [
    "salary_df = pd.read_csv('../data/new/salary_all.csv')\n",
    "salary_df = salary_df.drop(['Position', 'Team'], axis=1)\n",
    "salary_df.info()"
   ],
   "metadata": {
    "collapsed": false,
    "pycharm": {
     "name": "#%%\n"
    }
   }
  },
  {
   "cell_type": "code",
   "execution_count": 10,
   "outputs": [
    {
     "name": "stdout",
     "output_type": "stream",
     "text": [
      "<class 'pandas.core.frame.DataFrame'>\n",
      "RangeIndex: 6486 entries, 0 to 6485\n",
      "Data columns (total 8 columns):\n",
      " #   Column         Non-Null Count  Dtype  \n",
      "---  ------         --------------  -----  \n",
      " 0   Id             4763 non-null   float64\n",
      " 1   No.            4763 non-null   float64\n",
      " 2   Name           6486 non-null   object \n",
      " 3   Age            4763 non-null   float64\n",
      " 4   Team           4763 non-null   object \n",
      " 5   Position       4763 non-null   object \n",
      " 6   year           6486 non-null   int64  \n",
      " 7   Weekly Salary  4856 non-null   float64\n",
      "dtypes: float64(4), int64(1), object(3)\n",
      "memory usage: 405.5+ KB\n"
     ]
    }
   ],
   "source": [
    "# player_df, salary_df, stats1_df, stats2_df\n",
    "eda_df = player_df.merge(salary_df[['Weekly Salary','Name', 'year']], how='outer', left_on=['Name', 'year'], right_on=['Name', 'year'])\n",
    "eda_df.info()"
   ],
   "metadata": {
    "collapsed": false,
    "pycharm": {
     "name": "#%%\n"
    }
   }
  },
  {
   "cell_type": "code",
   "execution_count": 15,
   "outputs": [
    {
     "data": {
      "text/plain": "Id               1723\nNo.              1723\nName                0\nAge              1723\nTeam             1723\nPosition         1723\nyear                0\nWeekly Salary    1630\ndtype: int64"
     },
     "execution_count": 15,
     "metadata": {},
     "output_type": "execute_result"
    }
   ],
   "source": [
    "eda_df.isnull().sum(axis=0)"
   ],
   "metadata": {
    "collapsed": false,
    "pycharm": {
     "name": "#%%\n"
    }
   }
  },
  {
   "cell_type": "code",
   "execution_count": 16,
   "outputs": [
    {
     "data": {
      "text/plain": "Id               0.265649\nNo.              0.265649\nName             0.000000\nAge              0.265649\nTeam             0.265649\nPosition         0.265649\nyear             0.000000\nWeekly Salary    0.251311\ndtype: float64"
     },
     "execution_count": 16,
     "metadata": {},
     "output_type": "execute_result"
    }
   ],
   "source": [
    "eda_df.isnull().mean()"
   ],
   "metadata": {
    "collapsed": false,
    "pycharm": {
     "name": "#%%\n"
    }
   }
  },
  {
   "cell_type": "code",
   "execution_count": 18,
   "outputs": [
    {
     "data": {
      "text/plain": "year\n2014    456\n2015    443\n2016    379\n2017    300\n2018    283\n2019    387\n2020    379\n2021    361\n2022    365\nName: Name, dtype: int64"
     },
     "execution_count": 18,
     "metadata": {},
     "output_type": "execute_result"
    }
   ],
   "source": [
    "na_list = eda_df.loc[eda_df.isnull().any(axis=1)].loc[:, ['Name','year']]\n",
    "na_list.groupby('year')['Name'].count()"
   ],
   "metadata": {
    "collapsed": false,
    "pycharm": {
     "name": "#%%\n"
    }
   }
  },
  {
   "cell_type": "code",
   "execution_count": 19,
   "outputs": [
    {
     "data": {
      "text/plain": "year\n2014    535\n2015    547\n2016    529\n2017    516\n2018    497\n2019    511\n2020    519\n2021    533\n2022    555\nName: Name, dtype: int64"
     },
     "execution_count": 19,
     "metadata": {},
     "output_type": "execute_result"
    }
   ],
   "source": [
    "player_df.groupby('year')['Name'].count()"
   ],
   "metadata": {
    "collapsed": false,
    "pycharm": {
     "name": "#%%\n"
    }
   }
  },
  {
   "cell_type": "code",
   "execution_count": 22,
   "outputs": [
    {
     "data": {
      "text/plain": "Index([   5,    6,    7,   12,   13,   15,   18,   19,   20,   21,\n       ...\n       6476, 6477, 6478, 6479, 6480, 6481, 6482, 6483, 6484, 6485],\n      dtype='int64', length=3353)"
     },
     "execution_count": 22,
     "metadata": {},
     "output_type": "execute_result"
    }
   ],
   "source": [
    "na_list.index"
   ],
   "metadata": {
    "collapsed": false,
    "pycharm": {
     "name": "#%%\n"
    }
   }
  },
  {
   "cell_type": "code",
   "execution_count": 32,
   "outputs": [
    {
     "data": {
      "text/plain": "       Id     No.                 Name   Age            Team    Position  \\\n5     5.0  1185.0         Mile Jedinak  30.0  Crystal Palace  Midfielder   \n6     6.0  1333.0           Phil Jones  22.0         Man Utd    Defender   \n7     7.0  1201.0  Morgan Schneiderlin  24.0     Southampton  Midfielder   \n12   12.0  1391.0          Robert Huth  30.0       Leicester    Defender   \n13  498.0  1391.0          Robert Huth  30.0           Stoke    Defender   \n\n    year  Weekly Salary  \n5   2014            NaN  \n6   2014            NaN  \n7   2014            NaN  \n12  2014            NaN  \n13  2014            NaN  ",
      "text/html": "<div>\n<style scoped>\n    .dataframe tbody tr th:only-of-type {\n        vertical-align: middle;\n    }\n\n    .dataframe tbody tr th {\n        vertical-align: top;\n    }\n\n    .dataframe thead th {\n        text-align: right;\n    }\n</style>\n<table border=\"1\" class=\"dataframe\">\n  <thead>\n    <tr style=\"text-align: right;\">\n      <th></th>\n      <th>Id</th>\n      <th>No.</th>\n      <th>Name</th>\n      <th>Age</th>\n      <th>Team</th>\n      <th>Position</th>\n      <th>year</th>\n      <th>Weekly Salary</th>\n    </tr>\n  </thead>\n  <tbody>\n    <tr>\n      <th>5</th>\n      <td>5.0</td>\n      <td>1185.0</td>\n      <td>Mile Jedinak</td>\n      <td>30.0</td>\n      <td>Crystal Palace</td>\n      <td>Midfielder</td>\n      <td>2014</td>\n      <td>NaN</td>\n    </tr>\n    <tr>\n      <th>6</th>\n      <td>6.0</td>\n      <td>1333.0</td>\n      <td>Phil Jones</td>\n      <td>22.0</td>\n      <td>Man Utd</td>\n      <td>Defender</td>\n      <td>2014</td>\n      <td>NaN</td>\n    </tr>\n    <tr>\n      <th>7</th>\n      <td>7.0</td>\n      <td>1201.0</td>\n      <td>Morgan Schneiderlin</td>\n      <td>24.0</td>\n      <td>Southampton</td>\n      <td>Midfielder</td>\n      <td>2014</td>\n      <td>NaN</td>\n    </tr>\n    <tr>\n      <th>12</th>\n      <td>12.0</td>\n      <td>1391.0</td>\n      <td>Robert Huth</td>\n      <td>30.0</td>\n      <td>Leicester</td>\n      <td>Defender</td>\n      <td>2014</td>\n      <td>NaN</td>\n    </tr>\n    <tr>\n      <th>13</th>\n      <td>498.0</td>\n      <td>1391.0</td>\n      <td>Robert Huth</td>\n      <td>30.0</td>\n      <td>Stoke</td>\n      <td>Defender</td>\n      <td>2014</td>\n      <td>NaN</td>\n    </tr>\n  </tbody>\n</table>\n</div>"
     },
     "execution_count": 32,
     "metadata": {},
     "output_type": "execute_result"
    }
   ],
   "source": [
    "eda_df[eda_df['Weekly Salary'].isnull()].head()"
   ],
   "metadata": {
    "collapsed": false,
    "pycharm": {
     "name": "#%%\n"
    }
   }
  },
  {
   "cell_type": "code",
   "execution_count": null,
   "outputs": [],
   "source": [],
   "metadata": {
    "collapsed": false,
    "pycharm": {
     "name": "#%%\n"
    }
   }
  },
  {
   "cell_type": "code",
   "execution_count": null,
   "outputs": [],
   "source": [],
   "metadata": {
    "collapsed": false,
    "pycharm": {
     "name": "#%%\n"
    }
   }
  },
  {
   "cell_type": "code",
   "execution_count": null,
   "outputs": [],
   "source": [],
   "metadata": {
    "collapsed": false,
    "pycharm": {
     "name": "#%%\n"
    }
   }
  },
  {
   "cell_type": "code",
   "execution_count": null,
   "outputs": [],
   "source": [],
   "metadata": {
    "collapsed": false,
    "pycharm": {
     "name": "#%%\n"
    }
   }
  },
  {
   "cell_type": "code",
   "execution_count": null,
   "outputs": [],
   "source": [],
   "metadata": {
    "collapsed": false,
    "pycharm": {
     "name": "#%%\n"
    }
   }
  },
  {
   "cell_type": "code",
   "execution_count": null,
   "outputs": [],
   "source": [],
   "metadata": {
    "collapsed": false,
    "pycharm": {
     "name": "#%%\n"
    }
   }
  },
  {
   "cell_type": "code",
   "execution_count": null,
   "outputs": [],
   "source": [],
   "metadata": {
    "collapsed": false,
    "pycharm": {
     "name": "#%%\n"
    }
   }
  },
  {
   "cell_type": "code",
   "execution_count": null,
   "outputs": [],
   "source": [],
   "metadata": {
    "collapsed": false,
    "pycharm": {
     "name": "#%%\n"
    }
   }
  },
  {
   "cell_type": "code",
   "execution_count": null,
   "outputs": [],
   "source": [],
   "metadata": {
    "collapsed": false,
    "pycharm": {
     "name": "#%%\n"
    }
   }
  },
  {
   "cell_type": "code",
   "execution_count": null,
   "outputs": [],
   "source": [],
   "metadata": {
    "collapsed": false,
    "pycharm": {
     "name": "#%%\n"
    }
   }
  },
  {
   "cell_type": "code",
   "execution_count": null,
   "outputs": [],
   "source": [],
   "metadata": {
    "collapsed": false,
    "pycharm": {
     "name": "#%%\n"
    }
   }
  },
  {
   "cell_type": "code",
   "execution_count": null,
   "outputs": [],
   "source": [],
   "metadata": {
    "collapsed": false,
    "pycharm": {
     "name": "#%%\n"
    }
   }
  }
 ],
 "metadata": {
  "kernelspec": {
   "display_name": "Python 3",
   "language": "python",
   "name": "python3"
  },
  "language_info": {
   "codemirror_mode": {
    "name": "ipython",
    "version": 2
   },
   "file_extension": ".py",
   "mimetype": "text/x-python",
   "name": "python",
   "nbconvert_exporter": "python",
   "pygments_lexer": "ipython2",
   "version": "2.7.6"
  }
 },
 "nbformat": 4,
 "nbformat_minor": 0
}