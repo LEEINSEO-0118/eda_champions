{
 "cells": [
  {
   "cell_type": "code",
   "execution_count": 1,
   "metadata": {
    "collapsed": true
   },
   "outputs": [],
   "source": [
    "import pandas as pd\n",
    "import numpy as np\n",
    "import matplotlib.pyplot as plt\n",
    "import seaborn as sns"
   ]
  },
  {
   "cell_type": "code",
   "execution_count": 2,
   "outputs": [],
   "source": [
    "# plyaer data load 및 정리(프로필)\n",
    "player_df = pd.read_csv('../data/new/players_all.csv')\n",
    "player_df = player_df.rename(columns={'Unnamed: 0':'Id'}).drop(['No.', 'Id'], axis=1)"
   ],
   "metadata": {
    "collapsed": false,
    "pycharm": {
     "name": "#%%\n"
    }
   }
  },
  {
   "cell_type": "code",
   "execution_count": 3,
   "outputs": [],
   "source": [
    "# 1xbet data load 및 정리(스텟)\n",
    "xbet_df = pd.read_csv('../data/new/1xbet_all.csv')\n",
    "xbet_df = xbet_df.drop(['Team','Age','Position'], axis=1).rename(columns={'Drb_x':'Drb_Off', 'Drb_y':'Drb_Def'})"
   ],
   "metadata": {
    "collapsed": false,
    "pycharm": {
     "name": "#%%\n"
    }
   }
  },
  {
   "cell_type": "code",
   "execution_count": 4,
   "outputs": [],
   "source": [
    "# understat data load 및 정리(스텟)\n",
    "understat_df = pd.read_csv('../data/new/understat_all.csv')\n",
    "understat_df = understat_df.drop(['No','Team'], axis=1)"
   ],
   "metadata": {
    "collapsed": false,
    "pycharm": {
     "name": "#%%\n"
    }
   }
  },
  {
   "cell_type": "code",
   "execution_count": 5,
   "outputs": [],
   "source": [
    "# capology load(연봉)\n",
    "capology_df = pd.read_csv('../data/new/capology_all.csv')"
   ],
   "metadata": {
    "collapsed": false,
    "pycharm": {
     "name": "#%%\n"
    }
   }
  },
  {
   "cell_type": "code",
   "execution_count": 6,
   "outputs": [],
   "source": [
    "# 프로필 + 연봉\n",
    "eda_df = player_df.merge(capology_df[['Weekly Salary','Base Salary','ADJ Salary','Name', 'year']], how='left', left_on=['Name', 'year'], right_on=['Name', 'year'])\n",
    "eda_df = eda_df[~eda_df.duplicated(['year', 'Name'], keep='first')] # 중복 제거"
   ],
   "metadata": {
    "collapsed": false,
    "pycharm": {
     "name": "#%%\n"
    }
   }
  },
  {
   "cell_type": "code",
   "execution_count": 7,
   "outputs": [],
   "source": [
    "# 프로필 + 연봉 + 스텟(understat)\n",
    "eda_df = eda_df.merge(understat_df, how='left', left_on=['Name', 'year'], right_on=['Name', 'year'])"
   ],
   "metadata": {
    "collapsed": false,
    "pycharm": {
     "name": "#%%\n"
    }
   }
  },
  {
   "cell_type": "code",
   "execution_count": 8,
   "outputs": [],
   "source": [
    "# 프로필 + 연봉 + 스텟(understat) + 스텟(1xbet)\n",
    "eda_df = eda_df.merge(\n",
    "    xbet_df[[\n",
    "        'Name', 'year', 'SpG', 'KeyP', 'Drb_Off', 'Fouled', 'Off',\n",
    "        'Disp', 'UnsTch', 'Rating', 'Tackles', 'Inter','Fouls',\n",
    "        'Offsides', 'Clear', 'Drb_Def', 'Blocks', 'AvgP', 'PS%']],\n",
    "    how='left',\n",
    "    left_on=['Name', 'year'],\n",
    "    right_on=['Name', 'year']\n",
    ")"
   ],
   "metadata": {
    "collapsed": false,
    "pycharm": {
     "name": "#%%\n"
    }
   }
  },
  {
   "cell_type": "code",
   "execution_count": 9,
   "outputs": [
    {
     "name": "stdout",
     "output_type": "stream",
     "text": [
      "<class 'pandas.core.frame.DataFrame'>\n",
      "Int64Index: 4756 entries, 0 to 4755\n",
      "Data columns (total 42 columns):\n",
      " #   Column         Non-Null Count  Dtype  \n",
      "---  ------         --------------  -----  \n",
      " 0   year           4756 non-null   int64  \n",
      " 1   Name           4756 non-null   object \n",
      " 2   Age            4756 non-null   int64  \n",
      " 3   Team           4756 non-null   object \n",
      " 4   Position       4756 non-null   object \n",
      " 5   Weekly Salary  4598 non-null   float64\n",
      " 6   Base Salary    4598 non-null   float64\n",
      " 7   ADJ Salary     4598 non-null   float64\n",
      " 8   Apps           4744 non-null   float64\n",
      " 9   Min            4744 non-null   float64\n",
      " 10  G              4744 non-null   float64\n",
      " 11  NPG            4744 non-null   float64\n",
      " 12  A              4744 non-null   float64\n",
      " 13  xG             4744 non-null   float64\n",
      " 14  NPxG           4744 non-null   float64\n",
      " 15  xA             4744 non-null   float64\n",
      " 16  xGChain        4744 non-null   float64\n",
      " 17  xGBuildup      4744 non-null   float64\n",
      " 18  xG90           4744 non-null   float64\n",
      " 19  NPxG90         4744 non-null   float64\n",
      " 20  xA90           4744 non-null   float64\n",
      " 21  xG90+xA90      4744 non-null   float64\n",
      " 22  NPxG90+xA90    4744 non-null   float64\n",
      " 23  xGChain90      4744 non-null   float64\n",
      " 24  xGBuildup90    4744 non-null   float64\n",
      " 25  SpG            4756 non-null   float64\n",
      " 26  KeyP           4756 non-null   float64\n",
      " 27  Drb_Off        4756 non-null   float64\n",
      " 28  Fouled         4756 non-null   float64\n",
      " 29  Off            4756 non-null   float64\n",
      " 30  Disp           4756 non-null   float64\n",
      " 31  UnsTch         4756 non-null   float64\n",
      " 32  Rating         4756 non-null   float64\n",
      " 33  Tackles        4756 non-null   float64\n",
      " 34  Inter          4756 non-null   float64\n",
      " 35  Fouls          4756 non-null   float64\n",
      " 36  Offsides       4756 non-null   float64\n",
      " 37  Clear          4756 non-null   float64\n",
      " 38  Drb_Def        4756 non-null   float64\n",
      " 39  Blocks         4756 non-null   float64\n",
      " 40  AvgP           4756 non-null   float64\n",
      " 41  PS%            4756 non-null   float64\n",
      "dtypes: float64(37), int64(2), object(3)\n",
      "memory usage: 1.6+ MB\n"
     ]
    }
   ],
   "source": [
    "eda_df.info()"
   ],
   "metadata": {
    "collapsed": false,
    "pycharm": {
     "name": "#%%\n"
    }
   }
  },
  {
   "cell_type": "code",
   "execution_count": 10,
   "outputs": [],
   "source": [
    "eda_df = eda_df.dropna()"
   ],
   "metadata": {
    "collapsed": false,
    "pycharm": {
     "name": "#%%\n"
    }
   }
  },
  {
   "cell_type": "code",
   "execution_count": 12,
   "outputs": [
    {
     "data": {
      "text/plain": "          year      Age  Weekly Salary  Base Salary   ADJ Salary     Apps  \\\ncount  4588.00  4588.00        4588.00      4588.00      4588.00  4588.00   \nmean   2017.93    25.91       53921.12   2803898.52   3076834.48    20.58   \nstd       2.60     4.21       52782.05   2744666.44   2942732.53    11.49   \nmin    2014.00    15.00           0.00         0.00         0.00     1.00   \n25%    2016.00    23.00       20000.00   1040000.00   1252784.00    11.00   \n50%    2018.00    26.00       40000.00   2080000.00   2301310.00    22.00   \n75%    2020.00    29.00       70000.00   3640000.00   4071549.00    31.00   \nmax    2022.00    41.00      600000.00  31200000.00  33671679.00    38.00   \n\n           Min        G      NPG        A  ...   Rating  Tackles    Inter  \\\ncount  4588.00  4588.00  4588.00  4588.00  ...  4588.00  4588.00  4588.00   \nmean   1466.58     1.96     1.81     1.39  ...     6.65     1.12     0.78   \nstd    1032.21     3.52     3.18     2.19  ...     0.36     0.84     0.70   \nmin       1.00     0.00     0.00     0.00  ...     4.95     0.00     0.00   \n25%     532.50     0.00     0.00     0.00  ...     6.40     0.50     0.18   \n50%    1390.00     1.00     1.00     1.00  ...     6.65     1.00     0.65   \n75%    2326.25     2.00     2.00     2.00  ...     6.88     1.63     1.20   \nmax    3420.00    36.00    31.00    20.00  ...     8.34     7.00     4.22   \n\n         Fouls  Offsides    Clear  Drb_Def   Blocks     AvgP      PS%  \ncount  4588.00   4588.00  4588.00  4588.00  4588.00  4588.00  4588.00  \nmean      0.70      0.13     1.53     0.61     0.22    29.00    76.91  \nstd       0.46      0.23     1.75     0.48     0.29    16.44    12.42  \nmin       0.00      0.00     0.00     0.00     0.00     0.00     0.00  \n25%       0.38      0.00     0.33     0.25     0.00    17.00    72.73  \n50%       0.68      0.00     0.86     0.53     0.11    27.29    79.32  \n75%       1.00      0.15     2.09     0.88     0.33    38.44    84.32  \nmax       4.00      2.00    11.50     4.00     2.05    90.41   100.00  \n\n[8 rows x 39 columns]",
      "text/html": "<div>\n<style scoped>\n    .dataframe tbody tr th:only-of-type {\n        vertical-align: middle;\n    }\n\n    .dataframe tbody tr th {\n        vertical-align: top;\n    }\n\n    .dataframe thead th {\n        text-align: right;\n    }\n</style>\n<table border=\"1\" class=\"dataframe\">\n  <thead>\n    <tr style=\"text-align: right;\">\n      <th></th>\n      <th>year</th>\n      <th>Age</th>\n      <th>Weekly Salary</th>\n      <th>Base Salary</th>\n      <th>ADJ Salary</th>\n      <th>Apps</th>\n      <th>Min</th>\n      <th>G</th>\n      <th>NPG</th>\n      <th>A</th>\n      <th>...</th>\n      <th>Rating</th>\n      <th>Tackles</th>\n      <th>Inter</th>\n      <th>Fouls</th>\n      <th>Offsides</th>\n      <th>Clear</th>\n      <th>Drb_Def</th>\n      <th>Blocks</th>\n      <th>AvgP</th>\n      <th>PS%</th>\n    </tr>\n  </thead>\n  <tbody>\n    <tr>\n      <th>count</th>\n      <td>4588.00</td>\n      <td>4588.00</td>\n      <td>4588.00</td>\n      <td>4588.00</td>\n      <td>4588.00</td>\n      <td>4588.00</td>\n      <td>4588.00</td>\n      <td>4588.00</td>\n      <td>4588.00</td>\n      <td>4588.00</td>\n      <td>...</td>\n      <td>4588.00</td>\n      <td>4588.00</td>\n      <td>4588.00</td>\n      <td>4588.00</td>\n      <td>4588.00</td>\n      <td>4588.00</td>\n      <td>4588.00</td>\n      <td>4588.00</td>\n      <td>4588.00</td>\n      <td>4588.00</td>\n    </tr>\n    <tr>\n      <th>mean</th>\n      <td>2017.93</td>\n      <td>25.91</td>\n      <td>53921.12</td>\n      <td>2803898.52</td>\n      <td>3076834.48</td>\n      <td>20.58</td>\n      <td>1466.58</td>\n      <td>1.96</td>\n      <td>1.81</td>\n      <td>1.39</td>\n      <td>...</td>\n      <td>6.65</td>\n      <td>1.12</td>\n      <td>0.78</td>\n      <td>0.70</td>\n      <td>0.13</td>\n      <td>1.53</td>\n      <td>0.61</td>\n      <td>0.22</td>\n      <td>29.00</td>\n      <td>76.91</td>\n    </tr>\n    <tr>\n      <th>std</th>\n      <td>2.60</td>\n      <td>4.21</td>\n      <td>52782.05</td>\n      <td>2744666.44</td>\n      <td>2942732.53</td>\n      <td>11.49</td>\n      <td>1032.21</td>\n      <td>3.52</td>\n      <td>3.18</td>\n      <td>2.19</td>\n      <td>...</td>\n      <td>0.36</td>\n      <td>0.84</td>\n      <td>0.70</td>\n      <td>0.46</td>\n      <td>0.23</td>\n      <td>1.75</td>\n      <td>0.48</td>\n      <td>0.29</td>\n      <td>16.44</td>\n      <td>12.42</td>\n    </tr>\n    <tr>\n      <th>min</th>\n      <td>2014.00</td>\n      <td>15.00</td>\n      <td>0.00</td>\n      <td>0.00</td>\n      <td>0.00</td>\n      <td>1.00</td>\n      <td>1.00</td>\n      <td>0.00</td>\n      <td>0.00</td>\n      <td>0.00</td>\n      <td>...</td>\n      <td>4.95</td>\n      <td>0.00</td>\n      <td>0.00</td>\n      <td>0.00</td>\n      <td>0.00</td>\n      <td>0.00</td>\n      <td>0.00</td>\n      <td>0.00</td>\n      <td>0.00</td>\n      <td>0.00</td>\n    </tr>\n    <tr>\n      <th>25%</th>\n      <td>2016.00</td>\n      <td>23.00</td>\n      <td>20000.00</td>\n      <td>1040000.00</td>\n      <td>1252784.00</td>\n      <td>11.00</td>\n      <td>532.50</td>\n      <td>0.00</td>\n      <td>0.00</td>\n      <td>0.00</td>\n      <td>...</td>\n      <td>6.40</td>\n      <td>0.50</td>\n      <td>0.18</td>\n      <td>0.38</td>\n      <td>0.00</td>\n      <td>0.33</td>\n      <td>0.25</td>\n      <td>0.00</td>\n      <td>17.00</td>\n      <td>72.73</td>\n    </tr>\n    <tr>\n      <th>50%</th>\n      <td>2018.00</td>\n      <td>26.00</td>\n      <td>40000.00</td>\n      <td>2080000.00</td>\n      <td>2301310.00</td>\n      <td>22.00</td>\n      <td>1390.00</td>\n      <td>1.00</td>\n      <td>1.00</td>\n      <td>1.00</td>\n      <td>...</td>\n      <td>6.65</td>\n      <td>1.00</td>\n      <td>0.65</td>\n      <td>0.68</td>\n      <td>0.00</td>\n      <td>0.86</td>\n      <td>0.53</td>\n      <td>0.11</td>\n      <td>27.29</td>\n      <td>79.32</td>\n    </tr>\n    <tr>\n      <th>75%</th>\n      <td>2020.00</td>\n      <td>29.00</td>\n      <td>70000.00</td>\n      <td>3640000.00</td>\n      <td>4071549.00</td>\n      <td>31.00</td>\n      <td>2326.25</td>\n      <td>2.00</td>\n      <td>2.00</td>\n      <td>2.00</td>\n      <td>...</td>\n      <td>6.88</td>\n      <td>1.63</td>\n      <td>1.20</td>\n      <td>1.00</td>\n      <td>0.15</td>\n      <td>2.09</td>\n      <td>0.88</td>\n      <td>0.33</td>\n      <td>38.44</td>\n      <td>84.32</td>\n    </tr>\n    <tr>\n      <th>max</th>\n      <td>2022.00</td>\n      <td>41.00</td>\n      <td>600000.00</td>\n      <td>31200000.00</td>\n      <td>33671679.00</td>\n      <td>38.00</td>\n      <td>3420.00</td>\n      <td>36.00</td>\n      <td>31.00</td>\n      <td>20.00</td>\n      <td>...</td>\n      <td>8.34</td>\n      <td>7.00</td>\n      <td>4.22</td>\n      <td>4.00</td>\n      <td>2.00</td>\n      <td>11.50</td>\n      <td>4.00</td>\n      <td>2.05</td>\n      <td>90.41</td>\n      <td>100.00</td>\n    </tr>\n  </tbody>\n</table>\n<p>8 rows × 39 columns</p>\n</div>"
     },
     "execution_count": 12,
     "metadata": {},
     "output_type": "execute_result"
    }
   ],
   "source": [
    "round(eda_df.describe(), 2)"
   ],
   "metadata": {
    "collapsed": false,
    "pycharm": {
     "name": "#%%\n"
    }
   }
  },
  {
   "cell_type": "code",
   "execution_count": 16,
   "outputs": [],
   "source": [
    "eda_df['Age Lev'] = eda_df['Age'].apply(lambda age: '<25' if age < 25 else '<30' if age <30 else '<35' if age<35 else '>35')"
   ],
   "metadata": {
    "collapsed": false,
    "pycharm": {
     "name": "#%%\n"
    }
   }
  },
  {
   "cell_type": "code",
   "execution_count": 17,
   "outputs": [
    {
     "data": {
      "text/plain": "   year            Name  Age      Team    Position  Weekly Salary  \\\n0  2014     Eden Hazard   23   Chelsea     Forward       185827.0   \n1  2014  Alexis Sanchez   25   Arsenal     Forward       140000.0   \n2  2014   Sergio Aguero   26  Man City     Forward       160000.0   \n3  2014   Cesc Fabregas   27   Chelsea  Midfielder       171481.0   \n4  2014   Santi Cazorla   29   Arsenal  Midfielder        90000.0   \n\n   Base Salary  ADJ Salary  Apps     Min  ...   Tackles     Inter     Fouls  \\\n0    9663000.0  11640054.0  38.0  3389.0  ...  0.736842  0.578947  0.315789   \n1    7280000.0   8769491.0  35.0  2967.0  ...  1.971429  1.171429  1.257143   \n2    8320000.0  10022275.0  33.0  2551.0  ...  0.666667  0.393939  0.545455   \n3    8917000.0  10741422.0  34.0  2895.0  ...  2.588235  0.676471  0.882353   \n4    4680000.0   5637530.0  37.0  2999.0  ...  1.594595  1.081081  0.540541   \n\n   Offsides     Clear   Drb_Def    Blocks       AvgP        PS%  Age Lev  \n0       0.0  0.236842  0.605263  0.026316  58.368421  86.834986      <25  \n1       0.0  0.171429  1.542857  0.000000  42.000000  76.802721      <30  \n2       0.0  0.060606  0.515152  0.000000  25.242424  85.594238      <30  \n3       0.0  0.882353  2.117647  0.147059  80.647059  85.193290      <30  \n4       0.0  0.648649  1.459459  0.135135  64.027027  89.024905      <30  \n\n[5 rows x 43 columns]",
      "text/html": "<div>\n<style scoped>\n    .dataframe tbody tr th:only-of-type {\n        vertical-align: middle;\n    }\n\n    .dataframe tbody tr th {\n        vertical-align: top;\n    }\n\n    .dataframe thead th {\n        text-align: right;\n    }\n</style>\n<table border=\"1\" class=\"dataframe\">\n  <thead>\n    <tr style=\"text-align: right;\">\n      <th></th>\n      <th>year</th>\n      <th>Name</th>\n      <th>Age</th>\n      <th>Team</th>\n      <th>Position</th>\n      <th>Weekly Salary</th>\n      <th>Base Salary</th>\n      <th>ADJ Salary</th>\n      <th>Apps</th>\n      <th>Min</th>\n      <th>...</th>\n      <th>Tackles</th>\n      <th>Inter</th>\n      <th>Fouls</th>\n      <th>Offsides</th>\n      <th>Clear</th>\n      <th>Drb_Def</th>\n      <th>Blocks</th>\n      <th>AvgP</th>\n      <th>PS%</th>\n      <th>Age Lev</th>\n    </tr>\n  </thead>\n  <tbody>\n    <tr>\n      <th>0</th>\n      <td>2014</td>\n      <td>Eden Hazard</td>\n      <td>23</td>\n      <td>Chelsea</td>\n      <td>Forward</td>\n      <td>185827.0</td>\n      <td>9663000.0</td>\n      <td>11640054.0</td>\n      <td>38.0</td>\n      <td>3389.0</td>\n      <td>...</td>\n      <td>0.736842</td>\n      <td>0.578947</td>\n      <td>0.315789</td>\n      <td>0.0</td>\n      <td>0.236842</td>\n      <td>0.605263</td>\n      <td>0.026316</td>\n      <td>58.368421</td>\n      <td>86.834986</td>\n      <td>&lt;25</td>\n    </tr>\n    <tr>\n      <th>1</th>\n      <td>2014</td>\n      <td>Alexis Sanchez</td>\n      <td>25</td>\n      <td>Arsenal</td>\n      <td>Forward</td>\n      <td>140000.0</td>\n      <td>7280000.0</td>\n      <td>8769491.0</td>\n      <td>35.0</td>\n      <td>2967.0</td>\n      <td>...</td>\n      <td>1.971429</td>\n      <td>1.171429</td>\n      <td>1.257143</td>\n      <td>0.0</td>\n      <td>0.171429</td>\n      <td>1.542857</td>\n      <td>0.000000</td>\n      <td>42.000000</td>\n      <td>76.802721</td>\n      <td>&lt;30</td>\n    </tr>\n    <tr>\n      <th>2</th>\n      <td>2014</td>\n      <td>Sergio Aguero</td>\n      <td>26</td>\n      <td>Man City</td>\n      <td>Forward</td>\n      <td>160000.0</td>\n      <td>8320000.0</td>\n      <td>10022275.0</td>\n      <td>33.0</td>\n      <td>2551.0</td>\n      <td>...</td>\n      <td>0.666667</td>\n      <td>0.393939</td>\n      <td>0.545455</td>\n      <td>0.0</td>\n      <td>0.060606</td>\n      <td>0.515152</td>\n      <td>0.000000</td>\n      <td>25.242424</td>\n      <td>85.594238</td>\n      <td>&lt;30</td>\n    </tr>\n    <tr>\n      <th>3</th>\n      <td>2014</td>\n      <td>Cesc Fabregas</td>\n      <td>27</td>\n      <td>Chelsea</td>\n      <td>Midfielder</td>\n      <td>171481.0</td>\n      <td>8917000.0</td>\n      <td>10741422.0</td>\n      <td>34.0</td>\n      <td>2895.0</td>\n      <td>...</td>\n      <td>2.588235</td>\n      <td>0.676471</td>\n      <td>0.882353</td>\n      <td>0.0</td>\n      <td>0.882353</td>\n      <td>2.117647</td>\n      <td>0.147059</td>\n      <td>80.647059</td>\n      <td>85.193290</td>\n      <td>&lt;30</td>\n    </tr>\n    <tr>\n      <th>4</th>\n      <td>2014</td>\n      <td>Santi Cazorla</td>\n      <td>29</td>\n      <td>Arsenal</td>\n      <td>Midfielder</td>\n      <td>90000.0</td>\n      <td>4680000.0</td>\n      <td>5637530.0</td>\n      <td>37.0</td>\n      <td>2999.0</td>\n      <td>...</td>\n      <td>1.594595</td>\n      <td>1.081081</td>\n      <td>0.540541</td>\n      <td>0.0</td>\n      <td>0.648649</td>\n      <td>1.459459</td>\n      <td>0.135135</td>\n      <td>64.027027</td>\n      <td>89.024905</td>\n      <td>&lt;30</td>\n    </tr>\n  </tbody>\n</table>\n<p>5 rows × 43 columns</p>\n</div>"
     },
     "execution_count": 17,
     "metadata": {},
     "output_type": "execute_result"
    }
   ],
   "source": [
    "eda_df.head()"
   ],
   "metadata": {
    "collapsed": false,
    "pycharm": {
     "name": "#%%\n"
    }
   }
  },
  {
   "cell_type": "code",
   "execution_count": null,
   "outputs": [],
   "source": [],
   "metadata": {
    "collapsed": false,
    "pycharm": {
     "name": "#%%\n"
    }
   }
  },
  {
   "cell_type": "code",
   "execution_count": null,
   "outputs": [],
   "source": [],
   "metadata": {
    "collapsed": false,
    "pycharm": {
     "name": "#%%\n"
    }
   }
  },
  {
   "cell_type": "code",
   "execution_count": null,
   "outputs": [],
   "source": [],
   "metadata": {
    "collapsed": false,
    "pycharm": {
     "name": "#%%\n"
    }
   }
  },
  {
   "cell_type": "code",
   "execution_count": null,
   "outputs": [],
   "source": [],
   "metadata": {
    "collapsed": false,
    "pycharm": {
     "name": "#%%\n"
    }
   }
  },
  {
   "cell_type": "code",
   "execution_count": null,
   "outputs": [],
   "source": [],
   "metadata": {
    "collapsed": false,
    "pycharm": {
     "name": "#%%\n"
    }
   }
  },
  {
   "cell_type": "code",
   "execution_count": null,
   "outputs": [],
   "source": [],
   "metadata": {
    "collapsed": false,
    "pycharm": {
     "name": "#%%\n"
    }
   }
  },
  {
   "cell_type": "code",
   "execution_count": null,
   "outputs": [],
   "source": [],
   "metadata": {
    "collapsed": false,
    "pycharm": {
     "name": "#%%\n"
    }
   }
  },
  {
   "cell_type": "code",
   "execution_count": null,
   "outputs": [],
   "source": [],
   "metadata": {
    "collapsed": false,
    "pycharm": {
     "name": "#%%\n"
    }
   }
  },
  {
   "cell_type": "code",
   "execution_count": null,
   "outputs": [],
   "source": [],
   "metadata": {
    "collapsed": false,
    "pycharm": {
     "name": "#%%\n"
    }
   }
  },
  {
   "cell_type": "code",
   "execution_count": null,
   "outputs": [],
   "source": [],
   "metadata": {
    "collapsed": false,
    "pycharm": {
     "name": "#%%\n"
    }
   }
  },
  {
   "cell_type": "code",
   "execution_count": null,
   "outputs": [],
   "source": [],
   "metadata": {
    "collapsed": false,
    "pycharm": {
     "name": "#%%\n"
    }
   }
  },
  {
   "cell_type": "code",
   "execution_count": null,
   "outputs": [],
   "source": [],
   "metadata": {
    "collapsed": false,
    "pycharm": {
     "name": "#%%\n"
    }
   }
  }
 ],
 "metadata": {
  "kernelspec": {
   "display_name": "Python 3",
   "language": "python",
   "name": "python3"
  },
  "language_info": {
   "codemirror_mode": {
    "name": "ipython",
    "version": 2
   },
   "file_extension": ".py",
   "mimetype": "text/x-python",
   "name": "python",
   "nbconvert_exporter": "python",
   "pygments_lexer": "ipython2",
   "version": "2.7.6"
  }
 },
 "nbformat": 4,
 "nbformat_minor": 0
}