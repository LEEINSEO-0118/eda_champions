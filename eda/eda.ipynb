{
 "cells": [
  {
   "cell_type": "code",
   "execution_count": 1,
   "metadata": {
    "collapsed": true
   },
   "outputs": [],
   "source": [
    "import pandas as pd\n",
    "import numpy as np\n",
    "import matplotlib.pyplot as plt\n",
    "import seaborn as sns"
   ]
  },
  {
   "cell_type": "code",
   "execution_count": 2,
   "outputs": [],
   "source": [
    "# plyaer data load 및 정리(프로필)\n",
    "player_df = pd.read_csv('../data/new/players_all.csv')\n",
    "player_df = player_df.rename(columns={'Unnamed: 0':'Id'}).drop(['No.', 'Id'], axis=1)"
   ],
   "metadata": {
    "collapsed": false,
    "pycharm": {
     "name": "#%%\n"
    }
   }
  },
  {
   "cell_type": "code",
   "execution_count": 3,
   "outputs": [],
   "source": [
    "# 1xbet data load 및 정리(스텟)\n",
    "xbet_df = pd.read_csv('../data/new/1xbet_all.csv')\n",
    "xbet_df = xbet_df.drop(['Team','Age','Position'], axis=1).rename(columns={'Drb_x':'Drb_Off', 'Drb_y':'Drb_Def'})"
   ],
   "metadata": {
    "collapsed": false,
    "pycharm": {
     "name": "#%%\n"
    }
   }
  },
  {
   "cell_type": "code",
   "execution_count": 4,
   "outputs": [],
   "source": [
    "# understat data load 및 정리(스텟)\n",
    "understat_df = pd.read_csv('../data/new/understat_all.csv')\n",
    "understat_df = understat_df.drop(['No','Team'], axis=1)"
   ],
   "metadata": {
    "collapsed": false,
    "pycharm": {
     "name": "#%%\n"
    }
   }
  },
  {
   "cell_type": "code",
   "execution_count": 5,
   "outputs": [],
   "source": [
    "# capology load(연봉)\n",
    "capology_df = pd.read_csv('../data/new/capology_all.csv')"
   ],
   "metadata": {
    "collapsed": false,
    "pycharm": {
     "name": "#%%\n"
    }
   }
  },
  {
   "cell_type": "code",
   "execution_count": 6,
   "outputs": [],
   "source": [
    "# 프로필 + 연봉\n",
    "eda_df = player_df.merge(capology_df[['Weekly Salary','Base Salary','ADJ Salary','Name', 'year']], how='left', left_on=['Name', 'year'], right_on=['Name', 'year'])\n",
    "eda_df = eda_df[~eda_df.duplicated(['year', 'Name'], keep='first')] # 중복 제거"
   ],
   "metadata": {
    "collapsed": false,
    "pycharm": {
     "name": "#%%\n"
    }
   }
  },
  {
   "cell_type": "code",
   "execution_count": 7,
   "outputs": [],
   "source": [
    "# 프로필 + 연봉 + 스텟(understat)\n",
    "eda_df = eda_df.merge(understat_df, how='left', left_on=['Name', 'year'], right_on=['Name', 'year'])"
   ],
   "metadata": {
    "collapsed": false,
    "pycharm": {
     "name": "#%%\n"
    }
   }
  },
  {
   "cell_type": "code",
   "execution_count": 8,
   "outputs": [],
   "source": [
    "# 프로필 + 연봉 + 스텟(understat) + 스텟(1xbet)\n",
    "eda_df = eda_df.merge(\n",
    "    xbet_df[[\n",
    "        'Name', 'year', 'SpG', 'KeyP', 'Drb_Off', 'Fouled', 'Off',\n",
    "        'Disp', 'UnsTch', 'Rating', 'Tackles', 'Inter','Fouls',\n",
    "        'Offsides', 'Clear', 'Drb_Def', 'Blocks', 'AvgP', 'PS%']],\n",
    "    how='left',\n",
    "    left_on=['Name', 'year'],\n",
    "    right_on=['Name', 'year']\n",
    ")"
   ],
   "metadata": {
    "collapsed": false,
    "pycharm": {
     "name": "#%%\n"
    }
   }
  },
  {
   "cell_type": "code",
   "execution_count": 9,
   "outputs": [
    {
     "name": "stdout",
     "output_type": "stream",
     "text": [
      "<class 'pandas.core.frame.DataFrame'>\n",
      "Int64Index: 4756 entries, 0 to 4755\n",
      "Data columns (total 42 columns):\n",
      " #   Column         Non-Null Count  Dtype  \n",
      "---  ------         --------------  -----  \n",
      " 0   year           4756 non-null   int64  \n",
      " 1   Name           4756 non-null   object \n",
      " 2   Age            4756 non-null   int64  \n",
      " 3   Team           4756 non-null   object \n",
      " 4   Position       4756 non-null   object \n",
      " 5   Weekly Salary  4598 non-null   float64\n",
      " 6   Base Salary    4598 non-null   float64\n",
      " 7   ADJ Salary     4598 non-null   float64\n",
      " 8   Apps           4744 non-null   float64\n",
      " 9   Min            4744 non-null   float64\n",
      " 10  G              4744 non-null   float64\n",
      " 11  NPG            4744 non-null   float64\n",
      " 12  A              4744 non-null   float64\n",
      " 13  xG             4744 non-null   float64\n",
      " 14  NPxG           4744 non-null   float64\n",
      " 15  xA             4744 non-null   float64\n",
      " 16  xGChain        4744 non-null   float64\n",
      " 17  xGBuildup      4744 non-null   float64\n",
      " 18  xG90           4744 non-null   float64\n",
      " 19  NPxG90         4744 non-null   float64\n",
      " 20  xA90           4744 non-null   float64\n",
      " 21  xG90+xA90      4744 non-null   float64\n",
      " 22  NPxG90+xA90    4744 non-null   float64\n",
      " 23  xGChain90      4744 non-null   float64\n",
      " 24  xGBuildup90    4744 non-null   float64\n",
      " 25  SpG            4756 non-null   float64\n",
      " 26  KeyP           4756 non-null   float64\n",
      " 27  Drb_Off        4756 non-null   float64\n",
      " 28  Fouled         4756 non-null   float64\n",
      " 29  Off            4756 non-null   float64\n",
      " 30  Disp           4756 non-null   float64\n",
      " 31  UnsTch         4756 non-null   float64\n",
      " 32  Rating         4756 non-null   float64\n",
      " 33  Tackles        4756 non-null   float64\n",
      " 34  Inter          4756 non-null   float64\n",
      " 35  Fouls          4756 non-null   float64\n",
      " 36  Offsides       4756 non-null   float64\n",
      " 37  Clear          4756 non-null   float64\n",
      " 38  Drb_Def        4756 non-null   float64\n",
      " 39  Blocks         4756 non-null   float64\n",
      " 40  AvgP           4756 non-null   float64\n",
      " 41  PS%            4756 non-null   float64\n",
      "dtypes: float64(37), int64(2), object(3)\n",
      "memory usage: 1.6+ MB\n"
     ]
    }
   ],
   "source": [
    "eda_df.info()"
   ],
   "metadata": {
    "collapsed": false,
    "pycharm": {
     "name": "#%%\n"
    }
   }
  },
  {
   "cell_type": "code",
   "execution_count": 10,
   "outputs": [],
   "source": [
    "eda_df = eda_df.dropna()"
   ],
   "metadata": {
    "collapsed": false,
    "pycharm": {
     "name": "#%%\n"
    }
   }
  },
  {
   "cell_type": "code",
   "execution_count": 11,
   "outputs": [
    {
     "data": {
      "text/plain": "              year          Age  Weekly Salary   Base Salary    ADJ Salary  \\\ncount  4588.000000  4588.000000    4588.000000  4.588000e+03  4.588000e+03   \nmean   2017.934394    25.914560   53921.124237  2.803899e+06  3.076834e+06   \nstd       2.604069     4.205339   52782.048685  2.744666e+06  2.942733e+06   \nmin    2014.000000    15.000000       0.000000  0.000000e+00  0.000000e+00   \n25%    2016.000000    23.000000   20000.000000  1.040000e+06  1.252784e+06   \n50%    2018.000000    26.000000   40000.000000  2.080000e+06  2.301310e+06   \n75%    2020.000000    29.000000   70000.000000  3.640000e+06  4.071549e+06   \nmax    2022.000000    41.000000  600000.000000  3.120000e+07  3.367168e+07   \n\n              Apps          Min            G          NPG            A  ...  \\\ncount  4588.000000  4588.000000  4588.000000  4588.000000  4588.000000  ...   \nmean     20.581953  1466.584350     1.964255     1.814080     1.389494  ...   \nstd      11.491688  1032.205164     3.519175     3.177971     2.191754  ...   \nmin       1.000000     1.000000     0.000000     0.000000     0.000000  ...   \n25%      11.000000   532.500000     0.000000     0.000000     0.000000  ...   \n50%      22.000000  1390.000000     1.000000     1.000000     1.000000  ...   \n75%      31.000000  2326.250000     2.000000     2.000000     2.000000  ...   \nmax      38.000000  3420.000000    36.000000    31.000000    20.000000  ...   \n\n            Rating      Tackles        Inter        Fouls     Offsides  \\\ncount  4588.000000  4588.000000  4588.000000  4588.000000  4588.000000   \nmean      6.649458     1.124752     0.780236     0.698120     0.125679   \nstd       0.358759     0.839077     0.703740     0.463213     0.229381   \nmin       4.950000     0.000000     0.000000     0.000000     0.000000   \n25%       6.397240     0.500000     0.184211     0.379077     0.000000   \n50%       6.649188     1.000000     0.646110     0.676471     0.000000   \n75%       6.883926     1.629630     1.200000     1.000000     0.153846   \nmax       8.340000     7.000000     4.216216     4.000000     2.000000   \n\n             Clear      Drb_Def       Blocks         AvgP          PS%  \ncount  4588.000000  4588.000000  4588.000000  4588.000000  4588.000000  \nmean      1.531114     0.607180     0.223566    29.003466    76.909555  \nstd       1.754969     0.481147     0.294067    16.436788    12.415437  \nmin       0.000000     0.000000     0.000000     0.000000     0.000000  \n25%       0.333333     0.250000     0.000000    17.000000    72.727273  \n50%       0.864865     0.533333     0.108108    27.285714    79.316827  \n75%       2.088904     0.875000     0.333333    38.439236    84.322658  \nmax      11.500000     4.000000     2.052632    90.411765   100.000000  \n\n[8 rows x 39 columns]",
      "text/html": "<div>\n<style scoped>\n    .dataframe tbody tr th:only-of-type {\n        vertical-align: middle;\n    }\n\n    .dataframe tbody tr th {\n        vertical-align: top;\n    }\n\n    .dataframe thead th {\n        text-align: right;\n    }\n</style>\n<table border=\"1\" class=\"dataframe\">\n  <thead>\n    <tr style=\"text-align: right;\">\n      <th></th>\n      <th>year</th>\n      <th>Age</th>\n      <th>Weekly Salary</th>\n      <th>Base Salary</th>\n      <th>ADJ Salary</th>\n      <th>Apps</th>\n      <th>Min</th>\n      <th>G</th>\n      <th>NPG</th>\n      <th>A</th>\n      <th>...</th>\n      <th>Rating</th>\n      <th>Tackles</th>\n      <th>Inter</th>\n      <th>Fouls</th>\n      <th>Offsides</th>\n      <th>Clear</th>\n      <th>Drb_Def</th>\n      <th>Blocks</th>\n      <th>AvgP</th>\n      <th>PS%</th>\n    </tr>\n  </thead>\n  <tbody>\n    <tr>\n      <th>count</th>\n      <td>4588.000000</td>\n      <td>4588.000000</td>\n      <td>4588.000000</td>\n      <td>4.588000e+03</td>\n      <td>4.588000e+03</td>\n      <td>4588.000000</td>\n      <td>4588.000000</td>\n      <td>4588.000000</td>\n      <td>4588.000000</td>\n      <td>4588.000000</td>\n      <td>...</td>\n      <td>4588.000000</td>\n      <td>4588.000000</td>\n      <td>4588.000000</td>\n      <td>4588.000000</td>\n      <td>4588.000000</td>\n      <td>4588.000000</td>\n      <td>4588.000000</td>\n      <td>4588.000000</td>\n      <td>4588.000000</td>\n      <td>4588.000000</td>\n    </tr>\n    <tr>\n      <th>mean</th>\n      <td>2017.934394</td>\n      <td>25.914560</td>\n      <td>53921.124237</td>\n      <td>2.803899e+06</td>\n      <td>3.076834e+06</td>\n      <td>20.581953</td>\n      <td>1466.584350</td>\n      <td>1.964255</td>\n      <td>1.814080</td>\n      <td>1.389494</td>\n      <td>...</td>\n      <td>6.649458</td>\n      <td>1.124752</td>\n      <td>0.780236</td>\n      <td>0.698120</td>\n      <td>0.125679</td>\n      <td>1.531114</td>\n      <td>0.607180</td>\n      <td>0.223566</td>\n      <td>29.003466</td>\n      <td>76.909555</td>\n    </tr>\n    <tr>\n      <th>std</th>\n      <td>2.604069</td>\n      <td>4.205339</td>\n      <td>52782.048685</td>\n      <td>2.744666e+06</td>\n      <td>2.942733e+06</td>\n      <td>11.491688</td>\n      <td>1032.205164</td>\n      <td>3.519175</td>\n      <td>3.177971</td>\n      <td>2.191754</td>\n      <td>...</td>\n      <td>0.358759</td>\n      <td>0.839077</td>\n      <td>0.703740</td>\n      <td>0.463213</td>\n      <td>0.229381</td>\n      <td>1.754969</td>\n      <td>0.481147</td>\n      <td>0.294067</td>\n      <td>16.436788</td>\n      <td>12.415437</td>\n    </tr>\n    <tr>\n      <th>min</th>\n      <td>2014.000000</td>\n      <td>15.000000</td>\n      <td>0.000000</td>\n      <td>0.000000e+00</td>\n      <td>0.000000e+00</td>\n      <td>1.000000</td>\n      <td>1.000000</td>\n      <td>0.000000</td>\n      <td>0.000000</td>\n      <td>0.000000</td>\n      <td>...</td>\n      <td>4.950000</td>\n      <td>0.000000</td>\n      <td>0.000000</td>\n      <td>0.000000</td>\n      <td>0.000000</td>\n      <td>0.000000</td>\n      <td>0.000000</td>\n      <td>0.000000</td>\n      <td>0.000000</td>\n      <td>0.000000</td>\n    </tr>\n    <tr>\n      <th>25%</th>\n      <td>2016.000000</td>\n      <td>23.000000</td>\n      <td>20000.000000</td>\n      <td>1.040000e+06</td>\n      <td>1.252784e+06</td>\n      <td>11.000000</td>\n      <td>532.500000</td>\n      <td>0.000000</td>\n      <td>0.000000</td>\n      <td>0.000000</td>\n      <td>...</td>\n      <td>6.397240</td>\n      <td>0.500000</td>\n      <td>0.184211</td>\n      <td>0.379077</td>\n      <td>0.000000</td>\n      <td>0.333333</td>\n      <td>0.250000</td>\n      <td>0.000000</td>\n      <td>17.000000</td>\n      <td>72.727273</td>\n    </tr>\n    <tr>\n      <th>50%</th>\n      <td>2018.000000</td>\n      <td>26.000000</td>\n      <td>40000.000000</td>\n      <td>2.080000e+06</td>\n      <td>2.301310e+06</td>\n      <td>22.000000</td>\n      <td>1390.000000</td>\n      <td>1.000000</td>\n      <td>1.000000</td>\n      <td>1.000000</td>\n      <td>...</td>\n      <td>6.649188</td>\n      <td>1.000000</td>\n      <td>0.646110</td>\n      <td>0.676471</td>\n      <td>0.000000</td>\n      <td>0.864865</td>\n      <td>0.533333</td>\n      <td>0.108108</td>\n      <td>27.285714</td>\n      <td>79.316827</td>\n    </tr>\n    <tr>\n      <th>75%</th>\n      <td>2020.000000</td>\n      <td>29.000000</td>\n      <td>70000.000000</td>\n      <td>3.640000e+06</td>\n      <td>4.071549e+06</td>\n      <td>31.000000</td>\n      <td>2326.250000</td>\n      <td>2.000000</td>\n      <td>2.000000</td>\n      <td>2.000000</td>\n      <td>...</td>\n      <td>6.883926</td>\n      <td>1.629630</td>\n      <td>1.200000</td>\n      <td>1.000000</td>\n      <td>0.153846</td>\n      <td>2.088904</td>\n      <td>0.875000</td>\n      <td>0.333333</td>\n      <td>38.439236</td>\n      <td>84.322658</td>\n    </tr>\n    <tr>\n      <th>max</th>\n      <td>2022.000000</td>\n      <td>41.000000</td>\n      <td>600000.000000</td>\n      <td>3.120000e+07</td>\n      <td>3.367168e+07</td>\n      <td>38.000000</td>\n      <td>3420.000000</td>\n      <td>36.000000</td>\n      <td>31.000000</td>\n      <td>20.000000</td>\n      <td>...</td>\n      <td>8.340000</td>\n      <td>7.000000</td>\n      <td>4.216216</td>\n      <td>4.000000</td>\n      <td>2.000000</td>\n      <td>11.500000</td>\n      <td>4.000000</td>\n      <td>2.052632</td>\n      <td>90.411765</td>\n      <td>100.000000</td>\n    </tr>\n  </tbody>\n</table>\n<p>8 rows × 39 columns</p>\n</div>"
     },
     "execution_count": 11,
     "metadata": {},
     "output_type": "execute_result"
    }
   ],
   "source": [
    "eda_df.describe()"
   ],
   "metadata": {
    "collapsed": false,
    "pycharm": {
     "name": "#%%\n"
    }
   }
  },
  {
   "cell_type": "code",
   "execution_count": 11,
   "outputs": [],
   "source": [],
   "metadata": {
    "collapsed": false,
    "pycharm": {
     "name": "#%%\n"
    }
   }
  }
 ],
 "metadata": {
  "kernelspec": {
   "display_name": "Python 3",
   "language": "python",
   "name": "python3"
  },
  "language_info": {
   "codemirror_mode": {
    "name": "ipython",
    "version": 2
   },
   "file_extension": ".py",
   "mimetype": "text/x-python",
   "name": "python",
   "nbconvert_exporter": "python",
   "pygments_lexer": "ipython2",
   "version": "2.7.6"
  }
 },
 "nbformat": 4,
 "nbformat_minor": 0
}