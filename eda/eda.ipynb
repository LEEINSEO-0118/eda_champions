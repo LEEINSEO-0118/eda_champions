{
 "cells": [
  {
   "cell_type": "code",
   "execution_count": 1,
   "metadata": {
    "collapsed": true
   },
   "outputs": [],
   "source": [
    "import pandas as pd\n",
    "import numpy as np\n",
    "import matplotlib.pyplot as plt\n",
    "import seaborn as sns"
   ]
  },
  {
   "cell_type": "code",
   "execution_count": 2,
   "outputs": [
    {
     "name": "stdout",
     "output_type": "stream",
     "text": [
      "<class 'pandas.core.frame.DataFrame'>\n",
      "RangeIndex: 4742 entries, 0 to 4741\n",
      "Data columns (total 7 columns):\n",
      " #   Column    Non-Null Count  Dtype \n",
      "---  ------    --------------  ----- \n",
      " 0   Id        4742 non-null   int64 \n",
      " 1   No.       4742 non-null   int64 \n",
      " 2   Name      4742 non-null   object\n",
      " 3   Age       4742 non-null   int64 \n",
      " 4   Team      4742 non-null   object\n",
      " 5   Position  4742 non-null   object\n",
      " 6   year      4742 non-null   int64 \n",
      "dtypes: int64(4), object(3)\n",
      "memory usage: 259.5+ KB\n"
     ]
    }
   ],
   "source": [
    "player_df = pd.read_csv('../data/new/players_all.csv')\n",
    "player_df.info()"
   ],
   "metadata": {
    "collapsed": false,
    "pycharm": {
     "name": "#%%\n"
    }
   }
  },
  {
   "cell_type": "code",
   "execution_count": 3,
   "outputs": [
    {
     "name": "stdout",
     "output_type": "stream",
     "text": [
      "<class 'pandas.core.frame.DataFrame'>\n",
      "RangeIndex: 4756 entries, 0 to 4755\n",
      "Data columns (total 21 columns):\n",
      " #   Column    Non-Null Count  Dtype  \n",
      "---  ------    --------------  -----  \n",
      " 0   Name      4756 non-null   object \n",
      " 1   Apps      4756 non-null   int64  \n",
      " 2   Mins      4756 non-null   int64  \n",
      " 3   Goals     4756 non-null   int64  \n",
      " 4   Assists   4756 non-null   int64  \n",
      " 5   SpG       4756 non-null   float64\n",
      " 6   KeyP      4756 non-null   float64\n",
      " 7   Drb_x     4756 non-null   float64\n",
      " 8   Fouled    4756 non-null   float64\n",
      " 9   Off       4756 non-null   float64\n",
      " 10  Disp      4756 non-null   float64\n",
      " 11  UnsTch    4756 non-null   float64\n",
      " 12  Rating    4756 non-null   float64\n",
      " 13  Tackles   4756 non-null   float64\n",
      " 14  Inter     4756 non-null   float64\n",
      " 15  Fouls     4756 non-null   float64\n",
      " 16  Offsides  4756 non-null   float64\n",
      " 17  Clear     4756 non-null   float64\n",
      " 18  Drb_y     4756 non-null   float64\n",
      " 19  Blocks    4756 non-null   float64\n",
      " 20  year      4756 non-null   int64  \n",
      "dtypes: float64(15), int64(5), object(1)\n",
      "memory usage: 780.4+ KB\n"
     ]
    }
   ],
   "source": [
    "stats1_df = pd.read_csv('../data/new/1xbet_all.csv')\n",
    "stats1_df = stats1_df.drop(['Team','Age','Position'], axis=1)\n",
    "stats1_df.info()"
   ],
   "metadata": {
    "collapsed": false,
    "pycharm": {
     "name": "#%%\n"
    }
   }
  },
  {
   "cell_type": "code",
   "execution_count": 4,
   "outputs": [
    {
     "name": "stdout",
     "output_type": "stream",
     "text": [
      "<class 'pandas.core.frame.DataFrame'>\n",
      "RangeIndex: 4755 entries, 0 to 4754\n",
      "Data columns (total 19 columns):\n",
      " #   Column       Non-Null Count  Dtype  \n",
      "---  ------       --------------  -----  \n",
      " 0   Player       4755 non-null   object \n",
      " 1   Apps         4755 non-null   int64  \n",
      " 2   Min          4755 non-null   int64  \n",
      " 3   G            4755 non-null   int64  \n",
      " 4   NPG          4755 non-null   int64  \n",
      " 5   A            4755 non-null   int64  \n",
      " 6   xG           4755 non-null   float64\n",
      " 7   NPxG         4755 non-null   float64\n",
      " 8   xA           4755 non-null   float64\n",
      " 9   xGChain      4755 non-null   float64\n",
      " 10  xGBuildup    4755 non-null   float64\n",
      " 11  xG90         4755 non-null   float64\n",
      " 12  NPxG90       4755 non-null   float64\n",
      " 13  xA90         4755 non-null   float64\n",
      " 14  xG90+xA90    4755 non-null   float64\n",
      " 15  NPxG90+xA90  4755 non-null   float64\n",
      " 16  xGChain90    4755 non-null   float64\n",
      " 17  xGBuildup90  4755 non-null   float64\n",
      " 18  year         4755 non-null   int64  \n",
      "dtypes: float64(12), int64(6), object(1)\n",
      "memory usage: 705.9+ KB\n"
     ]
    }
   ],
   "source": [
    "stats2_df = pd.read_csv('../data/new/understat_all.csv')\n",
    "stats2_df = stats2_df.drop(['No','Team'], axis=1)\n",
    "stats2_df.info()"
   ],
   "metadata": {
    "collapsed": false,
    "pycharm": {
     "name": "#%%\n"
    }
   }
  },
  {
   "cell_type": "code",
   "execution_count": 5,
   "outputs": [
    {
     "name": "stdout",
     "output_type": "stream",
     "text": [
      "<class 'pandas.core.frame.DataFrame'>\n",
      "RangeIndex: 4803 entries, 0 to 4802\n",
      "Data columns (total 4 columns):\n",
      " #   Column         Non-Null Count  Dtype  \n",
      "---  ------         --------------  -----  \n",
      " 0   Rank           4803 non-null   float64\n",
      " 1   Name           4803 non-null   object \n",
      " 2   Weekly Salary  4803 non-null   int64  \n",
      " 3   year           4803 non-null   int64  \n",
      "dtypes: float64(1), int64(2), object(1)\n",
      "memory usage: 150.2+ KB\n"
     ]
    }
   ],
   "source": [
    "salary_df = pd.read_csv('../data/new/salary_all0.csv')\n",
    "salary_df = salary_df.drop(['Position', 'Team'], axis=1)\n",
    "salary_df.info()"
   ],
   "metadata": {
    "collapsed": false,
    "pycharm": {
     "name": "#%%\n"
    }
   }
  },
  {
   "cell_type": "code",
   "execution_count": 6,
   "outputs": [
    {
     "name": "stdout",
     "output_type": "stream",
     "text": [
      "<class 'pandas.core.frame.DataFrame'>\n",
      "RangeIndex: 6140 entries, 0 to 6139\n",
      "Data columns (total 6 columns):\n",
      " #   Column   Non-Null Count  Dtype \n",
      "---  ------   --------------  ----- \n",
      " 0   name     6140 non-null   object\n",
      " 1   money-w  6140 non-null   int64 \n",
      " 2   money-y  6140 non-null   int64 \n",
      " 3   money-a  6140 non-null   int64 \n",
      " 4   team     6140 non-null   object\n",
      " 5   year     6140 non-null   int64 \n",
      "dtypes: int64(4), object(2)\n",
      "memory usage: 287.9+ KB\n"
     ]
    }
   ],
   "source": [
    "salary2_df = pd.read_csv('../data/new/capology_all.csv')\n",
    "salary2_df.info()"
   ],
   "metadata": {
    "collapsed": false,
    "pycharm": {
     "name": "#%%\n"
    }
   }
  },
  {
   "cell_type": "code",
   "execution_count": 7,
   "outputs": [
    {
     "name": "stdout",
     "output_type": "stream",
     "text": [
      "<class 'pandas.core.frame.DataFrame'>\n",
      "RangeIndex: 4938 entries, 0 to 4937\n",
      "Data columns (total 11 columns):\n",
      " #   Column    Non-Null Count  Dtype  \n",
      "---  ------    --------------  -----  \n",
      " 0   Id        4938 non-null   int64  \n",
      " 1   No.       4938 non-null   int64  \n",
      " 2   Name      4938 non-null   object \n",
      " 3   Age       4938 non-null   int64  \n",
      " 4   Team      4938 non-null   object \n",
      " 5   Position  4938 non-null   object \n",
      " 6   year      4938 non-null   int64  \n",
      " 7   money-w   4076 non-null   float64\n",
      " 8   money-y   4076 non-null   float64\n",
      " 9   money-a   4076 non-null   float64\n",
      " 10  name      4076 non-null   object \n",
      "dtypes: float64(3), int64(4), object(4)\n",
      "memory usage: 424.5+ KB\n"
     ]
    }
   ],
   "source": [
    "# player_df, salary_df, stats1_df, stats2_df\n",
    "eda_df = player_df.merge(salary2_df[['money-w','money-y','money-a','name', 'year']], how='left', left_on=['Name', 'year'], right_on=['name', 'year'])\n",
    "eda_df.info()"
   ],
   "metadata": {
    "collapsed": false,
    "pycharm": {
     "name": "#%%\n"
    }
   }
  },
  {
   "cell_type": "code",
   "execution_count": 8,
   "outputs": [
    {
     "data": {
      "text/plain": "Id            0\nNo.           0\nName          0\nAge           0\nTeam          0\nPosition      0\nyear          0\nmoney-w     862\nmoney-y     862\nmoney-a     862\nname        862\ndtype: int64"
     },
     "execution_count": 8,
     "metadata": {},
     "output_type": "execute_result"
    }
   ],
   "source": [
    "eda_df.isnull().sum(axis=0)"
   ],
   "metadata": {
    "collapsed": false,
    "pycharm": {
     "name": "#%%\n"
    }
   }
  },
  {
   "cell_type": "code",
   "execution_count": 9,
   "outputs": [
    {
     "data": {
      "text/plain": "Id          0.000000\nNo.         0.000000\nName        0.000000\nAge         0.000000\nTeam        0.000000\nPosition    0.000000\nyear        0.000000\nmoney-w     0.174565\nmoney-y     0.174565\nmoney-a     0.174565\nname        0.174565\ndtype: float64"
     },
     "execution_count": 9,
     "metadata": {},
     "output_type": "execute_result"
    }
   ],
   "source": [
    "eda_df.isnull().mean()"
   ],
   "metadata": {
    "collapsed": false,
    "pycharm": {
     "name": "#%%\n"
    }
   }
  },
  {
   "cell_type": "code",
   "execution_count": 10,
   "outputs": [
    {
     "data": {
      "text/plain": "year\n2014     86\n2015     81\n2016     71\n2017     79\n2018     80\n2019    113\n2020    105\n2021    121\n2022    126\nName: Name, dtype: int64"
     },
     "execution_count": 10,
     "metadata": {},
     "output_type": "execute_result"
    }
   ],
   "source": [
    "na_list = eda_df.loc[eda_df.isnull().any(axis=1)].loc[:, ['Name','year']]\n",
    "na_list.groupby('year')['Name'].count()"
   ],
   "metadata": {
    "collapsed": false,
    "pycharm": {
     "name": "#%%\n"
    }
   }
  },
  {
   "cell_type": "code",
   "execution_count": 11,
   "outputs": [
    {
     "data": {
      "text/plain": "year\n2014    535\n2015    547\n2016    529\n2017    516\n2018    497\n2019    511\n2020    519\n2021    533\n2022    555\nName: Name, dtype: int64"
     },
     "execution_count": 11,
     "metadata": {},
     "output_type": "execute_result"
    }
   ],
   "source": [
    "player_df.groupby('year')['Name'].count()"
   ],
   "metadata": {
    "collapsed": false,
    "pycharm": {
     "name": "#%%\n"
    }
   }
  },
  {
   "cell_type": "code",
   "execution_count": 12,
   "outputs": [
    {
     "data": {
      "text/plain": "year\n2014    572\n2015    573\n2016    568\n2017    543\n2018    511\n2019    520\n2020    531\n2021    546\n2022    574\nName: Name, dtype: int64"
     },
     "execution_count": 12,
     "metadata": {},
     "output_type": "execute_result"
    }
   ],
   "source": [
    "eda_df.groupby('year')['Name'].count()"
   ],
   "metadata": {
    "collapsed": false,
    "pycharm": {
     "name": "#%%\n"
    }
   }
  },
  {
   "cell_type": "code",
   "execution_count": 13,
   "outputs": [
    {
     "ename": "KeyError",
     "evalue": "'Weekly Salary'",
     "output_type": "error",
     "traceback": [
      "\u001B[1;31m---------------------------------------------------------------------------\u001B[0m",
      "\u001B[1;31mKeyError\u001B[0m                                  Traceback (most recent call last)",
      "File \u001B[1;32m~\\miniconda3\\envs\\soccer_eda\\lib\\site-packages\\pandas\\core\\indexes\\base.py:3653\u001B[0m, in \u001B[0;36mIndex.get_loc\u001B[1;34m(self, key)\u001B[0m\n\u001B[0;32m   3652\u001B[0m \u001B[38;5;28;01mtry\u001B[39;00m:\n\u001B[1;32m-> 3653\u001B[0m     \u001B[38;5;28;01mreturn\u001B[39;00m \u001B[38;5;28;43mself\u001B[39;49m\u001B[38;5;241;43m.\u001B[39;49m\u001B[43m_engine\u001B[49m\u001B[38;5;241;43m.\u001B[39;49m\u001B[43mget_loc\u001B[49m\u001B[43m(\u001B[49m\u001B[43mcasted_key\u001B[49m\u001B[43m)\u001B[49m\n\u001B[0;32m   3654\u001B[0m \u001B[38;5;28;01mexcept\u001B[39;00m \u001B[38;5;167;01mKeyError\u001B[39;00m \u001B[38;5;28;01mas\u001B[39;00m err:\n",
      "File \u001B[1;32m~\\miniconda3\\envs\\soccer_eda\\lib\\site-packages\\pandas\\_libs\\index.pyx:147\u001B[0m, in \u001B[0;36mpandas._libs.index.IndexEngine.get_loc\u001B[1;34m()\u001B[0m\n",
      "File \u001B[1;32m~\\miniconda3\\envs\\soccer_eda\\lib\\site-packages\\pandas\\_libs\\index.pyx:176\u001B[0m, in \u001B[0;36mpandas._libs.index.IndexEngine.get_loc\u001B[1;34m()\u001B[0m\n",
      "File \u001B[1;32mpandas\\_libs\\hashtable_class_helper.pxi:7080\u001B[0m, in \u001B[0;36mpandas._libs.hashtable.PyObjectHashTable.get_item\u001B[1;34m()\u001B[0m\n",
      "File \u001B[1;32mpandas\\_libs\\hashtable_class_helper.pxi:7088\u001B[0m, in \u001B[0;36mpandas._libs.hashtable.PyObjectHashTable.get_item\u001B[1;34m()\u001B[0m\n",
      "\u001B[1;31mKeyError\u001B[0m: 'Weekly Salary'",
      "\nThe above exception was the direct cause of the following exception:\n",
      "\u001B[1;31mKeyError\u001B[0m                                  Traceback (most recent call last)",
      "Cell \u001B[1;32mIn[13], line 1\u001B[0m\n\u001B[1;32m----> 1\u001B[0m eda_df[\u001B[43meda_df\u001B[49m\u001B[43m[\u001B[49m\u001B[38;5;124;43m'\u001B[39;49m\u001B[38;5;124;43mWeekly Salary\u001B[39;49m\u001B[38;5;124;43m'\u001B[39;49m\u001B[43m]\u001B[49m\u001B[38;5;241m.\u001B[39misnull()]\u001B[38;5;241m.\u001B[39mhead()\n",
      "File \u001B[1;32m~\\miniconda3\\envs\\soccer_eda\\lib\\site-packages\\pandas\\core\\frame.py:3761\u001B[0m, in \u001B[0;36mDataFrame.__getitem__\u001B[1;34m(self, key)\u001B[0m\n\u001B[0;32m   3759\u001B[0m \u001B[38;5;28;01mif\u001B[39;00m \u001B[38;5;28mself\u001B[39m\u001B[38;5;241m.\u001B[39mcolumns\u001B[38;5;241m.\u001B[39mnlevels \u001B[38;5;241m>\u001B[39m \u001B[38;5;241m1\u001B[39m:\n\u001B[0;32m   3760\u001B[0m     \u001B[38;5;28;01mreturn\u001B[39;00m \u001B[38;5;28mself\u001B[39m\u001B[38;5;241m.\u001B[39m_getitem_multilevel(key)\n\u001B[1;32m-> 3761\u001B[0m indexer \u001B[38;5;241m=\u001B[39m \u001B[38;5;28;43mself\u001B[39;49m\u001B[38;5;241;43m.\u001B[39;49m\u001B[43mcolumns\u001B[49m\u001B[38;5;241;43m.\u001B[39;49m\u001B[43mget_loc\u001B[49m\u001B[43m(\u001B[49m\u001B[43mkey\u001B[49m\u001B[43m)\u001B[49m\n\u001B[0;32m   3762\u001B[0m \u001B[38;5;28;01mif\u001B[39;00m is_integer(indexer):\n\u001B[0;32m   3763\u001B[0m     indexer \u001B[38;5;241m=\u001B[39m [indexer]\n",
      "File \u001B[1;32m~\\miniconda3\\envs\\soccer_eda\\lib\\site-packages\\pandas\\core\\indexes\\base.py:3655\u001B[0m, in \u001B[0;36mIndex.get_loc\u001B[1;34m(self, key)\u001B[0m\n\u001B[0;32m   3653\u001B[0m     \u001B[38;5;28;01mreturn\u001B[39;00m \u001B[38;5;28mself\u001B[39m\u001B[38;5;241m.\u001B[39m_engine\u001B[38;5;241m.\u001B[39mget_loc(casted_key)\n\u001B[0;32m   3654\u001B[0m \u001B[38;5;28;01mexcept\u001B[39;00m \u001B[38;5;167;01mKeyError\u001B[39;00m \u001B[38;5;28;01mas\u001B[39;00m err:\n\u001B[1;32m-> 3655\u001B[0m     \u001B[38;5;28;01mraise\u001B[39;00m \u001B[38;5;167;01mKeyError\u001B[39;00m(key) \u001B[38;5;28;01mfrom\u001B[39;00m \u001B[38;5;21;01merr\u001B[39;00m\n\u001B[0;32m   3656\u001B[0m \u001B[38;5;28;01mexcept\u001B[39;00m \u001B[38;5;167;01mTypeError\u001B[39;00m:\n\u001B[0;32m   3657\u001B[0m     \u001B[38;5;66;03m# If we have a listlike key, _check_indexing_error will raise\u001B[39;00m\n\u001B[0;32m   3658\u001B[0m     \u001B[38;5;66;03m#  InvalidIndexError. Otherwise we fall through and re-raise\u001B[39;00m\n\u001B[0;32m   3659\u001B[0m     \u001B[38;5;66;03m#  the TypeError.\u001B[39;00m\n\u001B[0;32m   3660\u001B[0m     \u001B[38;5;28mself\u001B[39m\u001B[38;5;241m.\u001B[39m_check_indexing_error(key)\n",
      "\u001B[1;31mKeyError\u001B[0m: 'Weekly Salary'"
     ]
    }
   ],
   "source": [
    "eda_df[eda_df['Weekly Salary'].isnull()].head()"
   ],
   "metadata": {
    "collapsed": false,
    "pycharm": {
     "name": "#%%\n"
    }
   }
  },
  {
   "cell_type": "code",
   "execution_count": null,
   "outputs": [],
   "source": [
    "salary_df.groupby('year')['Name'].count()"
   ],
   "metadata": {
    "collapsed": false,
    "pycharm": {
     "name": "#%%\n"
    }
   }
  },
  {
   "cell_type": "code",
   "execution_count": null,
   "outputs": [],
   "source": [
    "# player_df, salary_df, stats1_df, stats2_df\n",
    "eda_df = player_df.merge(stats2_df, how='outer', left_on=['Name', 'year'], right_on=['Player', 'year'])\n",
    "eda_df.info()"
   ],
   "metadata": {
    "collapsed": false,
    "pycharm": {
     "name": "#%%\n"
    }
   }
  },
  {
   "cell_type": "code",
   "execution_count": null,
   "outputs": [],
   "source": [
    "na_df = eda_df[eda_df.isnull().any(axis=1)]\n",
    "na1 = na_df[na_df['Apps'].isnull()]\n",
    "na1[['Name', 'year']].to_excel('../data/dummy/na1.xlsx')"
   ],
   "metadata": {
    "collapsed": false,
    "pycharm": {
     "name": "#%%\n"
    }
   }
  },
  {
   "cell_type": "code",
   "execution_count": null,
   "outputs": [],
   "source": [
    "na2 = na_df[~na_df['Apps'].isnull()]\n",
    "na2[['Player','year']].to_excel('../data/dummy/na2.xlsx')"
   ],
   "metadata": {
    "collapsed": false,
    "pycharm": {
     "name": "#%%\n"
    }
   }
  },
  {
   "cell_type": "code",
   "execution_count": null,
   "outputs": [],
   "source": [],
   "metadata": {
    "collapsed": false,
    "pycharm": {
     "name": "#%%\n"
    }
   }
  },
  {
   "cell_type": "code",
   "execution_count": null,
   "outputs": [],
   "source": [],
   "metadata": {
    "collapsed": false,
    "pycharm": {
     "name": "#%%\n"
    }
   }
  },
  {
   "cell_type": "code",
   "execution_count": null,
   "outputs": [],
   "source": [],
   "metadata": {
    "collapsed": false,
    "pycharm": {
     "name": "#%%\n"
    }
   }
  },
  {
   "cell_type": "code",
   "execution_count": null,
   "outputs": [],
   "source": [],
   "metadata": {
    "collapsed": false,
    "pycharm": {
     "name": "#%%\n"
    }
   }
  },
  {
   "cell_type": "code",
   "execution_count": null,
   "outputs": [],
   "source": [],
   "metadata": {
    "collapsed": false,
    "pycharm": {
     "name": "#%%\n"
    }
   }
  },
  {
   "cell_type": "code",
   "execution_count": null,
   "outputs": [],
   "source": [],
   "metadata": {
    "collapsed": false,
    "pycharm": {
     "name": "#%%\n"
    }
   }
  },
  {
   "cell_type": "code",
   "execution_count": null,
   "outputs": [],
   "source": [],
   "metadata": {
    "collapsed": false,
    "pycharm": {
     "name": "#%%\n"
    }
   }
  },
  {
   "cell_type": "code",
   "execution_count": null,
   "outputs": [],
   "source": [],
   "metadata": {
    "collapsed": false,
    "pycharm": {
     "name": "#%%\n"
    }
   }
  }
 ],
 "metadata": {
  "kernelspec": {
   "display_name": "Python 3",
   "language": "python",
   "name": "python3"
  },
  "language_info": {
   "codemirror_mode": {
    "name": "ipython",
    "version": 2
   },
   "file_extension": ".py",
   "mimetype": "text/x-python",
   "name": "python",
   "nbconvert_exporter": "python",
   "pygments_lexer": "ipython2",
   "version": "2.7.6"
  }
 },
 "nbformat": 4,
 "nbformat_minor": 0
}