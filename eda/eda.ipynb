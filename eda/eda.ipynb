{
 "cells": [
  {
   "cell_type": "code",
   "execution_count": 1,
   "metadata": {
    "collapsed": true
   },
   "outputs": [],
   "source": [
    "import pandas as pd\n",
    "import numpy as np\n",
    "import matplotlib.pyplot as plt\n",
    "import seaborn as sns"
   ]
  },
  {
   "cell_type": "code",
   "execution_count": 2,
   "outputs": [],
   "source": [
    "# plyaer data load 및 정리(프로필)\n",
    "player_df = pd.read_csv('../data/new/players_all.csv')\n",
    "player_df = player_df.rename(columns={'Unnamed: 0':'Id'}).drop(['No.', 'Id'], axis=1)"
   ],
   "metadata": {
    "collapsed": false,
    "pycharm": {
     "name": "#%%\n"
    }
   }
  },
  {
   "cell_type": "code",
   "execution_count": 3,
   "outputs": [],
   "source": [
    "# 1xbet data load 및 정리(스텟)\n",
    "xbet_df = pd.read_csv('../data/new/1xbet_all.csv')\n",
    "xbet_df = xbet_df.drop(['Team','Age','Position'], axis=1).rename(columns={'Drb_x':'Drb_Off', 'Drb_y':'Drb_Def'})"
   ],
   "metadata": {
    "collapsed": false,
    "pycharm": {
     "name": "#%%\n"
    }
   }
  },
  {
   "cell_type": "code",
   "execution_count": 4,
   "outputs": [],
   "source": [
    "# understat data load 및 정리(스텟)\n",
    "understat_df = pd.read_csv('../data/new/understat_all.csv')\n",
    "understat_df = understat_df.drop(['No','Team'], axis=1)"
   ],
   "metadata": {
    "collapsed": false,
    "pycharm": {
     "name": "#%%\n"
    }
   }
  },
  {
   "cell_type": "code",
   "execution_count": 5,
   "outputs": [],
   "source": [
    "# capology load(연봉)\n",
    "capology_df = pd.read_csv('../data/new/capology_all.csv')"
   ],
   "metadata": {
    "collapsed": false,
    "pycharm": {
     "name": "#%%\n"
    }
   }
  },
  {
   "cell_type": "code",
   "execution_count": 6,
   "outputs": [],
   "source": [
    "# 프로필 + 연봉\n",
    "eda_df = player_df.merge(capology_df[['Weekly Salary','Base Salary','ADJ Salary','Name', 'year']], how='left', left_on=['Name', 'year'], right_on=['Name', 'year'])\n",
    "eda_df = eda_df[~eda_df.duplicated(['year', 'Name'], keep='first')] # 중복 제거"
   ],
   "metadata": {
    "collapsed": false,
    "pycharm": {
     "name": "#%%\n"
    }
   }
  },
  {
   "cell_type": "code",
   "execution_count": 7,
   "outputs": [],
   "source": [
    "# 프로필 + 연봉 + 스텟(understat)\n",
    "eda_df = eda_df.merge(understat_df, how='left', left_on=['Name', 'year'], right_on=['Name', 'year'])"
   ],
   "metadata": {
    "collapsed": false,
    "pycharm": {
     "name": "#%%\n"
    }
   }
  },
  {
   "cell_type": "code",
   "execution_count": 8,
   "outputs": [],
   "source": [
    "# 프로필 + 연봉 + 스텟(understat) + 스텟(1xbet)\n",
    "eda_df = eda_df.merge(\n",
    "    xbet_df[[\n",
    "        'Name', 'year', 'SpG', 'KeyP', 'Drb_Off', 'Fouled', 'Off',\n",
    "        'Disp', 'UnsTch', 'Rating', 'Tackles', 'Inter','Fouls',\n",
    "        'Offsides', 'Clear', 'Drb_Def', 'Blocks', 'AvgP', 'PS%']],\n",
    "    how='left',\n",
    "    left_on=['Name', 'year'],\n",
    "    right_on=['Name', 'year']\n",
    ")"
   ],
   "metadata": {
    "collapsed": false,
    "pycharm": {
     "name": "#%%\n"
    }
   }
  },
  {
   "cell_type": "code",
   "execution_count": 9,
   "outputs": [
    {
     "name": "stdout",
     "output_type": "stream",
     "text": [
      "<class 'pandas.core.frame.DataFrame'>\n",
      "Int64Index: 4756 entries, 0 to 4755\n",
      "Data columns (total 42 columns):\n",
      " #   Column         Non-Null Count  Dtype  \n",
      "---  ------         --------------  -----  \n",
      " 0   year           4756 non-null   int64  \n",
      " 1   Name           4756 non-null   object \n",
      " 2   Age            4756 non-null   int64  \n",
      " 3   Team           4756 non-null   object \n",
      " 4   Position       4756 non-null   object \n",
      " 5   Weekly Salary  4598 non-null   float64\n",
      " 6   Base Salary    4598 non-null   float64\n",
      " 7   ADJ Salary     4598 non-null   float64\n",
      " 8   Apps           4744 non-null   float64\n",
      " 9   Min            4744 non-null   float64\n",
      " 10  G              4744 non-null   float64\n",
      " 11  NPG            4744 non-null   float64\n",
      " 12  A              4744 non-null   float64\n",
      " 13  xG             4744 non-null   float64\n",
      " 14  NPxG           4744 non-null   float64\n",
      " 15  xA             4744 non-null   float64\n",
      " 16  xGChain        4744 non-null   float64\n",
      " 17  xGBuildup      4744 non-null   float64\n",
      " 18  xG90           4744 non-null   float64\n",
      " 19  NPxG90         4744 non-null   float64\n",
      " 20  xA90           4744 non-null   float64\n",
      " 21  xG90+xA90      4744 non-null   float64\n",
      " 22  NPxG90+xA90    4744 non-null   float64\n",
      " 23  xGChain90      4744 non-null   float64\n",
      " 24  xGBuildup90    4744 non-null   float64\n",
      " 25  SpG            4756 non-null   float64\n",
      " 26  KeyP           4756 non-null   float64\n",
      " 27  Drb_Off        4756 non-null   float64\n",
      " 28  Fouled         4756 non-null   float64\n",
      " 29  Off            4756 non-null   float64\n",
      " 30  Disp           4756 non-null   float64\n",
      " 31  UnsTch         4756 non-null   float64\n",
      " 32  Rating         4756 non-null   float64\n",
      " 33  Tackles        4756 non-null   float64\n",
      " 34  Inter          4756 non-null   float64\n",
      " 35  Fouls          4756 non-null   float64\n",
      " 36  Offsides       4756 non-null   float64\n",
      " 37  Clear          4756 non-null   float64\n",
      " 38  Drb_Def        4756 non-null   float64\n",
      " 39  Blocks         4756 non-null   float64\n",
      " 40  AvgP           4756 non-null   float64\n",
      " 41  PS%            4756 non-null   float64\n",
      "dtypes: float64(37), int64(2), object(3)\n",
      "memory usage: 1.6+ MB\n"
     ]
    }
   ],
   "source": [
    "eda_df.info()"
   ],
   "metadata": {
    "collapsed": false,
    "pycharm": {
     "name": "#%%\n"
    }
   }
  },
  {
   "cell_type": "code",
   "execution_count": 10,
   "outputs": [],
   "source": [
    "eda_df = eda_df.dropna()"
   ],
   "metadata": {
    "collapsed": false,
    "pycharm": {
     "name": "#%%\n"
    }
   }
  },
  {
   "cell_type": "code",
   "execution_count": 12,
   "outputs": [
    {
     "data": {
      "text/plain": "          year      Age  Weekly Salary  Base Salary   ADJ Salary     Apps  \\\ncount  4588.00  4588.00        4588.00      4588.00      4588.00  4588.00   \nmean   2017.93    25.91       53921.12   2803898.52   3076834.48    20.58   \nstd       2.60     4.21       52782.05   2744666.44   2942732.53    11.49   \nmin    2014.00    15.00           0.00         0.00         0.00     1.00   \n25%    2016.00    23.00       20000.00   1040000.00   1252784.00    11.00   \n50%    2018.00    26.00       40000.00   2080000.00   2301310.00    22.00   \n75%    2020.00    29.00       70000.00   3640000.00   4071549.00    31.00   \nmax    2022.00    41.00      600000.00  31200000.00  33671679.00    38.00   \n\n           Min        G      NPG        A  ...   Rating  Tackles    Inter  \\\ncount  4588.00  4588.00  4588.00  4588.00  ...  4588.00  4588.00  4588.00   \nmean   1466.58     1.96     1.81     1.39  ...     6.65     1.12     0.78   \nstd    1032.21     3.52     3.18     2.19  ...     0.36     0.84     0.70   \nmin       1.00     0.00     0.00     0.00  ...     4.95     0.00     0.00   \n25%     532.50     0.00     0.00     0.00  ...     6.40     0.50     0.18   \n50%    1390.00     1.00     1.00     1.00  ...     6.65     1.00     0.65   \n75%    2326.25     2.00     2.00     2.00  ...     6.88     1.63     1.20   \nmax    3420.00    36.00    31.00    20.00  ...     8.34     7.00     4.22   \n\n         Fouls  Offsides    Clear  Drb_Def   Blocks     AvgP      PS%  \ncount  4588.00   4588.00  4588.00  4588.00  4588.00  4588.00  4588.00  \nmean      0.70      0.13     1.53     0.61     0.22    29.00    76.91  \nstd       0.46      0.23     1.75     0.48     0.29    16.44    12.42  \nmin       0.00      0.00     0.00     0.00     0.00     0.00     0.00  \n25%       0.38      0.00     0.33     0.25     0.00    17.00    72.73  \n50%       0.68      0.00     0.86     0.53     0.11    27.29    79.32  \n75%       1.00      0.15     2.09     0.88     0.33    38.44    84.32  \nmax       4.00      2.00    11.50     4.00     2.05    90.41   100.00  \n\n[8 rows x 39 columns]",
      "text/html": "<div>\n<style scoped>\n    .dataframe tbody tr th:only-of-type {\n        vertical-align: middle;\n    }\n\n    .dataframe tbody tr th {\n        vertical-align: top;\n    }\n\n    .dataframe thead th {\n        text-align: right;\n    }\n</style>\n<table border=\"1\" class=\"dataframe\">\n  <thead>\n    <tr style=\"text-align: right;\">\n      <th></th>\n      <th>year</th>\n      <th>Age</th>\n      <th>Weekly Salary</th>\n      <th>Base Salary</th>\n      <th>ADJ Salary</th>\n      <th>Apps</th>\n      <th>Min</th>\n      <th>G</th>\n      <th>NPG</th>\n      <th>A</th>\n      <th>...</th>\n      <th>Rating</th>\n      <th>Tackles</th>\n      <th>Inter</th>\n      <th>Fouls</th>\n      <th>Offsides</th>\n      <th>Clear</th>\n      <th>Drb_Def</th>\n      <th>Blocks</th>\n      <th>AvgP</th>\n      <th>PS%</th>\n    </tr>\n  </thead>\n  <tbody>\n    <tr>\n      <th>count</th>\n      <td>4588.00</td>\n      <td>4588.00</td>\n      <td>4588.00</td>\n      <td>4588.00</td>\n      <td>4588.00</td>\n      <td>4588.00</td>\n      <td>4588.00</td>\n      <td>4588.00</td>\n      <td>4588.00</td>\n      <td>4588.00</td>\n      <td>...</td>\n      <td>4588.00</td>\n      <td>4588.00</td>\n      <td>4588.00</td>\n      <td>4588.00</td>\n      <td>4588.00</td>\n      <td>4588.00</td>\n      <td>4588.00</td>\n      <td>4588.00</td>\n      <td>4588.00</td>\n      <td>4588.00</td>\n    </tr>\n    <tr>\n      <th>mean</th>\n      <td>2017.93</td>\n      <td>25.91</td>\n      <td>53921.12</td>\n      <td>2803898.52</td>\n      <td>3076834.48</td>\n      <td>20.58</td>\n      <td>1466.58</td>\n      <td>1.96</td>\n      <td>1.81</td>\n      <td>1.39</td>\n      <td>...</td>\n      <td>6.65</td>\n      <td>1.12</td>\n      <td>0.78</td>\n      <td>0.70</td>\n      <td>0.13</td>\n      <td>1.53</td>\n      <td>0.61</td>\n      <td>0.22</td>\n      <td>29.00</td>\n      <td>76.91</td>\n    </tr>\n    <tr>\n      <th>std</th>\n      <td>2.60</td>\n      <td>4.21</td>\n      <td>52782.05</td>\n      <td>2744666.44</td>\n      <td>2942732.53</td>\n      <td>11.49</td>\n      <td>1032.21</td>\n      <td>3.52</td>\n      <td>3.18</td>\n      <td>2.19</td>\n      <td>...</td>\n      <td>0.36</td>\n      <td>0.84</td>\n      <td>0.70</td>\n      <td>0.46</td>\n      <td>0.23</td>\n      <td>1.75</td>\n      <td>0.48</td>\n      <td>0.29</td>\n      <td>16.44</td>\n      <td>12.42</td>\n    </tr>\n    <tr>\n      <th>min</th>\n      <td>2014.00</td>\n      <td>15.00</td>\n      <td>0.00</td>\n      <td>0.00</td>\n      <td>0.00</td>\n      <td>1.00</td>\n      <td>1.00</td>\n      <td>0.00</td>\n      <td>0.00</td>\n      <td>0.00</td>\n      <td>...</td>\n      <td>4.95</td>\n      <td>0.00</td>\n      <td>0.00</td>\n      <td>0.00</td>\n      <td>0.00</td>\n      <td>0.00</td>\n      <td>0.00</td>\n      <td>0.00</td>\n      <td>0.00</td>\n      <td>0.00</td>\n    </tr>\n    <tr>\n      <th>25%</th>\n      <td>2016.00</td>\n      <td>23.00</td>\n      <td>20000.00</td>\n      <td>1040000.00</td>\n      <td>1252784.00</td>\n      <td>11.00</td>\n      <td>532.50</td>\n      <td>0.00</td>\n      <td>0.00</td>\n      <td>0.00</td>\n      <td>...</td>\n      <td>6.40</td>\n      <td>0.50</td>\n      <td>0.18</td>\n      <td>0.38</td>\n      <td>0.00</td>\n      <td>0.33</td>\n      <td>0.25</td>\n      <td>0.00</td>\n      <td>17.00</td>\n      <td>72.73</td>\n    </tr>\n    <tr>\n      <th>50%</th>\n      <td>2018.00</td>\n      <td>26.00</td>\n      <td>40000.00</td>\n      <td>2080000.00</td>\n      <td>2301310.00</td>\n      <td>22.00</td>\n      <td>1390.00</td>\n      <td>1.00</td>\n      <td>1.00</td>\n      <td>1.00</td>\n      <td>...</td>\n      <td>6.65</td>\n      <td>1.00</td>\n      <td>0.65</td>\n      <td>0.68</td>\n      <td>0.00</td>\n      <td>0.86</td>\n      <td>0.53</td>\n      <td>0.11</td>\n      <td>27.29</td>\n      <td>79.32</td>\n    </tr>\n    <tr>\n      <th>75%</th>\n      <td>2020.00</td>\n      <td>29.00</td>\n      <td>70000.00</td>\n      <td>3640000.00</td>\n      <td>4071549.00</td>\n      <td>31.00</td>\n      <td>2326.25</td>\n      <td>2.00</td>\n      <td>2.00</td>\n      <td>2.00</td>\n      <td>...</td>\n      <td>6.88</td>\n      <td>1.63</td>\n      <td>1.20</td>\n      <td>1.00</td>\n      <td>0.15</td>\n      <td>2.09</td>\n      <td>0.88</td>\n      <td>0.33</td>\n      <td>38.44</td>\n      <td>84.32</td>\n    </tr>\n    <tr>\n      <th>max</th>\n      <td>2022.00</td>\n      <td>41.00</td>\n      <td>600000.00</td>\n      <td>31200000.00</td>\n      <td>33671679.00</td>\n      <td>38.00</td>\n      <td>3420.00</td>\n      <td>36.00</td>\n      <td>31.00</td>\n      <td>20.00</td>\n      <td>...</td>\n      <td>8.34</td>\n      <td>7.00</td>\n      <td>4.22</td>\n      <td>4.00</td>\n      <td>2.00</td>\n      <td>11.50</td>\n      <td>4.00</td>\n      <td>2.05</td>\n      <td>90.41</td>\n      <td>100.00</td>\n    </tr>\n  </tbody>\n</table>\n<p>8 rows × 39 columns</p>\n</div>"
     },
     "execution_count": 12,
     "metadata": {},
     "output_type": "execute_result"
    }
   ],
   "source": [
    "round(eda_df.describe(), 2)"
   ],
   "metadata": {
    "collapsed": false,
    "pycharm": {
     "name": "#%%\n"
    }
   }
  },
  {
   "cell_type": "code",
   "execution_count": 16,
   "outputs": [],
   "source": [
    "eda_df['Age Lev'] = eda_df['Age'].apply(lambda age: '<25' if age < 25 else '<30' if age <30 else '<35' if age<35 else '>35')"
   ],
   "metadata": {
    "collapsed": false,
    "pycharm": {
     "name": "#%%\n"
    }
   }
  },
  {
   "cell_type": "code",
   "execution_count": 20,
   "outputs": [
    {
     "data": {
      "text/plain": "      year                Name  Age               Team    Position  \\\n4745  2022        Alex Mighten   20  Nottingham Forest     Forward   \n4746  2022         Jamal Lewis   24          Newcastle    Defender   \n4747  2022      Maximo Perrone   19           Man City  Midfielder   \n4750  2022  Nathaniel Chalobah   27             Fulham  Midfielder   \n4754  2022         Shane Duffy   30             Fulham    Defender   \n\n      Weekly Salary  Base Salary  ADJ Salary  Apps   Min  ...  Tackles  Inter  \\\n4745         3462.0     180000.0    180000.0   1.0   5.0  ...     0.00    0.0   \n4746        38000.0    1976000.0   1976000.0   2.0   4.0  ...     0.00    0.0   \n4747        30000.0    1560000.0   1560000.0   1.0  17.0  ...     0.00    0.0   \n4750        35000.0    1820000.0   1820000.0   4.0  10.0  ...     0.25    0.0   \n4754        40000.0    2080000.0   2080000.0   5.0  16.0  ...     0.00    0.0   \n\n      Fouls  Offsides  Clear  Drb_Def  Blocks   AvgP         PS%  Age Lev  \n4745    0.0       0.0    0.0      1.0     0.0   1.00  100.000000      <25  \n4746    0.0       0.0    0.0      0.0     0.0   7.00   85.714286      <25  \n4747    0.0       0.0    0.0      0.0     0.0  20.00   90.000000      <25  \n4750    0.5       0.0    0.5      0.0     0.0   1.25   80.000000      <30  \n4754    0.0       0.0    0.0      0.0     0.0   4.00   80.000000      <35  \n\n[5 rows x 43 columns]",
      "text/html": "<div>\n<style scoped>\n    .dataframe tbody tr th:only-of-type {\n        vertical-align: middle;\n    }\n\n    .dataframe tbody tr th {\n        vertical-align: top;\n    }\n\n    .dataframe thead th {\n        text-align: right;\n    }\n</style>\n<table border=\"1\" class=\"dataframe\">\n  <thead>\n    <tr style=\"text-align: right;\">\n      <th></th>\n      <th>year</th>\n      <th>Name</th>\n      <th>Age</th>\n      <th>Team</th>\n      <th>Position</th>\n      <th>Weekly Salary</th>\n      <th>Base Salary</th>\n      <th>ADJ Salary</th>\n      <th>Apps</th>\n      <th>Min</th>\n      <th>...</th>\n      <th>Tackles</th>\n      <th>Inter</th>\n      <th>Fouls</th>\n      <th>Offsides</th>\n      <th>Clear</th>\n      <th>Drb_Def</th>\n      <th>Blocks</th>\n      <th>AvgP</th>\n      <th>PS%</th>\n      <th>Age Lev</th>\n    </tr>\n  </thead>\n  <tbody>\n    <tr>\n      <th>4745</th>\n      <td>2022</td>\n      <td>Alex Mighten</td>\n      <td>20</td>\n      <td>Nottingham Forest</td>\n      <td>Forward</td>\n      <td>3462.0</td>\n      <td>180000.0</td>\n      <td>180000.0</td>\n      <td>1.0</td>\n      <td>5.0</td>\n      <td>...</td>\n      <td>0.00</td>\n      <td>0.0</td>\n      <td>0.0</td>\n      <td>0.0</td>\n      <td>0.0</td>\n      <td>1.0</td>\n      <td>0.0</td>\n      <td>1.00</td>\n      <td>100.000000</td>\n      <td>&lt;25</td>\n    </tr>\n    <tr>\n      <th>4746</th>\n      <td>2022</td>\n      <td>Jamal Lewis</td>\n      <td>24</td>\n      <td>Newcastle</td>\n      <td>Defender</td>\n      <td>38000.0</td>\n      <td>1976000.0</td>\n      <td>1976000.0</td>\n      <td>2.0</td>\n      <td>4.0</td>\n      <td>...</td>\n      <td>0.00</td>\n      <td>0.0</td>\n      <td>0.0</td>\n      <td>0.0</td>\n      <td>0.0</td>\n      <td>0.0</td>\n      <td>0.0</td>\n      <td>7.00</td>\n      <td>85.714286</td>\n      <td>&lt;25</td>\n    </tr>\n    <tr>\n      <th>4747</th>\n      <td>2022</td>\n      <td>Maximo Perrone</td>\n      <td>19</td>\n      <td>Man City</td>\n      <td>Midfielder</td>\n      <td>30000.0</td>\n      <td>1560000.0</td>\n      <td>1560000.0</td>\n      <td>1.0</td>\n      <td>17.0</td>\n      <td>...</td>\n      <td>0.00</td>\n      <td>0.0</td>\n      <td>0.0</td>\n      <td>0.0</td>\n      <td>0.0</td>\n      <td>0.0</td>\n      <td>0.0</td>\n      <td>20.00</td>\n      <td>90.000000</td>\n      <td>&lt;25</td>\n    </tr>\n    <tr>\n      <th>4750</th>\n      <td>2022</td>\n      <td>Nathaniel Chalobah</td>\n      <td>27</td>\n      <td>Fulham</td>\n      <td>Midfielder</td>\n      <td>35000.0</td>\n      <td>1820000.0</td>\n      <td>1820000.0</td>\n      <td>4.0</td>\n      <td>10.0</td>\n      <td>...</td>\n      <td>0.25</td>\n      <td>0.0</td>\n      <td>0.5</td>\n      <td>0.0</td>\n      <td>0.5</td>\n      <td>0.0</td>\n      <td>0.0</td>\n      <td>1.25</td>\n      <td>80.000000</td>\n      <td>&lt;30</td>\n    </tr>\n    <tr>\n      <th>4754</th>\n      <td>2022</td>\n      <td>Shane Duffy</td>\n      <td>30</td>\n      <td>Fulham</td>\n      <td>Defender</td>\n      <td>40000.0</td>\n      <td>2080000.0</td>\n      <td>2080000.0</td>\n      <td>5.0</td>\n      <td>16.0</td>\n      <td>...</td>\n      <td>0.00</td>\n      <td>0.0</td>\n      <td>0.0</td>\n      <td>0.0</td>\n      <td>0.0</td>\n      <td>0.0</td>\n      <td>0.0</td>\n      <td>4.00</td>\n      <td>80.000000</td>\n      <td>&lt;35</td>\n    </tr>\n  </tbody>\n</table>\n<p>5 rows × 43 columns</p>\n</div>"
     },
     "execution_count": 20,
     "metadata": {},
     "output_type": "execute_result"
    }
   ],
   "source": [
    "eda_df.tail()"
   ],
   "metadata": {
    "collapsed": false,
    "pycharm": {
     "name": "#%%\n"
    }
   }
  },
  {
   "cell_type": "code",
   "execution_count": 39,
   "outputs": [
    {
     "data": {
      "text/plain": "                           year        Age  Weekly Salary   Base Salary  \\\nPosition   Age Lev                                                        \nDefender   <25      2018.342020  22.416938   46630.543974  2.424788e+06   \n           <30      2017.963783  26.885312   56289.541247  2.927056e+06   \n           <35      2017.865741  31.333333   59561.879630  3.097218e+06   \n           >35      2017.625000  35.750000   47937.500000  2.492750e+06   \nForward    <25      2018.206897  22.133005   71215.290640  3.703195e+06   \n           <30      2017.790441  26.819853   81859.584559  4.256699e+06   \n           <35      2018.687500  31.125000  100999.525000  5.251975e+06   \n           >35      2019.000000  35.500000  178750.000000  9.295000e+06   \nGoalkeeper <25      2018.437500  22.781250   58671.875000  3.050938e+06   \n           <30      2017.806452  27.365591   67001.440860  3.484075e+06   \n           <35      2018.044118  31.838235   70160.926471  3.648368e+06   \n           >35      2018.315789  35.736842   53421.052632  2.777895e+06   \nMidfielder <25      2018.222561  22.338415   54845.692073  2.851976e+06   \n           <30      2017.807229  26.845382   69868.475904  3.633161e+06   \n           <35      2017.883562  31.157534   83065.465753  4.319404e+06   \n           >35      2018.200000  35.200000   90000.000000  4.680000e+06   \n\n                      ADJ Salary       Apps          Min         G       NPG  \\\nPosition   Age Lev                                                             \nDefender   <25      2.636454e+06  25.762215  2104.214984  0.866450  0.866450   \n           <30      3.214299e+06  26.722334  2228.742455  1.042254  1.028169   \n           <35      3.420586e+06  26.458333  2208.657407  0.990741  0.967593   \n           >35      2.695122e+06  24.625000  1946.000000  0.875000  0.875000   \nForward    <25      4.047246e+06  29.955665  2005.438424  7.177340  6.743842   \n           <30      4.711195e+06  29.875000  2078.444853  8.408088  7.566176   \n           <35      5.692078e+06  29.050000  1925.825000  8.137500  7.062500   \n           >35      9.411844e+06  31.250000  1787.750000  8.250000  7.500000   \nGoalkeeper <25      3.421782e+06  30.031250  2692.656250  0.000000  0.000000   \n           <30      3.842430e+06  30.419355  2725.086022  0.010753  0.010753   \n           <35      3.967441e+06  28.647059  2565.779412  0.000000  0.000000   \n           >35      2.999916e+06  29.421053  2628.736842  0.000000  0.000000   \nMidfielder <25      3.120253e+06  28.756098  2076.576220  3.164634  2.987805   \n           <30      4.014345e+06  28.971888  2109.969880  2.759036  2.473896   \n           <35      4.725229e+06  27.869863  2074.513699  1.938356  1.664384   \n           >35      5.126010e+06  26.600000  1719.800000  0.600000  0.600000   \n\n                           A  ...    Rating   Tackles     Inter     Fouls  \\\nPosition   Age Lev            ...                                           \nDefender   <25      1.319218  ...  6.823730  1.727525  1.385161  0.782325   \n           <30      1.241449  ...  6.841142  1.621968  1.435161  0.798713   \n           <35      0.995370  ...  6.804812  1.480141  1.481161  0.741381   \n           >35      0.562500  ...  6.773137  1.302689  1.334605  0.682168   \nForward    <25      3.290640  ...  6.843510  0.808887  0.369946  0.856924   \n           <30      3.371324  ...  6.861586  0.767153  0.350592  0.950121   \n           <35      2.937500  ...  6.758889  0.631384  0.235737  0.861372   \n           >35      2.750000  ...  6.806698  0.187400  0.066022  0.838547   \nGoalkeeper <25      0.031250  ...  6.619492  0.023665  0.022129  0.018734   \n           <30      0.139785  ...  6.685359  0.021120  0.029652  0.017939   \n           <35      0.044118  ...  6.658262  0.023629  0.022669  0.013478   \n           >35      0.052632  ...  6.617908  0.018727  0.037163  0.027904   \nMidfielder <25      2.920732  ...  6.840155  1.636343  0.948094  0.959290   \n           <30      2.672691  ...  6.797229  1.645536  1.012699  0.963996   \n           <35      2.438356  ...  6.771642  1.618527  1.078952  0.953775   \n           >35      1.200000  ...  6.679377  1.554600  1.015820  0.967911   \n\n                    Offsides     Clear   Drb_Def    Blocks       AvgP  \\\nPosition   Age Lev                                                      \nDefender   <25      0.361017  3.289443  0.644790  0.480378  42.516442   \n           <30      0.372077  3.707585  0.627790  0.532521  41.864743   \n           <35      0.405048  3.999301  0.582501  0.578404  41.250896   \n           >35      0.316515  4.576547  0.485433  0.641172  40.318118   \nForward    <25      0.008952  0.430989  0.612929  0.059353  20.571074   \n           <30      0.010976  0.534385  0.580613  0.070810  21.177924   \n           <35      0.011337  0.523813  0.498469  0.060069  18.997400   \n           >35      0.022886  0.935110  0.235463  0.089565  18.753469   \nGoalkeeper <25      0.001078  0.859449  0.016000  0.000000  27.940541   \n           <30      0.000590  0.814521  0.039122  0.000000  27.755273   \n           <35      0.000000  0.802441  0.046978  0.000000  26.780618   \n           >35      0.002024  0.882869  0.056973  0.000000  25.847315   \nMidfielder <25      0.027366  0.861553  0.998835  0.167011  35.619627   \n           <30      0.023219  0.914841  1.077895  0.183630  37.762921   \n           <35      0.041061  1.123046  1.098855  0.239261  42.095660   \n           >35      0.042891  1.201227  0.995033  0.339960  42.776182   \n\n                          PS%  \nPosition   Age Lev             \nDefender   <25      80.538517  \n           <30      79.657655  \n           <35      79.485894  \n           >35      78.319432  \nForward    <25      75.365903  \n           <30      73.297865  \n           <35      72.580483  \n           >35      63.287496  \nGoalkeeper <25      60.180044  \n           <30      59.163589  \n           <35      56.875483  \n           >35      55.583813  \nMidfielder <25      81.666936  \n           <30      81.665385  \n           <35      81.974565  \n           >35      83.202960  \n\n[16 rows x 39 columns]",
      "text/html": "<div>\n<style scoped>\n    .dataframe tbody tr th:only-of-type {\n        vertical-align: middle;\n    }\n\n    .dataframe tbody tr th {\n        vertical-align: top;\n    }\n\n    .dataframe thead th {\n        text-align: right;\n    }\n</style>\n<table border=\"1\" class=\"dataframe\">\n  <thead>\n    <tr style=\"text-align: right;\">\n      <th></th>\n      <th></th>\n      <th>year</th>\n      <th>Age</th>\n      <th>Weekly Salary</th>\n      <th>Base Salary</th>\n      <th>ADJ Salary</th>\n      <th>Apps</th>\n      <th>Min</th>\n      <th>G</th>\n      <th>NPG</th>\n      <th>A</th>\n      <th>...</th>\n      <th>Rating</th>\n      <th>Tackles</th>\n      <th>Inter</th>\n      <th>Fouls</th>\n      <th>Offsides</th>\n      <th>Clear</th>\n      <th>Drb_Def</th>\n      <th>Blocks</th>\n      <th>AvgP</th>\n      <th>PS%</th>\n    </tr>\n    <tr>\n      <th>Position</th>\n      <th>Age Lev</th>\n      <th></th>\n      <th></th>\n      <th></th>\n      <th></th>\n      <th></th>\n      <th></th>\n      <th></th>\n      <th></th>\n      <th></th>\n      <th></th>\n      <th></th>\n      <th></th>\n      <th></th>\n      <th></th>\n      <th></th>\n      <th></th>\n      <th></th>\n      <th></th>\n      <th></th>\n      <th></th>\n      <th></th>\n    </tr>\n  </thead>\n  <tbody>\n    <tr>\n      <th rowspan=\"4\" valign=\"top\">Defender</th>\n      <th>&lt;25</th>\n      <td>2018.342020</td>\n      <td>22.416938</td>\n      <td>46630.543974</td>\n      <td>2.424788e+06</td>\n      <td>2.636454e+06</td>\n      <td>25.762215</td>\n      <td>2104.214984</td>\n      <td>0.866450</td>\n      <td>0.866450</td>\n      <td>1.319218</td>\n      <td>...</td>\n      <td>6.823730</td>\n      <td>1.727525</td>\n      <td>1.385161</td>\n      <td>0.782325</td>\n      <td>0.361017</td>\n      <td>3.289443</td>\n      <td>0.644790</td>\n      <td>0.480378</td>\n      <td>42.516442</td>\n      <td>80.538517</td>\n    </tr>\n    <tr>\n      <th>&lt;30</th>\n      <td>2017.963783</td>\n      <td>26.885312</td>\n      <td>56289.541247</td>\n      <td>2.927056e+06</td>\n      <td>3.214299e+06</td>\n      <td>26.722334</td>\n      <td>2228.742455</td>\n      <td>1.042254</td>\n      <td>1.028169</td>\n      <td>1.241449</td>\n      <td>...</td>\n      <td>6.841142</td>\n      <td>1.621968</td>\n      <td>1.435161</td>\n      <td>0.798713</td>\n      <td>0.372077</td>\n      <td>3.707585</td>\n      <td>0.627790</td>\n      <td>0.532521</td>\n      <td>41.864743</td>\n      <td>79.657655</td>\n    </tr>\n    <tr>\n      <th>&lt;35</th>\n      <td>2017.865741</td>\n      <td>31.333333</td>\n      <td>59561.879630</td>\n      <td>3.097218e+06</td>\n      <td>3.420586e+06</td>\n      <td>26.458333</td>\n      <td>2208.657407</td>\n      <td>0.990741</td>\n      <td>0.967593</td>\n      <td>0.995370</td>\n      <td>...</td>\n      <td>6.804812</td>\n      <td>1.480141</td>\n      <td>1.481161</td>\n      <td>0.741381</td>\n      <td>0.405048</td>\n      <td>3.999301</td>\n      <td>0.582501</td>\n      <td>0.578404</td>\n      <td>41.250896</td>\n      <td>79.485894</td>\n    </tr>\n    <tr>\n      <th>&gt;35</th>\n      <td>2017.625000</td>\n      <td>35.750000</td>\n      <td>47937.500000</td>\n      <td>2.492750e+06</td>\n      <td>2.695122e+06</td>\n      <td>24.625000</td>\n      <td>1946.000000</td>\n      <td>0.875000</td>\n      <td>0.875000</td>\n      <td>0.562500</td>\n      <td>...</td>\n      <td>6.773137</td>\n      <td>1.302689</td>\n      <td>1.334605</td>\n      <td>0.682168</td>\n      <td>0.316515</td>\n      <td>4.576547</td>\n      <td>0.485433</td>\n      <td>0.641172</td>\n      <td>40.318118</td>\n      <td>78.319432</td>\n    </tr>\n    <tr>\n      <th rowspan=\"4\" valign=\"top\">Forward</th>\n      <th>&lt;25</th>\n      <td>2018.206897</td>\n      <td>22.133005</td>\n      <td>71215.290640</td>\n      <td>3.703195e+06</td>\n      <td>4.047246e+06</td>\n      <td>29.955665</td>\n      <td>2005.438424</td>\n      <td>7.177340</td>\n      <td>6.743842</td>\n      <td>3.290640</td>\n      <td>...</td>\n      <td>6.843510</td>\n      <td>0.808887</td>\n      <td>0.369946</td>\n      <td>0.856924</td>\n      <td>0.008952</td>\n      <td>0.430989</td>\n      <td>0.612929</td>\n      <td>0.059353</td>\n      <td>20.571074</td>\n      <td>75.365903</td>\n    </tr>\n    <tr>\n      <th>&lt;30</th>\n      <td>2017.790441</td>\n      <td>26.819853</td>\n      <td>81859.584559</td>\n      <td>4.256699e+06</td>\n      <td>4.711195e+06</td>\n      <td>29.875000</td>\n      <td>2078.444853</td>\n      <td>8.408088</td>\n      <td>7.566176</td>\n      <td>3.371324</td>\n      <td>...</td>\n      <td>6.861586</td>\n      <td>0.767153</td>\n      <td>0.350592</td>\n      <td>0.950121</td>\n      <td>0.010976</td>\n      <td>0.534385</td>\n      <td>0.580613</td>\n      <td>0.070810</td>\n      <td>21.177924</td>\n      <td>73.297865</td>\n    </tr>\n    <tr>\n      <th>&lt;35</th>\n      <td>2018.687500</td>\n      <td>31.125000</td>\n      <td>100999.525000</td>\n      <td>5.251975e+06</td>\n      <td>5.692078e+06</td>\n      <td>29.050000</td>\n      <td>1925.825000</td>\n      <td>8.137500</td>\n      <td>7.062500</td>\n      <td>2.937500</td>\n      <td>...</td>\n      <td>6.758889</td>\n      <td>0.631384</td>\n      <td>0.235737</td>\n      <td>0.861372</td>\n      <td>0.011337</td>\n      <td>0.523813</td>\n      <td>0.498469</td>\n      <td>0.060069</td>\n      <td>18.997400</td>\n      <td>72.580483</td>\n    </tr>\n    <tr>\n      <th>&gt;35</th>\n      <td>2019.000000</td>\n      <td>35.500000</td>\n      <td>178750.000000</td>\n      <td>9.295000e+06</td>\n      <td>9.411844e+06</td>\n      <td>31.250000</td>\n      <td>1787.750000</td>\n      <td>8.250000</td>\n      <td>7.500000</td>\n      <td>2.750000</td>\n      <td>...</td>\n      <td>6.806698</td>\n      <td>0.187400</td>\n      <td>0.066022</td>\n      <td>0.838547</td>\n      <td>0.022886</td>\n      <td>0.935110</td>\n      <td>0.235463</td>\n      <td>0.089565</td>\n      <td>18.753469</td>\n      <td>63.287496</td>\n    </tr>\n    <tr>\n      <th rowspan=\"4\" valign=\"top\">Goalkeeper</th>\n      <th>&lt;25</th>\n      <td>2018.437500</td>\n      <td>22.781250</td>\n      <td>58671.875000</td>\n      <td>3.050938e+06</td>\n      <td>3.421782e+06</td>\n      <td>30.031250</td>\n      <td>2692.656250</td>\n      <td>0.000000</td>\n      <td>0.000000</td>\n      <td>0.031250</td>\n      <td>...</td>\n      <td>6.619492</td>\n      <td>0.023665</td>\n      <td>0.022129</td>\n      <td>0.018734</td>\n      <td>0.001078</td>\n      <td>0.859449</td>\n      <td>0.016000</td>\n      <td>0.000000</td>\n      <td>27.940541</td>\n      <td>60.180044</td>\n    </tr>\n    <tr>\n      <th>&lt;30</th>\n      <td>2017.806452</td>\n      <td>27.365591</td>\n      <td>67001.440860</td>\n      <td>3.484075e+06</td>\n      <td>3.842430e+06</td>\n      <td>30.419355</td>\n      <td>2725.086022</td>\n      <td>0.010753</td>\n      <td>0.010753</td>\n      <td>0.139785</td>\n      <td>...</td>\n      <td>6.685359</td>\n      <td>0.021120</td>\n      <td>0.029652</td>\n      <td>0.017939</td>\n      <td>0.000590</td>\n      <td>0.814521</td>\n      <td>0.039122</td>\n      <td>0.000000</td>\n      <td>27.755273</td>\n      <td>59.163589</td>\n    </tr>\n    <tr>\n      <th>&lt;35</th>\n      <td>2018.044118</td>\n      <td>31.838235</td>\n      <td>70160.926471</td>\n      <td>3.648368e+06</td>\n      <td>3.967441e+06</td>\n      <td>28.647059</td>\n      <td>2565.779412</td>\n      <td>0.000000</td>\n      <td>0.000000</td>\n      <td>0.044118</td>\n      <td>...</td>\n      <td>6.658262</td>\n      <td>0.023629</td>\n      <td>0.022669</td>\n      <td>0.013478</td>\n      <td>0.000000</td>\n      <td>0.802441</td>\n      <td>0.046978</td>\n      <td>0.000000</td>\n      <td>26.780618</td>\n      <td>56.875483</td>\n    </tr>\n    <tr>\n      <th>&gt;35</th>\n      <td>2018.315789</td>\n      <td>35.736842</td>\n      <td>53421.052632</td>\n      <td>2.777895e+06</td>\n      <td>2.999916e+06</td>\n      <td>29.421053</td>\n      <td>2628.736842</td>\n      <td>0.000000</td>\n      <td>0.000000</td>\n      <td>0.052632</td>\n      <td>...</td>\n      <td>6.617908</td>\n      <td>0.018727</td>\n      <td>0.037163</td>\n      <td>0.027904</td>\n      <td>0.002024</td>\n      <td>0.882869</td>\n      <td>0.056973</td>\n      <td>0.000000</td>\n      <td>25.847315</td>\n      <td>55.583813</td>\n    </tr>\n    <tr>\n      <th rowspan=\"4\" valign=\"top\">Midfielder</th>\n      <th>&lt;25</th>\n      <td>2018.222561</td>\n      <td>22.338415</td>\n      <td>54845.692073</td>\n      <td>2.851976e+06</td>\n      <td>3.120253e+06</td>\n      <td>28.756098</td>\n      <td>2076.576220</td>\n      <td>3.164634</td>\n      <td>2.987805</td>\n      <td>2.920732</td>\n      <td>...</td>\n      <td>6.840155</td>\n      <td>1.636343</td>\n      <td>0.948094</td>\n      <td>0.959290</td>\n      <td>0.027366</td>\n      <td>0.861553</td>\n      <td>0.998835</td>\n      <td>0.167011</td>\n      <td>35.619627</td>\n      <td>81.666936</td>\n    </tr>\n    <tr>\n      <th>&lt;30</th>\n      <td>2017.807229</td>\n      <td>26.845382</td>\n      <td>69868.475904</td>\n      <td>3.633161e+06</td>\n      <td>4.014345e+06</td>\n      <td>28.971888</td>\n      <td>2109.969880</td>\n      <td>2.759036</td>\n      <td>2.473896</td>\n      <td>2.672691</td>\n      <td>...</td>\n      <td>6.797229</td>\n      <td>1.645536</td>\n      <td>1.012699</td>\n      <td>0.963996</td>\n      <td>0.023219</td>\n      <td>0.914841</td>\n      <td>1.077895</td>\n      <td>0.183630</td>\n      <td>37.762921</td>\n      <td>81.665385</td>\n    </tr>\n    <tr>\n      <th>&lt;35</th>\n      <td>2017.883562</td>\n      <td>31.157534</td>\n      <td>83065.465753</td>\n      <td>4.319404e+06</td>\n      <td>4.725229e+06</td>\n      <td>27.869863</td>\n      <td>2074.513699</td>\n      <td>1.938356</td>\n      <td>1.664384</td>\n      <td>2.438356</td>\n      <td>...</td>\n      <td>6.771642</td>\n      <td>1.618527</td>\n      <td>1.078952</td>\n      <td>0.953775</td>\n      <td>0.041061</td>\n      <td>1.123046</td>\n      <td>1.098855</td>\n      <td>0.239261</td>\n      <td>42.095660</td>\n      <td>81.974565</td>\n    </tr>\n    <tr>\n      <th>&gt;35</th>\n      <td>2018.200000</td>\n      <td>35.200000</td>\n      <td>90000.000000</td>\n      <td>4.680000e+06</td>\n      <td>5.126010e+06</td>\n      <td>26.600000</td>\n      <td>1719.800000</td>\n      <td>0.600000</td>\n      <td>0.600000</td>\n      <td>1.200000</td>\n      <td>...</td>\n      <td>6.679377</td>\n      <td>1.554600</td>\n      <td>1.015820</td>\n      <td>0.967911</td>\n      <td>0.042891</td>\n      <td>1.201227</td>\n      <td>0.995033</td>\n      <td>0.339960</td>\n      <td>42.776182</td>\n      <td>83.202960</td>\n    </tr>\n  </tbody>\n</table>\n<p>16 rows × 39 columns</p>\n</div>"
     },
     "execution_count": 39,
     "metadata": {},
     "output_type": "execute_result"
    }
   ],
   "source": [
    "static_df = eda_df[eda_df['Min']>1000].groupby(['Position', 'Age Lev']).mean(numeric_only=True)\n",
    "static_df"
   ],
   "metadata": {
    "collapsed": false,
    "pycharm": {
     "name": "#%%\n"
    }
   }
  },
  {
   "cell_type": "code",
   "execution_count": 35,
   "outputs": [],
   "source": [
    "cond1 = eda_df['Name']=='Wayne Rooney'\n",
    "cond2 = eda_df['year']==2017\n",
    "rooney2017 = eda_df[ cond1 & cond2]"
   ],
   "metadata": {
    "collapsed": false,
    "pycharm": {
     "name": "#%%\n"
    }
   }
  },
  {
   "cell_type": "code",
   "execution_count": 37,
   "outputs": [
    {
     "data": {
      "text/plain": "1890    Forward\nName: Position, dtype: object"
     },
     "execution_count": 37,
     "metadata": {},
     "output_type": "execute_result"
    }
   ],
   "source": [
    "rooney2017['Position']"
   ],
   "metadata": {
    "collapsed": false,
    "pycharm": {
     "name": "#%%\n"
    }
   }
  },
  {
   "cell_type": "code",
   "execution_count": 36,
   "outputs": [
    {
     "data": {
      "text/plain": "1890    <35\nName: Age Lev, dtype: object"
     },
     "execution_count": 36,
     "metadata": {},
     "output_type": "execute_result"
    }
   ],
   "source": [
    "rooney2017['Age Lev']"
   ],
   "metadata": {
    "collapsed": false,
    "pycharm": {
     "name": "#%%\n"
    }
   }
  },
  {
   "cell_type": "code",
   "execution_count": 70,
   "outputs": [
    {
     "data": {
      "text/plain": "('Forward', '<35')"
     },
     "execution_count": 70,
     "metadata": {},
     "output_type": "execute_result"
    }
   ],
   "source": [
    "(rooney2017['Position'].values[0],rooney2017['Age Lev'].values[0])"
   ],
   "metadata": {
    "collapsed": false,
    "pycharm": {
     "name": "#%%\n"
    }
   }
  },
  {
   "cell_type": "code",
   "execution_count": 79,
   "outputs": [
    {
     "data": {
      "text/plain": "year             2.018688e+03\nAge              3.112500e+01\nWeekly Salary    1.009995e+05\nBase Salary      5.251975e+06\nADJ Salary       5.692078e+06\nApps             2.905000e+01\nMin              1.925825e+03\nG                8.137500e+00\nNPG              7.062500e+00\nA                2.937500e+00\nxG               8.277375e+00\nNPxG             7.268875e+00\nxA               2.897375e+00\nxGChain          1.104587e+01\nxGBuildup        3.030250e+00\nxG90             3.830000e-01\nNPxG90           3.435000e-01\nxA90             1.335000e-01\nxG90+xA90        5.168750e-01\nNPxG90+xA90      4.766250e-01\nxGChain90        5.155000e-01\nxGBuildup90      1.420000e-01\nSpG              1.784074e+00\nKeyP             8.569847e-01\nDrb_Off          6.201139e-01\nFouled           8.695750e-01\nOff              5.175349e-01\nDisp             1.065322e+00\nUnsTch           1.699707e+00\nRating           6.758889e+00\nTackles          6.313844e-01\nInter            2.357368e-01\nFouls            8.613720e-01\nOffsides         1.133748e-02\nClear            5.238132e-01\nDrb_Def          4.984688e-01\nBlocks           6.006883e-02\nAvgP             1.899740e+01\nPS%              7.258048e+01\nName: (Forward, <35), dtype: float64"
     },
     "execution_count": 79,
     "metadata": {},
     "output_type": "execute_result"
    }
   ],
   "source": [
    "static_df.loc[(rooney2017['Position'].values[0],rooney2017['Age Lev'].values[0])]"
   ],
   "metadata": {
    "collapsed": false,
    "pycharm": {
     "name": "#%%\n"
    }
   }
  },
  {
   "cell_type": "code",
   "execution_count": 82,
   "outputs": [
    {
     "data": {
      "text/plain": "                  year     Age  Weekly Salary  Base Salary  ADJ Salary   Apps  \\\nForward <35  2018.6875  31.125     100999.525    5251975.0  5692077.95  29.05   \n\n                  Min       G     NPG       A  ...    Rating   Tackles  \\\nForward <35  1925.825  8.1375  7.0625  2.9375  ...  6.758889  0.631384   \n\n                Inter     Fouls  Offsides     Clear   Drb_Def    Blocks  \\\nForward <35  0.235737  0.861372  0.011337  0.523813  0.498469  0.060069   \n\n                AvgP        PS%  \nForward <35  18.9974  72.580483  \n\n[1 rows x 39 columns]",
      "text/html": "<div>\n<style scoped>\n    .dataframe tbody tr th:only-of-type {\n        vertical-align: middle;\n    }\n\n    .dataframe tbody tr th {\n        vertical-align: top;\n    }\n\n    .dataframe thead th {\n        text-align: right;\n    }\n</style>\n<table border=\"1\" class=\"dataframe\">\n  <thead>\n    <tr style=\"text-align: right;\">\n      <th></th>\n      <th></th>\n      <th>year</th>\n      <th>Age</th>\n      <th>Weekly Salary</th>\n      <th>Base Salary</th>\n      <th>ADJ Salary</th>\n      <th>Apps</th>\n      <th>Min</th>\n      <th>G</th>\n      <th>NPG</th>\n      <th>A</th>\n      <th>...</th>\n      <th>Rating</th>\n      <th>Tackles</th>\n      <th>Inter</th>\n      <th>Fouls</th>\n      <th>Offsides</th>\n      <th>Clear</th>\n      <th>Drb_Def</th>\n      <th>Blocks</th>\n      <th>AvgP</th>\n      <th>PS%</th>\n    </tr>\n  </thead>\n  <tbody>\n    <tr>\n      <th>Forward</th>\n      <th>&lt;35</th>\n      <td>2018.6875</td>\n      <td>31.125</td>\n      <td>100999.525</td>\n      <td>5251975.0</td>\n      <td>5692077.95</td>\n      <td>29.05</td>\n      <td>1925.825</td>\n      <td>8.1375</td>\n      <td>7.0625</td>\n      <td>2.9375</td>\n      <td>...</td>\n      <td>6.758889</td>\n      <td>0.631384</td>\n      <td>0.235737</td>\n      <td>0.861372</td>\n      <td>0.011337</td>\n      <td>0.523813</td>\n      <td>0.498469</td>\n      <td>0.060069</td>\n      <td>18.9974</td>\n      <td>72.580483</td>\n    </tr>\n  </tbody>\n</table>\n<p>1 rows × 39 columns</p>\n</div>"
     },
     "execution_count": 82,
     "metadata": {},
     "output_type": "execute_result"
    }
   ],
   "source": [
    "r = pd.DataFrame(data=static_df.loc[(rooney2017['Position'].values[0],rooney2017['Age Lev'].values[0])]).T\n",
    "r"
   ],
   "metadata": {
    "collapsed": false,
    "pycharm": {
     "name": "#%%\n"
    }
   }
  },
  {
   "cell_type": "code",
   "execution_count": 83,
   "outputs": [
    {
     "data": {
      "text/plain": "      year  Age  Weekly Salary  Base Salary  ADJ Salary  Apps     Min     G  \\\n1890  2017   31       160000.0    8320000.0   9457906.0  31.0  2301.0  10.0   \n\n      NPG    A  ...    Rating   Tackles     Inter     Fouls  Offsides  \\\n1890  7.0  2.0  ...  6.635161  0.903226  0.516129  1.129032       0.0   \n\n        Clear   Drb_Def    Blocks       AvgP        PS%  \n1890  1.16129  1.032258  0.193548  37.483871  77.710843  \n\n[1 rows x 39 columns]",
      "text/html": "<div>\n<style scoped>\n    .dataframe tbody tr th:only-of-type {\n        vertical-align: middle;\n    }\n\n    .dataframe tbody tr th {\n        vertical-align: top;\n    }\n\n    .dataframe thead th {\n        text-align: right;\n    }\n</style>\n<table border=\"1\" class=\"dataframe\">\n  <thead>\n    <tr style=\"text-align: right;\">\n      <th></th>\n      <th>year</th>\n      <th>Age</th>\n      <th>Weekly Salary</th>\n      <th>Base Salary</th>\n      <th>ADJ Salary</th>\n      <th>Apps</th>\n      <th>Min</th>\n      <th>G</th>\n      <th>NPG</th>\n      <th>A</th>\n      <th>...</th>\n      <th>Rating</th>\n      <th>Tackles</th>\n      <th>Inter</th>\n      <th>Fouls</th>\n      <th>Offsides</th>\n      <th>Clear</th>\n      <th>Drb_Def</th>\n      <th>Blocks</th>\n      <th>AvgP</th>\n      <th>PS%</th>\n    </tr>\n  </thead>\n  <tbody>\n    <tr>\n      <th>1890</th>\n      <td>2017</td>\n      <td>31</td>\n      <td>160000.0</td>\n      <td>8320000.0</td>\n      <td>9457906.0</td>\n      <td>31.0</td>\n      <td>2301.0</td>\n      <td>10.0</td>\n      <td>7.0</td>\n      <td>2.0</td>\n      <td>...</td>\n      <td>6.635161</td>\n      <td>0.903226</td>\n      <td>0.516129</td>\n      <td>1.129032</td>\n      <td>0.0</td>\n      <td>1.16129</td>\n      <td>1.032258</td>\n      <td>0.193548</td>\n      <td>37.483871</td>\n      <td>77.710843</td>\n    </tr>\n  </tbody>\n</table>\n<p>1 rows × 39 columns</p>\n</div>"
     },
     "execution_count": 83,
     "metadata": {},
     "output_type": "execute_result"
    }
   ],
   "source": [
    "rooney2017[r.columns]"
   ],
   "metadata": {
    "collapsed": false,
    "pycharm": {
     "name": "#%%\n"
    }
   }
  },
  {
   "cell_type": "code",
   "execution_count": null,
   "outputs": [],
   "source": [],
   "metadata": {
    "collapsed": false,
    "pycharm": {
     "name": "#%%\n"
    }
   }
  },
  {
   "cell_type": "code",
   "execution_count": null,
   "outputs": [],
   "source": [],
   "metadata": {
    "collapsed": false,
    "pycharm": {
     "name": "#%%\n"
    }
   }
  },
  {
   "cell_type": "code",
   "execution_count": null,
   "outputs": [],
   "source": [],
   "metadata": {
    "collapsed": false,
    "pycharm": {
     "name": "#%%\n"
    }
   }
  },
  {
   "cell_type": "code",
   "execution_count": null,
   "outputs": [],
   "source": [],
   "metadata": {
    "collapsed": false,
    "pycharm": {
     "name": "#%%\n"
    }
   }
  }
 ],
 "metadata": {
  "kernelspec": {
   "display_name": "Python 3",
   "language": "python",
   "name": "python3"
  },
  "language_info": {
   "codemirror_mode": {
    "name": "ipython",
    "version": 2
   },
   "file_extension": ".py",
   "mimetype": "text/x-python",
   "name": "python",
   "nbconvert_exporter": "python",
   "pygments_lexer": "ipython2",
   "version": "2.7.6"
  }
 },
 "nbformat": 4,
 "nbformat_minor": 0
}